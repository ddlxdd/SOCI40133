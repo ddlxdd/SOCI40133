{
  "cells": [
    {
      "cell_type": "markdown",
      "metadata": {
        "id": "view-in-github",
        "colab_type": "text"
      },
      "source": [
        "<a href=\"https://colab.research.google.com/github/ddlxdd/SOCI40133/blob/main/Xiaochen_Ding_Tutorial_2_intro_neural_nets_ipynb.ipynb\" target=\"_parent\"><img src=\"https://colab.research.google.com/assets/colab-badge.svg\" alt=\"Open In Colab\"/></a>"
      ]
    },
    {
      "cell_type": "markdown",
      "metadata": {
        "id": "cYMn54Cb4g6q"
      },
      "source": [
        "# Thinking with Deep Learning: Week 1 Part 2\n",
        "# Introducing Deep Learning\n",
        "\n",
        "__Instructor:__ James Evans\n",
        "\n",
        "__Notebook Author:__ Bhargav Srinivasa Desikan\n",
        "\n",
        "__Teaching Assistants:__ Junsol Kim"
      ]
    },
    {
      "cell_type": "markdown",
      "metadata": {
        "id": "GJ1K0PGs843F"
      },
      "source": [
        "This notebook will demonstrate how to whip up simple shallow and deep neural networks in both Keras and PyTorch, and how these fit into our larger machine learning pipelines. The purpose of this tutorial is to get you up and running in building a simple neural network for classification in Keras and PyTorch, two popular deep learning packages. We will focus on constructing a network, and performing inference using the network.\n",
        "\n",
        "### Why Keras AND PyTorch\n",
        "\n",
        "**Keras** is a high-level package and enables rapid plug & play. It elegantly represents the building blocks of a neural network, so we will lead with it in this section. Developed by an ex-Google engineer, its emphasis is its ability to rapidly prototype neural networks while also being integrated into the second-generation Tensorflow ecosystem (described below). Unlike other packages which might have their own computational engine, Keras runs on top of others, such as Tensorflow, Theano or MXNet. While it shines in its ability deep learning newbies to start right away, it loses points for lack of low-level flexibility.\n",
        "\n",
        "**PyTorch** offers a lower-level approach with more flexibility, surfacing more controls for the mature user. Because we focus on the representations learned during training, we prefer PyTorch because it gives us customized control over these representations… but for a simple classification task, keras can often do the trick. We will include PyTorch examples of the same network, side-by-side, to introduce its syntax. Developed by Facebook AI, PyTorch has quickly become one of the most used and supported deep learning packages, particularly by the deep learning research community for its ease of debugging and ability to easily conjure up complex models. Deep learning frameworks require a “computational engine” to function, specifically to train deep learning models. PyTorch does this with a dynamic computational graph that uses a “define-by-run” logic, which connects all parts of a neural model in terms of the data objects passed and computations done on them. You’ll see examples of this throughout.\n",
        "\n",
        "### imports and data\n",
        "\n",
        "For our examples, we will be using toy, generated data. This helps us in being more precise with what our models are doing. A common machine learning paradigm is classification, where we are given labelled data: an input, and an output class. We will be making such a classification dataset using scikit-learns make dataset functionality."
      ]
    },
    {
      "cell_type": "code",
      "execution_count": 1,
      "metadata": {
        "id": "UhQJA3pM843O"
      },
      "outputs": [],
      "source": [
        "import sklearn.datasets\n",
        "import sklearn.model_selection"
      ]
    },
    {
      "cell_type": "code",
      "execution_count": 2,
      "metadata": {
        "id": "OWfgaaU0ID9p"
      },
      "outputs": [],
      "source": [
        "import matplotlib.pyplot as plt\n"
      ]
    },
    {
      "cell_type": "code",
      "execution_count": 3,
      "metadata": {
        "colab": {
          "base_uri": "https://localhost:8080/",
          "height": 227
        },
        "id": "3T2uX3kMH5qo",
        "outputId": "18337749-f42b-49e6-9b8b-079efa7e8aea"
      },
      "outputs": [
        {
          "output_type": "display_data",
          "data": {
            "text/plain": [
              "<Figure size 1000x300 with 4 Axes>"
            ],
            "image/png": "[encoded data removed]"
          },
          "metadata": {}
        }
      ],
      "source": [
        "digits = sklearn.datasets.load_digits()\n",
        "\n",
        "_, axes = plt.subplots(nrows=1, ncols=4, figsize=(10, 3))\n",
        "for ax, image, label in zip(axes, digits.images, digits.target):\n",
        "    ax.set_axis_off()\n",
        "    ax.imshow(image, cmap=plt.cm.gray_r, interpolation='nearest')\n",
        "    ax.set_title('Training: %i' % label)"
      ]
    },
    {
      "cell_type": "code",
      "execution_count": 4,
      "metadata": {
        "id": "jNjOW5ynIJe4"
      },
      "outputs": [],
      "source": [
        "# flatten the images\n",
        "n_samples = len(digits.images)\n",
        "data = digits.images.reshape((n_samples, -1))\n",
        "\n",
        "# Split data into 50% train and 50% test subsets\n",
        "X_train, X_test, y_train, y_test = sklearn.model_selection.train_test_split(\n",
        "    data, digits.target, test_size=0.5, shuffle=False)"
      ]
    },
    {
      "cell_type": "markdown",
      "metadata": {
        "id": "ZX9evr8f843T"
      },
      "source": [
        "Here, we generated a dataset of size 100, with 20 fearures, based on a Gaussian process where there are two 'classes'.\n",
        "Our machine learning algorithm is performing well if it can correctly identify if an input belongs to the class it is labelled as.\n",
        "\n",
        "For our models to train, it needs to be split into a training and testing dataset."
      ]
    },
    {
      "cell_type": "code",
      "execution_count": null,
      "metadata": {
        "id": "oVHFW8zJ843T"
      },
      "outputs": [],
      "source": [
        "# X_train, X_test, y_train, y_test = sklearn.model_selection.train_test_split(X, y)"
      ]
    },
    {
      "cell_type": "markdown",
      "metadata": {
        "id": "p8eefRdN843U"
      },
      "source": [
        "Let us train a simple model and see how well it does on this task. Logistic regression is a popular task for classification."
      ]
    },
    {
      "cell_type": "code",
      "execution_count": 5,
      "metadata": {
        "id": "AP4HLQc_843U"
      },
      "outputs": [],
      "source": [
        "import sklearn.linear_model"
      ]
    },
    {
      "cell_type": "code",
      "execution_count": 6,
      "metadata": {
        "id": "Ui0KHHLe843U"
      },
      "outputs": [],
      "source": [
        "logreg = sklearn.linear_model.LogisticRegression()"
      ]
    },
    {
      "cell_type": "code",
      "execution_count": 7,
      "metadata": {
        "colab": {
          "base_uri": "https://localhost:8080/",
          "height": 218
        },
        "id": "8wHlzfoa843U",
        "outputId": "d751de3f-5361-4260-a285-95957406cec3"
      },
      "outputs": [
        {
          "output_type": "stream",
          "name": "stderr",
          "text": [
            "/usr/local/lib/python3.10/dist-packages/sklearn/linear_model/_logistic.py:458: ConvergenceWarning: lbfgs failed to converge (status=1):\n",
            "STOP: TOTAL NO. of ITERATIONS REACHED LIMIT.\n",
            "\n",
            "Increase the number of iterations (max_iter) or scale the data as shown in:\n",
            "    https://scikit-learn.org/stable/modules/preprocessing.html\n",
            "Please also refer to the documentation for alternative solver options:\n",
            "    https://scikit-learn.org/stable/modules/linear_model.html#logistic-regression\n",
            "  n_iter_i = _check_optimize_result(\n"
          ]
        },
        {
          "output_type": "execute_result",
          "data": {
            "text/plain": [
              "LogisticRegression()"
            ],
            "text/html": [
              "<style>#sk-container-id-1 {color: black;background-color: white;}#sk-container-id-1 pre{padding: 0;}#sk-container-id-1 div.sk-toggleable {background-color: white;}#sk-container-id-1 label.sk-toggleable__label {cursor: pointer;display: block;width: 100%;margin-bottom: 0;padding: 0.3em;box-sizing: border-box;text-align: center;}#sk-container-id-1 label.sk-toggleable__label-arrow:before {content: \"▸\";float: left;margin-right: 0.25em;color: #696969;}#sk-container-id-1 label.sk-toggleable__label-arrow:hover:before {color: black;}#sk-container-id-1 div.sk-estimator:hover label.sk-toggleable__label-arrow:before {color: black;}#sk-container-id-1 div.sk-toggleable__content {max-height: 0;max-width: 0;overflow: hidden;text-align: left;background-color: #f0f8ff;}#sk-container-id-1 div.sk-toggleable__content pre {margin: 0.2em;color: black;border-radius: 0.25em;background-color: #f0f8ff;}#sk-container-id-1 input.sk-toggleable__control:checked~div.sk-toggleable__content {max-height: 200px;max-width: 100%;overflow: auto;}#sk-container-id-1 input.sk-toggleable__control:checked~label.sk-toggleable__label-arrow:before {content: \"▾\";}#sk-container-id-1 div.sk-estimator input.sk-toggleable__control:checked~label.sk-toggleable__label {background-color: #d4ebff;}#sk-container-id-1 div.sk-label input.sk-toggleable__control:checked~label.sk-toggleable__label {background-color: #d4ebff;}#sk-container-id-1 input.sk-hidden--visually {border: 0;clip: rect(1px 1px 1px 1px);clip: rect(1px, 1px, 1px, 1px);height: 1px;margin: -1px;overflow: hidden;padding: 0;position: absolute;width: 1px;}#sk-container-id-1 div.sk-estimator {font-family: monospace;background-color: #f0f8ff;border: 1px dotted black;border-radius: 0.25em;box-sizing: border-box;margin-bottom: 0.5em;}#sk-container-id-1 div.sk-estimator:hover {background-color: #d4ebff;}#sk-container-id-1 div.sk-parallel-item::after {content: \"\";width: 100%;border-bottom: 1px solid gray;flex-grow: 1;}#sk-container-id-1 div.sk-label:hover label.sk-toggleable__label {background-color: #d4ebff;}#sk-container-id-1 div.sk-serial::before {content: \"\";position: absolute;border-left: 1px solid gray;box-sizing: border-box;top: 0;bottom: 0;left: 50%;z-index: 0;}#sk-container-id-1 div.sk-serial {display: flex;flex-direction: column;align-items: center;background-color: white;padding-right: 0.2em;padding-left: 0.2em;position: relative;}#sk-container-id-1 div.sk-item {position: relative;z-index: 1;}#sk-container-id-1 div.sk-parallel {display: flex;align-items: stretch;justify-content: center;background-color: white;position: relative;}#sk-container-id-1 div.sk-item::before, #sk-container-id-1 div.sk-parallel-item::before {content: \"\";position: absolute;border-left: 1px solid gray;box-sizing: border-box;top: 0;bottom: 0;left: 50%;z-index: -1;}#sk-container-id-1 div.sk-parallel-item {display: flex;flex-direction: column;z-index: 1;position: relative;background-color: white;}#sk-container-id-1 div.sk-parallel-item:first-child::after {align-self: flex-end;width: 50%;}#sk-container-id-1 div.sk-parallel-item:last-child::after {align-self: flex-start;width: 50%;}#sk-container-id-1 div.sk-parallel-item:only-child::after {width: 0;}#sk-container-id-1 div.sk-dashed-wrapped {border: 1px dashed gray;margin: 0 0.4em 0.5em 0.4em;box-sizing: border-box;padding-bottom: 0.4em;background-color: white;}#sk-container-id-1 div.sk-label label {font-family: monospace;font-weight: bold;display: inline-block;line-height: 1.2em;}#sk-container-id-1 div.sk-label-container {text-align: center;}#sk-container-id-1 div.sk-container {/* jupyter's `normalize.less` sets `[hidden] { display: none; }` but bootstrap.min.css set `[hidden] { display: none !important; }` so we also need the `!important` here to be able to override the default hidden behavior on the sphinx rendered scikit-learn.org. See: https://github.com/scikit-learn/scikit-learn/issues/21755 */display: inline-block !important;position: relative;}#sk-container-id-1 div.sk-text-repr-fallback {display: none;}</style><div id=\"sk-container-id-1\" class=\"sk-top-container\"><div class=\"sk-text-repr-fallback\"><pre>LogisticRegression()</pre><b>In a Jupyter environment, please rerun this cell to show the HTML representation or trust the notebook. <br />On GitHub, the HTML representation is unable to render, please try loading this page with nbviewer.org.</b></div><div class=\"sk-container\" hidden><div class=\"sk-item\"><div class=\"sk-estimator sk-toggleable\"><input class=\"sk-toggleable__control sk-hidden--visually\" id=\"sk-estimator-id-1\" type=\"checkbox\" checked><label for=\"sk-estimator-id-1\" class=\"sk-toggleable__label sk-toggleable__label-arrow\">LogisticRegression</label><div class=\"sk-toggleable__content\"><pre>LogisticRegression()</pre></div></div></div></div></div>"
            ]
          },
          "metadata": {},
          "execution_count": 7
        }
      ],
      "source": [
        "logreg.fit(X_train, y_train)"
      ]
    },
    {
      "cell_type": "code",
      "execution_count": 8,
      "metadata": {
        "colab": {
          "base_uri": "https://localhost:8080/"
        },
        "id": "le8Lot2y843V",
        "outputId": "52e2e817-2486-4f83-fbfb-4e7e4aec4ec3"
      },
      "outputs": [
        {
          "output_type": "execute_result",
          "data": {
            "text/plain": [
              "array([8, 6, 4, 8, 0, 8, 9, 1, 1, 2, 3, 4, 5, 6, 7, 8, 9, 0, 1, 2, 3, 4,\n",
              "       5, 6, 5, 8, 9, 0, 1, 2, 3, 4, 9, 6, 7, 8, 9, 0, 9, 5, 5, 6, 5, 0,\n",
              "       9, 8, 9, 8, 4, 1, 7, 7, 3, 9, 1, 2, 7, 8, 2, 0, 1, 2, 6, 3, 3, 7,\n",
              "       3, 3, 4, 6, 6, 6, 4, 9, 1, 5, 0, 9, 5, 2, 8, 2, 0, 0, 1, 7, 6, 3,\n",
              "       2, 1, 4, 6, 3, 1, 3, 9, 1, 7, 6, 8, 4, 3, 1, 4, 0, 5, 3, 6, 9, 6,\n",
              "       1, 7, 5, 4, 4, 7, 2, 8, 2, 2, 9, 7, 9, 5, 4, 4, 9, 0, 8, 9, 8, 0,\n",
              "       1, 2, 3, 4, 5, 6, 7, 8, 9, 0, 1, 2, 3, 4, 5, 6, 7, 8, 9, 0, 1, 2,\n",
              "       3, 4, 5, 6, 7, 8, 9, 0, 9, 5, 5, 6, 5, 0, 9, 8, 9, 8, 4, 1, 7, 7,\n",
              "       3, 5, 1, 0, 0, 7, 8, 2, 0, 1, 2, 6, 3, 3, 7, 3, 3, 4, 6, 6, 6, 9,\n",
              "       9, 1, 5, 0, 9, 5, 2, 8, 2, 0, 0, 1, 7, 6, 3, 2, 1, 7, 4, 6, 3, 1,\n",
              "       9, 9, 1, 7, 6, 8, 4, 9, 1, 4, 0, 5, 3, 6, 9, 6, 1, 7, 5, 4, 4, 7,\n",
              "       2, 8, 2, 2, 5, 7, 9, 5, 4, 1, 8, 4, 9, 0, 8, 9, 8, 0, 1, 2, 3, 4,\n",
              "       5, 6, 7, 8, 9, 0, 1, 2, 3, 4, 5, 6, 7, 8, 9, 0, 1, 2, 3, 4, 5, 6,\n",
              "       7, 8, 9, 0, 9, 5, 5, 6, 5, 0, 9, 5, 9, 5, 4, 1, 7, 7, 5, 5, 1, 0,\n",
              "       0, 2, 2, 7, 8, 2, 0, 1, 2, 6, 3, 3, 7, 3, 3, 4, 6, 6, 6, 4, 9, 1,\n",
              "       5, 0, 9, 5, 2, 8, 2, 0, 0, 1, 7, 6, 3, 2, 1, 7, 4, 6, 3, 1, 3, 9,\n",
              "       1, 7, 6, 8, 4, 3, 8, 4, 0, 5, 3, 6, 9, 6, 8, 7, 5, 4, 4, 7, 2, 8,\n",
              "       2, 2, 5, 7, 9, 5, 4, 8, 8, 4, 9, 0, 8, 9, 8, 0, 5, 2, 3, 4, 5, 6,\n",
              "       7, 8, 9, 0, 1, 2, 3, 6, 5, 6, 7, 8, 9, 0, 1, 2, 3, 6, 5, 6, 7, 8,\n",
              "       9, 0, 9, 5, 5, 6, 5, 0, 9, 8, 9, 8, 4, 1, 7, 7, 3, 5, 1, 0, 0, 2,\n",
              "       3, 7, 8, 2, 0, 1, 2, 6, 3, 3, 7, 3, 3, 6, 6, 6, 6, 4, 9, 1, 5, 0,\n",
              "       9, 6, 2, 8, 3, 0, 0, 1, 7, 6, 3, 2, 1, 7, 4, 6, 3, 1, 3, 9, 1, 7,\n",
              "       6, 8, 6, 3, 1, 4, 0, 5, 3, 6, 9, 6, 1, 7, 5, 4, 4, 7, 2, 8, 2, 2,\n",
              "       5, 7, 9, 5, 4, 8, 8, 4, 0, 0, 8, 0, 1, 2, 3, 4, 5, 6, 7, 8, 9, 0,\n",
              "       1, 2, 3, 4, 5, 6, 7, 8, 9, 0, 1, 2, 3, 4, 5, 6, 7, 8, 9, 0, 9, 5,\n",
              "       5, 6, 5, 0, 9, 8, 9, 8, 4, 1, 7, 7, 3, 5, 1, 0, 0, 2, 2, 7, 8, 2,\n",
              "       0, 9, 2, 6, 3, 3, 7, 3, 3, 4, 6, 6, 6, 4, 9, 9, 5, 0, 9, 5, 2, 2,\n",
              "       2, 0, 0, 9, 7, 6, 3, 2, 3, 7, 4, 6, 3, 1, 3, 9, 1, 7, 6, 8, 4, 3,\n",
              "       9, 4, 0, 5, 3, 6, 9, 6, 9, 7, 5, 4, 4, 7, 2, 5, 2, 2, 5, 7, 9, 5,\n",
              "       4, 8, 8, 4, 9, 0, 8, 9, 8, 0, 1, 2, 3, 4, 5, 1, 9, 1, 9, 0, 1, 2,\n",
              "       3, 4, 5, 6, 9, 0, 1, 2, 3, 4, 5, 6, 7, 5, 9, 4, 9, 1, 5, 6, 5, 0,\n",
              "       9, 8, 5, 8, 4, 1, 7, 7, 3, 5, 1, 6, 0, 2, 2, 7, 8, 2, 6, 1, 2, 6,\n",
              "       8, 7, 7, 7, 8, 4, 6, 6, 6, 9, 9, 1, 5, 6, 9, 5, 2, 8, 0, 1, 7, 6,\n",
              "       3, 2, 1, 7, 9, 6, 3, 1, 3, 9, 1, 9, 6, 8, 4, 3, 1, 4, 0, 5, 3, 6,\n",
              "       3, 6, 1, 7, 5, 4, 4, 7, 2, 2, 5, 7, 3, 5, 9, 4, 5, 0, 8, 9, 8, 0,\n",
              "       1, 2, 3, 4, 5, 6, 7, 8, 9, 0, 1, 2, 8, 4, 5, 6, 7, 8, 9, 0, 1, 2,\n",
              "       5, 4, 5, 6, 7, 8, 9, 0, 9, 5, 5, 6, 5, 0, 9, 8, 9, 8, 4, 1, 7, 7,\n",
              "       8, 5, 1, 0, 0, 2, 2, 7, 8, 2, 0, 1, 2, 6, 8, 8, 7, 5, 8, 4, 6, 6,\n",
              "       6, 4, 9, 1, 5, 0, 9, 5, 2, 8, 2, 0, 0, 1, 7, 6, 3, 2, 1, 4, 4, 6,\n",
              "       3, 1, 3, 9, 1, 7, 6, 8, 4, 5, 1, 4, 0, 5, 3, 6, 9, 6, 1, 7, 5, 4,\n",
              "       4, 7, 2, 8, 2, 2, 5, 7, 9, 5, 4, 8, 8, 4, 9, 0, 8, 9, 8])"
            ]
          },
          "metadata": {},
          "execution_count": 8
        }
      ],
      "source": [
        "logreg.predict(X_test)"
      ]
    },
    {
      "cell_type": "code",
      "execution_count": 9,
      "metadata": {
        "colab": {
          "base_uri": "https://localhost:8080/"
        },
        "id": "hF6tMQ0M843V",
        "outputId": "b58afa14-0e33-4d82-8248-48835fc15eb7"
      },
      "outputs": [
        {
          "output_type": "execute_result",
          "data": {
            "text/plain": [
              "0.9299221357063404"
            ]
          },
          "metadata": {},
          "execution_count": 9
        }
      ],
      "source": [
        "sklearn.metrics.accuracy_score(y_test, logreg.predict(X_test))"
      ]
    },
    {
      "cell_type": "markdown",
      "metadata": {
        "id": "lfdIxaLl843V"
      },
      "source": [
        "Not terrible, but not exactly a good accuracy score. Let's now turn to neural networks with the hope that added depth can do a better job at approximating the complext function behind the data generation process. We will be using the same dataset.\n",
        "\n",
        "## Single layer net in Keras\n",
        "\n",
        "We will start with Keras for building a neural network. [Keras](https://keras.io/) is a very popular choice for building neural networks which have a high level of abstraction. Keras is also tightly integrated with another popular deep learning package, Tensorflow, which is the core of its computational process. One of the big advantages of Keras is how easy it is to start building a model."
      ]
    },
    {
      "cell_type": "code",
      "execution_count": 10,
      "metadata": {
        "id": "XZGvM6oS843W"
      },
      "outputs": [],
      "source": [
        "## Keras\n",
        "import keras\n",
        "import tensorflow as tf\n",
        "import numpy as np"
      ]
    },
    {
      "cell_type": "code",
      "execution_count": 11,
      "metadata": {
        "id": "Ath_Xbk4iuW3"
      },
      "outputs": [],
      "source": [
        "from keras.layers import Dense"
      ]
    },
    {
      "cell_type": "code",
      "execution_count": 12,
      "metadata": {
        "id": "IhdgRrWCiuW3"
      },
      "outputs": [],
      "source": [
        "from keras.models import Sequential"
      ]
    },
    {
      "cell_type": "markdown",
      "metadata": {
        "id": "MV65ntQn843W"
      },
      "source": [
        "Keras makes creating deep learning models really easy. Here is one with only one hidden layer with 20 units, taking an input with 20 features. It uses relu activation for the first layer, which is often used for hidden layers."
      ]
    },
    {
      "cell_type": "code",
      "execution_count": 13,
      "metadata": {
        "id": "xi1-9Gdj843W"
      },
      "outputs": [],
      "source": [
        "model = Sequential()"
      ]
    },
    {
      "cell_type": "code",
      "execution_count": 14,
      "metadata": {
        "id": "Lhz65J3YiuW4"
      },
      "outputs": [],
      "source": [
        "model.add(Dense(200, input_dim=64, activation='relu'))"
      ]
    },
    {
      "cell_type": "markdown",
      "metadata": {
        "id": "zHFhBOBciuW4"
      },
      "source": [
        "We then use a sigmoid activation for the last layer to make its prediction, because it is a classification problem.\n",
        "\n",
        "For more activation functions: https://keras.io/api/layers/activations/"
      ]
    },
    {
      "cell_type": "code",
      "execution_count": 15,
      "metadata": {
        "id": "nA7SU5WxiuW5"
      },
      "outputs": [],
      "source": [
        "model.add(Dense(10, activation='softmax'))"
      ]
    },
    {
      "cell_type": "markdown",
      "metadata": {
        "id": "48tmjktGiuW5"
      },
      "source": [
        "The loss is binary cross entropy which is commonly used for prediction problems, and the ADAM optimiser.\n",
        "\n",
        "For more losses:https://keras.io/api/losses/\n",
        "\n",
        "For more optimisers: https://keras.io/api/optimizers/"
      ]
    },
    {
      "cell_type": "code",
      "execution_count": 16,
      "metadata": {
        "id": "IMv6E1gF843W"
      },
      "outputs": [],
      "source": [
        "model.compile(loss=keras.losses.SparseCategoricalCrossentropy(from_logits=True), metrics=keras.metrics.SparseCategoricalAccuracy(), optimizer=\"adam\")"
      ]
    },
    {
      "cell_type": "markdown",
      "metadata": {
        "id": "lQE3LC1PiuW6"
      },
      "source": [
        "The compile function configures the model for training, and we fit the model in the next line. The history variable stores information about the training process."
      ]
    },
    {
      "cell_type": "code",
      "execution_count": 17,
      "metadata": {
        "colab": {
          "base_uri": "https://localhost:8080/"
        },
        "id": "65Amy0LGKGUL",
        "outputId": "b365557f-765c-46d0-e44f-14c5676551c9"
      },
      "outputs": [
        {
          "output_type": "execute_result",
          "data": {
            "text/plain": [
              "64"
            ]
          },
          "metadata": {},
          "execution_count": 17
        }
      ],
      "source": [
        "len(X_train[0])"
      ]
    },
    {
      "cell_type": "code",
      "execution_count": 18,
      "metadata": {
        "colab": {
          "base_uri": "https://localhost:8080/"
        },
        "id": "AWZ4uFxA843X",
        "outputId": "e8196938-72b5-4d80-cb4e-cbacf62d48db",
        "scrolled": false
      },
      "outputs": [
        {
          "output_type": "stream",
          "name": "stdout",
          "text": [
            "Epoch 1/200\n"
          ]
        },
        {
          "output_type": "stream",
          "name": "stderr",
          "text": [
            "/usr/local/lib/python3.10/dist-packages/keras/src/backend.py:5727: UserWarning: \"`sparse_categorical_crossentropy` received `from_logits=True`, but the `output` argument was produced by a Softmax activation and thus does not represent logits. Was this intended?\n",
            "  output, from_logits = _get_logits(\n"
          ]
        },
        {
          "output_type": "stream",
          "name": "stdout",
          "text": [
            "29/29 [==============================] - 2s 5ms/step - loss: 2.6139 - sparse_categorical_accuracy: 0.4510\n",
            "Epoch 2/200\n",
            "29/29 [==============================] - 0s 3ms/step - loss: 0.3688 - sparse_categorical_accuracy: 0.8708\n",
            "Epoch 3/200\n",
            "29/29 [==============================] - 0s 3ms/step - loss: 0.1805 - sparse_categorical_accuracy: 0.9454\n",
            "Epoch 4/200\n",
            "29/29 [==============================] - 0s 3ms/step - loss: 0.1110 - sparse_categorical_accuracy: 0.9677\n",
            "Epoch 5/200\n",
            "29/29 [==============================] - 0s 3ms/step - loss: 0.1142 - sparse_categorical_accuracy: 0.9655\n",
            "Epoch 6/200\n",
            "29/29 [==============================] - 0s 3ms/step - loss: 0.0709 - sparse_categorical_accuracy: 0.9811\n",
            "Epoch 7/200\n",
            "29/29 [==============================] - 0s 3ms/step - loss: 0.0497 - sparse_categorical_accuracy: 0.9866\n",
            "Epoch 8/200\n",
            "29/29 [==============================] - 0s 3ms/step - loss: 0.0708 - sparse_categorical_accuracy: 0.9800\n",
            "Epoch 9/200\n",
            "29/29 [==============================] - 0s 3ms/step - loss: 0.0409 - sparse_categorical_accuracy: 0.9878\n",
            "Epoch 10/200\n",
            "29/29 [==============================] - 0s 3ms/step - loss: 0.0320 - sparse_categorical_accuracy: 0.9933\n",
            "Epoch 11/200\n",
            "29/29 [==============================] - 0s 3ms/step - loss: 0.0227 - sparse_categorical_accuracy: 0.9978\n",
            "Epoch 12/200\n",
            "29/29 [==============================] - 0s 3ms/step - loss: 0.0177 - sparse_categorical_accuracy: 1.0000\n",
            "Epoch 13/200\n",
            "29/29 [==============================] - 0s 3ms/step - loss: 0.0150 - sparse_categorical_accuracy: 1.0000\n",
            "Epoch 14/200\n",
            "29/29 [==============================] - 0s 3ms/step - loss: 0.0171 - sparse_categorical_accuracy: 0.9967\n",
            "Epoch 15/200\n",
            "29/29 [==============================] - 0s 3ms/step - loss: 0.0126 - sparse_categorical_accuracy: 1.0000\n",
            "Epoch 16/200\n",
            "29/29 [==============================] - 0s 4ms/step - loss: 0.0099 - sparse_categorical_accuracy: 1.0000\n",
            "Epoch 17/200\n",
            "29/29 [==============================] - 0s 4ms/step - loss: 0.0092 - sparse_categorical_accuracy: 1.0000\n",
            "Epoch 18/200\n",
            "29/29 [==============================] - 0s 4ms/step - loss: 0.0079 - sparse_categorical_accuracy: 1.0000\n",
            "Epoch 19/200\n",
            "29/29 [==============================] - 0s 4ms/step - loss: 0.0094 - sparse_categorical_accuracy: 1.0000\n",
            "Epoch 20/200\n",
            "29/29 [==============================] - 0s 4ms/step - loss: 0.0078 - sparse_categorical_accuracy: 1.0000\n",
            "Epoch 21/200\n",
            "29/29 [==============================] - 0s 4ms/step - loss: 0.0062 - sparse_categorical_accuracy: 1.0000\n",
            "Epoch 22/200\n",
            "29/29 [==============================] - 0s 3ms/step - loss: 0.0055 - sparse_categorical_accuracy: 1.0000\n",
            "Epoch 23/200\n",
            "29/29 [==============================] - 0s 4ms/step - loss: 0.0062 - sparse_categorical_accuracy: 1.0000\n",
            "Epoch 24/200\n",
            "29/29 [==============================] - 0s 3ms/step - loss: 0.0049 - sparse_categorical_accuracy: 1.0000\n",
            "Epoch 25/200\n",
            "29/29 [==============================] - 0s 4ms/step - loss: 0.0051 - sparse_categorical_accuracy: 1.0000\n",
            "Epoch 26/200\n",
            "29/29 [==============================] - 0s 3ms/step - loss: 0.0051 - sparse_categorical_accuracy: 1.0000\n",
            "Epoch 27/200\n",
            "29/29 [==============================] - 0s 4ms/step - loss: 0.0042 - sparse_categorical_accuracy: 1.0000\n",
            "Epoch 28/200\n",
            "29/29 [==============================] - 0s 4ms/step - loss: 0.0038 - sparse_categorical_accuracy: 1.0000\n",
            "Epoch 29/200\n",
            "29/29 [==============================] - 0s 4ms/step - loss: 0.0036 - sparse_categorical_accuracy: 1.0000\n",
            "Epoch 30/200\n",
            "29/29 [==============================] - 0s 4ms/step - loss: 0.0033 - sparse_categorical_accuracy: 1.0000\n",
            "Epoch 31/200\n",
            "29/29 [==============================] - 0s 4ms/step - loss: 0.0033 - sparse_categorical_accuracy: 1.0000\n",
            "Epoch 32/200\n",
            "29/29 [==============================] - 0s 4ms/step - loss: 0.0030 - sparse_categorical_accuracy: 1.0000\n",
            "Epoch 33/200\n",
            "29/29 [==============================] - 0s 4ms/step - loss: 0.0029 - sparse_categorical_accuracy: 1.0000\n",
            "Epoch 34/200\n",
            "29/29 [==============================] - 0s 3ms/step - loss: 0.0027 - sparse_categorical_accuracy: 1.0000\n",
            "Epoch 35/200\n",
            "29/29 [==============================] - 0s 3ms/step - loss: 0.0026 - sparse_categorical_accuracy: 1.0000\n",
            "Epoch 36/200\n",
            "29/29 [==============================] - 0s 2ms/step - loss: 0.0025 - sparse_categorical_accuracy: 1.0000\n",
            "Epoch 37/200\n",
            "29/29 [==============================] - 0s 2ms/step - loss: 0.0023 - sparse_categorical_accuracy: 1.0000\n",
            "Epoch 38/200\n",
            "29/29 [==============================] - 0s 3ms/step - loss: 0.0022 - sparse_categorical_accuracy: 1.0000\n",
            "Epoch 39/200\n",
            "29/29 [==============================] - 0s 3ms/step - loss: 0.0021 - sparse_categorical_accuracy: 1.0000\n",
            "Epoch 40/200\n",
            "29/29 [==============================] - 0s 2ms/step - loss: 0.0020 - sparse_categorical_accuracy: 1.0000\n",
            "Epoch 41/200\n",
            "29/29 [==============================] - 0s 3ms/step - loss: 0.0019 - sparse_categorical_accuracy: 1.0000\n",
            "Epoch 42/200\n",
            "29/29 [==============================] - 0s 3ms/step - loss: 0.0023 - sparse_categorical_accuracy: 1.0000\n",
            "Epoch 43/200\n",
            "29/29 [==============================] - 0s 3ms/step - loss: 0.0019 - sparse_categorical_accuracy: 1.0000\n",
            "Epoch 44/200\n",
            "29/29 [==============================] - 0s 3ms/step - loss: 0.0017 - sparse_categorical_accuracy: 1.0000\n",
            "Epoch 45/200\n",
            "29/29 [==============================] - 0s 3ms/step - loss: 0.0016 - sparse_categorical_accuracy: 1.0000\n",
            "Epoch 46/200\n",
            "29/29 [==============================] - 0s 3ms/step - loss: 0.0015 - sparse_categorical_accuracy: 1.0000\n",
            "Epoch 47/200\n",
            "29/29 [==============================] - 0s 3ms/step - loss: 0.0015 - sparse_categorical_accuracy: 1.0000\n",
            "Epoch 48/200\n",
            "29/29 [==============================] - 0s 3ms/step - loss: 0.0014 - sparse_categorical_accuracy: 1.0000\n",
            "Epoch 49/200\n",
            "29/29 [==============================] - 0s 3ms/step - loss: 0.0014 - sparse_categorical_accuracy: 1.0000\n",
            "Epoch 50/200\n",
            "29/29 [==============================] - 0s 2ms/step - loss: 0.0013 - sparse_categorical_accuracy: 1.0000\n",
            "Epoch 51/200\n",
            "29/29 [==============================] - 0s 3ms/step - loss: 0.0013 - sparse_categorical_accuracy: 1.0000\n",
            "Epoch 52/200\n",
            "29/29 [==============================] - 0s 2ms/step - loss: 0.0012 - sparse_categorical_accuracy: 1.0000\n",
            "Epoch 53/200\n",
            "29/29 [==============================] - 0s 3ms/step - loss: 0.0012 - sparse_categorical_accuracy: 1.0000\n",
            "Epoch 54/200\n",
            "29/29 [==============================] - 0s 3ms/step - loss: 0.0011 - sparse_categorical_accuracy: 1.0000\n",
            "Epoch 55/200\n",
            "29/29 [==============================] - 0s 3ms/step - loss: 0.0011 - sparse_categorical_accuracy: 1.0000\n",
            "Epoch 56/200\n",
            "29/29 [==============================] - 0s 3ms/step - loss: 0.0010 - sparse_categorical_accuracy: 1.0000\n",
            "Epoch 57/200\n",
            "29/29 [==============================] - 0s 3ms/step - loss: 9.8878e-04 - sparse_categorical_accuracy: 1.0000\n",
            "Epoch 58/200\n",
            "29/29 [==============================] - 0s 3ms/step - loss: 9.8539e-04 - sparse_categorical_accuracy: 1.0000\n",
            "Epoch 59/200\n",
            "29/29 [==============================] - 0s 3ms/step - loss: 9.5770e-04 - sparse_categorical_accuracy: 1.0000\n",
            "Epoch 60/200\n",
            "29/29 [==============================] - 0s 3ms/step - loss: 9.0870e-04 - sparse_categorical_accuracy: 1.0000\n",
            "Epoch 61/200\n",
            "29/29 [==============================] - 0s 3ms/step - loss: 8.7240e-04 - sparse_categorical_accuracy: 1.0000\n",
            "Epoch 62/200\n",
            "29/29 [==============================] - 0s 3ms/step - loss: 8.4459e-04 - sparse_categorical_accuracy: 1.0000\n",
            "Epoch 63/200\n",
            "29/29 [==============================] - 0s 3ms/step - loss: 8.1950e-04 - sparse_categorical_accuracy: 1.0000\n",
            "Epoch 64/200\n",
            "29/29 [==============================] - 0s 3ms/step - loss: 7.9243e-04 - sparse_categorical_accuracy: 1.0000\n",
            "Epoch 65/200\n",
            "29/29 [==============================] - 0s 2ms/step - loss: 0.0010 - sparse_categorical_accuracy: 1.0000\n",
            "Epoch 66/200\n",
            "29/29 [==============================] - 0s 3ms/step - loss: 8.2956e-04 - sparse_categorical_accuracy: 1.0000\n",
            "Epoch 67/200\n",
            "29/29 [==============================] - 0s 3ms/step - loss: 7.6619e-04 - sparse_categorical_accuracy: 1.0000\n",
            "Epoch 68/200\n",
            "29/29 [==============================] - 0s 3ms/step - loss: 7.0575e-04 - sparse_categorical_accuracy: 1.0000\n",
            "Epoch 69/200\n",
            "29/29 [==============================] - 0s 2ms/step - loss: 6.8009e-04 - sparse_categorical_accuracy: 1.0000\n",
            "Epoch 70/200\n",
            "29/29 [==============================] - 0s 3ms/step - loss: 6.6013e-04 - sparse_categorical_accuracy: 1.0000\n",
            "Epoch 71/200\n",
            "29/29 [==============================] - 0s 3ms/step - loss: 6.3243e-04 - sparse_categorical_accuracy: 1.0000\n",
            "Epoch 72/200\n",
            "29/29 [==============================] - 0s 3ms/step - loss: 6.1861e-04 - sparse_categorical_accuracy: 1.0000\n",
            "Epoch 73/200\n",
            "29/29 [==============================] - 0s 2ms/step - loss: 5.9439e-04 - sparse_categorical_accuracy: 1.0000\n",
            "Epoch 74/200\n",
            "29/29 [==============================] - 0s 3ms/step - loss: 5.8396e-04 - sparse_categorical_accuracy: 1.0000\n",
            "Epoch 75/200\n",
            "29/29 [==============================] - 0s 2ms/step - loss: 6.2912e-04 - sparse_categorical_accuracy: 1.0000\n",
            "Epoch 76/200\n",
            "29/29 [==============================] - 0s 3ms/step - loss: 5.8154e-04 - sparse_categorical_accuracy: 1.0000\n",
            "Epoch 77/200\n",
            "29/29 [==============================] - 0s 3ms/step - loss: 5.3781e-04 - sparse_categorical_accuracy: 1.0000\n",
            "Epoch 78/200\n",
            "29/29 [==============================] - 0s 3ms/step - loss: 5.1631e-04 - sparse_categorical_accuracy: 1.0000\n",
            "Epoch 79/200\n",
            "29/29 [==============================] - 0s 3ms/step - loss: 5.0185e-04 - sparse_categorical_accuracy: 1.0000\n",
            "Epoch 80/200\n",
            "29/29 [==============================] - 0s 3ms/step - loss: 4.8722e-04 - sparse_categorical_accuracy: 1.0000\n",
            "Epoch 81/200\n",
            "29/29 [==============================] - 0s 3ms/step - loss: 4.9403e-04 - sparse_categorical_accuracy: 1.0000\n",
            "Epoch 82/200\n",
            "29/29 [==============================] - 0s 3ms/step - loss: 4.6455e-04 - sparse_categorical_accuracy: 1.0000\n",
            "Epoch 83/200\n",
            "29/29 [==============================] - 0s 3ms/step - loss: 4.5281e-04 - sparse_categorical_accuracy: 1.0000\n",
            "Epoch 84/200\n",
            "29/29 [==============================] - 0s 3ms/step - loss: 4.4592e-04 - sparse_categorical_accuracy: 1.0000\n",
            "Epoch 85/200\n",
            "29/29 [==============================] - 0s 3ms/step - loss: 5.0150e-04 - sparse_categorical_accuracy: 1.0000\n",
            "Epoch 86/200\n",
            "29/29 [==============================] - 0s 3ms/step - loss: 4.2081e-04 - sparse_categorical_accuracy: 1.0000\n",
            "Epoch 87/200\n",
            "29/29 [==============================] - 0s 3ms/step - loss: 4.0958e-04 - sparse_categorical_accuracy: 1.0000\n",
            "Epoch 88/200\n",
            "29/29 [==============================] - 0s 3ms/step - loss: 3.9831e-04 - sparse_categorical_accuracy: 1.0000\n",
            "Epoch 89/200\n",
            "29/29 [==============================] - 0s 3ms/step - loss: 3.8670e-04 - sparse_categorical_accuracy: 1.0000\n",
            "Epoch 90/200\n",
            "29/29 [==============================] - 0s 2ms/step - loss: 3.7671e-04 - sparse_categorical_accuracy: 1.0000\n",
            "Epoch 91/200\n",
            "29/29 [==============================] - 0s 3ms/step - loss: 3.6443e-04 - sparse_categorical_accuracy: 1.0000\n",
            "Epoch 92/200\n",
            "29/29 [==============================] - 0s 3ms/step - loss: 3.5646e-04 - sparse_categorical_accuracy: 1.0000\n",
            "Epoch 93/200\n",
            "29/29 [==============================] - 0s 2ms/step - loss: 3.4955e-04 - sparse_categorical_accuracy: 1.0000\n",
            "Epoch 94/200\n",
            "29/29 [==============================] - 0s 3ms/step - loss: 3.4049e-04 - sparse_categorical_accuracy: 1.0000\n",
            "Epoch 95/200\n",
            "29/29 [==============================] - 0s 3ms/step - loss: 3.2893e-04 - sparse_categorical_accuracy: 1.0000\n",
            "Epoch 96/200\n",
            "29/29 [==============================] - 0s 3ms/step - loss: 3.2678e-04 - sparse_categorical_accuracy: 1.0000\n",
            "Epoch 97/200\n",
            "29/29 [==============================] - 0s 2ms/step - loss: 3.2903e-04 - sparse_categorical_accuracy: 1.0000\n",
            "Epoch 98/200\n",
            "29/29 [==============================] - 0s 3ms/step - loss: 3.3595e-04 - sparse_categorical_accuracy: 1.0000\n",
            "Epoch 99/200\n",
            "29/29 [==============================] - 0s 3ms/step - loss: 3.0561e-04 - sparse_categorical_accuracy: 1.0000\n",
            "Epoch 100/200\n",
            "29/29 [==============================] - 0s 3ms/step - loss: 2.9348e-04 - sparse_categorical_accuracy: 1.0000\n",
            "Epoch 101/200\n",
            "29/29 [==============================] - 0s 3ms/step - loss: 2.8549e-04 - sparse_categorical_accuracy: 1.0000\n",
            "Epoch 102/200\n",
            "29/29 [==============================] - 0s 3ms/step - loss: 2.8038e-04 - sparse_categorical_accuracy: 1.0000\n",
            "Epoch 103/200\n",
            "29/29 [==============================] - 0s 3ms/step - loss: 2.7394e-04 - sparse_categorical_accuracy: 1.0000\n",
            "Epoch 104/200\n",
            "29/29 [==============================] - 0s 3ms/step - loss: 2.7353e-04 - sparse_categorical_accuracy: 1.0000\n",
            "Epoch 105/200\n",
            "29/29 [==============================] - 0s 3ms/step - loss: 2.6534e-04 - sparse_categorical_accuracy: 1.0000\n",
            "Epoch 106/200\n",
            "29/29 [==============================] - 0s 3ms/step - loss: 2.5374e-04 - sparse_categorical_accuracy: 1.0000\n",
            "Epoch 107/200\n",
            "29/29 [==============================] - 0s 3ms/step - loss: 2.4827e-04 - sparse_categorical_accuracy: 1.0000\n",
            "Epoch 108/200\n",
            "29/29 [==============================] - 0s 3ms/step - loss: 2.3989e-04 - sparse_categorical_accuracy: 1.0000\n",
            "Epoch 109/200\n",
            "29/29 [==============================] - 0s 3ms/step - loss: 2.3585e-04 - sparse_categorical_accuracy: 1.0000\n",
            "Epoch 110/200\n",
            "29/29 [==============================] - 0s 3ms/step - loss: 2.2862e-04 - sparse_categorical_accuracy: 1.0000\n",
            "Epoch 111/200\n",
            "29/29 [==============================] - 0s 3ms/step - loss: 2.2563e-04 - sparse_categorical_accuracy: 1.0000\n",
            "Epoch 112/200\n",
            "29/29 [==============================] - 0s 3ms/step - loss: 2.3433e-04 - sparse_categorical_accuracy: 1.0000\n",
            "Epoch 113/200\n",
            "29/29 [==============================] - 0s 3ms/step - loss: 2.1950e-04 - sparse_categorical_accuracy: 1.0000\n",
            "Epoch 114/200\n",
            "29/29 [==============================] - 0s 3ms/step - loss: 2.1136e-04 - sparse_categorical_accuracy: 1.0000\n",
            "Epoch 115/200\n",
            "29/29 [==============================] - 0s 3ms/step - loss: 2.0297e-04 - sparse_categorical_accuracy: 1.0000\n",
            "Epoch 116/200\n",
            "29/29 [==============================] - 0s 3ms/step - loss: 2.0029e-04 - sparse_categorical_accuracy: 1.0000\n",
            "Epoch 117/200\n",
            "29/29 [==============================] - 0s 3ms/step - loss: 1.9442e-04 - sparse_categorical_accuracy: 1.0000\n",
            "Epoch 118/200\n",
            "29/29 [==============================] - 0s 3ms/step - loss: 1.8955e-04 - sparse_categorical_accuracy: 1.0000\n",
            "Epoch 119/200\n",
            "29/29 [==============================] - 0s 3ms/step - loss: 1.8744e-04 - sparse_categorical_accuracy: 1.0000\n",
            "Epoch 120/200\n",
            "29/29 [==============================] - 0s 3ms/step - loss: 1.9782e-04 - sparse_categorical_accuracy: 1.0000\n",
            "Epoch 121/200\n",
            "29/29 [==============================] - 0s 3ms/step - loss: 1.8406e-04 - sparse_categorical_accuracy: 1.0000\n",
            "Epoch 122/200\n",
            "29/29 [==============================] - 0s 3ms/step - loss: 1.7874e-04 - sparse_categorical_accuracy: 1.0000\n",
            "Epoch 123/200\n",
            "29/29 [==============================] - 0s 3ms/step - loss: 1.6966e-04 - sparse_categorical_accuracy: 1.0000\n",
            "Epoch 124/200\n",
            "29/29 [==============================] - 0s 3ms/step - loss: 1.6724e-04 - sparse_categorical_accuracy: 1.0000\n",
            "Epoch 125/200\n",
            "29/29 [==============================] - 0s 3ms/step - loss: 1.6449e-04 - sparse_categorical_accuracy: 1.0000\n",
            "Epoch 126/200\n",
            "29/29 [==============================] - 0s 3ms/step - loss: 1.6006e-04 - sparse_categorical_accuracy: 1.0000\n",
            "Epoch 127/200\n",
            "29/29 [==============================] - 0s 3ms/step - loss: 1.5525e-04 - sparse_categorical_accuracy: 1.0000\n",
            "Epoch 128/200\n",
            "29/29 [==============================] - 0s 3ms/step - loss: 1.5446e-04 - sparse_categorical_accuracy: 1.0000\n",
            "Epoch 129/200\n",
            "29/29 [==============================] - 0s 3ms/step - loss: 1.4861e-04 - sparse_categorical_accuracy: 1.0000\n",
            "Epoch 130/200\n",
            "29/29 [==============================] - 0s 3ms/step - loss: 1.5283e-04 - sparse_categorical_accuracy: 1.0000\n",
            "Epoch 131/200\n",
            "29/29 [==============================] - 0s 3ms/step - loss: 1.7781e-04 - sparse_categorical_accuracy: 1.0000\n",
            "Epoch 132/200\n",
            "29/29 [==============================] - 0s 3ms/step - loss: 1.5244e-04 - sparse_categorical_accuracy: 1.0000\n",
            "Epoch 133/200\n",
            "29/29 [==============================] - 0s 3ms/step - loss: 1.3950e-04 - sparse_categorical_accuracy: 1.0000\n",
            "Epoch 134/200\n",
            "29/29 [==============================] - 0s 3ms/step - loss: 1.3398e-04 - sparse_categorical_accuracy: 1.0000\n",
            "Epoch 135/200\n",
            "29/29 [==============================] - 0s 3ms/step - loss: 1.3120e-04 - sparse_categorical_accuracy: 1.0000\n",
            "Epoch 136/200\n",
            "29/29 [==============================] - 0s 3ms/step - loss: 1.2902e-04 - sparse_categorical_accuracy: 1.0000\n",
            "Epoch 137/200\n",
            "29/29 [==============================] - 0s 3ms/step - loss: 1.2549e-04 - sparse_categorical_accuracy: 1.0000\n",
            "Epoch 138/200\n",
            "29/29 [==============================] - 0s 3ms/step - loss: 1.2379e-04 - sparse_categorical_accuracy: 1.0000\n",
            "Epoch 139/200\n",
            "29/29 [==============================] - 0s 3ms/step - loss: 1.2083e-04 - sparse_categorical_accuracy: 1.0000\n",
            "Epoch 140/200\n",
            "29/29 [==============================] - 0s 3ms/step - loss: 1.1788e-04 - sparse_categorical_accuracy: 1.0000\n",
            "Epoch 141/200\n",
            "29/29 [==============================] - 0s 3ms/step - loss: 1.1654e-04 - sparse_categorical_accuracy: 1.0000\n",
            "Epoch 142/200\n",
            "29/29 [==============================] - 0s 3ms/step - loss: 1.1363e-04 - sparse_categorical_accuracy: 1.0000\n",
            "Epoch 143/200\n",
            "29/29 [==============================] - 0s 3ms/step - loss: 1.1120e-04 - sparse_categorical_accuracy: 1.0000\n",
            "Epoch 144/200\n",
            "29/29 [==============================] - 0s 3ms/step - loss: 1.1409e-04 - sparse_categorical_accuracy: 1.0000\n",
            "Epoch 145/200\n",
            "29/29 [==============================] - 0s 3ms/step - loss: 1.1014e-04 - sparse_categorical_accuracy: 1.0000\n",
            "Epoch 146/200\n",
            "29/29 [==============================] - 0s 3ms/step - loss: 1.0588e-04 - sparse_categorical_accuracy: 1.0000\n",
            "Epoch 147/200\n",
            "29/29 [==============================] - 0s 3ms/step - loss: 1.0263e-04 - sparse_categorical_accuracy: 1.0000\n",
            "Epoch 148/200\n",
            "29/29 [==============================] - 0s 3ms/step - loss: 1.0094e-04 - sparse_categorical_accuracy: 1.0000\n",
            "Epoch 149/200\n",
            "29/29 [==============================] - 0s 3ms/step - loss: 9.8360e-05 - sparse_categorical_accuracy: 1.0000\n",
            "Epoch 150/200\n",
            "29/29 [==============================] - 0s 3ms/step - loss: 9.6812e-05 - sparse_categorical_accuracy: 1.0000\n",
            "Epoch 151/200\n",
            "29/29 [==============================] - 0s 4ms/step - loss: 9.8559e-05 - sparse_categorical_accuracy: 1.0000\n",
            "Epoch 152/200\n",
            "29/29 [==============================] - 0s 5ms/step - loss: 9.5261e-05 - sparse_categorical_accuracy: 1.0000\n",
            "Epoch 153/200\n",
            "29/29 [==============================] - 0s 4ms/step - loss: 9.3685e-05 - sparse_categorical_accuracy: 1.0000\n",
            "Epoch 154/200\n",
            "29/29 [==============================] - 0s 4ms/step - loss: 8.9445e-05 - sparse_categorical_accuracy: 1.0000\n",
            "Epoch 155/200\n",
            "29/29 [==============================] - 0s 4ms/step - loss: 8.7889e-05 - sparse_categorical_accuracy: 1.0000\n",
            "Epoch 156/200\n",
            "29/29 [==============================] - 0s 4ms/step - loss: 8.5968e-05 - sparse_categorical_accuracy: 1.0000\n",
            "Epoch 157/200\n",
            "29/29 [==============================] - 0s 4ms/step - loss: 8.8939e-05 - sparse_categorical_accuracy: 1.0000\n",
            "Epoch 158/200\n",
            "29/29 [==============================] - 0s 4ms/step - loss: 8.4453e-05 - sparse_categorical_accuracy: 1.0000\n",
            "Epoch 159/200\n",
            "29/29 [==============================] - 0s 4ms/step - loss: 8.1691e-05 - sparse_categorical_accuracy: 1.0000\n",
            "Epoch 160/200\n",
            "29/29 [==============================] - 0s 4ms/step - loss: 8.0269e-05 - sparse_categorical_accuracy: 1.0000\n",
            "Epoch 161/200\n",
            "29/29 [==============================] - 0s 4ms/step - loss: 7.8473e-05 - sparse_categorical_accuracy: 1.0000\n",
            "Epoch 162/200\n",
            "29/29 [==============================] - 0s 4ms/step - loss: 7.7181e-05 - sparse_categorical_accuracy: 1.0000\n",
            "Epoch 163/200\n",
            "29/29 [==============================] - 0s 4ms/step - loss: 7.4915e-05 - sparse_categorical_accuracy: 1.0000\n",
            "Epoch 164/200\n",
            "29/29 [==============================] - 0s 5ms/step - loss: 7.3130e-05 - sparse_categorical_accuracy: 1.0000\n",
            "Epoch 165/200\n",
            "29/29 [==============================] - 0s 4ms/step - loss: 7.2346e-05 - sparse_categorical_accuracy: 1.0000\n",
            "Epoch 166/200\n",
            "29/29 [==============================] - 0s 4ms/step - loss: 7.1698e-05 - sparse_categorical_accuracy: 1.0000\n",
            "Epoch 167/200\n",
            "29/29 [==============================] - 0s 4ms/step - loss: 6.9412e-05 - sparse_categorical_accuracy: 1.0000\n",
            "Epoch 168/200\n",
            "29/29 [==============================] - 0s 4ms/step - loss: 6.7946e-05 - sparse_categorical_accuracy: 1.0000\n",
            "Epoch 169/200\n",
            "29/29 [==============================] - 0s 4ms/step - loss: 6.6726e-05 - sparse_categorical_accuracy: 1.0000\n",
            "Epoch 170/200\n",
            "29/29 [==============================] - 0s 3ms/step - loss: 6.5835e-05 - sparse_categorical_accuracy: 1.0000\n",
            "Epoch 171/200\n",
            "29/29 [==============================] - 0s 3ms/step - loss: 6.4309e-05 - sparse_categorical_accuracy: 1.0000\n",
            "Epoch 172/200\n",
            "29/29 [==============================] - 0s 3ms/step - loss: 6.3416e-05 - sparse_categorical_accuracy: 1.0000\n",
            "Epoch 173/200\n",
            "29/29 [==============================] - 0s 3ms/step - loss: 6.1909e-05 - sparse_categorical_accuracy: 1.0000\n",
            "Epoch 174/200\n",
            "29/29 [==============================] - 0s 3ms/step - loss: 6.3047e-05 - sparse_categorical_accuracy: 1.0000\n",
            "Epoch 175/200\n",
            "29/29 [==============================] - 0s 3ms/step - loss: 6.1843e-05 - sparse_categorical_accuracy: 1.0000\n",
            "Epoch 176/200\n",
            "29/29 [==============================] - 0s 3ms/step - loss: 5.8975e-05 - sparse_categorical_accuracy: 1.0000\n",
            "Epoch 177/200\n",
            "29/29 [==============================] - 0s 3ms/step - loss: 5.7848e-05 - sparse_categorical_accuracy: 1.0000\n",
            "Epoch 178/200\n",
            "29/29 [==============================] - 0s 3ms/step - loss: 5.6487e-05 - sparse_categorical_accuracy: 1.0000\n",
            "Epoch 179/200\n",
            "29/29 [==============================] - 0s 3ms/step - loss: 5.5603e-05 - sparse_categorical_accuracy: 1.0000\n",
            "Epoch 180/200\n",
            "29/29 [==============================] - 0s 3ms/step - loss: 5.6456e-05 - sparse_categorical_accuracy: 1.0000\n",
            "Epoch 181/200\n",
            "29/29 [==============================] - 0s 3ms/step - loss: 5.4396e-05 - sparse_categorical_accuracy: 1.0000\n",
            "Epoch 182/200\n",
            "29/29 [==============================] - 0s 3ms/step - loss: 5.2803e-05 - sparse_categorical_accuracy: 1.0000\n",
            "Epoch 183/200\n",
            "29/29 [==============================] - 0s 3ms/step - loss: 5.2227e-05 - sparse_categorical_accuracy: 1.0000\n",
            "Epoch 184/200\n",
            "29/29 [==============================] - 0s 3ms/step - loss: 5.0482e-05 - sparse_categorical_accuracy: 1.0000\n",
            "Epoch 185/200\n",
            "29/29 [==============================] - 0s 3ms/step - loss: 4.9541e-05 - sparse_categorical_accuracy: 1.0000\n",
            "Epoch 186/200\n",
            "29/29 [==============================] - 0s 3ms/step - loss: 4.9160e-05 - sparse_categorical_accuracy: 1.0000\n",
            "Epoch 187/200\n",
            "29/29 [==============================] - 0s 3ms/step - loss: 4.8191e-05 - sparse_categorical_accuracy: 1.0000\n",
            "Epoch 188/200\n",
            "29/29 [==============================] - 0s 3ms/step - loss: 4.7182e-05 - sparse_categorical_accuracy: 1.0000\n",
            "Epoch 189/200\n",
            "29/29 [==============================] - 0s 3ms/step - loss: 4.6656e-05 - sparse_categorical_accuracy: 1.0000\n",
            "Epoch 190/200\n",
            "29/29 [==============================] - 0s 3ms/step - loss: 4.5621e-05 - sparse_categorical_accuracy: 1.0000\n",
            "Epoch 191/200\n",
            "29/29 [==============================] - 0s 3ms/step - loss: 4.4989e-05 - sparse_categorical_accuracy: 1.0000\n",
            "Epoch 192/200\n",
            "29/29 [==============================] - 0s 3ms/step - loss: 4.4005e-05 - sparse_categorical_accuracy: 1.0000\n",
            "Epoch 193/200\n",
            "29/29 [==============================] - 0s 3ms/step - loss: 4.3174e-05 - sparse_categorical_accuracy: 1.0000\n",
            "Epoch 194/200\n",
            "29/29 [==============================] - 0s 3ms/step - loss: 4.3309e-05 - sparse_categorical_accuracy: 1.0000\n",
            "Epoch 195/200\n",
            "29/29 [==============================] - 0s 3ms/step - loss: 4.2069e-05 - sparse_categorical_accuracy: 1.0000\n",
            "Epoch 196/200\n",
            "29/29 [==============================] - 0s 3ms/step - loss: 4.0848e-05 - sparse_categorical_accuracy: 1.0000\n",
            "Epoch 197/200\n",
            "29/29 [==============================] - 0s 3ms/step - loss: 4.0141e-05 - sparse_categorical_accuracy: 1.0000\n",
            "Epoch 198/200\n",
            "29/29 [==============================] - 0s 3ms/step - loss: 3.9610e-05 - sparse_categorical_accuracy: 1.0000\n",
            "Epoch 199/200\n",
            "29/29 [==============================] - 0s 3ms/step - loss: 3.8385e-05 - sparse_categorical_accuracy: 1.0000\n",
            "Epoch 200/200\n",
            "29/29 [==============================] - 0s 3ms/step - loss: 3.7992e-05 - sparse_categorical_accuracy: 1.0000\n"
          ]
        }
      ],
      "source": [
        "history = model.fit(X_train, y_train, epochs=200)"
      ]
    },
    {
      "cell_type": "code",
      "execution_count": 19,
      "metadata": {
        "id": "PMmDQ8AuzYCA",
        "colab": {
          "base_uri": "https://localhost:8080/"
        },
        "outputId": "3a9ffd43-3d92-448a-d02f-a5dee4b45e33"
      },
      "outputs": [
        {
          "output_type": "stream",
          "name": "stdout",
          "text": [
            "29/29 [==============================] - 0s 1ms/step\n"
          ]
        }
      ],
      "source": [
        "preds = model.predict(X_test)"
      ]
    },
    {
      "cell_type": "code",
      "execution_count": 20,
      "metadata": {
        "id": "7A2HF42-0O2G"
      },
      "outputs": [],
      "source": [
        "y_classes = preds.argmax(axis=-1)"
      ]
    },
    {
      "cell_type": "code",
      "execution_count": 21,
      "metadata": {
        "colab": {
          "base_uri": "https://localhost:8080/"
        },
        "id": "NjYxI9jY843X",
        "outputId": "59dee416-9563-48ee-fd90-8f6f7ba6992d"
      },
      "outputs": [
        {
          "output_type": "execute_result",
          "data": {
            "text/plain": [
              "0.9432703003337041"
            ]
          },
          "metadata": {},
          "execution_count": 21
        }
      ],
      "source": [
        "sklearn.metrics.accuracy_score(y_test, y_classes)"
      ]
    },
    {
      "cell_type": "markdown",
      "metadata": {
        "id": "bSQMCegO843X"
      },
      "source": [
        "We see our model performs... just as well. Because we are not dealing with a massive dataset, logistic regression and a single layer neural network perform about just about the same. What should be noted here is how easily we could use Keras to build a single layer neural network.\n",
        "\n",
        "### Single Layer Net in PyTorch\n",
        "\n",
        "[PyTorch](https://pytorch.org/) is another widely used deep learning package, and one with high usage in both academia and industry. While Keras slotted in easily as an extension of the machine learning topics we saw yesterday (such as with its use of numpy, and the fit function), PyTorch runs on Tensors. Tensors are essentially a multi-dimensional matrix, and operate similarly to numpy arrays.\n",
        "\n",
        "In the following lines of code, we will quickly look at some basic tensor operations, such as generating an empty tensor, basic operations on tensors, and converting between numpy arrays and tensors. While you will not be tested on your ability to manipulate tensors, it is useful to know how to play with them. The final line of code in this section converts our previously used numpy based data to tensors."
      ]
    },
    {
      "cell_type": "code",
      "execution_count": 22,
      "metadata": {
        "id": "1I4UoIYJ843X"
      },
      "outputs": [],
      "source": [
        "## Pytorch\n",
        "import torch\n",
        "import torch.nn as nn\n",
        "from torch.autograd import Variable\n",
        "import torch.optim as optim"
      ]
    },
    {
      "cell_type": "markdown",
      "metadata": {
        "id": "7eVWcRafiuW8"
      },
      "source": [
        "### Tensors and Data"
      ]
    },
    {
      "cell_type": "code",
      "execution_count": 23,
      "metadata": {
        "colab": {
          "base_uri": "https://localhost:8080/"
        },
        "id": "cRO8D-FsiuW8",
        "outputId": "3ae89c69-faea-4b2b-ebce-a84c098dd133"
      },
      "outputs": [
        {
          "output_type": "stream",
          "name": "stdout",
          "text": [
            "tensor([[0., 0., 0.],\n",
            "        [0., 0., 0.],\n",
            "        [0., 0., 0.],\n",
            "        [0., 0., 0.],\n",
            "        [0., 0., 0.]])\n"
          ]
        }
      ],
      "source": [
        "#pytorch tensors calculation\n",
        "x = torch.empty(5, 3)\n",
        "print(x)"
      ]
    },
    {
      "cell_type": "markdown",
      "metadata": {
        "id": "CVc7dPSI6xAM"
      },
      "source": [
        "torch.empty() allocates memory space for the array but does not initialize the values in this space--you get whatever uninitialized values are set to those cells in the memory!"
      ]
    },
    {
      "cell_type": "code",
      "execution_count": 24,
      "metadata": {
        "colab": {
          "base_uri": "https://localhost:8080/"
        },
        "id": "NFowPB2TiuW8",
        "outputId": "cf301e49-2149-4b62-ad6d-96906b653205"
      },
      "outputs": [
        {
          "output_type": "stream",
          "name": "stdout",
          "text": [
            "tensor([[0.3269, 0.9405, 0.0679],\n",
            "        [0.9580, 0.3906, 0.3431],\n",
            "        [0.9964, 0.6814, 0.2016],\n",
            "        [0.6198, 0.9075, 0.7354],\n",
            "        [0.7809, 0.7376, 0.5393]])\n"
          ]
        }
      ],
      "source": [
        "x = torch.rand(5, 3)\n",
        "print(x)"
      ]
    },
    {
      "cell_type": "markdown",
      "metadata": {
        "id": "6qdkY7Gi68JJ"
      },
      "source": [
        "torch.rand() produces random values [0,1]"
      ]
    },
    {
      "cell_type": "code",
      "execution_count": 25,
      "metadata": {
        "colab": {
          "base_uri": "https://localhost:8080/"
        },
        "id": "Ude_3HtPiuW9",
        "outputId": "0e700fc2-eca4-4c6f-99fd-45b152b244a6"
      },
      "outputs": [
        {
          "output_type": "stream",
          "name": "stdout",
          "text": [
            "tensor([[0, 0, 0],\n",
            "        [0, 0, 0],\n",
            "        [0, 0, 0],\n",
            "        [0, 0, 0],\n",
            "        [0, 0, 0]])\n"
          ]
        }
      ],
      "source": [
        "x = torch.zeros(5, 3, dtype=torch.long)\n",
        "print(x)"
      ]
    },
    {
      "cell_type": "code",
      "execution_count": 26,
      "metadata": {
        "colab": {
          "base_uri": "https://localhost:8080/"
        },
        "id": "EaKZjGDgiuW9",
        "outputId": "7a08a7e1-9378-422d-a54c-f635a2bcfc8d"
      },
      "outputs": [
        {
          "output_type": "stream",
          "name": "stdout",
          "text": [
            "tensor([[0.4700, 0.1614, 0.4362],\n",
            "        [0.1826, 0.5843, 0.0045],\n",
            "        [0.7421, 0.2242, 0.1199],\n",
            "        [0.6102, 0.9022, 0.0856],\n",
            "        [0.8535, 0.7403, 0.6973]])\n"
          ]
        }
      ],
      "source": [
        "y = torch.rand(5, 3)\n",
        "print(x + y)"
      ]
    },
    {
      "cell_type": "code",
      "execution_count": 27,
      "metadata": {
        "colab": {
          "base_uri": "https://localhost:8080/"
        },
        "id": "IWZvt-ImiuW9",
        "outputId": "b3829888-a6a3-419f-8988-ec5cc1b8ff4f"
      },
      "outputs": [
        {
          "output_type": "stream",
          "name": "stdout",
          "text": [
            "tensor([[0.4700, 0.1614, 0.4362],\n",
            "        [0.1826, 0.5843, 0.0045],\n",
            "        [0.7421, 0.2242, 0.1199],\n",
            "        [0.6102, 0.9022, 0.0856],\n",
            "        [0.8535, 0.7403, 0.6973]])\n"
          ]
        }
      ],
      "source": [
        "print(torch.add(x, y))"
      ]
    },
    {
      "cell_type": "code",
      "execution_count": 28,
      "metadata": {
        "colab": {
          "base_uri": "https://localhost:8080/"
        },
        "id": "45_cMiobiuW9",
        "outputId": "2cc73a94-a78d-4b02-b8fe-ccb4212f8a0f"
      },
      "outputs": [
        {
          "output_type": "stream",
          "name": "stdout",
          "text": [
            "tensor([[0.4700, 0.1614, 0.4362],\n",
            "        [0.1826, 0.5843, 0.0045],\n",
            "        [0.7421, 0.2242, 0.1199],\n",
            "        [0.6102, 0.9022, 0.0856],\n",
            "        [0.8535, 0.7403, 0.6973]])\n"
          ]
        }
      ],
      "source": [
        "y.add_(x) # the `_` sign at end means the operation mutates tensor y in-place\n",
        "print(y)"
      ]
    },
    {
      "cell_type": "code",
      "execution_count": 29,
      "metadata": {
        "colab": {
          "base_uri": "https://localhost:8080/"
        },
        "id": "jcsYRHM5iuW-",
        "outputId": "deacde85-d799-4fd4-b2ef-abb45b328b86"
      },
      "outputs": [
        {
          "output_type": "stream",
          "name": "stdout",
          "text": [
            "A = tensor([[20, 24],\n",
            "        [31, 27]])\n"
          ]
        }
      ],
      "source": [
        "# to_remove solution\n",
        "a1 = torch.tensor([[2, 4], [5, 7]])\n",
        "a2 = torch.tensor([[1, 1], [2, 3]])\n",
        "a3 = torch.tensor([[10, 10], [12, 1]])\n",
        "A = torch.add(a1 @ a2, a3)\n",
        "print(\"A =\", A)"
      ]
    },
    {
      "cell_type": "code",
      "execution_count": 30,
      "metadata": {
        "colab": {
          "base_uri": "https://localhost:8080/"
        },
        "id": "GF8RzPvriuW-",
        "outputId": "65f306e7-0d6b-4053-c2aa-a64c1d51ea77"
      },
      "outputs": [
        {
          "output_type": "stream",
          "name": "stdout",
          "text": [
            "b = tensor([[82]])\n"
          ]
        }
      ],
      "source": [
        "# @ and torch.matmul return a multidimensional tensor\n",
        "b1 = torch.tensor([[3], [5], [7]])\n",
        "b2 = torch.tensor([[2], [4], [8]])\n",
        "b = b1.T @ b2\n",
        "print(\"b =\", b)"
      ]
    },
    {
      "cell_type": "code",
      "execution_count": 31,
      "metadata": {
        "colab": {
          "base_uri": "https://localhost:8080/"
        },
        "id": "YtQmjUB4iuW-",
        "outputId": "ced8d109-c97d-4581-c6f4-269508b9d902"
      },
      "outputs": [
        {
          "output_type": "stream",
          "name": "stdout",
          "text": [
            "b = tensor(82)\n"
          ]
        }
      ],
      "source": [
        "# dot function returns a scalar tensor\n",
        "b1 = torch.tensor([3, 5, 7])\n",
        "b2 = torch.tensor([2, 4, 8])\n",
        "b = torch.dot(b1, b2)\n",
        "print(\"b =\", b)"
      ]
    },
    {
      "cell_type": "markdown",
      "metadata": {
        "id": "VVfilRNtiuW_"
      },
      "source": [
        "We now look at converting between tensors and numpy arrays."
      ]
    },
    {
      "cell_type": "code",
      "execution_count": 32,
      "metadata": {
        "colab": {
          "base_uri": "https://localhost:8080/"
        },
        "id": "T-lrMcKbiuW_",
        "outputId": "568e15b1-7fdf-4a1e-9274-cc00085a14cf"
      },
      "outputs": [
        {
          "output_type": "stream",
          "name": "stdout",
          "text": [
            "tensor([1., 1., 1., 1., 1.])\n"
          ]
        }
      ],
      "source": [
        "a = torch.ones(5)\n",
        "print(a)"
      ]
    },
    {
      "cell_type": "code",
      "execution_count": 33,
      "metadata": {
        "colab": {
          "base_uri": "https://localhost:8080/"
        },
        "id": "T8vJU89ViuW_",
        "outputId": "ae41d713-8c48-4f30-f9d6-7706f20cb192"
      },
      "outputs": [
        {
          "output_type": "stream",
          "name": "stdout",
          "text": [
            "[1. 1. 1. 1. 1.]\n"
          ]
        }
      ],
      "source": [
        "b = a.numpy()\n",
        "print(b)"
      ]
    },
    {
      "cell_type": "code",
      "execution_count": 34,
      "metadata": {
        "colab": {
          "base_uri": "https://localhost:8080/"
        },
        "id": "V-UvLOLoiuXA",
        "outputId": "cb580f99-6577-476a-fb5c-b2b7d55bb432"
      },
      "outputs": [
        {
          "output_type": "stream",
          "name": "stdout",
          "text": [
            "tensor([2., 2., 2., 2., 2.])\n"
          ]
        }
      ],
      "source": [
        "a.add_(1)\n",
        "print(a)"
      ]
    },
    {
      "cell_type": "code",
      "execution_count": 35,
      "metadata": {
        "colab": {
          "base_uri": "https://localhost:8080/"
        },
        "id": "EyZmiY31iuXA",
        "outputId": "b820762c-7d0d-4753-b82c-a705bfb05413"
      },
      "outputs": [
        {
          "output_type": "stream",
          "name": "stdout",
          "text": [
            "[2. 2. 2. 2. 2.]\n"
          ]
        }
      ],
      "source": [
        "print(b)"
      ]
    },
    {
      "cell_type": "code",
      "execution_count": 36,
      "metadata": {
        "colab": {
          "base_uri": "https://localhost:8080/"
        },
        "id": "5j5COhSEiuXA",
        "outputId": "f18698f5-c715-4090-8699-59200d68f829"
      },
      "outputs": [
        {
          "output_type": "stream",
          "name": "stdout",
          "text": [
            "[2. 2. 2. 2. 2.]\n",
            "tensor([2., 2., 2., 2., 2.], dtype=torch.float64)\n"
          ]
        }
      ],
      "source": [
        "a = np.ones(5)\n",
        "b = torch.from_numpy(a)\n",
        "np.add(a, 1, out=a)\n",
        "print(a)\n",
        "print(b)"
      ]
    },
    {
      "cell_type": "markdown",
      "metadata": {
        "id": "gJMkVNg_iuXA"
      },
      "source": [
        "We now get our training data ready."
      ]
    },
    {
      "cell_type": "code",
      "execution_count": 37,
      "metadata": {
        "id": "QXpNq6zpiuXB"
      },
      "outputs": [],
      "source": [
        "X_train_tensor = torch.tensor(X_train)\n",
        "y_train_tensor = torch.tensor(y_train).type(torch.LongTensor)"
      ]
    },
    {
      "cell_type": "markdown",
      "metadata": {
        "id": "HtbqB1rriuXB"
      },
      "source": [
        "### Constructing a Neural Network with PyTorch\n",
        "\n",
        "PyTorch is a little more involved than Keras. We need to initialise our network with the various parts we will be using. We are using the same parameters as the Keras example. We then define what a forward pass looks like, which is kind of similar to the way we stacked networks in Keras.\n",
        "\n",
        "[Pytorch's nn module](https://pytorch.org/docs/stable/nn.html) is the basic unit for building neural networks (or computational graphs, as it is sometimes referred to in pytroch). For example, for a hidden layer, we use the Linear layer."
      ]
    },
    {
      "cell_type": "code",
      "execution_count": 38,
      "metadata": {
        "id": "fb9jEVet7FpA"
      },
      "outputs": [],
      "source": [
        "import torch.nn.functional as F"
      ]
    },
    {
      "cell_type": "code",
      "execution_count": 39,
      "metadata": {
        "colab": {
          "base_uri": "https://localhost:8080/"
        },
        "id": "LDJ87iXdiuXB",
        "outputId": "aea80cc0-dfc7-40d9-efc6-bd01b017ef2f"
      },
      "outputs": [
        {
          "output_type": "execute_result",
          "data": {
            "text/plain": [
              "Linear(in_features=20, out_features=20, bias=True)"
            ]
          },
          "metadata": {},
          "execution_count": 39
        }
      ],
      "source": [
        "nn.Linear(20, 20)"
      ]
    },
    {
      "cell_type": "markdown",
      "metadata": {
        "id": "8QQ_VFXEiuXC"
      },
      "source": [
        "The module also includes activation functions."
      ]
    },
    {
      "cell_type": "code",
      "execution_count": 40,
      "metadata": {
        "colab": {
          "base_uri": "https://localhost:8080/"
        },
        "id": "rrsejrMTiuXC",
        "outputId": "f6201d4e-e1dd-4d28-a1c1-d37b59196d4f"
      },
      "outputs": [
        {
          "output_type": "execute_result",
          "data": {
            "text/plain": [
              "ReLU()"
            ]
          },
          "metadata": {},
          "execution_count": 40
        }
      ],
      "source": [
        "nn.ReLU()"
      ]
    },
    {
      "cell_type": "markdown",
      "metadata": {
        "id": "zvrw_SqFiuXC"
      },
      "source": [
        "We usually encapsulate the network by defining the hidden layers and activation functions we will be needing, which you can see in the initialisation. You can then see the forward passes the input tensor through each of the operations."
      ]
    },
    {
      "cell_type": "code",
      "execution_count": 41,
      "metadata": {
        "id": "TtwcjMap843Y"
      },
      "outputs": [],
      "source": [
        "class Network(nn.Module):\n",
        "    def __init__(self):\n",
        "        super().__init__()\n",
        "        # Inputs to hidden layer linear transformation\n",
        "        self.hidden = nn.Linear(64, 200)\n",
        "        # Output layer, 1 output for the classification\n",
        "        self.output = nn.Linear(200, 10)\n",
        "        # Define sigmoid activation and softmax output\n",
        "        self.relu = nn.ReLU()\n",
        "        self.softmax = nn.Softmax()\n",
        "\n",
        "    def forward(self, x):\n",
        "        # Pass the input tensor through each of our operations\n",
        "        x = self.hidden(x)\n",
        "        x = self.relu(x)\n",
        "        x = self.output(x)\n",
        "        x = self.softmax(x)\n",
        "        return x"
      ]
    },
    {
      "cell_type": "code",
      "execution_count": 42,
      "metadata": {
        "id": "U3o0hwRFiuXC"
      },
      "outputs": [],
      "source": [
        "net = Network()"
      ]
    },
    {
      "cell_type": "markdown",
      "metadata": {
        "id": "aN6b9zt8iuXD"
      },
      "source": [
        "We then define the optimiser and loss function."
      ]
    },
    {
      "cell_type": "code",
      "execution_count": 43,
      "metadata": {
        "id": "kYto8Y2biuXD"
      },
      "outputs": [],
      "source": [
        "opt = optim.Adam(net.parameters(), lr=0.001, betas=(0.9, 0.999))"
      ]
    },
    {
      "cell_type": "code",
      "execution_count": 44,
      "metadata": {
        "id": "1Hp4PkB1iuXD"
      },
      "outputs": [],
      "source": [
        "criterion = F.nll_loss"
      ]
    },
    {
      "cell_type": "markdown",
      "metadata": {
        "id": "GDKyIAd4843Y"
      },
      "source": [
        "Unlike Keras where we hit fit and the training happens, we have to define a training epoch, where we set our gradients to zero, run the test data, do a backward pass, and then update the weights. This is actually how a neural network trains, so its useful to see it broken down like this."
      ]
    },
    {
      "cell_type": "code",
      "execution_count": 45,
      "metadata": {
        "id": "uG579lYv843Z"
      },
      "outputs": [],
      "source": [
        "def train_epoch(model, opt, criterion, X_train, y_train):\n",
        "    model.train()\n",
        "    losses = []\n",
        "    opt.zero_grad()\n",
        "    # (1) Forward\n",
        "    y_hat = model(X_train)\n",
        "    # (2) Compute diff\n",
        "    loss = criterion(y_hat, y_train)\n",
        "    # (3) Compute gradients, this is the backprop step\n",
        "    loss.backward()\n",
        "    # (4) update weights\n",
        "    opt.step()\n",
        "    losses.append(loss.data.numpy())\n",
        "    return losses"
      ]
    },
    {
      "cell_type": "code",
      "execution_count": 46,
      "metadata": {
        "id": "ZfPJDqCT843Z"
      },
      "outputs": [],
      "source": [
        "import matplotlib.pyplot as plt"
      ]
    },
    {
      "cell_type": "code",
      "execution_count": 47,
      "metadata": {
        "colab": {
          "base_uri": "https://localhost:8080/"
        },
        "id": "_bFmIc2J6k7i",
        "outputId": "4a31d976-81e3-4b65-e6b9-ae3966593f35"
      },
      "outputs": [
        {
          "output_type": "execute_result",
          "data": {
            "text/plain": [
              "tensor([[ 0.,  0.,  5.,  ...,  0.,  0.,  0.],\n",
              "        [ 0.,  0.,  0.,  ..., 10.,  0.,  0.],\n",
              "        [ 0.,  0.,  0.,  ..., 16.,  9.,  0.],\n",
              "        ...,\n",
              "        [ 0.,  0.,  2.,  ..., 14.,  0.,  0.],\n",
              "        [ 0.,  1., 12.,  ...,  0.,  0.,  0.],\n",
              "        [ 0.,  0.,  0.,  ...,  3.,  0.,  0.]])"
            ]
          },
          "metadata": {},
          "execution_count": 47
        }
      ],
      "source": [
        "X_train_tensor.float()"
      ]
    },
    {
      "cell_type": "code",
      "execution_count": 48,
      "metadata": {
        "colab": {
          "base_uri": "https://localhost:8080/"
        },
        "id": "bkjzdxN0843Z",
        "outputId": "8b38f69c-391a-448a-96ba-4e6f4ca7a58b"
      },
      "outputs": [
        {
          "output_type": "stream",
          "name": "stderr",
          "text": [
            "/usr/local/lib/python3.10/dist-packages/torch/nn/modules/module.py:1511: UserWarning: Implicit dimension choice for softmax has been deprecated. Change the call to include dim=X as an argument.\n",
            "  return self._call_impl(*args, **kwargs)\n"
          ]
        }
      ],
      "source": [
        "e_losses = []\n",
        "num_epochs = 200\n",
        "for e in range(num_epochs):\n",
        "    e_losses += train_epoch(net, opt, criterion, X_train_tensor.float(), y_train_tensor)"
      ]
    },
    {
      "cell_type": "code",
      "execution_count": 49,
      "metadata": {
        "colab": {
          "base_uri": "https://localhost:8080/",
          "height": 472
        },
        "id": "wz2hWSeaiuXE",
        "outputId": "4800cea7-40a5-457e-a82f-79cb5fbfa893"
      },
      "outputs": [
        {
          "output_type": "display_data",
          "data": {
            "text/plain": [
              "<Figure size 640x480 with 1 Axes>"
            ],
            "image/png": "[encoded data removed]"
          },
          "metadata": {}
        }
      ],
      "source": [
        "plt.title(\"Loss for Neural Net Training\")\n",
        "plt.xlabel(\"Number of epochs\")\n",
        "plt.ylabel(\"Loss\")\n",
        "plt.plot(e_losses)\n",
        "plt.show()"
      ]
    },
    {
      "cell_type": "markdown",
      "metadata": {
        "id": "ex2uZGk-843Z"
      },
      "source": [
        "That little loss plot is useful for us to see how our model improves with each epoch. We did 200 epochs like the Keras example. Unlike scikit-learn or Keras objects, we don't have a predict method, but instead pass the test data directly to the net. The little function below that converts the results into a way which we can feed into a metric function."
      ]
    },
    {
      "cell_type": "code",
      "execution_count": 50,
      "metadata": {
        "id": "woweXacG843a"
      },
      "outputs": [],
      "source": [
        "output = net(torch.tensor(X_test).float())"
      ]
    },
    {
      "cell_type": "code",
      "execution_count": 51,
      "metadata": {
        "id": "yY49xGZviuXF"
      },
      "outputs": [],
      "source": [
        "y_classes = output.argmax(axis=-1)"
      ]
    },
    {
      "cell_type": "code",
      "execution_count": 52,
      "metadata": {
        "colab": {
          "base_uri": "https://localhost:8080/"
        },
        "id": "HHXAtUGt843a",
        "outputId": "90b9149f-e6cc-4a4a-ff52-9a73da9d60e0",
        "scrolled": true
      },
      "outputs": [
        {
          "output_type": "execute_result",
          "data": {
            "text/plain": [
              "0.8476084538375973"
            ]
          },
          "metadata": {},
          "execution_count": 52
        }
      ],
      "source": [
        "sklearn.metrics.accuracy_score(y_test, y_classes)"
      ]
    },
    {
      "cell_type": "markdown",
      "metadata": {
        "id": "zD-c630M843a"
      },
      "source": [
        "Cool! So our PyTorch neural net did a bit better than both Keras and logistic regression. This is a demonstration of how neural networks which are similar in structure can still end up as divergently performing models because of random weights initialisation between different libraries.\n",
        "\n",
        "Let us now make our networks deep, and see if that helps!\n",
        "\n",
        "### Keras Deep Net\n",
        "\n",
        "Making a neural net deeper simply means adding more layers or complexity. Lets add an extra layer and increase the number of units and see how it does! In the last example, we added each layer line by line. Here, we use a single list.\n",
        "\n",
        "For this simple neural network, we use a virtual example based on make_classification function of sklearn package.\n"
      ]
    },
    {
      "cell_type": "code",
      "execution_count": 53,
      "metadata": {
        "colab": {
          "base_uri": "https://localhost:8080/",
          "height": 452
        },
        "id": "UzwUrp5OZG2d",
        "outputId": "a174b86c-7335-478a-8dde-d10bc7c15784"
      },
      "outputs": [
        {
          "output_type": "display_data",
          "data": {
            "text/plain": [
              "<Figure size 640x480 with 1 Axes>"
            ],
            "image/png": "[encoded data removed]"
          },
          "metadata": {}
        }
      ],
      "source": [
        "import matplotlib.pyplot as plt\n",
        "\n",
        "X, y = sklearn.datasets.make_classification(n_samples=200, n_features=200, n_informative=100, n_classes=2, random_state=40)\n",
        "plt.title(\"Plot of first two features of classification dataset\")\n",
        "plt.scatter(X[:, 0], X[:, 1], marker='o', c=y, s=25, edgecolor='k')\n",
        "plt.show()"
      ]
    },
    {
      "cell_type": "code",
      "execution_count": 54,
      "metadata": {
        "id": "sFbXca80ZzsV"
      },
      "outputs": [],
      "source": [
        "X_train, X_test, y_train, y_test = sklearn.model_selection.train_test_split(X, y)"
      ]
    },
    {
      "cell_type": "code",
      "execution_count": 55,
      "metadata": {
        "id": "XCExN1bx843b"
      },
      "outputs": [],
      "source": [
        "model = keras.models.Sequential([keras.layers.Dense(200, input_dim=200, activation='relu'),\n",
        "                                 keras.layers.Dense(200, activation='relu'),\n",
        "                                 keras.layers.Dense(1, activation='sigmoid')])"
      ]
    },
    {
      "cell_type": "code",
      "execution_count": 56,
      "metadata": {
        "id": "bNnZUBSd843b"
      },
      "outputs": [],
      "source": [
        "model.compile(loss=\"binary_crossentropy\", optimizer=\"adam\")"
      ]
    },
    {
      "cell_type": "code",
      "execution_count": 57,
      "metadata": {
        "colab": {
          "base_uri": "https://localhost:8080/"
        },
        "id": "rNFgL3_l843c",
        "outputId": "2d981781-c268-494f-e946-08bb2ad5539e"
      },
      "outputs": [
        {
          "output_type": "stream",
          "name": "stdout",
          "text": [
            "Epoch 1/200\n",
            "5/5 [==============================] - 2s 4ms/step - loss: 1.1945\n",
            "Epoch 2/200\n",
            "5/5 [==============================] - 0s 4ms/step - loss: 0.3086\n",
            "Epoch 3/200\n",
            "5/5 [==============================] - 0s 4ms/step - loss: 0.1222\n",
            "Epoch 4/200\n",
            "5/5 [==============================] - 0s 4ms/step - loss: 0.0348\n",
            "Epoch 5/200\n",
            "5/5 [==============================] - 0s 4ms/step - loss: 0.0237\n",
            "Epoch 6/200\n",
            "5/5 [==============================] - 0s 4ms/step - loss: 0.0141\n",
            "Epoch 7/200\n",
            "5/5 [==============================] - 0s 4ms/step - loss: 0.0070\n",
            "Epoch 8/200\n",
            "5/5 [==============================] - 0s 3ms/step - loss: 0.0058\n",
            "Epoch 9/200\n",
            "5/5 [==============================] - 0s 3ms/step - loss: 0.0048\n",
            "Epoch 10/200\n",
            "5/5 [==============================] - 0s 4ms/step - loss: 0.0038\n",
            "Epoch 11/200\n",
            "5/5 [==============================] - 0s 3ms/step - loss: 0.0032\n",
            "Epoch 12/200\n",
            "5/5 [==============================] - 0s 4ms/step - loss: 0.0029\n",
            "Epoch 13/200\n",
            "5/5 [==============================] - 0s 4ms/step - loss: 0.0026\n",
            "Epoch 14/200\n",
            "5/5 [==============================] - 0s 3ms/step - loss: 0.0024\n",
            "Epoch 15/200\n",
            "5/5 [==============================] - 0s 4ms/step - loss: 0.0022\n",
            "Epoch 16/200\n",
            "5/5 [==============================] - 0s 4ms/step - loss: 0.0020\n",
            "Epoch 17/200\n",
            "5/5 [==============================] - 0s 4ms/step - loss: 0.0019\n",
            "Epoch 18/200\n",
            "5/5 [==============================] - 0s 4ms/step - loss: 0.0018\n",
            "Epoch 19/200\n",
            "5/5 [==============================] - 0s 4ms/step - loss: 0.0017\n",
            "Epoch 20/200\n",
            "5/5 [==============================] - 0s 4ms/step - loss: 0.0015\n",
            "Epoch 21/200\n",
            "5/5 [==============================] - 0s 4ms/step - loss: 0.0014\n",
            "Epoch 22/200\n",
            "5/5 [==============================] - 0s 4ms/step - loss: 0.0013\n",
            "Epoch 23/200\n",
            "5/5 [==============================] - 0s 3ms/step - loss: 0.0013\n",
            "Epoch 24/200\n",
            "5/5 [==============================] - 0s 3ms/step - loss: 0.0012\n",
            "Epoch 25/200\n",
            "5/5 [==============================] - 0s 4ms/step - loss: 0.0011\n",
            "Epoch 26/200\n",
            "5/5 [==============================] - 0s 4ms/step - loss: 0.0010\n",
            "Epoch 27/200\n",
            "5/5 [==============================] - 0s 3ms/step - loss: 9.7654e-04\n",
            "Epoch 28/200\n",
            "5/5 [==============================] - 0s 5ms/step - loss: 9.1981e-04\n",
            "Epoch 29/200\n",
            "5/5 [==============================] - 0s 4ms/step - loss: 8.6633e-04\n",
            "Epoch 30/200\n",
            "5/5 [==============================] - 0s 4ms/step - loss: 8.1872e-04\n",
            "Epoch 31/200\n",
            "5/5 [==============================] - 0s 4ms/step - loss: 7.7468e-04\n",
            "Epoch 32/200\n",
            "5/5 [==============================] - 0s 4ms/step - loss: 7.3301e-04\n",
            "Epoch 33/200\n",
            "5/5 [==============================] - 0s 4ms/step - loss: 6.9441e-04\n",
            "Epoch 34/200\n",
            "5/5 [==============================] - 0s 4ms/step - loss: 6.5844e-04\n",
            "Epoch 35/200\n",
            "5/5 [==============================] - 0s 4ms/step - loss: 6.2455e-04\n",
            "Epoch 36/200\n",
            "5/5 [==============================] - 0s 4ms/step - loss: 5.9458e-04\n",
            "Epoch 37/200\n",
            "5/5 [==============================] - 0s 4ms/step - loss: 5.6534e-04\n",
            "Epoch 38/200\n",
            "5/5 [==============================] - 0s 4ms/step - loss: 5.3816e-04\n",
            "Epoch 39/200\n",
            "5/5 [==============================] - 0s 4ms/step - loss: 5.1509e-04\n",
            "Epoch 40/200\n",
            "5/5 [==============================] - 0s 4ms/step - loss: 4.9157e-04\n",
            "Epoch 41/200\n",
            "5/5 [==============================] - 0s 4ms/step - loss: 4.6909e-04\n",
            "Epoch 42/200\n",
            "5/5 [==============================] - 0s 4ms/step - loss: 4.4963e-04\n",
            "Epoch 43/200\n",
            "5/5 [==============================] - 0s 4ms/step - loss: 4.3013e-04\n",
            "Epoch 44/200\n",
            "5/5 [==============================] - 0s 3ms/step - loss: 4.1278e-04\n",
            "Epoch 45/200\n",
            "5/5 [==============================] - 0s 3ms/step - loss: 3.9484e-04\n",
            "Epoch 46/200\n",
            "5/5 [==============================] - 0s 4ms/step - loss: 3.7905e-04\n",
            "Epoch 47/200\n",
            "5/5 [==============================] - 0s 3ms/step - loss: 3.6352e-04\n",
            "Epoch 48/200\n",
            "5/5 [==============================] - 0s 3ms/step - loss: 3.4855e-04\n",
            "Epoch 49/200\n",
            "5/5 [==============================] - 0s 5ms/step - loss: 3.3482e-04\n",
            "Epoch 50/200\n",
            "5/5 [==============================] - 0s 4ms/step - loss: 3.2239e-04\n",
            "Epoch 51/200\n",
            "5/5 [==============================] - 0s 4ms/step - loss: 3.1009e-04\n",
            "Epoch 52/200\n",
            "5/5 [==============================] - 0s 4ms/step - loss: 2.9813e-04\n",
            "Epoch 53/200\n",
            "5/5 [==============================] - 0s 4ms/step - loss: 2.8771e-04\n",
            "Epoch 54/200\n",
            "5/5 [==============================] - 0s 4ms/step - loss: 2.7720e-04\n",
            "Epoch 55/200\n",
            "5/5 [==============================] - 0s 4ms/step - loss: 2.6770e-04\n",
            "Epoch 56/200\n",
            "5/5 [==============================] - 0s 3ms/step - loss: 2.5822e-04\n",
            "Epoch 57/200\n",
            "5/5 [==============================] - 0s 5ms/step - loss: 2.4892e-04\n",
            "Epoch 58/200\n",
            "5/5 [==============================] - 0s 4ms/step - loss: 2.3925e-04\n",
            "Epoch 59/200\n",
            "5/5 [==============================] - 0s 4ms/step - loss: 2.3142e-04\n",
            "Epoch 60/200\n",
            "5/5 [==============================] - 0s 4ms/step - loss: 2.2191e-04\n",
            "Epoch 61/200\n",
            "5/5 [==============================] - 0s 4ms/step - loss: 2.1475e-04\n",
            "Epoch 62/200\n",
            "5/5 [==============================] - 0s 4ms/step - loss: 2.0626e-04\n",
            "Epoch 63/200\n",
            "5/5 [==============================] - 0s 4ms/step - loss: 1.9715e-04\n",
            "Epoch 64/200\n",
            "5/5 [==============================] - 0s 3ms/step - loss: 1.9019e-04\n",
            "Epoch 65/200\n",
            "5/5 [==============================] - 0s 4ms/step - loss: 1.8376e-04\n",
            "Epoch 66/200\n",
            "5/5 [==============================] - 0s 4ms/step - loss: 1.7658e-04\n",
            "Epoch 67/200\n",
            "5/5 [==============================] - 0s 4ms/step - loss: 1.7028e-04\n",
            "Epoch 68/200\n",
            "5/5 [==============================] - 0s 4ms/step - loss: 1.6428e-04\n",
            "Epoch 69/200\n",
            "5/5 [==============================] - 0s 4ms/step - loss: 1.5911e-04\n",
            "Epoch 70/200\n",
            "5/5 [==============================] - 0s 4ms/step - loss: 1.5340e-04\n",
            "Epoch 71/200\n",
            "5/5 [==============================] - 0s 3ms/step - loss: 1.4833e-04\n",
            "Epoch 72/200\n",
            "5/5 [==============================] - 0s 4ms/step - loss: 1.4377e-04\n",
            "Epoch 73/200\n",
            "5/5 [==============================] - 0s 4ms/step - loss: 1.3933e-04\n",
            "Epoch 74/200\n",
            "5/5 [==============================] - 0s 4ms/step - loss: 1.3507e-04\n",
            "Epoch 75/200\n",
            "5/5 [==============================] - 0s 3ms/step - loss: 1.3071e-04\n",
            "Epoch 76/200\n",
            "5/5 [==============================] - 0s 4ms/step - loss: 1.2696e-04\n",
            "Epoch 77/200\n",
            "5/5 [==============================] - 0s 4ms/step - loss: 1.2332e-04\n",
            "Epoch 78/200\n",
            "5/5 [==============================] - 0s 4ms/step - loss: 1.1988e-04\n",
            "Epoch 79/200\n",
            "5/5 [==============================] - 0s 4ms/step - loss: 1.1638e-04\n",
            "Epoch 80/200\n",
            "5/5 [==============================] - 0s 4ms/step - loss: 1.1309e-04\n",
            "Epoch 81/200\n",
            "5/5 [==============================] - 0s 4ms/step - loss: 1.1009e-04\n",
            "Epoch 82/200\n",
            "5/5 [==============================] - 0s 4ms/step - loss: 1.0708e-04\n",
            "Epoch 83/200\n",
            "5/5 [==============================] - 0s 4ms/step - loss: 1.0424e-04\n",
            "Epoch 84/200\n",
            "5/5 [==============================] - 0s 4ms/step - loss: 1.0157e-04\n",
            "Epoch 85/200\n",
            "5/5 [==============================] - 0s 4ms/step - loss: 9.9036e-05\n",
            "Epoch 86/200\n",
            "5/5 [==============================] - 0s 4ms/step - loss: 9.6445e-05\n",
            "Epoch 87/200\n",
            "5/5 [==============================] - 0s 5ms/step - loss: 9.3935e-05\n",
            "Epoch 88/200\n",
            "5/5 [==============================] - 0s 4ms/step - loss: 9.1629e-05\n",
            "Epoch 89/200\n",
            "5/5 [==============================] - 0s 5ms/step - loss: 8.9286e-05\n",
            "Epoch 90/200\n",
            "5/5 [==============================] - 0s 4ms/step - loss: 8.7215e-05\n",
            "Epoch 91/200\n",
            "5/5 [==============================] - 0s 4ms/step - loss: 8.5035e-05\n",
            "Epoch 92/200\n",
            "5/5 [==============================] - 0s 4ms/step - loss: 8.3033e-05\n",
            "Epoch 93/200\n",
            "5/5 [==============================] - 0s 3ms/step - loss: 8.1146e-05\n",
            "Epoch 94/200\n",
            "5/5 [==============================] - 0s 4ms/step - loss: 7.9283e-05\n",
            "Epoch 95/200\n",
            "5/5 [==============================] - 0s 4ms/step - loss: 7.7476e-05\n",
            "Epoch 96/200\n",
            "5/5 [==============================] - 0s 4ms/step - loss: 7.5672e-05\n",
            "Epoch 97/200\n",
            "5/5 [==============================] - 0s 4ms/step - loss: 7.4095e-05\n",
            "Epoch 98/200\n",
            "5/5 [==============================] - 0s 4ms/step - loss: 7.2425e-05\n",
            "Epoch 99/200\n",
            "5/5 [==============================] - 0s 4ms/step - loss: 7.0879e-05\n",
            "Epoch 100/200\n",
            "5/5 [==============================] - 0s 4ms/step - loss: 6.9256e-05\n",
            "Epoch 101/200\n",
            "5/5 [==============================] - 0s 4ms/step - loss: 6.7828e-05\n",
            "Epoch 102/200\n",
            "5/5 [==============================] - 0s 3ms/step - loss: 6.6392e-05\n",
            "Epoch 103/200\n",
            "5/5 [==============================] - 0s 5ms/step - loss: 6.5045e-05\n",
            "Epoch 104/200\n",
            "5/5 [==============================] - 0s 3ms/step - loss: 6.3684e-05\n",
            "Epoch 105/200\n",
            "5/5 [==============================] - 0s 5ms/step - loss: 6.2399e-05\n",
            "Epoch 106/200\n",
            "5/5 [==============================] - 0s 4ms/step - loss: 6.1158e-05\n",
            "Epoch 107/200\n",
            "5/5 [==============================] - 0s 4ms/step - loss: 5.9948e-05\n",
            "Epoch 108/200\n",
            "5/5 [==============================] - 0s 4ms/step - loss: 5.8757e-05\n",
            "Epoch 109/200\n",
            "5/5 [==============================] - 0s 4ms/step - loss: 5.7640e-05\n",
            "Epoch 110/200\n",
            "5/5 [==============================] - 0s 4ms/step - loss: 5.6497e-05\n",
            "Epoch 111/200\n",
            "5/5 [==============================] - 0s 3ms/step - loss: 5.5411e-05\n",
            "Epoch 112/200\n",
            "5/5 [==============================] - 0s 4ms/step - loss: 5.4400e-05\n",
            "Epoch 113/200\n",
            "5/5 [==============================] - 0s 4ms/step - loss: 5.3339e-05\n",
            "Epoch 114/200\n",
            "5/5 [==============================] - 0s 4ms/step - loss: 5.2354e-05\n",
            "Epoch 115/200\n",
            "5/5 [==============================] - 0s 4ms/step - loss: 5.1492e-05\n",
            "Epoch 116/200\n",
            "5/5 [==============================] - 0s 4ms/step - loss: 5.0437e-05\n",
            "Epoch 117/200\n",
            "5/5 [==============================] - 0s 4ms/step - loss: 4.9613e-05\n",
            "Epoch 118/200\n",
            "5/5 [==============================] - 0s 4ms/step - loss: 4.8671e-05\n",
            "Epoch 119/200\n",
            "5/5 [==============================] - 0s 5ms/step - loss: 4.7858e-05\n",
            "Epoch 120/200\n",
            "5/5 [==============================] - 0s 4ms/step - loss: 4.7004e-05\n",
            "Epoch 121/200\n",
            "5/5 [==============================] - 0s 4ms/step - loss: 4.6239e-05\n",
            "Epoch 122/200\n",
            "5/5 [==============================] - 0s 4ms/step - loss: 4.5429e-05\n",
            "Epoch 123/200\n",
            "5/5 [==============================] - 0s 4ms/step - loss: 4.4619e-05\n",
            "Epoch 124/200\n",
            "5/5 [==============================] - 0s 4ms/step - loss: 4.3852e-05\n",
            "Epoch 125/200\n",
            "5/5 [==============================] - 0s 4ms/step - loss: 4.3145e-05\n",
            "Epoch 126/200\n",
            "5/5 [==============================] - 0s 4ms/step - loss: 4.2389e-05\n",
            "Epoch 127/200\n",
            "5/5 [==============================] - 0s 4ms/step - loss: 4.1713e-05\n",
            "Epoch 128/200\n",
            "5/5 [==============================] - 0s 4ms/step - loss: 4.1044e-05\n",
            "Epoch 129/200\n",
            "5/5 [==============================] - 0s 4ms/step - loss: 4.0364e-05\n",
            "Epoch 130/200\n",
            "5/5 [==============================] - 0s 4ms/step - loss: 3.9706e-05\n",
            "Epoch 131/200\n",
            "5/5 [==============================] - 0s 4ms/step - loss: 3.9089e-05\n",
            "Epoch 132/200\n",
            "5/5 [==============================] - 0s 5ms/step - loss: 3.8496e-05\n",
            "Epoch 133/200\n",
            "5/5 [==============================] - 0s 4ms/step - loss: 3.7878e-05\n",
            "Epoch 134/200\n",
            "5/5 [==============================] - 0s 4ms/step - loss: 3.7277e-05\n",
            "Epoch 135/200\n",
            "5/5 [==============================] - 0s 4ms/step - loss: 3.6699e-05\n",
            "Epoch 136/200\n",
            "5/5 [==============================] - 0s 4ms/step - loss: 3.6151e-05\n",
            "Epoch 137/200\n",
            "5/5 [==============================] - 0s 4ms/step - loss: 3.5572e-05\n",
            "Epoch 138/200\n",
            "5/5 [==============================] - 0s 4ms/step - loss: 3.5051e-05\n",
            "Epoch 139/200\n",
            "5/5 [==============================] - 0s 3ms/step - loss: 3.4537e-05\n",
            "Epoch 140/200\n",
            "5/5 [==============================] - 0s 4ms/step - loss: 3.4026e-05\n",
            "Epoch 141/200\n",
            "5/5 [==============================] - 0s 4ms/step - loss: 3.3516e-05\n",
            "Epoch 142/200\n",
            "5/5 [==============================] - 0s 4ms/step - loss: 3.3012e-05\n",
            "Epoch 143/200\n",
            "5/5 [==============================] - 0s 4ms/step - loss: 3.2542e-05\n",
            "Epoch 144/200\n",
            "5/5 [==============================] - 0s 4ms/step - loss: 3.2083e-05\n",
            "Epoch 145/200\n",
            "5/5 [==============================] - 0s 4ms/step - loss: 3.1614e-05\n",
            "Epoch 146/200\n",
            "5/5 [==============================] - 0s 4ms/step - loss: 3.1177e-05\n",
            "Epoch 147/200\n",
            "5/5 [==============================] - 0s 5ms/step - loss: 3.0745e-05\n",
            "Epoch 148/200\n",
            "5/5 [==============================] - 0s 4ms/step - loss: 3.0304e-05\n",
            "Epoch 149/200\n",
            "5/5 [==============================] - 0s 4ms/step - loss: 2.9892e-05\n",
            "Epoch 150/200\n",
            "5/5 [==============================] - 0s 4ms/step - loss: 2.9467e-05\n",
            "Epoch 151/200\n",
            "5/5 [==============================] - 0s 4ms/step - loss: 2.9076e-05\n",
            "Epoch 152/200\n",
            "5/5 [==============================] - 0s 4ms/step - loss: 2.8667e-05\n",
            "Epoch 153/200\n",
            "5/5 [==============================] - 0s 5ms/step - loss: 2.8267e-05\n",
            "Epoch 154/200\n",
            "5/5 [==============================] - 0s 4ms/step - loss: 2.7918e-05\n",
            "Epoch 155/200\n",
            "5/5 [==============================] - 0s 4ms/step - loss: 2.7538e-05\n",
            "Epoch 156/200\n",
            "5/5 [==============================] - 0s 4ms/step - loss: 2.7176e-05\n",
            "Epoch 157/200\n",
            "5/5 [==============================] - 0s 4ms/step - loss: 2.6827e-05\n",
            "Epoch 158/200\n",
            "5/5 [==============================] - 0s 4ms/step - loss: 2.6466e-05\n",
            "Epoch 159/200\n",
            "5/5 [==============================] - 0s 4ms/step - loss: 2.6117e-05\n",
            "Epoch 160/200\n",
            "5/5 [==============================] - 0s 4ms/step - loss: 2.5773e-05\n",
            "Epoch 161/200\n",
            "5/5 [==============================] - 0s 4ms/step - loss: 2.5458e-05\n",
            "Epoch 162/200\n",
            "5/5 [==============================] - 0s 4ms/step - loss: 2.5138e-05\n",
            "Epoch 163/200\n",
            "5/5 [==============================] - 0s 4ms/step - loss: 2.4816e-05\n",
            "Epoch 164/200\n",
            "5/5 [==============================] - 0s 4ms/step - loss: 2.4512e-05\n",
            "Epoch 165/200\n",
            "5/5 [==============================] - 0s 4ms/step - loss: 2.4205e-05\n",
            "Epoch 166/200\n",
            "5/5 [==============================] - 0s 4ms/step - loss: 2.3887e-05\n",
            "Epoch 167/200\n",
            "5/5 [==============================] - 0s 4ms/step - loss: 2.3602e-05\n",
            "Epoch 168/200\n",
            "5/5 [==============================] - 0s 4ms/step - loss: 2.3312e-05\n",
            "Epoch 169/200\n",
            "5/5 [==============================] - 0s 4ms/step - loss: 2.3017e-05\n",
            "Epoch 170/200\n",
            "5/5 [==============================] - 0s 4ms/step - loss: 2.2748e-05\n",
            "Epoch 171/200\n",
            "5/5 [==============================] - 0s 4ms/step - loss: 2.2457e-05\n",
            "Epoch 172/200\n",
            "5/5 [==============================] - 0s 4ms/step - loss: 2.2208e-05\n",
            "Epoch 173/200\n",
            "5/5 [==============================] - 0s 4ms/step - loss: 2.1924e-05\n",
            "Epoch 174/200\n",
            "5/5 [==============================] - 0s 4ms/step - loss: 2.1666e-05\n",
            "Epoch 175/200\n",
            "5/5 [==============================] - 0s 4ms/step - loss: 2.1421e-05\n",
            "Epoch 176/200\n",
            "5/5 [==============================] - 0s 4ms/step - loss: 2.1181e-05\n",
            "Epoch 177/200\n",
            "5/5 [==============================] - 0s 4ms/step - loss: 2.0917e-05\n",
            "Epoch 178/200\n",
            "5/5 [==============================] - 0s 4ms/step - loss: 2.0689e-05\n",
            "Epoch 179/200\n",
            "5/5 [==============================] - 0s 4ms/step - loss: 2.0455e-05\n",
            "Epoch 180/200\n",
            "5/5 [==============================] - 0s 4ms/step - loss: 2.0216e-05\n",
            "Epoch 181/200\n",
            "5/5 [==============================] - 0s 6ms/step - loss: 1.9992e-05\n",
            "Epoch 182/200\n",
            "5/5 [==============================] - 0s 4ms/step - loss: 1.9770e-05\n",
            "Epoch 183/200\n",
            "5/5 [==============================] - 0s 4ms/step - loss: 1.9539e-05\n",
            "Epoch 184/200\n",
            "5/5 [==============================] - 0s 4ms/step - loss: 1.9322e-05\n",
            "Epoch 185/200\n",
            "5/5 [==============================] - 0s 4ms/step - loss: 1.9117e-05\n",
            "Epoch 186/200\n",
            "5/5 [==============================] - 0s 4ms/step - loss: 1.8899e-05\n",
            "Epoch 187/200\n",
            "5/5 [==============================] - 0s 4ms/step - loss: 1.8695e-05\n",
            "Epoch 188/200\n",
            "5/5 [==============================] - 0s 4ms/step - loss: 1.8481e-05\n",
            "Epoch 189/200\n",
            "5/5 [==============================] - 0s 5ms/step - loss: 1.8278e-05\n",
            "Epoch 190/200\n",
            "5/5 [==============================] - 0s 4ms/step - loss: 1.8089e-05\n",
            "Epoch 191/200\n",
            "5/5 [==============================] - 0s 4ms/step - loss: 1.7892e-05\n",
            "Epoch 192/200\n",
            "5/5 [==============================] - 0s 4ms/step - loss: 1.7693e-05\n",
            "Epoch 193/200\n",
            "5/5 [==============================] - 0s 4ms/step - loss: 1.7512e-05\n",
            "Epoch 194/200\n",
            "5/5 [==============================] - 0s 4ms/step - loss: 1.7337e-05\n",
            "Epoch 195/200\n",
            "5/5 [==============================] - 0s 4ms/step - loss: 1.7166e-05\n",
            "Epoch 196/200\n",
            "5/5 [==============================] - 0s 4ms/step - loss: 1.6992e-05\n",
            "Epoch 197/200\n",
            "5/5 [==============================] - 0s 4ms/step - loss: 1.6792e-05\n",
            "Epoch 198/200\n",
            "5/5 [==============================] - 0s 4ms/step - loss: 1.6618e-05\n",
            "Epoch 199/200\n",
            "5/5 [==============================] - 0s 4ms/step - loss: 1.6446e-05\n",
            "Epoch 200/200\n",
            "5/5 [==============================] - 0s 4ms/step - loss: 1.6276e-05\n"
          ]
        }
      ],
      "source": [
        "history = model.fit(X_train, y_train, epochs=200)"
      ]
    },
    {
      "cell_type": "code",
      "execution_count": 58,
      "metadata": {
        "colab": {
          "base_uri": "https://localhost:8080/"
        },
        "id": "9EXENhBuamNM",
        "outputId": "9ea1d1e0-81f2-4f6b-ba5d-013b41d1157a"
      },
      "outputs": [
        {
          "output_type": "stream",
          "name": "stdout",
          "text": [
            "2/2 [==============================] - 0s 5ms/step\n"
          ]
        },
        {
          "output_type": "execute_result",
          "data": {
            "text/plain": [
              "0.54"
            ]
          },
          "metadata": {},
          "execution_count": 58
        }
      ],
      "source": [
        "y_predict = np.argmax(model.predict(X_test), axis=1)\n",
        "sklearn.metrics.accuracy_score(y_test, y_predict)"
      ]
    },
    {
      "cell_type": "markdown",
      "metadata": {
        "id": "TzqUaqB3h-JA"
      },
      "source": [
        "So our deep(er) Keras model does better than the single layer Keras, and matches the PyTorch deep net."
      ]
    },
    {
      "cell_type": "markdown",
      "metadata": {
        "id": "U7USLd3V843d"
      },
      "source": [
        "### PyTorch deep net\n",
        "\n",
        "Very similar to our first example, except we add an extra hidden unit layer for the tensors to go through."
      ]
    },
    {
      "cell_type": "code",
      "execution_count": 59,
      "metadata": {
        "id": "gHYXi4Ux843d"
      },
      "outputs": [],
      "source": [
        "class DeepNetwork(nn.Module):\n",
        "    def __init__(self):\n",
        "        super().__init__()\n",
        "        # Inputs to hidden layer linear transformation\n",
        "        self.hidden = nn.Linear(200, 200)\n",
        "        # Output layer\n",
        "        self.output = nn.Linear(200, 1)\n",
        "        # Define sigmoid activation and softmax output\n",
        "        self.relu = nn.ReLU()\n",
        "        self.sigmoid = nn.Sigmoid()\n",
        "\n",
        "    def forward(self, x):\n",
        "        # Pass the input tensor through each of our operations\n",
        "        x = self.hidden(x)\n",
        "        x = self.relu(x)\n",
        "        # notice how we just add another hidden unit layer\n",
        "        x = self.hidden(x)\n",
        "        x = self.relu(x)\n",
        "        x = self.output(x)\n",
        "        x = self.sigmoid(x)\n",
        "        return x"
      ]
    },
    {
      "cell_type": "code",
      "execution_count": 60,
      "metadata": {
        "id": "1q3KPeQM843e"
      },
      "outputs": [],
      "source": [
        "net = DeepNetwork()\n",
        "opt = optim.Adam(net.parameters(), lr=0.001, betas=(0.9, 0.999))\n",
        "criterion = nn.BCELoss()"
      ]
    },
    {
      "cell_type": "code",
      "execution_count": 61,
      "metadata": {
        "id": "kaYXB993Z8Vg"
      },
      "outputs": [],
      "source": [
        "X_train_tensor = torch.tensor(X_train)\n",
        "y_train_tensor = torch.tensor(y_train).type(torch.LongTensor).unsqueeze(1)"
      ]
    },
    {
      "cell_type": "code",
      "execution_count": 62,
      "metadata": {
        "id": "GoiHhML9843e"
      },
      "outputs": [],
      "source": [
        "e_losses = []\n",
        "num_epochs = 200\n",
        "for e in range(num_epochs):\n",
        "    e_losses += train_epoch(net, opt, criterion, X_train_tensor.float(), y_train_tensor.float())"
      ]
    },
    {
      "cell_type": "code",
      "execution_count": 63,
      "metadata": {
        "colab": {
          "base_uri": "https://localhost:8080/",
          "height": 472
        },
        "id": "cAXJe8rUiuXH",
        "outputId": "da5d2534-d006-4dd9-889f-744ed3c952d3"
      },
      "outputs": [
        {
          "output_type": "display_data",
          "data": {
            "text/plain": [
              "<Figure size 640x480 with 1 Axes>"
            ],
            "image/png": "[encoded data removed]"
          },
          "metadata": {}
        }
      ],
      "source": [
        "plt.title(\"Loss for Neural Net Training\")\n",
        "plt.xlabel(\"Number of epochs\")\n",
        "plt.ylabel(\"Loss\")\n",
        "plt.plot(e_losses)\n",
        "plt.show()"
      ]
    },
    {
      "cell_type": "code",
      "execution_count": 64,
      "metadata": {
        "id": "9w4AzfR8843e"
      },
      "outputs": [],
      "source": [
        "output = net(torch.tensor(X_test).float())"
      ]
    },
    {
      "cell_type": "code",
      "execution_count": 65,
      "metadata": {
        "id": "nxdnR-MCcr0B"
      },
      "outputs": [],
      "source": [
        "y_pred = (output.detach().numpy() > 0.5).astype(\"int32\")"
      ]
    },
    {
      "cell_type": "code",
      "execution_count": 66,
      "metadata": {
        "colab": {
          "base_uri": "https://localhost:8080/"
        },
        "id": "O_zKo9pc843f",
        "outputId": "6b30eb9b-a408-4124-de1c-27053818e669"
      },
      "outputs": [
        {
          "output_type": "execute_result",
          "data": {
            "text/plain": [
              "0.72"
            ]
          },
          "metadata": {},
          "execution_count": 66
        }
      ],
      "source": [
        "sklearn.metrics.accuracy_score(y_test, y_pred)"
      ]
    },
    {
      "cell_type": "markdown",
      "metadata": {
        "id": "NW27TEcp843f"
      },
      "source": [
        "Adding just one layer improved model accuracies for both our Keras and PyTorch implementations!\n",
        "Adding depth adds non-linearity and is able to capture more complex relations. Keras and PyTorch have different set ups and formats, and you would want to switch things around as you see fit.\n",
        "\n",
        "Let's try and add one more layer, and try out different optimisers and loss functions to see what happens.\n",
        "\n"
      ]
    },
    {
      "cell_type": "code",
      "execution_count": 67,
      "metadata": {
        "id": "prpAwmf3igPf"
      },
      "outputs": [],
      "source": [
        "class DeeperNetwork(nn.Module):\n",
        "    def __init__(self):\n",
        "        super().__init__()\n",
        "        # Inputs to hidden layer linear transformation\n",
        "        self.hidden = nn.Linear(200, 200)\n",
        "        # Output layer\n",
        "        self.output = nn.Linear(200, 1)\n",
        "        # Define sigmoid activation and softmax output\n",
        "        self.relu = nn.ReLU()\n",
        "        self.sigmoid = nn.Sigmoid()\n",
        "\n",
        "\n",
        "    def forward(self, x):\n",
        "        # Pass the input tensor through each of our operations\n",
        "        x = self.hidden(x)\n",
        "        x = self.relu(x)\n",
        "        # notice how we just add another hidden unit layer\n",
        "        x = self.hidden(x)\n",
        "        x = self.relu(x)\n",
        "        # adding another layer\n",
        "        x = self.hidden(x)\n",
        "        x = self.relu(x)\n",
        "\n",
        "        x = self.output(x)\n",
        "        x = self.sigmoid(x)\n",
        "        return x"
      ]
    },
    {
      "cell_type": "code",
      "execution_count": 68,
      "metadata": {
        "id": "Q4d7HJQwkutV"
      },
      "outputs": [],
      "source": [
        "net = DeeperNetwork()\n",
        "opt = optim.Adagrad(net.parameters(), lr=0.01, lr_decay=0, weight_decay=0, initial_accumulator_value=0, eps=1e-10)\n",
        "criterion = nn.PoissonNLLLoss()"
      ]
    },
    {
      "cell_type": "code",
      "execution_count": 69,
      "metadata": {
        "id": "qIoy_19ald5c"
      },
      "outputs": [],
      "source": [
        "e_losses = []\n",
        "num_epochs = 200\n",
        "for e in range(num_epochs):\n",
        "    e_losses += train_epoch(net, opt, criterion, X_train_tensor.float(), y_train_tensor.float())"
      ]
    },
    {
      "cell_type": "code",
      "execution_count": 70,
      "metadata": {
        "colab": {
          "base_uri": "https://localhost:8080/",
          "height": 472
        },
        "id": "nMB1Editlv-H",
        "outputId": "256530bf-1779-4b3e-9d52-b5df3c8a569b"
      },
      "outputs": [
        {
          "output_type": "display_data",
          "data": {
            "text/plain": [
              "<Figure size 640x480 with 1 Axes>"
            ],
            "image/png": "[encoded data removed]"
          },
          "metadata": {}
        }
      ],
      "source": [
        "plt.title(\"Loss for Neural Net Training\")\n",
        "plt.xlabel(\"Number of epochs\")\n",
        "plt.ylabel(\"Loss\")\n",
        "plt.plot(e_losses)\n",
        "plt.show()"
      ]
    },
    {
      "cell_type": "code",
      "execution_count": 71,
      "metadata": {
        "id": "txKf4ezml1Ej"
      },
      "outputs": [],
      "source": [
        "output = net(torch.tensor(X_test).float())"
      ]
    },
    {
      "cell_type": "code",
      "execution_count": 72,
      "metadata": {
        "id": "2AxY7ZMZl4Az"
      },
      "outputs": [],
      "source": [
        "y_pred = (output.detach().numpy() > 0.5).astype(\"int32\")"
      ]
    },
    {
      "cell_type": "code",
      "execution_count": 73,
      "metadata": {
        "colab": {
          "base_uri": "https://localhost:8080/"
        },
        "id": "rFUC99W4l6-C",
        "outputId": "e4253e04-3376-4d0e-b4a0-30a08f565ce9"
      },
      "outputs": [
        {
          "output_type": "execute_result",
          "data": {
            "text/plain": [
              "0.54"
            ]
          },
          "metadata": {},
          "execution_count": 73
        }
      ],
      "source": [
        "sklearn.metrics.accuracy_score(y_test, y_pred)"
      ]
    },
    {
      "cell_type": "markdown",
      "metadata": {
        "id": "OGjlRcr8n80l"
      },
      "source": [
        "Uh oh - the loss function is dramatically failing, and our Poisson experiment did not end well. Which makes absolute sense, it isn't one suited for our task at hand. Let's change our loss and see if we fare better."
      ]
    },
    {
      "cell_type": "code",
      "execution_count": 74,
      "metadata": {
        "id": "140Wp3ieoPM1"
      },
      "outputs": [],
      "source": [
        "net = DeeperNetwork()\n",
        "opt = optim.Adagrad(net.parameters(), lr=0.01, lr_decay=0, weight_decay=0, initial_accumulator_value=0, eps=1e-10)\n",
        "criterion = nn.BCELoss()"
      ]
    },
    {
      "cell_type": "code",
      "execution_count": 75,
      "metadata": {
        "id": "YEuhD3_Mohhu"
      },
      "outputs": [],
      "source": [
        "e_losses = []\n",
        "num_epochs = 200\n",
        "for e in range(num_epochs):\n",
        "    e_losses += train_epoch(net, opt, criterion, X_train_tensor.float(), y_train_tensor.float())"
      ]
    },
    {
      "cell_type": "code",
      "execution_count": 76,
      "metadata": {
        "colab": {
          "base_uri": "https://localhost:8080/",
          "height": 472
        },
        "id": "xy0jf25QouKf",
        "outputId": "a830afe7-6fa4-4e10-87f9-488e5fa1c820"
      },
      "outputs": [
        {
          "output_type": "display_data",
          "data": {
            "text/plain": [
              "<Figure size 640x480 with 1 Axes>"
            ],
            "image/png": "[encoded data removed]"
          },
          "metadata": {}
        }
      ],
      "source": [
        "plt.title(\"Loss for Neural Net Training\")\n",
        "plt.xlabel(\"Number of epochs\")\n",
        "plt.ylabel(\"Loss\")\n",
        "plt.plot(e_losses)\n",
        "plt.show()"
      ]
    },
    {
      "cell_type": "code",
      "execution_count": 77,
      "metadata": {
        "id": "20ay6Wlbov02"
      },
      "outputs": [],
      "source": [
        "output = net(torch.tensor(X_test).float())"
      ]
    },
    {
      "cell_type": "code",
      "execution_count": 78,
      "metadata": {
        "id": "uU296-VmoyH-"
      },
      "outputs": [],
      "source": [
        "y_pred = (output.detach().numpy() > 0.5).astype(\"int32\")"
      ]
    },
    {
      "cell_type": "code",
      "execution_count": 79,
      "metadata": {
        "colab": {
          "base_uri": "https://localhost:8080/"
        },
        "id": "qST5b9TWox7h",
        "outputId": "248e02fe-6a3b-4b23-e307-58b8217bac8b"
      },
      "outputs": [
        {
          "output_type": "execute_result",
          "data": {
            "text/plain": [
              "0.78"
            ]
          },
          "metadata": {},
          "execution_count": 79
        }
      ],
      "source": [
        "sklearn.metrics.accuracy_score(y_test, y_pred)"
      ]
    },
    {
      "cell_type": "markdown",
      "metadata": {
        "id": "onHrGWd6o6Ij"
      },
      "source": [
        "So the loss is suited for the task, but it seems like the extra layer and Adargrad didn't necessarily do the trick. In your homework, you will experiment similarly with archistecture design and state your results, analysis, and explanations."
      ]
    },
    {
      "cell_type": "markdown",
      "metadata": {
        "id": "ULW3oWMNeDTS"
      },
      "source": [
        "###  Interpretability in Neural Networks\n",
        "Traditionally, neural networks have been taken as \"black boxes\" good at prediction but not accessible for interpretation. However, in recent years, with the development of AI, people have begun to think about the possibility of interpreting neural networks outcomes for theoretical insight. In this section, we introduce a library--Captum, which aims to interpret the outcomes of feedforward neural networks in terms of input feature importances, layers and neurons that contribute most to the ultimate prediction."
      ]
    },
    {
      "cell_type": "markdown",
      "metadata": {
        "id": "5B7gVtUPeDXX"
      },
      "source": [
        "We first install the packages. In this section, we demonstrate two examples. In the first, a deep neural network is trained on data with PyTorch, and Captum is used to understand which of the features were most important and how the network reached its prediction. In the second example, a simple DNN model trained on a sub-sample of a well-known Boston house prices dataset. Captum is used to understand important features, layers / neurons that contribute to the prediction. More details can be found in the official documentations of Captum.\n",
        "\n",
        "https://captum.ai/tutorials/\n",
        "\n",
        "Let's begin!"
      ]
    },
    {
      "cell_type": "markdown",
      "metadata": {
        "id": "L6oEWVJrnjDO"
      },
      "source": [
        "**Example 1: Titanic survival Classification**"
      ]
    },
    {
      "cell_type": "code",
      "execution_count": 80,
      "metadata": {
        "colab": {
          "base_uri": "https://localhost:8080/"
        },
        "id": "RxR9qNjriyXv",
        "outputId": "a6aa4c71-6b59-4c72-be9a-d07145e8938a"
      },
      "outputs": [
        {
          "output_type": "stream",
          "name": "stdout",
          "text": [
            "Collecting captum\n",
            "  Downloading captum-0.7.0-py3-none-any.whl (1.3 MB)\n",
            "\u001b[2K     \u001b[90m━━━━━━━━━━━━━━━━━━━━━━━━━━━━━━━━━━━━━━━━\u001b[0m \u001b[32m1.3/1.3 MB\u001b[0m \u001b[31m12.4 MB/s\u001b[0m eta \u001b[36m0:00:00\u001b[0m\n",
            "\u001b[?25hRequirement already satisfied: matplotlib in /usr/local/lib/python3.10/dist-packages (from captum) (3.7.1)\n",
            "Requirement already satisfied: numpy in /usr/local/lib/python3.10/dist-packages (from captum) (1.25.2)\n",
            "Requirement already satisfied: torch>=1.6 in /usr/local/lib/python3.10/dist-packages (from captum) (2.2.1+cu121)\n",
            "Requirement already satisfied: tqdm in /usr/local/lib/python3.10/dist-packages (from captum) (4.66.2)\n",
            "Requirement already satisfied: filelock in /usr/local/lib/python3.10/dist-packages (from torch>=1.6->captum) (3.13.1)\n",
            "Requirement already satisfied: typing-extensions>=4.8.0 in /usr/local/lib/python3.10/dist-packages (from torch>=1.6->captum) (4.10.0)\n",
            "Requirement already satisfied: sympy in /usr/local/lib/python3.10/dist-packages (from torch>=1.6->captum) (1.12)\n",
            "Requirement already satisfied: networkx in /usr/local/lib/python3.10/dist-packages (from torch>=1.6->captum) (3.2.1)\n",
            "Requirement already satisfied: jinja2 in /usr/local/lib/python3.10/dist-packages (from torch>=1.6->captum) (3.1.3)\n",
            "Requirement already satisfied: fsspec in /usr/local/lib/python3.10/dist-packages (from torch>=1.6->captum) (2023.6.0)\n",
            "Collecting nvidia-cuda-nvrtc-cu12==12.1.105 (from torch>=1.6->captum)\n",
            "  Downloading nvidia_cuda_nvrtc_cu12-12.1.105-py3-none-manylinux1_x86_64.whl (23.7 MB)\n",
            "\u001b[2K     \u001b[90m━━━━━━━━━━━━━━━━━━━━━━━━━━━━━━━━━━━━━━━━\u001b[0m \u001b[32m23.7/23.7 MB\u001b[0m \u001b[31m57.8 MB/s\u001b[0m eta \u001b[36m0:00:00\u001b[0m\n",
            "\u001b[?25hCollecting nvidia-cuda-runtime-cu12==12.1.105 (from torch>=1.6->captum)\n",
            "  Downloading nvidia_cuda_runtime_cu12-12.1.105-py3-none-manylinux1_x86_64.whl (823 kB)\n",
            "\u001b[2K     \u001b[90m━━━━━━━━━━━━━━━━━━━━━━━━━━━━━━━━━━━━━━━━\u001b[0m \u001b[32m823.6/823.6 kB\u001b[0m \u001b[31m67.0 MB/s\u001b[0m eta \u001b[36m0:00:00\u001b[0m\n",
            "\u001b[?25hCollecting nvidia-cuda-cupti-cu12==12.1.105 (from torch>=1.6->captum)\n",
            "  Downloading nvidia_cuda_cupti_cu12-12.1.105-py3-none-manylinux1_x86_64.whl (14.1 MB)\n",
            "\u001b[2K     \u001b[90m━━━━━━━━━━━━━━━━━━━━━━━━━━━━━━━━━━━━━━━━\u001b[0m \u001b[32m14.1/14.1 MB\u001b[0m \u001b[31m86.0 MB/s\u001b[0m eta \u001b[36m0:00:00\u001b[0m\n",
            "\u001b[?25hCollecting nvidia-cudnn-cu12==8.9.2.26 (from torch>=1.6->captum)\n",
            "  Downloading nvidia_cudnn_cu12-8.9.2.26-py3-none-manylinux1_x86_64.whl (731.7 MB)\n",
            "\u001b[2K     \u001b[90m━━━━━━━━━━━━━━━━━━━━━━━━━━━━━━━━━━━━━━━━\u001b[0m \u001b[32m731.7/731.7 MB\u001b[0m \u001b[31m2.3 MB/s\u001b[0m eta \u001b[36m0:00:00\u001b[0m\n",
            "\u001b[?25hCollecting nvidia-cublas-cu12==12.1.3.1 (from torch>=1.6->captum)\n",
            "  Downloading nvidia_cublas_cu12-12.1.3.1-py3-none-manylinux1_x86_64.whl (410.6 MB)\n",
            "\u001b[2K     \u001b[90m━━━━━━━━━━━━━━━━━━━━━━━━━━━━━━━━━━━━━━━━\u001b[0m \u001b[32m410.6/410.6 MB\u001b[0m \u001b[31m3.0 MB/s\u001b[0m eta \u001b[36m0:00:00\u001b[0m\n",
            "\u001b[?25hCollecting nvidia-cufft-cu12==11.0.2.54 (from torch>=1.6->captum)\n",
            "  Downloading nvidia_cufft_cu12-11.0.2.54-py3-none-manylinux1_x86_64.whl (121.6 MB)\n",
            "\u001b[2K     \u001b[90m━━━━━━━━━━━━━━━━━━━━━━━━━━━━━━━━━━━━━━━━\u001b[0m \u001b[32m121.6/121.6 MB\u001b[0m \u001b[31m8.7 MB/s\u001b[0m eta \u001b[36m0:00:00\u001b[0m\n",
            "\u001b[?25hCollecting nvidia-curand-cu12==10.3.2.106 (from torch>=1.6->captum)\n",
            "  Downloading nvidia_curand_cu12-10.3.2.106-py3-none-manylinux1_x86_64.whl (56.5 MB)\n",
            "\u001b[2K     \u001b[90m━━━━━━━━━━━━━━━━━━━━━━━━━━━━━━━━━━━━━━━━\u001b[0m \u001b[32m56.5/56.5 MB\u001b[0m \u001b[31m11.4 MB/s\u001b[0m eta \u001b[36m0:00:00\u001b[0m\n",
            "\u001b[?25hCollecting nvidia-cusolver-cu12==11.4.5.107 (from torch>=1.6->captum)\n",
            "  Downloading nvidia_cusolver_cu12-11.4.5.107-py3-none-manylinux1_x86_64.whl (124.2 MB)\n",
            "\u001b[2K     \u001b[90m━━━━━━━━━━━━━━━━━━━━━━━━━━━━━━━━━━━━━━━━\u001b[0m \u001b[32m124.2/124.2 MB\u001b[0m \u001b[31m8.6 MB/s\u001b[0m eta \u001b[36m0:00:00\u001b[0m\n",
            "\u001b[?25hCollecting nvidia-cusparse-cu12==12.1.0.106 (from torch>=1.6->captum)\n",
            "  Downloading nvidia_cusparse_cu12-12.1.0.106-py3-none-manylinux1_x86_64.whl (196.0 MB)\n",
            "\u001b[2K     \u001b[90m━━━━━━━━━━━━━━━━━━━━━━━━━━━━━━━━━━━━━━━━\u001b[0m \u001b[32m196.0/196.0 MB\u001b[0m \u001b[31m7.0 MB/s\u001b[0m eta \u001b[36m0:00:00\u001b[0m\n",
            "\u001b[?25hCollecting nvidia-nccl-cu12==2.19.3 (from torch>=1.6->captum)\n",
            "  Downloading nvidia_nccl_cu12-2.19.3-py3-none-manylinux1_x86_64.whl (166.0 MB)\n",
            "\u001b[2K     \u001b[90m━━━━━━━━━━━━━━━━━━━━━━━━━━━━━━━━━━━━━━━━\u001b[0m \u001b[32m166.0/166.0 MB\u001b[0m \u001b[31m7.6 MB/s\u001b[0m eta \u001b[36m0:00:00\u001b[0m\n",
            "\u001b[?25hCollecting nvidia-nvtx-cu12==12.1.105 (from torch>=1.6->captum)\n",
            "  Downloading nvidia_nvtx_cu12-12.1.105-py3-none-manylinux1_x86_64.whl (99 kB)\n",
            "\u001b[2K     \u001b[90m━━━━━━━━━━━━━━━━━━━━━━━━━━━━━━━━━━━━━━━━\u001b[0m \u001b[32m99.1/99.1 kB\u001b[0m \u001b[31m14.0 MB/s\u001b[0m eta \u001b[36m0:00:00\u001b[0m\n",
            "\u001b[?25hRequirement already satisfied: triton==2.2.0 in /usr/local/lib/python3.10/dist-packages (from torch>=1.6->captum) (2.2.0)\n",
            "Collecting nvidia-nvjitlink-cu12 (from nvidia-cusolver-cu12==11.4.5.107->torch>=1.6->captum)\n",
            "  Downloading nvidia_nvjitlink_cu12-12.4.99-py3-none-manylinux2014_x86_64.whl (21.1 MB)\n",
            "\u001b[2K     \u001b[90m━━━━━━━━━━━━━━━━━━━━━━━━━━━━━━━━━━━━━━━━\u001b[0m \u001b[32m21.1/21.1 MB\u001b[0m \u001b[31m86.9 MB/s\u001b[0m eta \u001b[36m0:00:00\u001b[0m\n",
            "\u001b[?25hRequirement already satisfied: contourpy>=1.0.1 in /usr/local/lib/python3.10/dist-packages (from matplotlib->captum) (1.2.0)\n",
            "Requirement already satisfied: cycler>=0.10 in /usr/local/lib/python3.10/dist-packages (from matplotlib->captum) (0.12.1)\n",
            "Requirement already satisfied: fonttools>=4.22.0 in /usr/local/lib/python3.10/dist-packages (from matplotlib->captum) (4.50.0)\n",
            "Requirement already satisfied: kiwisolver>=1.0.1 in /usr/local/lib/python3.10/dist-packages (from matplotlib->captum) (1.4.5)\n",
            "Requirement already satisfied: packaging>=20.0 in /usr/local/lib/python3.10/dist-packages (from matplotlib->captum) (24.0)\n",
            "Requirement already satisfied: pillow>=6.2.0 in /usr/local/lib/python3.10/dist-packages (from matplotlib->captum) (9.4.0)\n",
            "Requirement already satisfied: pyparsing>=2.3.1 in /usr/local/lib/python3.10/dist-packages (from matplotlib->captum) (3.1.2)\n",
            "Requirement already satisfied: python-dateutil>=2.7 in /usr/local/lib/python3.10/dist-packages (from matplotlib->captum) (2.8.2)\n",
            "Requirement already satisfied: six>=1.5 in /usr/local/lib/python3.10/dist-packages (from python-dateutil>=2.7->matplotlib->captum) (1.16.0)\n",
            "Requirement already satisfied: MarkupSafe>=2.0 in /usr/local/lib/python3.10/dist-packages (from jinja2->torch>=1.6->captum) (2.1.5)\n",
            "Requirement already satisfied: mpmath>=0.19 in /usr/local/lib/python3.10/dist-packages (from sympy->torch>=1.6->captum) (1.3.0)\n",
            "Installing collected packages: nvidia-nvtx-cu12, nvidia-nvjitlink-cu12, nvidia-nccl-cu12, nvidia-curand-cu12, nvidia-cufft-cu12, nvidia-cuda-runtime-cu12, nvidia-cuda-nvrtc-cu12, nvidia-cuda-cupti-cu12, nvidia-cublas-cu12, nvidia-cusparse-cu12, nvidia-cudnn-cu12, nvidia-cusolver-cu12, captum\n",
            "Successfully installed captum-0.7.0 nvidia-cublas-cu12-12.1.3.1 nvidia-cuda-cupti-cu12-12.1.105 nvidia-cuda-nvrtc-cu12-12.1.105 nvidia-cuda-runtime-cu12-12.1.105 nvidia-cudnn-cu12-8.9.2.26 nvidia-cufft-cu12-11.0.2.54 nvidia-curand-cu12-10.3.2.106 nvidia-cusolver-cu12-11.4.5.107 nvidia-cusparse-cu12-12.1.0.106 nvidia-nccl-cu12-2.19.3 nvidia-nvjitlink-cu12-12.4.99 nvidia-nvtx-cu12-12.1.105\n"
          ]
        }
      ],
      "source": [
        "!pip install captum"
      ]
    },
    {
      "cell_type": "code",
      "execution_count": 81,
      "metadata": {
        "id": "buf_2E-Di9dl"
      },
      "outputs": [],
      "source": [
        "# Initial imports\n",
        "import numpy as np\n",
        "\n",
        "import torch\n",
        "\n",
        "from captum.attr import IntegratedGradients\n",
        "from captum.attr import LayerConductance\n",
        "from captum.attr import NeuronConductance\n",
        "\n",
        "import matplotlib\n",
        "import matplotlib.pyplot as plt\n",
        "%matplotlib inline\n",
        "\n",
        "from scipy import stats\n",
        "import pandas as pd"
      ]
    },
    {
      "cell_type": "markdown",
      "metadata": {
        "id": "MzVDejYAjIFo"
      },
      "source": [
        "Download the dataset from https://biostat.app.vumc.org/wiki/pub/Main/DataSets/titanic3.csv and update the cell below with the path to the dataset csv."
      ]
    },
    {
      "cell_type": "code",
      "execution_count": 82,
      "metadata": {
        "id": "v5VYH2UVjAfX",
        "colab": {
          "base_uri": "https://localhost:8080/",
          "height": 367
        },
        "outputId": "00e1f099-9287-4d1b-82eb-7d16b466a002"
      },
      "outputs": [
        {
          "output_type": "error",
          "ename": "FileNotFoundError",
          "evalue": "[Errno 2] No such file or directory: 'titanic3.csv'",
          "traceback": [
            "\u001b[0;31m---------------------------------------------------------------------------\u001b[0m",
            "\u001b[0;31mFileNotFoundError\u001b[0m                         Traceback (most recent call last)",
            "\u001b[0;32m<ipython-input-82-abc7eeba912a>\u001b[0m in \u001b[0;36m<cell line: 2>\u001b[0;34m()\u001b[0m\n\u001b[1;32m      1\u001b[0m \u001b[0mdataset_path\u001b[0m \u001b[0;34m=\u001b[0m \u001b[0;34m\"titanic3.csv\"\u001b[0m\u001b[0;34m\u001b[0m\u001b[0;34m\u001b[0m\u001b[0m\n\u001b[0;32m----> 2\u001b[0;31m \u001b[0mtitanic_data\u001b[0m \u001b[0;34m=\u001b[0m \u001b[0mpd\u001b[0m\u001b[0;34m.\u001b[0m\u001b[0mread_csv\u001b[0m\u001b[0;34m(\u001b[0m\u001b[0mdataset_path\u001b[0m\u001b[0;34m)\u001b[0m\u001b[0;34m\u001b[0m\u001b[0;34m\u001b[0m\u001b[0m\n\u001b[0m\u001b[1;32m      3\u001b[0m titanic_data = pd.concat([titanic_data,\n\u001b[1;32m      4\u001b[0m                           \u001b[0mpd\u001b[0m\u001b[0;34m.\u001b[0m\u001b[0mget_dummies\u001b[0m\u001b[0;34m(\u001b[0m\u001b[0mtitanic_data\u001b[0m\u001b[0;34m[\u001b[0m\u001b[0;34m'sex'\u001b[0m\u001b[0;34m]\u001b[0m\u001b[0;34m)\u001b[0m\u001b[0;34m,\u001b[0m\u001b[0;34m\u001b[0m\u001b[0;34m\u001b[0m\u001b[0m\n\u001b[1;32m      5\u001b[0m                           \u001b[0mpd\u001b[0m\u001b[0;34m.\u001b[0m\u001b[0mget_dummies\u001b[0m\u001b[0;34m(\u001b[0m\u001b[0mtitanic_data\u001b[0m\u001b[0;34m[\u001b[0m\u001b[0;34m'embarked'\u001b[0m\u001b[0;34m]\u001b[0m\u001b[0;34m,\u001b[0m\u001b[0mprefix\u001b[0m\u001b[0;34m=\u001b[0m\u001b[0;34m\"embark\"\u001b[0m\u001b[0;34m)\u001b[0m\u001b[0;34m,\u001b[0m\u001b[0;34m\u001b[0m\u001b[0;34m\u001b[0m\u001b[0m\n",
            "\u001b[0;32m/usr/local/lib/python3.10/dist-packages/pandas/util/_decorators.py\u001b[0m in \u001b[0;36mwrapper\u001b[0;34m(*args, **kwargs)\u001b[0m\n\u001b[1;32m    209\u001b[0m                 \u001b[0;32melse\u001b[0m\u001b[0;34m:\u001b[0m\u001b[0;34m\u001b[0m\u001b[0;34m\u001b[0m\u001b[0m\n\u001b[1;32m    210\u001b[0m                     \u001b[0mkwargs\u001b[0m\u001b[0;34m[\u001b[0m\u001b[0mnew_arg_name\u001b[0m\u001b[0;34m]\u001b[0m \u001b[0;34m=\u001b[0m \u001b[0mnew_arg_value\u001b[0m\u001b[0;34m\u001b[0m\u001b[0;34m\u001b[0m\u001b[0m\n\u001b[0;32m--> 211\u001b[0;31m             \u001b[0;32mreturn\u001b[0m \u001b[0mfunc\u001b[0m\u001b[0;34m(\u001b[0m\u001b[0;34m*\u001b[0m\u001b[0margs\u001b[0m\u001b[0;34m,\u001b[0m \u001b[0;34m**\u001b[0m\u001b[0mkwargs\u001b[0m\u001b[0;34m)\u001b[0m\u001b[0;34m\u001b[0m\u001b[0;34m\u001b[0m\u001b[0m\n\u001b[0m\u001b[1;32m    212\u001b[0m \u001b[0;34m\u001b[0m\u001b[0m\n\u001b[1;32m    213\u001b[0m         \u001b[0;32mreturn\u001b[0m \u001b[0mcast\u001b[0m\u001b[0;34m(\u001b[0m\u001b[0mF\u001b[0m\u001b[0;34m,\u001b[0m \u001b[0mwrapper\u001b[0m\u001b[0;34m)\u001b[0m\u001b[0;34m\u001b[0m\u001b[0;34m\u001b[0m\u001b[0m\n",
            "\u001b[0;32m/usr/local/lib/python3.10/dist-packages/pandas/util/_decorators.py\u001b[0m in \u001b[0;36mwrapper\u001b[0;34m(*args, **kwargs)\u001b[0m\n\u001b[1;32m    329\u001b[0m                     \u001b[0mstacklevel\u001b[0m\u001b[0;34m=\u001b[0m\u001b[0mfind_stack_level\u001b[0m\u001b[0;34m(\u001b[0m\u001b[0;34m)\u001b[0m\u001b[0;34m,\u001b[0m\u001b[0;34m\u001b[0m\u001b[0;34m\u001b[0m\u001b[0m\n\u001b[1;32m    330\u001b[0m                 )\n\u001b[0;32m--> 331\u001b[0;31m             \u001b[0;32mreturn\u001b[0m \u001b[0mfunc\u001b[0m\u001b[0;34m(\u001b[0m\u001b[0;34m*\u001b[0m\u001b[0margs\u001b[0m\u001b[0;34m,\u001b[0m \u001b[0;34m**\u001b[0m\u001b[0mkwargs\u001b[0m\u001b[0;34m)\u001b[0m\u001b[0;34m\u001b[0m\u001b[0;34m\u001b[0m\u001b[0m\n\u001b[0m\u001b[1;32m    332\u001b[0m \u001b[0;34m\u001b[0m\u001b[0m\n\u001b[1;32m    333\u001b[0m         \u001b[0;31m# error: \"Callable[[VarArg(Any), KwArg(Any)], Any]\" has no\u001b[0m\u001b[0;34m\u001b[0m\u001b[0;34m\u001b[0m\u001b[0m\n",
            "\u001b[0;32m/usr/local/lib/python3.10/dist-packages/pandas/io/parsers/readers.py\u001b[0m in \u001b[0;36mread_csv\u001b[0;34m(filepath_or_buffer, sep, delimiter, header, names, index_col, usecols, squeeze, prefix, mangle_dupe_cols, dtype, engine, converters, true_values, false_values, skipinitialspace, skiprows, skipfooter, nrows, na_values, keep_default_na, na_filter, verbose, skip_blank_lines, parse_dates, infer_datetime_format, keep_date_col, date_parser, dayfirst, cache_dates, iterator, chunksize, compression, thousands, decimal, lineterminator, quotechar, quoting, doublequote, escapechar, comment, encoding, encoding_errors, dialect, error_bad_lines, warn_bad_lines, on_bad_lines, delim_whitespace, low_memory, memory_map, float_precision, storage_options)\u001b[0m\n\u001b[1;32m    948\u001b[0m     \u001b[0mkwds\u001b[0m\u001b[0;34m.\u001b[0m\u001b[0mupdate\u001b[0m\u001b[0;34m(\u001b[0m\u001b[0mkwds_defaults\u001b[0m\u001b[0;34m)\u001b[0m\u001b[0;34m\u001b[0m\u001b[0;34m\u001b[0m\u001b[0m\n\u001b[1;32m    949\u001b[0m \u001b[0;34m\u001b[0m\u001b[0m\n\u001b[0;32m--> 950\u001b[0;31m     \u001b[0;32mreturn\u001b[0m \u001b[0m_read\u001b[0m\u001b[0;34m(\u001b[0m\u001b[0mfilepath_or_buffer\u001b[0m\u001b[0;34m,\u001b[0m \u001b[0mkwds\u001b[0m\u001b[0;34m)\u001b[0m\u001b[0;34m\u001b[0m\u001b[0;34m\u001b[0m\u001b[0m\n\u001b[0m\u001b[1;32m    951\u001b[0m \u001b[0;34m\u001b[0m\u001b[0m\n\u001b[1;32m    952\u001b[0m \u001b[0;34m\u001b[0m\u001b[0m\n",
            "\u001b[0;32m/usr/local/lib/python3.10/dist-packages/pandas/io/parsers/readers.py\u001b[0m in \u001b[0;36m_read\u001b[0;34m(filepath_or_buffer, kwds)\u001b[0m\n\u001b[1;32m    603\u001b[0m \u001b[0;34m\u001b[0m\u001b[0m\n\u001b[1;32m    604\u001b[0m     \u001b[0;31m# Create the parser.\u001b[0m\u001b[0;34m\u001b[0m\u001b[0;34m\u001b[0m\u001b[0m\n\u001b[0;32m--> 605\u001b[0;31m     \u001b[0mparser\u001b[0m \u001b[0;34m=\u001b[0m \u001b[0mTextFileReader\u001b[0m\u001b[0;34m(\u001b[0m\u001b[0mfilepath_or_buffer\u001b[0m\u001b[0;34m,\u001b[0m \u001b[0;34m**\u001b[0m\u001b[0mkwds\u001b[0m\u001b[0;34m)\u001b[0m\u001b[0;34m\u001b[0m\u001b[0;34m\u001b[0m\u001b[0m\n\u001b[0m\u001b[1;32m    606\u001b[0m \u001b[0;34m\u001b[0m\u001b[0m\n\u001b[1;32m    607\u001b[0m     \u001b[0;32mif\u001b[0m \u001b[0mchunksize\u001b[0m \u001b[0;32mor\u001b[0m \u001b[0miterator\u001b[0m\u001b[0;34m:\u001b[0m\u001b[0;34m\u001b[0m\u001b[0;34m\u001b[0m\u001b[0m\n",
            "\u001b[0;32m/usr/local/lib/python3.10/dist-packages/pandas/io/parsers/readers.py\u001b[0m in \u001b[0;36m__init__\u001b[0;34m(self, f, engine, **kwds)\u001b[0m\n\u001b[1;32m   1440\u001b[0m \u001b[0;34m\u001b[0m\u001b[0m\n\u001b[1;32m   1441\u001b[0m         \u001b[0mself\u001b[0m\u001b[0;34m.\u001b[0m\u001b[0mhandles\u001b[0m\u001b[0;34m:\u001b[0m \u001b[0mIOHandles\u001b[0m \u001b[0;34m|\u001b[0m \u001b[0;32mNone\u001b[0m \u001b[0;34m=\u001b[0m \u001b[0;32mNone\u001b[0m\u001b[0;34m\u001b[0m\u001b[0;34m\u001b[0m\u001b[0m\n\u001b[0;32m-> 1442\u001b[0;31m         \u001b[0mself\u001b[0m\u001b[0;34m.\u001b[0m\u001b[0m_engine\u001b[0m \u001b[0;34m=\u001b[0m \u001b[0mself\u001b[0m\u001b[0;34m.\u001b[0m\u001b[0m_make_engine\u001b[0m\u001b[0;34m(\u001b[0m\u001b[0mf\u001b[0m\u001b[0;34m,\u001b[0m \u001b[0mself\u001b[0m\u001b[0;34m.\u001b[0m\u001b[0mengine\u001b[0m\u001b[0;34m)\u001b[0m\u001b[0;34m\u001b[0m\u001b[0;34m\u001b[0m\u001b[0m\n\u001b[0m\u001b[1;32m   1443\u001b[0m \u001b[0;34m\u001b[0m\u001b[0m\n\u001b[1;32m   1444\u001b[0m     \u001b[0;32mdef\u001b[0m \u001b[0mclose\u001b[0m\u001b[0;34m(\u001b[0m\u001b[0mself\u001b[0m\u001b[0;34m)\u001b[0m \u001b[0;34m->\u001b[0m \u001b[0;32mNone\u001b[0m\u001b[0;34m:\u001b[0m\u001b[0;34m\u001b[0m\u001b[0;34m\u001b[0m\u001b[0m\n",
            "\u001b[0;32m/usr/local/lib/python3.10/dist-packages/pandas/io/parsers/readers.py\u001b[0m in \u001b[0;36m_make_engine\u001b[0;34m(self, f, engine)\u001b[0m\n\u001b[1;32m   1733\u001b[0m                 \u001b[0;32mif\u001b[0m \u001b[0;34m\"b\"\u001b[0m \u001b[0;32mnot\u001b[0m \u001b[0;32min\u001b[0m \u001b[0mmode\u001b[0m\u001b[0;34m:\u001b[0m\u001b[0;34m\u001b[0m\u001b[0;34m\u001b[0m\u001b[0m\n\u001b[1;32m   1734\u001b[0m                     \u001b[0mmode\u001b[0m \u001b[0;34m+=\u001b[0m \u001b[0;34m\"b\"\u001b[0m\u001b[0;34m\u001b[0m\u001b[0;34m\u001b[0m\u001b[0m\n\u001b[0;32m-> 1735\u001b[0;31m             self.handles = get_handle(\n\u001b[0m\u001b[1;32m   1736\u001b[0m                 \u001b[0mf\u001b[0m\u001b[0;34m,\u001b[0m\u001b[0;34m\u001b[0m\u001b[0;34m\u001b[0m\u001b[0m\n\u001b[1;32m   1737\u001b[0m                 \u001b[0mmode\u001b[0m\u001b[0;34m,\u001b[0m\u001b[0;34m\u001b[0m\u001b[0;34m\u001b[0m\u001b[0m\n",
            "\u001b[0;32m/usr/local/lib/python3.10/dist-packages/pandas/io/common.py\u001b[0m in \u001b[0;36mget_handle\u001b[0;34m(path_or_buf, mode, encoding, compression, memory_map, is_text, errors, storage_options)\u001b[0m\n\u001b[1;32m    854\u001b[0m         \u001b[0;32mif\u001b[0m \u001b[0mioargs\u001b[0m\u001b[0;34m.\u001b[0m\u001b[0mencoding\u001b[0m \u001b[0;32mand\u001b[0m \u001b[0;34m\"b\"\u001b[0m \u001b[0;32mnot\u001b[0m \u001b[0;32min\u001b[0m \u001b[0mioargs\u001b[0m\u001b[0;34m.\u001b[0m\u001b[0mmode\u001b[0m\u001b[0;34m:\u001b[0m\u001b[0;34m\u001b[0m\u001b[0;34m\u001b[0m\u001b[0m\n\u001b[1;32m    855\u001b[0m             \u001b[0;31m# Encoding\u001b[0m\u001b[0;34m\u001b[0m\u001b[0;34m\u001b[0m\u001b[0m\n\u001b[0;32m--> 856\u001b[0;31m             handle = open(\n\u001b[0m\u001b[1;32m    857\u001b[0m                 \u001b[0mhandle\u001b[0m\u001b[0;34m,\u001b[0m\u001b[0;34m\u001b[0m\u001b[0;34m\u001b[0m\u001b[0m\n\u001b[1;32m    858\u001b[0m                 \u001b[0mioargs\u001b[0m\u001b[0;34m.\u001b[0m\u001b[0mmode\u001b[0m\u001b[0;34m,\u001b[0m\u001b[0;34m\u001b[0m\u001b[0;34m\u001b[0m\u001b[0m\n",
            "\u001b[0;31mFileNotFoundError\u001b[0m: [Errno 2] No such file or directory: 'titanic3.csv'"
          ]
        }
      ],
      "source": [
        "dataset_path = \"titanic3.csv\"\n",
        "titanic_data = pd.read_csv(dataset_path)\n",
        "titanic_data = pd.concat([titanic_data,\n",
        "                          pd.get_dummies(titanic_data['sex']),\n",
        "                          pd.get_dummies(titanic_data['embarked'],prefix=\"embark\"),\n",
        "                          pd.get_dummies(titanic_data['pclass'],prefix=\"class\")], axis=1)\n",
        "titanic_data[\"age\"] = titanic_data[\"age\"].fillna(titanic_data[\"age\"].mean())\n",
        "titanic_data[\"fare\"] = titanic_data[\"fare\"].fillna(titanic_data[\"fare\"].mean())\n",
        "titanic_data = titanic_data.drop(['name','ticket','cabin','boat','body','home.dest','sex','embarked','pclass'], axis=1)"
      ]
    },
    {
      "cell_type": "markdown",
      "metadata": {
        "id": "gBoBhQY1jXRK"
      },
      "source": [
        "After processing, the features we have are:\n",
        "\n",
        "Age - Passenger Age\n",
        "\n",
        "Sibsp - Number of Siblings / Spouses Aboard\n",
        "\n",
        "Parch - Number of Parents / Children Aboard\n",
        "\n",
        "Fare - Fare Amount Paid in British Pounds\n",
        "\n",
        "Female - Binary variable indicating whether passenger is female\n",
        "\n",
        "Male - Binary variable indicating whether passenger is male\n",
        "\n",
        "EmbarkC - Binary variable indicating whether passenger\n",
        "embarked at Cherbourg\n",
        "\n",
        "EmbarkQ - Binary variable indicating whether passenger embarked at Queenstown\n",
        "\n",
        "EmbarkS - Binary variable indicating whether passenger embarked at Southampton\n",
        "\n",
        "Class1 - Binary variable indicating whether passenger was in first class\n",
        "\n",
        "Class2 - Binary variable indicating whether passenger was in second class\n",
        "\n",
        "Class3 - Binary variable indicating whether passenger was in third class"
      ]
    },
    {
      "cell_type": "code",
      "execution_count": null,
      "metadata": {
        "id": "3A3s8lYOjSPH"
      },
      "outputs": [],
      "source": [
        "#We now convert the data to numpy arrays and separate the training and test sets.\n",
        "\n",
        "np.random.seed(131254)\n",
        "\n",
        "# Convert features and labels to numpy arrays.\n",
        "labels = titanic_data[\"survived\"].to_numpy()\n",
        "titanic_data = titanic_data.drop(['survived'], axis=1)\n",
        "feature_names = list(titanic_data.columns)\n",
        "data = titanic_data.to_numpy()\n",
        "\n",
        "# Separate training and test sets using\n",
        "train_indices = np.random.choice(len(labels), int(0.7*len(labels)), replace=False)\n",
        "test_indices = list(set(range(len(labels))) - set(train_indices))\n",
        "train_features = data[train_indices]\n",
        "train_labels = labels[train_indices]\n",
        "test_features = data[test_indices]\n",
        "test_labels = labels[test_indices]"
      ]
    },
    {
      "cell_type": "markdown",
      "metadata": {
        "id": "45akWcKrjtmW"
      },
      "source": [
        "Here, the authors of Captum have defined a simple architecture using 2 hidden layers, the first with 12 hidden units and the second with 8 hidden units, each with Sigmoid non-linearity. The final layer performs a softmax operation and has 2 units, corresponding to the outputs of either survived (1) or not survived (0)."
      ]
    },
    {
      "cell_type": "code",
      "execution_count": null,
      "metadata": {
        "id": "MHLyAq4VjkUS"
      },
      "outputs": [],
      "source": [
        "\n",
        "import torch\n",
        "import torch.nn as nn\n",
        "torch.manual_seed(1)  # Set seed for reproducibility.\n",
        "class TitanicSimpleNNModel(nn.Module):\n",
        "    def __init__(self):\n",
        "        super().__init__()\n",
        "        self.linear1 = nn.Linear(12, 12)\n",
        "        self.sigmoid1 = nn.Sigmoid()\n",
        "        self.linear2 = nn.Linear(12, 8)\n",
        "        self.sigmoid2 = nn.Sigmoid()\n",
        "        self.linear3 = nn.Linear(8, 2)\n",
        "        self.softmax = nn.Softmax(dim=1)\n",
        "\n",
        "    def forward(self, x):\n",
        "        lin1_out = self.linear1(x)\n",
        "        sigmoid_out1 = self.sigmoid1(lin1_out)\n",
        "        sigmoid_out2 = self.sigmoid2(self.linear2(sigmoid_out1))\n",
        "        return self.softmax(self.linear3(sigmoid_out2))"
      ]
    },
    {
      "cell_type": "markdown",
      "metadata": {
        "id": "d2u7ps2Ij3R1"
      },
      "source": [
        "The pretrained model can be downloaded here: https://github.com/pytorch/captum/blob/master/tutorials/models/titanic_model.pt"
      ]
    },
    {
      "cell_type": "code",
      "execution_count": null,
      "metadata": {
        "colab": {
          "base_uri": "https://localhost:8080/"
        },
        "id": "7Vre5qvGjvXZ",
        "outputId": "7e814c89-2321-4937-90af-4d308aa21c6d"
      },
      "outputs": [
        {
          "name": "stdout",
          "output_type": "stream",
          "text": [
            "Epoch 1/200 => Loss: 0.70\n",
            "Epoch 21/200 => Loss: 0.55\n",
            "Epoch 41/200 => Loss: 0.50\n",
            "Epoch 61/200 => Loss: 0.49\n",
            "Epoch 81/200 => Loss: 0.48\n",
            "Epoch 101/200 => Loss: 0.48\n",
            "Epoch 121/200 => Loss: 0.48\n",
            "Epoch 141/200 => Loss: 0.48\n",
            "Epoch 161/200 => Loss: 0.47\n",
            "Epoch 181/200 => Loss: 0.47\n"
          ]
        }
      ],
      "source": [
        "net = TitanicSimpleNNModel()\n",
        "USE_PRETRAINED_MODEL = False\n",
        "\n",
        "if USE_PRETRAINED_MODEL:\n",
        "    net.load_state_dict(torch.load('/content/titanic_model.pt'))\n",
        "    print(\"Model Loaded!\")\n",
        "else:\n",
        "    criterion = nn.CrossEntropyLoss()\n",
        "    num_epochs = 200\n",
        "\n",
        "    optimizer = torch.optim.Adam(net.parameters(), lr=0.1)\n",
        "    input_tensor = torch.from_numpy(train_features).type(torch.FloatTensor)\n",
        "    label_tensor = torch.from_numpy(train_labels)\n",
        "    for epoch in range(num_epochs):\n",
        "        output = net(input_tensor)\n",
        "        loss = criterion(output, label_tensor)\n",
        "        optimizer.zero_grad()\n",
        "        loss.backward()\n",
        "        optimizer.step()\n",
        "        if epoch % 20 == 0:\n",
        "            print ('Epoch {}/{} => Loss: {:.2f}'.format(epoch+1, num_epochs, loss.item()))\n",
        "\n",
        "    torch.save(net.state_dict(), '/content/titanic_model_trained.pt')"
      ]
    },
    {
      "cell_type": "code",
      "execution_count": null,
      "metadata": {
        "colab": {
          "base_uri": "https://localhost:8080/"
        },
        "id": "d6HoGevkj_l4",
        "outputId": "8cb37b76-e513-480a-a2a1-b3538043c04f"
      },
      "outputs": [
        {
          "name": "stdout",
          "output_type": "stream",
          "text": [
            "Train Accuracy: 0.8427947598253275\n"
          ]
        }
      ],
      "source": [
        "# model evaluation\n",
        "out_probs = net(input_tensor).detach().numpy()\n",
        "out_classes = np.argmax(out_probs, axis=1)\n",
        "print(\"Train Accuracy:\", sum(out_classes == train_labels) / len(train_labels))"
      ]
    },
    {
      "cell_type": "code",
      "execution_count": null,
      "metadata": {
        "colab": {
          "base_uri": "https://localhost:8080/"
        },
        "id": "BpO6JkfLkW57",
        "outputId": "6266e1c2-5ba0-4297-aefa-2bc9f78e65f3"
      },
      "outputs": [
        {
          "name": "stdout",
          "output_type": "stream",
          "text": [
            "Test Accuracy: 0.816793893129771\n"
          ]
        }
      ],
      "source": [
        "test_input_tensor = torch.from_numpy(test_features).type(torch.FloatTensor)\n",
        "out_probs = net(test_input_tensor).detach().numpy()\n",
        "out_classes = np.argmax(out_probs, axis=1)\n",
        "print(\"Test Accuracy:\", sum(out_classes == test_labels) / len(test_labels))"
      ]
    },
    {
      "cell_type": "markdown",
      "metadata": {
        "id": "DTB2LNXIk5G8"
      },
      "source": [
        "The first question we can ask is which of the features were actually important to the model to reach this decision? This is the first main component of Captum, the ability to obtain **Feature Attributions**. Here we apply Integrated Gradients, one of the Feature Attribution methods included in Captum, which assigns an importance score to each input feature by approximating the integral of gradients of the model’s output with respect to inputs along the straight-line path from given baselines to inputs (see https://arxiv.org/abs/1703.01365).\n",
        "\n",
        "The method takes tensor(s) of input examples (matching the forward function of the model), and returns the input attributions for the given examples. After we get the attribution for each feature, we can visualize it."
      ]
    },
    {
      "cell_type": "code",
      "execution_count": null,
      "metadata": {
        "colab": {
          "base_uri": "https://localhost:8080/",
          "height": 631
        },
        "id": "31jX_1DylFn1",
        "outputId": "deb27293-f932-4b21-860c-cf36a49e49e6"
      },
      "outputs": [
        {
          "name": "stdout",
          "output_type": "stream",
          "text": [
            "Average Feature Importances\n",
            "age :  -0.514\n",
            "sibsp :  -0.075\n",
            "parch :  -0.001\n",
            "fare :  0.112\n",
            "female :  0.146\n",
            "male :  -0.367\n",
            "embark_C :  0.152\n",
            "embark_Q :  0.017\n",
            "embark_S :  -0.101\n",
            "class_1 :  0.068\n",
            "class_2 :  0.012\n",
            "class_3 :  -0.176\n"
          ]
        },
        {
          "data": {
            "image/png": "[encoded data removed]",
            "text/plain": [
              "<Figure size 864x432 with 1 Axes>"
            ]
          },
          "metadata": {
            "needs_background": "light"
          },
          "output_type": "display_data"
        }
      ],
      "source": [
        "ig = IntegratedGradients(net)\n",
        "test_input_tensor.requires_grad_()\n",
        "attr, delta = ig.attribute(test_input_tensor,target=1, return_convergence_delta=True)\n",
        "attr = attr.detach().numpy()\n",
        "\n",
        "def visualize_importances(feature_names, importances, title=\"Average Feature Importances\", plot=True, axis_title=\"Features\"):\n",
        "    print(title)\n",
        "    for i in range(len(feature_names)):\n",
        "        print(feature_names[i], \": \", '%.3f'%(importances[i]))\n",
        "    x_pos = (np.arange(len(feature_names)))\n",
        "    if plot:\n",
        "        plt.figure(figsize=(12,6))\n",
        "        plt.bar(x_pos, importances, align='center')\n",
        "        plt.xticks(x_pos, feature_names, wrap=True)\n",
        "        plt.xlabel(axis_title)\n",
        "        plt.title(title)\n",
        "visualize_importances(feature_names, np.mean(attr, axis=0))"
      ]
    },
    {
      "cell_type": "markdown",
      "metadata": {
        "id": "qVJq5sHnl10G"
      },
      "source": [
        "An important thing to note is that the average attributions over the test set don't necessarilly capture all information regarding feature importances. We should also look at the distribution of attributions for each feature. It is possible that features have very different attributions for different examples in the dataset.\n",
        "\n",
        "For instance, we can visualize the distribution of attributions for sibsp, the number of siblings / spouses."
      ]
    },
    {
      "cell_type": "code",
      "execution_count": null,
      "metadata": {
        "colab": {
          "base_uri": "https://localhost:8080/",
          "height": 281
        },
        "id": "QOESEZ9YlMWx",
        "outputId": "2a7e9e77-a63f-439f-c590-14f9e506a6c4"
      },
      "outputs": [
        {
          "data": {
            "image/png": "[encoded data removed]",
            "text/plain": [
              "<Figure size 432x288 with 1 Axes>"
            ]
          },
          "metadata": {
            "needs_background": "light"
          },
          "output_type": "display_data"
        }
      ],
      "source": [
        "plt.hist(attr[:,1], 100);\n",
        "plt.title(\"Distribution of Sibsp Attribution Values\");"
      ]
    },
    {
      "cell_type": "markdown",
      "metadata": {
        "id": "Gl3gyZTomTbi"
      },
      "source": [
        "Now that we have a better understanding of the importance of different input features, another question we can ask regards the function of the neural network and how different neurons in each layer work together to reach the prediction. This leads us to the second type of attributions available in Captum, Layer Attributions. Layer attributions allow us to understand the importance of all the neurons in the output of a particular layer. For this example, we will be using Layer Conductance, one of the Layer Attribution methods in Captum, which computes conductance with respect to a given layer, with returned output in the shape of the layer’s output, showing the total conductance of each hidden layer neuron.\n",
        "\n",
        "The details of the approach can be found here: https://arxiv.org/abs/1805.12233 https://arxiv.org/pdf/1807.09946.pdf\n",
        "\n",
        "LayerConductance also requires a target index for networks with mutliple outputs, defining the index of the output for which gradients are computed. Similar to feature attributions, we provide target = 1, corresponding to survival."
      ]
    },
    {
      "cell_type": "code",
      "execution_count": null,
      "metadata": {
        "colab": {
          "base_uri": "https://localhost:8080/",
          "height": 630
        },
        "id": "yeym3aLel9t6",
        "outputId": "a8125931-7723-4d3e-c97c-2bcad94235fc"
      },
      "outputs": [
        {
          "name": "stdout",
          "output_type": "stream",
          "text": [
            "Average Neuron Importances\n",
            "0 :  0.005\n",
            "1 :  -0.188\n",
            "2 :  0.035\n",
            "3 :  0.013\n",
            "4 :  0.067\n",
            "5 :  -0.051\n",
            "6 :  0.025\n",
            "7 :  0.000\n",
            "8 :  -0.333\n",
            "9 :  -0.000\n",
            "10 :  -0.272\n",
            "11 :  0.016\n"
          ]
        },
        {
          "data": {
            "image/png": "[encoded data removed]",
            "text/plain": [
              "<Figure size 864x432 with 1 Axes>"
            ]
          },
          "metadata": {
            "needs_background": "light"
          },
          "output_type": "display_data"
        }
      ],
      "source": [
        "cond = LayerConductance(net, net.sigmoid1)\n",
        "\n",
        "cond_vals = cond.attribute(test_input_tensor,target=1)\n",
        "cond_vals = cond_vals.detach().numpy()\n",
        "\n",
        "visualize_importances(range(12),np.mean(cond_vals, axis=0),title=\"Average Neuron Importances\", axis_title=\"Neurons\")"
      ]
    },
    {
      "cell_type": "markdown",
      "metadata": {
        "id": "nvuvRLoqmypb"
      },
      "source": [
        "We can also look at the distribution of each neuron's attributions. Below we look at the distributions for neurons 7 and 9, and we can confirm that their attribution distributions are very close to 0, suggesting they are not learning substantial features."
      ]
    },
    {
      "cell_type": "code",
      "execution_count": null,
      "metadata": {
        "colab": {
          "base_uri": "https://localhost:8080/",
          "height": 545
        },
        "id": "DDQ7mNEZmcrL",
        "outputId": "129670e8-db7a-4eb1-eb92-e3d44e405e21"
      },
      "outputs": [
        {
          "data": {
            "image/png": "[encoded data removed]",
            "text/plain": [
              "<Figure size 432x288 with 1 Axes>"
            ]
          },
          "metadata": {
            "needs_background": "light"
          },
          "output_type": "display_data"
        },
        {
          "data": {
            "image/png": "[encoded data removed]",
            "text/plain": [
              "<Figure size 432x288 with 1 Axes>"
            ]
          },
          "metadata": {
            "needs_background": "light"
          },
          "output_type": "display_data"
        }
      ],
      "source": [
        "plt.hist(cond_vals[:,9], 100);\n",
        "plt.title(\"Neuron 9 Distribution\")\n",
        "plt.figure()\n",
        "plt.hist(cond_vals[:,7], 100);\n",
        "plt.title(\"Neuron 7 Distribution\");"
      ]
    },
    {
      "cell_type": "markdown",
      "metadata": {
        "id": "DoGC7-IynEgP"
      },
      "source": [
        "The third type of attributions available in Captum, Neuron Attributions.  This allows us to understand what parts of the input contribute to activating a particular input neuron and so suggest the nature of the most used variable interactions in the best performing model."
      ]
    },
    {
      "cell_type": "code",
      "execution_count": null,
      "metadata": {
        "colab": {
          "base_uri": "https://localhost:8080/",
          "height": 631
        },
        "id": "ES0LDwGgm2Du",
        "outputId": "9bdecd39-721f-47f1-f163-ca86e1f8022e"
      },
      "outputs": [
        {
          "name": "stdout",
          "output_type": "stream",
          "text": [
            "Average Feature Importances for Neuron 0\n",
            "age :  0.003\n",
            "sibsp :  0.000\n",
            "parch :  0.000\n",
            "fare :  0.002\n",
            "female :  0.000\n",
            "male :  -0.000\n",
            "embark_C :  0.000\n",
            "embark_Q :  0.000\n",
            "embark_S :  0.000\n",
            "class_1 :  0.000\n",
            "class_2 :  0.000\n",
            "class_3 :  0.000\n"
          ]
        },
        {
          "data": {
            "image/png": "[encoded data removed]",
            "text/plain": [
              "<Figure size 864x432 with 1 Axes>"
            ]
          },
          "metadata": {
            "needs_background": "light"
          },
          "output_type": "display_data"
        }
      ],
      "source": [
        "neuron_cond = NeuronConductance(net, net.sigmoid1)\n",
        "neuron_cond_vals_0 = neuron_cond.attribute(test_input_tensor, neuron_selector=0, target=1)\n",
        "\n",
        "visualize_importances(feature_names, neuron_cond_vals_0.mean(dim=0).detach().numpy(), title=\"Average Feature Importances for Neuron 0\")"
      ]
    },
    {
      "cell_type": "markdown",
      "metadata": {
        "id": "eeS8EjarnchP"
      },
      "source": [
        "From the data above, it appears that the primary input features used by neuron 0 are age and fare, with limited importance for all other features."
      ]
    },
    {
      "cell_type": "markdown",
      "metadata": {
        "id": "2DDyKgWEntMz"
      },
      "source": [
        "**Example 2: Boston House Prices Prediction (Regression)**"
      ]
    },
    {
      "cell_type": "markdown",
      "metadata": {
        "id": "20_Z7hTjn37M"
      },
      "source": [
        "The Captum library can also be applied on regression models to understand important features. Here, a simple DNN model is trained on a sub-sample of a well-known Boston house prices dataset, and we try to use package to interpret it."
      ]
    },
    {
      "cell_type": "code",
      "execution_count": null,
      "metadata": {
        "id": "gD5kTJs4nfee"
      },
      "outputs": [],
      "source": [
        "import numpy as np\n",
        "\n",
        "from os import path\n",
        "\n",
        "\n",
        "import matplotlib.pyplot as plt\n",
        "\n",
        "#scikit-learn related imports\n",
        "import sklearn\n",
        "from sklearn.datasets import load_boston\n",
        "from sklearn.model_selection import train_test_split\n",
        "from sklearn.metrics import mean_squared_error\n",
        "\n",
        "# pytorch relates imports\n",
        "import torch\n",
        "import torch.nn as nn\n",
        "import torch.optim as optim\n",
        "\n",
        "# imports from captum library\n",
        "from captum.attr import LayerConductance, LayerActivation, LayerIntegratedGradients\n",
        "from captum.attr import IntegratedGradients, DeepLift, GradientShap, NoiseTunnel, FeatureAblation"
      ]
    },
    {
      "cell_type": "code",
      "execution_count": null,
      "metadata": {
        "colab": {
          "base_uri": "https://localhost:8080/"
        },
        "id": "vI2ByaM-oLAo",
        "outputId": "67e62e8c-d76b-4ebf-b8ee-cce9d0810ffd"
      },
      "outputs": [
        {
          "name": "stderr",
          "output_type": "stream",
          "text": [
            "/usr/local/lib/python3.7/dist-packages/sklearn/utils/deprecation.py:87: FutureWarning: Function load_boston is deprecated; `load_boston` is deprecated in 1.0 and will be removed in 1.2.\n",
            "\n",
            "    The Boston housing prices dataset has an ethical problem. You can refer to\n",
            "    the documentation of this function for further details.\n",
            "\n",
            "    The scikit-learn maintainers therefore strongly discourage the use of this\n",
            "    dataset unless the purpose of the code is to study and educate about\n",
            "    ethical issues in data science and machine learning.\n",
            "\n",
            "    In this special case, you can fetch the dataset from the original\n",
            "    source::\n",
            "\n",
            "        import pandas as pd\n",
            "        import numpy as np\n",
            "\n",
            "\n",
            "        data_url = \"http://lib.stat.cmu.edu/datasets/boston\"\n",
            "        raw_df = pd.read_csv(data_url, sep=\"\\s+\", skiprows=22, header=None)\n",
            "        data = np.hstack([raw_df.values[::2, :], raw_df.values[1::2, :2]])\n",
            "        target = raw_df.values[1::2, 2]\n",
            "\n",
            "    Alternative datasets include the California housing dataset (i.e.\n",
            "    :func:`~sklearn.datasets.fetch_california_housing`) and the Ames housing\n",
            "    dataset. You can load the datasets as follows::\n",
            "\n",
            "        from sklearn.datasets import fetch_california_housing\n",
            "        housing = fetch_california_housing()\n",
            "\n",
            "    for the California housing dataset and::\n",
            "\n",
            "        from sklearn.datasets import fetch_openml\n",
            "        housing = fetch_openml(name=\"house_prices\", as_frame=True)\n",
            "\n",
            "    for the Ames housing dataset.\n",
            "    \n",
            "  warnings.warn(msg, category=FutureWarning)\n"
          ]
        }
      ],
      "source": [
        "# Data Preparation\n",
        "\n",
        "boston = load_boston()\n",
        "\n",
        "# feature_names -> ['CRIM', 'ZN', 'INDUS', 'CHAS', 'NOX', 'RM', 'AGE', 'DIS', 'RAD', 'TAX', 'PTRATIO', 'B', 'LSTAT']\n",
        "feature_names = boston.feature_names\n",
        "\n",
        "X = boston.data\n",
        "y = boston.target\n",
        "\n",
        "torch.manual_seed(1234)\n",
        "np.random.seed(1234)\n",
        "\n",
        "X_train, X_test, y_train, y_test = train_test_split(X, y, test_size=0.3, random_state=0)"
      ]
    },
    {
      "cell_type": "markdown",
      "metadata": {
        "id": "rxZUbv-3obFG"
      },
      "source": [
        "First, we can explore the data and visualize dependent variable vs. each independent variable in separate plots."
      ]
    },
    {
      "cell_type": "code",
      "execution_count": null,
      "metadata": {
        "colab": {
          "base_uri": "https://localhost:8080/",
          "height": 640
        },
        "id": "H4RdcOiMoX93",
        "outputId": "51e676d8-9626-40fa-cba1-17191c314c71"
      },
      "outputs": [
        {
          "data": {
            "image/png": "[encoded data removed]",
            "text/plain": [
              "<Figure size 2160x1440 with 15 Axes>"
            ]
          },
          "metadata": {
            "needs_background": "light"
          },
          "output_type": "display_data"
        }
      ],
      "source": [
        "fig, axs = plt.subplots(nrows = 3, ncols=5, figsize=(30, 20))\n",
        "for i, (ax, col) in enumerate(zip(axs.flat, feature_names)):\n",
        "    x = X[:,i]\n",
        "    pf = np.polyfit(x, y, 1)\n",
        "    p = np.poly1d(pf)\n",
        "\n",
        "    ax.plot(x, y, 'o')\n",
        "    ax.plot(x, p(x),\"r--\")\n",
        "\n",
        "    ax.set_title(col + ' vs Prices')\n",
        "    ax.set_xlabel(col)\n",
        "    ax.set_ylabel('Prices')"
      ]
    },
    {
      "cell_type": "markdown",
      "metadata": {
        "id": "Phd_8TSlooLX"
      },
      "source": [
        "Then, we train a neural network and try to interpret the results.\n",
        "\n",
        "If you have run all the code in this notebook, you should be able to understand each line of code in the following block."
      ]
    },
    {
      "cell_type": "code",
      "execution_count": null,
      "metadata": {
        "colab": {
          "base_uri": "https://localhost:8080/"
        },
        "id": "FpFMTIjLonuz",
        "outputId": "74d91342-23b3-4d61-e121-db230b549008"
      },
      "outputs": [
        {
          "name": "stdout",
          "output_type": "stream",
          "text": [
            "Epoch [1]/[200] running accumulative loss across all batches: 53562.252\n",
            "Epoch [21]/[200] running accumulative loss across all batches: 19221.868\n",
            "Epoch [41]/[200] running accumulative loss across all batches: 18055.469\n",
            "Epoch [61]/[200] running accumulative loss across all batches: 16208.737\n",
            "Epoch [81]/[200] running accumulative loss across all batches: 14538.289\n",
            "Epoch [101]/[200] running accumulative loss across all batches: 12580.051\n",
            "Epoch [121]/[200] running accumulative loss across all batches: 11062.757\n",
            "Epoch [141]/[200] running accumulative loss across all batches: 10054.818\n",
            "Epoch [161]/[200] running accumulative loss across all batches: 9377.320\n",
            "Epoch [181]/[200] running accumulative loss across all batches: 8883.170\n",
            "Finished training the model. Saving the model to the path: /content/boston_model.pt\n"
          ]
        }
      ],
      "source": [
        "# Model setting and training\n",
        "\n",
        "X_train = torch.tensor(X_train).float()\n",
        "y_train = torch.tensor(y_train).view(-1, 1).float()\n",
        "\n",
        "X_test = torch.tensor(X_test).float()\n",
        "y_test = torch.tensor(y_test).view(-1, 1).float()\n",
        "\n",
        "datasets = torch.utils.data.TensorDataset(X_train, y_train)\n",
        "train_iter = torch.utils.data.DataLoader(datasets, batch_size=10, shuffle=True)\n",
        "\n",
        "batch_size = 50\n",
        "num_epochs = 200\n",
        "learning_rate = 0.0001\n",
        "size_hidden1 = 100\n",
        "size_hidden2 = 50\n",
        "size_hidden3 = 10\n",
        "size_hidden4 = 1\n",
        "\n",
        "class BostonModel(nn.Module):\n",
        "    def __init__(self):\n",
        "        super().__init__()\n",
        "        self.lin1 = nn.Linear(13, size_hidden1)\n",
        "        self.relu1 = nn.ReLU()\n",
        "        self.lin2 = nn.Linear(size_hidden1, size_hidden2)\n",
        "        self.relu2 = nn.ReLU()\n",
        "        self.lin3 = nn.Linear(size_hidden2, size_hidden3)\n",
        "        self.relu3 = nn.ReLU()\n",
        "        self.lin4 = nn.Linear(size_hidden3, size_hidden4)\n",
        "\n",
        "    def forward(self, input):\n",
        "        return self.lin4(self.relu3(self.lin3(self.relu2(self.lin2(self.relu1(self.lin1(input)))))))\n",
        "\n",
        "model = BostonModel()\n",
        "model.train()\n",
        "\n",
        "criterion = nn.MSELoss(reduction='sum')\n",
        "\n",
        "def train(model_inp, num_epochs = num_epochs):\n",
        "    optimizer = torch.optim.RMSprop(model_inp.parameters(), lr=learning_rate)\n",
        "    for epoch in range(num_epochs):  # loop over the dataset multiple times\n",
        "        running_loss = 0.0\n",
        "        for inputs, labels in train_iter:\n",
        "            # forward pass\n",
        "            outputs = model_inp(inputs)\n",
        "            # defining loss\n",
        "            loss = criterion(outputs, labels)\n",
        "            # zero the parameter gradients\n",
        "            optimizer.zero_grad()\n",
        "            # computing gradients\n",
        "            loss.backward()\n",
        "            # accumulating running loss\n",
        "            running_loss += loss.item()\n",
        "            # updated weights based on computed gradients\n",
        "            optimizer.step()\n",
        "        if epoch % 20 == 0:\n",
        "            print('Epoch [%d]/[%d] running accumulative loss across all batches: %.3f' %\n",
        "                  (epoch + 1, num_epochs, running_loss))\n",
        "        running_loss = 0.0\n",
        "\n",
        "model_path='/content/boston_model.pt'\n",
        "train(model)\n",
        "print('Finished training the model. Saving the model to the path: {}'.format(model_path))\n",
        "torch.save(model.state_dict(), model_path)"
      ]
    },
    {
      "cell_type": "code",
      "execution_count": null,
      "metadata": {
        "colab": {
          "base_uri": "https://localhost:8080/"
        },
        "id": "b_8Ps9uEprwr",
        "outputId": "489de4e0-0963-4cbb-f10d-37fa73da0ee9"
      },
      "outputs": [
        {
          "name": "stdout",
          "output_type": "stream",
          "text": [
            "model err:  5.4122243\n"
          ]
        }
      ],
      "source": [
        "# model evaluation\n",
        "\n",
        "model.eval()\n",
        "outputs = model(X_test)\n",
        "err = np.sqrt(mean_squared_error(outputs.detach().numpy(), y_test.detach().numpy()))\n",
        "\n",
        "print('model err: ', err)"
      ]
    },
    {
      "cell_type": "markdown",
      "metadata": {
        "id": "iMdtNWhDqIBM"
      },
      "source": [
        "Let's compute the attributions with respect to the inputs of the model using different attribution algorithms from core Captum library and visualize them. We use test dataset defined in the cells above for this purpose. For GradientSHAP specifically we use the entire training dataset as the distribution of baselines.\n",
        "\n",
        "SHAP is short for SHapley Additive exPlanations, first described by Lundberg and Lee in 2017 (here is the original paper: https://arxiv.org/abs/1705.07874) a method to reverse-engineer the output of any predictive algorithm. GradientShap approximates SHAP values by computing the expectations of gradients by randomly sampling from the distribution of baselines/references. It adds white noise to each input sample, selects a random baseline from baselines’ distribution and a random point along the path between the baseline and the input, and computes the gradient of outputs with respect to those selected random points. The final SHAP values represent the expected values of gradients * (inputs - baselines). GradientShap makes an assumption that the input features are independent and that the explanation model is linear, meaning that the explanations are modeled through the additive composition of feature effects. Under those assumptions, SHAP value can be approximated as the expectation of gradients computed for randomly generated input samples after adding gaussian noise to each input for different baselines/references.\n",
        "\n",
        "The execution of the cell below takes half a minute."
      ]
    },
    {
      "cell_type": "code",
      "execution_count": null,
      "metadata": {
        "colab": {
          "base_uri": "https://localhost:8080/"
        },
        "id": "G3Qnbjrbp4sl",
        "outputId": "5153b79c-2498-4fbc-f6b2-91cb24d26cdc"
      },
      "outputs": [
        {
          "name": "stderr",
          "output_type": "stream",
          "text": [
            "/usr/local/lib/python3.7/dist-packages/captum/_utils/gradient.py:59: UserWarning: Input Tensor 0 did not already require gradients, required_grads has been set automatically.\n",
            "  \"required_grads has been set automatically.\" % index\n",
            "/usr/local/lib/python3.7/dist-packages/captum/attr/_core/deep_lift.py:339: UserWarning: Setting forward, backward hooks and attributes on non-linear\n",
            "               activations. The hooks and attributes will be removed\n",
            "            after the attribution is finished\n",
            "  after the attribution is finished\"\"\"\n"
          ]
        }
      ],
      "source": [
        "ig = IntegratedGradients(model)\n",
        "ig_nt = NoiseTunnel(ig)\n",
        "dl = DeepLift(model)\n",
        "gs = GradientShap(model)\n",
        "fa = FeatureAblation(model)\n",
        "\n",
        "ig_attr_test = ig.attribute(X_test, n_steps=50)\n",
        "ig_nt_attr_test = ig_nt.attribute(X_test)\n",
        "dl_attr_test = dl.attribute(X_test)\n",
        "gs_attr_test = gs.attribute(X_test, X_train)\n",
        "fa_attr_test = fa.attribute(X_test)"
      ]
    },
    {
      "cell_type": "markdown",
      "metadata": {
        "id": "AGkbalJnry1m"
      },
      "source": [
        "In the next block, we visualize attribution scores with respect to inputs (using test dataset) for our simple model in one plot. This will help us to understand how similar or different the attribution scores assigned from different attribution algorithms are."
      ]
    },
    {
      "cell_type": "code",
      "execution_count": null,
      "metadata": {
        "colab": {
          "base_uri": "https://localhost:8080/",
          "height": 482
        },
        "id": "1S3ow--GrtzL",
        "outputId": "b8abf7bd-0a27-4769-ef7f-807f7c830d7f"
      },
      "outputs": [
        {
          "data": {
            "image/png": "[encoded data removed]",
            "text/plain": [
              "<Figure size 1440x720 with 1 Axes>"
            ]
          },
          "metadata": {
            "needs_background": "light"
          },
          "output_type": "display_data"
        }
      ],
      "source": [
        "# prepare attributions for visualization\n",
        "\n",
        "x_axis_data = np.arange(X_test.shape[1])\n",
        "x_axis_data_labels = list(map(lambda idx: feature_names[idx], x_axis_data))\n",
        "\n",
        "ig_attr_test_sum = ig_attr_test.detach().numpy().sum(0)\n",
        "ig_attr_test_norm_sum = ig_attr_test_sum / np.linalg.norm(ig_attr_test_sum, ord=1)\n",
        "\n",
        "ig_nt_attr_test_sum = ig_nt_attr_test.detach().numpy().sum(0)\n",
        "ig_nt_attr_test_norm_sum = ig_nt_attr_test_sum / np.linalg.norm(ig_nt_attr_test_sum, ord=1)\n",
        "\n",
        "dl_attr_test_sum = dl_attr_test.detach().numpy().sum(0)\n",
        "dl_attr_test_norm_sum = dl_attr_test_sum / np.linalg.norm(dl_attr_test_sum, ord=1)\n",
        "\n",
        "gs_attr_test_sum = gs_attr_test.detach().numpy().sum(0)\n",
        "gs_attr_test_norm_sum = gs_attr_test_sum / np.linalg.norm(gs_attr_test_sum, ord=1)\n",
        "\n",
        "fa_attr_test_sum = fa_attr_test.detach().numpy().sum(0)\n",
        "fa_attr_test_norm_sum = fa_attr_test_sum / np.linalg.norm(fa_attr_test_sum, ord=1)\n",
        "\n",
        "lin_weight = model.lin1.weight[0].detach().numpy()\n",
        "y_axis_lin_weight = lin_weight / np.linalg.norm(lin_weight, ord=1)\n",
        "\n",
        "width = 0.14\n",
        "legends = ['Int Grads', 'Int Grads w/SmoothGrad','DeepLift', 'GradientSHAP', 'Feature Ablation', 'Weights']\n",
        "\n",
        "plt.figure(figsize=(20, 10))\n",
        "\n",
        "ax = plt.subplot()\n",
        "ax.set_title('Comparing input feature importances across multiple algorithms and learned weights')\n",
        "ax.set_ylabel('Attributions')\n",
        "\n",
        "FONT_SIZE = 16\n",
        "plt.rc('font', size=FONT_SIZE)            # fontsize of the text sizes\n",
        "plt.rc('axes', titlesize=FONT_SIZE)       # fontsize of the axes title\n",
        "plt.rc('axes', labelsize=FONT_SIZE)       # fontsize of the x and y labels\n",
        "plt.rc('legend', fontsize=FONT_SIZE - 4)  # fontsize of the legend\n",
        "\n",
        "ax.bar(x_axis_data, ig_attr_test_norm_sum, width, align='center', alpha=0.8, color='#eb5e7c')\n",
        "ax.bar(x_axis_data + width, ig_nt_attr_test_norm_sum, width, align='center', alpha=0.7, color='#A90000')\n",
        "ax.bar(x_axis_data + 2 * width, dl_attr_test_norm_sum, width, align='center', alpha=0.6, color='#34b8e0')\n",
        "ax.bar(x_axis_data + 3 * width, gs_attr_test_norm_sum, width, align='center',  alpha=0.8, color='#4260f5')\n",
        "ax.bar(x_axis_data + 4 * width, fa_attr_test_norm_sum, width, align='center', alpha=1.0, color='#49ba81')\n",
        "ax.bar(x_axis_data + 5 * width, y_axis_lin_weight, width, align='center', alpha=1.0, color='grey')\n",
        "ax.autoscale_view()\n",
        "plt.tight_layout()\n",
        "\n",
        "ax.set_xticks(x_axis_data + 0.5)\n",
        "ax.set_xticklabels(x_axis_data_labels)\n",
        "\n",
        "plt.legend(legends, loc=3)\n",
        "plt.show()"
      ]
    },
    {
      "cell_type": "markdown",
      "metadata": {
        "id": "C_2PhRtksMvo"
      },
      "source": [
        "The magnitudes of learned model weights tell us about the correlations between the dependent variable Price and each independent variable. Zero weight means no correlation, whereas positive weights indicate positive correlations and negatives the opposite.\n",
        "\n",
        "Attribution algorithms sometimes disagree on assigning importance scores and that they are not always aligned with weights. However, the top important three features: LSTAT, RM and PTRATIO are considered to be important based on both most attribution algorithms and weight scores.\n",
        "\n",
        "Captum also allows us to attribute to the layers of the model and understand which neurons appear to be more important. In the cell below, we will attribute to the inputs of the fourth hidden layer of our model. Similar to the previous case, the attribution is performed on the test dataset."
      ]
    },
    {
      "cell_type": "code",
      "execution_count": null,
      "metadata": {
        "id": "aoD9w1cKsGiR"
      },
      "outputs": [],
      "source": [
        "# Compute the attributions of the output with respect to the inputs of the fourth linear layer\n",
        "lc = LayerConductance(model, model.lin4)\n",
        "lc_attr_test = lc.attribute(X_test, n_steps=100, attribute_to_layer_input=True)\n",
        "\n",
        "# shape: test_examples x size_hidden\n",
        "lc_attr_test = lc_attr_test[0]\n",
        "\n",
        "# weights from forth linear layer\n",
        "# shape: size_hidden4 x size_hidden3\n",
        "lin4_weight = model.lin4.weight"
      ]
    },
    {
      "cell_type": "markdown",
      "metadata": {
        "id": "plqE4N0Ys1tr"
      },
      "source": [
        "In the cell below we normalize and visualize attributions and learned model weights for all 10 neurons in the fourth hidden layer."
      ]
    },
    {
      "cell_type": "code",
      "execution_count": null,
      "metadata": {
        "colab": {
          "base_uri": "https://localhost:8080/",
          "height": 512
        },
        "id": "7nboU4USpQrU",
        "outputId": "a1ecd684-f641-4bb6-d197-7d6d4c0d34de"
      },
      "outputs": [
        {
          "data": {
            "image/png": "[encoded data removed]",
            "text/plain": [
              "<Figure size 1080x576 with 1 Axes>"
            ]
          },
          "metadata": {
            "needs_background": "light"
          },
          "output_type": "display_data"
        }
      ],
      "source": [
        "plt.figure(figsize=(15, 8))\n",
        "\n",
        "lc = LayerConductance(model, model.lin4)\n",
        "lc_attr_test = lc.attribute(X_test, n_steps=100, attribute_to_layer_input=True)\n",
        "\n",
        "x_axis_data = np.arange(lc_attr_test.shape[1])\n",
        "\n",
        "y_axis_lc_attr_test = lc_attr_test.mean(0).detach().numpy()\n",
        "y_axis_lc_attr_test = y_axis_lc_attr_test / np.linalg.norm(y_axis_lc_attr_test, ord=1)\n",
        "\n",
        "y_axis_lin4_weight = lin4_weight[0].detach().numpy()\n",
        "y_axis_lin4_weight = y_axis_lin4_weight / np.linalg.norm(y_axis_lin4_weight, ord=1)\n",
        "\n",
        "width = 0.25\n",
        "legends = ['Attributions','Weights']\n",
        "x_axis_labels = [ 'Neuron {}'.format(i) for i in range(len(y_axis_lin4_weight))]\n",
        "\n",
        "ax = plt.subplot()\n",
        "ax.set_title('Aggregated neuron importances and learned weights in the last linear layer of the model')\n",
        "\n",
        "ax.bar(x_axis_data + width, y_axis_lc_attr_test, width, align='center', alpha=0.5, color='red')\n",
        "ax.bar(x_axis_data + 2 * width, y_axis_lin4_weight, width, align='center', alpha=0.5, color='green')\n",
        "plt.legend(legends, loc=2, prop={'size': 20})\n",
        "ax.autoscale_view()\n",
        "plt.tight_layout()\n",
        "\n",
        "ax.set_xticks(x_axis_data + 0.5)\n",
        "ax.set_xticklabels(x_axis_labels)\n",
        "\n",
        "plt.show()"
      ]
    },
    {
      "cell_type": "markdown",
      "metadata": {
        "id": "x7AtkOqltjLo"
      },
      "source": [
        "It is interesting to observe that the weights and attribution scores are well aligned for all 10 neurons in the last layer. Meaning that the neurons with negative weights also have negative attribution scores and we can observe the same for the positive weights and attributions."
      ]
    },
    {
      "cell_type": "markdown",
      "metadata": {
        "id": "RRAhu1h3DCd4"
      },
      "source": [
        "## <span style=\"color:red\">*Homework Exercise*</span>\n",
        "\n",
        "<span style=\"color:red\"> Similar to tutorial 1.1, your task here is to use the deep learning models we experimented with on synthetic data but instead using a real world dataset.\n",
        "\n",
        "Immediately below each of the following prompts, add Colab cells that:\n",
        "\n",
        "**1)** Find and load a dataset (with more than 500 data points) into both Keras and PyTorch formats, either (a) related to your research or thesis, (b) curated from a popular data repository, or (c) associated with one of the class projects that students will undertake, which explores a social scientific area of your interest  (e.g., the dataset you used for homework 1.1). [kaggle.com](https://www.kaggle.com/datasets) is a popular website for machine learning related datasets, and you can find a good resource for social science datasets [here](https://guides.emich.edu/data/free-data)."
      ]
    },
    {
      "cell_type": "code",
      "source": [
        "import csv\n",
        "import pandas as pd\n",
        "\n",
        "\n",
        "data = pd.read_csv('/content/2019.csv')"
      ],
      "metadata": {
        "id": "Xc7R_MfVyZ6G"
      },
      "execution_count": 88,
      "outputs": []
    },
    {
      "cell_type": "markdown",
      "metadata": {
        "id": "wx8cPoZpvuSF"
      },
      "source": [
        "**2)** Perform a binary classification task (e.g., predicting the presence of absence of a certain state or code) with a ReLU activation for the hidden layers and a sigmoid activation for the output layer (as demonstrated above) using Keras & Pytorch."
      ]
    },
    {
      "cell_type": "code",
      "source": [
        "threshold = data['Score'].median()\n",
        "\n",
        "# Create a new binary target variable based on the threshold\n",
        "data['Happy'] = (data['Score'] > threshold).astype(int)\n",
        "\n",
        "\n",
        "target_balance = data['Happy'].value_counts(normalize=True)\n",
        "\n",
        "threshold, target_balance"
      ],
      "metadata": {
        "colab": {
          "base_uri": "https://localhost:8080/"
        },
        "id": "i__QuhLryqT1",
        "outputId": "7632d800-d79e-4af7-fba8-8045850875c0"
      },
      "execution_count": 89,
      "outputs": [
        {
          "output_type": "execute_result",
          "data": {
            "text/plain": [
              "(5.3795,\n",
              " 1    0.5\n",
              " 0    0.5\n",
              " Name: Happy, dtype: float64)"
            ]
          },
          "metadata": {},
          "execution_count": 89
        }
      ]
    },
    {
      "cell_type": "code",
      "source": [
        "from tensorflow.keras.models import Sequential\n",
        "from tensorflow.keras.layers import Dense\n",
        "from tensorflow.keras.optimizers import Adam\n",
        "\n",
        "# Define the model\n",
        "model_keras = Sequential([\n",
        "    Dense(64, activation='relu', input_shape=(X_train.shape[1],)),\n",
        "    Dense(64, activation='relu'),\n",
        "    Dense(1, activation='sigmoid')\n",
        "])\n",
        "\n",
        "\n",
        "model_keras.compile(optimizer=Adam(), loss='binary_crossentropy', metrics=['accuracy'])\n",
        "\n",
        "# Train the model\n",
        "history = model_keras.fit(X_train, y_train, epochs=100, validation_split=0.2)\n",
        "\n",
        "# Evaluate the model on the test set\n",
        "test_loss, test_accuracy = model_keras.evaluate(X_test, y_test)\n",
        "print(f\"Test Accuracy: {test_accuracy*100:.2f}%\")"
      ],
      "metadata": {
        "colab": {
          "base_uri": "https://localhost:8080/"
        },
        "id": "1MhZr0Zs2B3O",
        "outputId": "e26913af-4e48-4eda-d3f4-a264f7162009"
      },
      "execution_count": 90,
      "outputs": [
        {
          "output_type": "stream",
          "name": "stdout",
          "text": [
            "Epoch 1/100\n",
            "4/4 [==============================] - 1s 70ms/step - loss: 2.0612 - accuracy: 0.5333 - val_loss: 0.9808 - val_accuracy: 0.7000\n",
            "Epoch 2/100\n",
            "4/4 [==============================] - 0s 11ms/step - loss: 0.9884 - accuracy: 0.6000 - val_loss: 1.1888 - val_accuracy: 0.5000\n",
            "Epoch 3/100\n",
            "4/4 [==============================] - 0s 11ms/step - loss: 0.7337 - accuracy: 0.6333 - val_loss: 1.3037 - val_accuracy: 0.5000\n",
            "Epoch 4/100\n",
            "4/4 [==============================] - 0s 12ms/step - loss: 0.4587 - accuracy: 0.7917 - val_loss: 1.1599 - val_accuracy: 0.6000\n",
            "Epoch 5/100\n",
            "4/4 [==============================] - 0s 12ms/step - loss: 0.2423 - accuracy: 0.9417 - val_loss: 1.1084 - val_accuracy: 0.6333\n",
            "Epoch 6/100\n",
            "4/4 [==============================] - 0s 14ms/step - loss: 0.1806 - accuracy: 0.9583 - val_loss: 1.1291 - val_accuracy: 0.5333\n",
            "Epoch 7/100\n",
            "4/4 [==============================] - 0s 11ms/step - loss: 0.1414 - accuracy: 0.9833 - val_loss: 1.1260 - val_accuracy: 0.5667\n",
            "Epoch 8/100\n",
            "4/4 [==============================] - 0s 11ms/step - loss: 0.0975 - accuracy: 1.0000 - val_loss: 1.1211 - val_accuracy: 0.6000\n",
            "Epoch 9/100\n",
            "4/4 [==============================] - 0s 12ms/step - loss: 0.0690 - accuracy: 1.0000 - val_loss: 1.1257 - val_accuracy: 0.6000\n",
            "Epoch 10/100\n",
            "4/4 [==============================] - 0s 12ms/step - loss: 0.0545 - accuracy: 1.0000 - val_loss: 1.1393 - val_accuracy: 0.5667\n",
            "Epoch 11/100\n",
            "4/4 [==============================] - 0s 11ms/step - loss: 0.0454 - accuracy: 1.0000 - val_loss: 1.1516 - val_accuracy: 0.5667\n",
            "Epoch 12/100\n",
            "4/4 [==============================] - 0s 11ms/step - loss: 0.0391 - accuracy: 1.0000 - val_loss: 1.1574 - val_accuracy: 0.5667\n",
            "Epoch 13/100\n",
            "4/4 [==============================] - 0s 12ms/step - loss: 0.0329 - accuracy: 1.0000 - val_loss: 1.1611 - val_accuracy: 0.5667\n",
            "Epoch 14/100\n",
            "4/4 [==============================] - 0s 11ms/step - loss: 0.0290 - accuracy: 1.0000 - val_loss: 1.1621 - val_accuracy: 0.5667\n",
            "Epoch 15/100\n",
            "4/4 [==============================] - 0s 12ms/step - loss: 0.0254 - accuracy: 1.0000 - val_loss: 1.1642 - val_accuracy: 0.5667\n",
            "Epoch 16/100\n",
            "4/4 [==============================] - 0s 11ms/step - loss: 0.0228 - accuracy: 1.0000 - val_loss: 1.1667 - val_accuracy: 0.5667\n",
            "Epoch 17/100\n",
            "4/4 [==============================] - 0s 12ms/step - loss: 0.0207 - accuracy: 1.0000 - val_loss: 1.1729 - val_accuracy: 0.5667\n",
            "Epoch 18/100\n",
            "4/4 [==============================] - 0s 11ms/step - loss: 0.0190 - accuracy: 1.0000 - val_loss: 1.1803 - val_accuracy: 0.5667\n",
            "Epoch 19/100\n",
            "4/4 [==============================] - 0s 11ms/step - loss: 0.0176 - accuracy: 1.0000 - val_loss: 1.1882 - val_accuracy: 0.5667\n",
            "Epoch 20/100\n",
            "4/4 [==============================] - 0s 11ms/step - loss: 0.0163 - accuracy: 1.0000 - val_loss: 1.1960 - val_accuracy: 0.5667\n",
            "Epoch 21/100\n",
            "4/4 [==============================] - 0s 11ms/step - loss: 0.0152 - accuracy: 1.0000 - val_loss: 1.2049 - val_accuracy: 0.5667\n",
            "Epoch 22/100\n",
            "4/4 [==============================] - 0s 11ms/step - loss: 0.0142 - accuracy: 1.0000 - val_loss: 1.2134 - val_accuracy: 0.5667\n",
            "Epoch 23/100\n",
            "4/4 [==============================] - 0s 11ms/step - loss: 0.0133 - accuracy: 1.0000 - val_loss: 1.2210 - val_accuracy: 0.5667\n",
            "Epoch 24/100\n",
            "4/4 [==============================] - 0s 11ms/step - loss: 0.0125 - accuracy: 1.0000 - val_loss: 1.2299 - val_accuracy: 0.5667\n",
            "Epoch 25/100\n",
            "4/4 [==============================] - 0s 11ms/step - loss: 0.0119 - accuracy: 1.0000 - val_loss: 1.2366 - val_accuracy: 0.5667\n",
            "Epoch 26/100\n",
            "4/4 [==============================] - 0s 11ms/step - loss: 0.0112 - accuracy: 1.0000 - val_loss: 1.2428 - val_accuracy: 0.5667\n",
            "Epoch 27/100\n",
            "4/4 [==============================] - 0s 12ms/step - loss: 0.0106 - accuracy: 1.0000 - val_loss: 1.2485 - val_accuracy: 0.5667\n",
            "Epoch 28/100\n",
            "4/4 [==============================] - 0s 11ms/step - loss: 0.0101 - accuracy: 1.0000 - val_loss: 1.2539 - val_accuracy: 0.5667\n",
            "Epoch 29/100\n",
            "4/4 [==============================] - 0s 17ms/step - loss: 0.0096 - accuracy: 1.0000 - val_loss: 1.2590 - val_accuracy: 0.5667\n",
            "Epoch 30/100\n",
            "4/4 [==============================] - 0s 22ms/step - loss: 0.0091 - accuracy: 1.0000 - val_loss: 1.2637 - val_accuracy: 0.5667\n",
            "Epoch 31/100\n",
            "4/4 [==============================] - 0s 20ms/step - loss: 0.0087 - accuracy: 1.0000 - val_loss: 1.2693 - val_accuracy: 0.5667\n",
            "Epoch 32/100\n",
            "4/4 [==============================] - 0s 22ms/step - loss: 0.0083 - accuracy: 1.0000 - val_loss: 1.2735 - val_accuracy: 0.5667\n",
            "Epoch 33/100\n",
            "4/4 [==============================] - 0s 16ms/step - loss: 0.0079 - accuracy: 1.0000 - val_loss: 1.2777 - val_accuracy: 0.5667\n",
            "Epoch 34/100\n",
            "4/4 [==============================] - 0s 20ms/step - loss: 0.0076 - accuracy: 1.0000 - val_loss: 1.2809 - val_accuracy: 0.5667\n",
            "Epoch 35/100\n",
            "4/4 [==============================] - 0s 22ms/step - loss: 0.0073 - accuracy: 1.0000 - val_loss: 1.2851 - val_accuracy: 0.5667\n",
            "Epoch 36/100\n",
            "4/4 [==============================] - 0s 22ms/step - loss: 0.0070 - accuracy: 1.0000 - val_loss: 1.2891 - val_accuracy: 0.5667\n",
            "Epoch 37/100\n",
            "4/4 [==============================] - 0s 22ms/step - loss: 0.0067 - accuracy: 1.0000 - val_loss: 1.2940 - val_accuracy: 0.5667\n",
            "Epoch 38/100\n",
            "4/4 [==============================] - 0s 18ms/step - loss: 0.0064 - accuracy: 1.0000 - val_loss: 1.2987 - val_accuracy: 0.5667\n",
            "Epoch 39/100\n",
            "4/4 [==============================] - 0s 15ms/step - loss: 0.0062 - accuracy: 1.0000 - val_loss: 1.3022 - val_accuracy: 0.5667\n",
            "Epoch 40/100\n",
            "4/4 [==============================] - 0s 20ms/step - loss: 0.0059 - accuracy: 1.0000 - val_loss: 1.3059 - val_accuracy: 0.5667\n",
            "Epoch 41/100\n",
            "4/4 [==============================] - 0s 17ms/step - loss: 0.0057 - accuracy: 1.0000 - val_loss: 1.3088 - val_accuracy: 0.5667\n",
            "Epoch 42/100\n",
            "4/4 [==============================] - 0s 21ms/step - loss: 0.0055 - accuracy: 1.0000 - val_loss: 1.3126 - val_accuracy: 0.5667\n",
            "Epoch 43/100\n",
            "4/4 [==============================] - 0s 15ms/step - loss: 0.0053 - accuracy: 1.0000 - val_loss: 1.3165 - val_accuracy: 0.5667\n",
            "Epoch 44/100\n",
            "4/4 [==============================] - 0s 21ms/step - loss: 0.0051 - accuracy: 1.0000 - val_loss: 1.3191 - val_accuracy: 0.5667\n",
            "Epoch 45/100\n",
            "4/4 [==============================] - 0s 15ms/step - loss: 0.0049 - accuracy: 1.0000 - val_loss: 1.3223 - val_accuracy: 0.5667\n",
            "Epoch 46/100\n",
            "4/4 [==============================] - 0s 15ms/step - loss: 0.0047 - accuracy: 1.0000 - val_loss: 1.3259 - val_accuracy: 0.5667\n",
            "Epoch 47/100\n",
            "4/4 [==============================] - 0s 14ms/step - loss: 0.0046 - accuracy: 1.0000 - val_loss: 1.3298 - val_accuracy: 0.5667\n",
            "Epoch 48/100\n",
            "4/4 [==============================] - 0s 21ms/step - loss: 0.0044 - accuracy: 1.0000 - val_loss: 1.3337 - val_accuracy: 0.5667\n",
            "Epoch 49/100\n",
            "4/4 [==============================] - 0s 23ms/step - loss: 0.0043 - accuracy: 1.0000 - val_loss: 1.3372 - val_accuracy: 0.5667\n",
            "Epoch 50/100\n",
            "4/4 [==============================] - 0s 17ms/step - loss: 0.0042 - accuracy: 1.0000 - val_loss: 1.3409 - val_accuracy: 0.5667\n",
            "Epoch 51/100\n",
            "4/4 [==============================] - 0s 20ms/step - loss: 0.0040 - accuracy: 1.0000 - val_loss: 1.3440 - val_accuracy: 0.5667\n",
            "Epoch 52/100\n",
            "4/4 [==============================] - 0s 17ms/step - loss: 0.0039 - accuracy: 1.0000 - val_loss: 1.3472 - val_accuracy: 0.5667\n",
            "Epoch 53/100\n",
            "4/4 [==============================] - 0s 21ms/step - loss: 0.0038 - accuracy: 1.0000 - val_loss: 1.3504 - val_accuracy: 0.5667\n",
            "Epoch 54/100\n",
            "4/4 [==============================] - 0s 20ms/step - loss: 0.0037 - accuracy: 1.0000 - val_loss: 1.3535 - val_accuracy: 0.5667\n",
            "Epoch 55/100\n",
            "4/4 [==============================] - 0s 18ms/step - loss: 0.0036 - accuracy: 1.0000 - val_loss: 1.3563 - val_accuracy: 0.5667\n",
            "Epoch 56/100\n",
            "4/4 [==============================] - 0s 23ms/step - loss: 0.0034 - accuracy: 1.0000 - val_loss: 1.3596 - val_accuracy: 0.5667\n",
            "Epoch 57/100\n",
            "4/4 [==============================] - 0s 16ms/step - loss: 0.0033 - accuracy: 1.0000 - val_loss: 1.3629 - val_accuracy: 0.5667\n",
            "Epoch 58/100\n",
            "4/4 [==============================] - 0s 17ms/step - loss: 0.0032 - accuracy: 1.0000 - val_loss: 1.3661 - val_accuracy: 0.5667\n",
            "Epoch 59/100\n",
            "4/4 [==============================] - 0s 22ms/step - loss: 0.0032 - accuracy: 1.0000 - val_loss: 1.3692 - val_accuracy: 0.5667\n",
            "Epoch 60/100\n",
            "4/4 [==============================] - 0s 11ms/step - loss: 0.0031 - accuracy: 1.0000 - val_loss: 1.3726 - val_accuracy: 0.5667\n",
            "Epoch 61/100\n",
            "4/4 [==============================] - 0s 12ms/step - loss: 0.0030 - accuracy: 1.0000 - val_loss: 1.3752 - val_accuracy: 0.5667\n",
            "Epoch 62/100\n",
            "4/4 [==============================] - 0s 11ms/step - loss: 0.0029 - accuracy: 1.0000 - val_loss: 1.3780 - val_accuracy: 0.5667\n",
            "Epoch 63/100\n",
            "4/4 [==============================] - 0s 11ms/step - loss: 0.0028 - accuracy: 1.0000 - val_loss: 1.3810 - val_accuracy: 0.5667\n",
            "Epoch 64/100\n",
            "4/4 [==============================] - 0s 11ms/step - loss: 0.0028 - accuracy: 1.0000 - val_loss: 1.3835 - val_accuracy: 0.5667\n",
            "Epoch 65/100\n",
            "4/4 [==============================] - 0s 11ms/step - loss: 0.0027 - accuracy: 1.0000 - val_loss: 1.3860 - val_accuracy: 0.5667\n",
            "Epoch 66/100\n",
            "4/4 [==============================] - 0s 11ms/step - loss: 0.0026 - accuracy: 1.0000 - val_loss: 1.3883 - val_accuracy: 0.5667\n",
            "Epoch 67/100\n",
            "4/4 [==============================] - 0s 14ms/step - loss: 0.0025 - accuracy: 1.0000 - val_loss: 1.3906 - val_accuracy: 0.5667\n",
            "Epoch 68/100\n",
            "4/4 [==============================] - 0s 11ms/step - loss: 0.0025 - accuracy: 1.0000 - val_loss: 1.3933 - val_accuracy: 0.5667\n",
            "Epoch 69/100\n",
            "4/4 [==============================] - 0s 11ms/step - loss: 0.0024 - accuracy: 1.0000 - val_loss: 1.3959 - val_accuracy: 0.5667\n",
            "Epoch 70/100\n",
            "4/4 [==============================] - 0s 11ms/step - loss: 0.0024 - accuracy: 1.0000 - val_loss: 1.3981 - val_accuracy: 0.5667\n",
            "Epoch 71/100\n",
            "4/4 [==============================] - 0s 11ms/step - loss: 0.0023 - accuracy: 1.0000 - val_loss: 1.4012 - val_accuracy: 0.5667\n",
            "Epoch 72/100\n",
            "4/4 [==============================] - 0s 11ms/step - loss: 0.0022 - accuracy: 1.0000 - val_loss: 1.4038 - val_accuracy: 0.5667\n",
            "Epoch 73/100\n",
            "4/4 [==============================] - 0s 11ms/step - loss: 0.0022 - accuracy: 1.0000 - val_loss: 1.4059 - val_accuracy: 0.5667\n",
            "Epoch 74/100\n",
            "4/4 [==============================] - 0s 11ms/step - loss: 0.0021 - accuracy: 1.0000 - val_loss: 1.4086 - val_accuracy: 0.5667\n",
            "Epoch 75/100\n",
            "4/4 [==============================] - 0s 12ms/step - loss: 0.0021 - accuracy: 1.0000 - val_loss: 1.4108 - val_accuracy: 0.5667\n",
            "Epoch 76/100\n",
            "4/4 [==============================] - 0s 11ms/step - loss: 0.0020 - accuracy: 1.0000 - val_loss: 1.4132 - val_accuracy: 0.5667\n",
            "Epoch 77/100\n",
            "4/4 [==============================] - 0s 12ms/step - loss: 0.0020 - accuracy: 1.0000 - val_loss: 1.4160 - val_accuracy: 0.5667\n",
            "Epoch 78/100\n",
            "4/4 [==============================] - 0s 11ms/step - loss: 0.0020 - accuracy: 1.0000 - val_loss: 1.4183 - val_accuracy: 0.5667\n",
            "Epoch 79/100\n",
            "4/4 [==============================] - 0s 11ms/step - loss: 0.0019 - accuracy: 1.0000 - val_loss: 1.4205 - val_accuracy: 0.5667\n",
            "Epoch 80/100\n",
            "4/4 [==============================] - 0s 11ms/step - loss: 0.0019 - accuracy: 1.0000 - val_loss: 1.4229 - val_accuracy: 0.5667\n",
            "Epoch 81/100\n",
            "4/4 [==============================] - 0s 12ms/step - loss: 0.0018 - accuracy: 1.0000 - val_loss: 1.4249 - val_accuracy: 0.5667\n",
            "Epoch 82/100\n",
            "4/4 [==============================] - 0s 11ms/step - loss: 0.0018 - accuracy: 1.0000 - val_loss: 1.4265 - val_accuracy: 0.5667\n",
            "Epoch 83/100\n",
            "4/4 [==============================] - 0s 12ms/step - loss: 0.0018 - accuracy: 1.0000 - val_loss: 1.4281 - val_accuracy: 0.5667\n",
            "Epoch 84/100\n",
            "4/4 [==============================] - 0s 11ms/step - loss: 0.0017 - accuracy: 1.0000 - val_loss: 1.4303 - val_accuracy: 0.5667\n",
            "Epoch 85/100\n",
            "4/4 [==============================] - 0s 12ms/step - loss: 0.0017 - accuracy: 1.0000 - val_loss: 1.4328 - val_accuracy: 0.5667\n",
            "Epoch 86/100\n",
            "4/4 [==============================] - 0s 12ms/step - loss: 0.0016 - accuracy: 1.0000 - val_loss: 1.4352 - val_accuracy: 0.5667\n",
            "Epoch 87/100\n",
            "4/4 [==============================] - 0s 11ms/step - loss: 0.0016 - accuracy: 1.0000 - val_loss: 1.4372 - val_accuracy: 0.5667\n",
            "Epoch 88/100\n",
            "4/4 [==============================] - 0s 11ms/step - loss: 0.0016 - accuracy: 1.0000 - val_loss: 1.4390 - val_accuracy: 0.5667\n",
            "Epoch 89/100\n",
            "4/4 [==============================] - 0s 20ms/step - loss: 0.0015 - accuracy: 1.0000 - val_loss: 1.4410 - val_accuracy: 0.5667\n",
            "Epoch 90/100\n",
            "4/4 [==============================] - 0s 31ms/step - loss: 0.0015 - accuracy: 1.0000 - val_loss: 1.4432 - val_accuracy: 0.5667\n",
            "Epoch 91/100\n",
            "4/4 [==============================] - 0s 26ms/step - loss: 0.0015 - accuracy: 1.0000 - val_loss: 1.4459 - val_accuracy: 0.5667\n",
            "Epoch 92/100\n",
            "4/4 [==============================] - 0s 49ms/step - loss: 0.0015 - accuracy: 1.0000 - val_loss: 1.4481 - val_accuracy: 0.5667\n",
            "Epoch 93/100\n",
            "4/4 [==============================] - 0s 25ms/step - loss: 0.0014 - accuracy: 1.0000 - val_loss: 1.4498 - val_accuracy: 0.5667\n",
            "Epoch 94/100\n",
            "4/4 [==============================] - 0s 33ms/step - loss: 0.0014 - accuracy: 1.0000 - val_loss: 1.4517 - val_accuracy: 0.5667\n",
            "Epoch 95/100\n",
            "4/4 [==============================] - 0s 51ms/step - loss: 0.0014 - accuracy: 1.0000 - val_loss: 1.4538 - val_accuracy: 0.5667\n",
            "Epoch 96/100\n",
            "4/4 [==============================] - 0s 44ms/step - loss: 0.0013 - accuracy: 1.0000 - val_loss: 1.4557 - val_accuracy: 0.5667\n",
            "Epoch 97/100\n",
            "4/4 [==============================] - 0s 26ms/step - loss: 0.0013 - accuracy: 1.0000 - val_loss: 1.4575 - val_accuracy: 0.5667\n",
            "Epoch 98/100\n",
            "4/4 [==============================] - 0s 32ms/step - loss: 0.0013 - accuracy: 1.0000 - val_loss: 1.4590 - val_accuracy: 0.5667\n",
            "Epoch 99/100\n",
            "4/4 [==============================] - 0s 29ms/step - loss: 0.0013 - accuracy: 1.0000 - val_loss: 1.4610 - val_accuracy: 0.5667\n",
            "Epoch 100/100\n",
            "4/4 [==============================] - 0s 37ms/step - loss: 0.0012 - accuracy: 1.0000 - val_loss: 1.4632 - val_accuracy: 0.5667\n",
            "2/2 [==============================] - 0s 10ms/step - loss: 1.0281 - accuracy: 0.7000\n",
            "Test Accuracy: 70.00%\n"
          ]
        }
      ]
    },
    {
      "cell_type": "code",
      "source": [
        "import torch\n",
        "from torch import nn\n",
        "from torch.utils.data import DataLoader, TensorDataset\n",
        "from sklearn.model_selection import train_test_split\n",
        "from sklearn.preprocessing import StandardScaler\n",
        "\n",
        "# Prepare the data\n",
        "scaler = StandardScaler()\n",
        "X_train_scaled = scaler.fit_transform(X_train)\n",
        "X_test_scaled = scaler.transform(X_test)\n",
        "\n",
        "train_dataset = TensorDataset(torch.tensor(X_train_scaled).float(), torch.tensor(y_train).float())\n",
        "test_dataset = TensorDataset(torch.tensor(X_test_scaled).float(), torch.tensor(y_test).float())\n",
        "\n",
        "train_loader = DataLoader(train_dataset, batch_size=16, shuffle=True)\n",
        "test_loader = DataLoader(test_dataset, batch_size=16, shuffle=False)\n",
        "\n",
        "# Define the model\n",
        "class BinaryClassifier(nn.Module):\n",
        "    def __init__(self):\n",
        "        super(BinaryClassifier, self).__init__()\n",
        "        self.linear_stack = nn.Sequential(\n",
        "            nn.Linear(X_train.shape[1], 64),\n",
        "            nn.ReLU(),\n",
        "            nn.Linear(64, 64),\n",
        "            nn.ReLU(),\n",
        "            nn.Linear(64, 1),\n",
        "            nn.Sigmoid(),\n",
        "        )\n",
        "\n",
        "    def forward(self, x):\n",
        "        return self.linear_stack(x)\n",
        "\n",
        "model = BinaryClassifier()\n",
        "\n",
        "# Training\n",
        "criterion = nn.BCELoss()\n",
        "optimizer = torch.optim.Adam(model.parameters(), lr=0.001)\n",
        "\n",
        "for epoch in range(100):\n",
        "    for batch, (X_batch, y_batch) in enumerate(train_loader):\n",
        "\n",
        "        pred = model(X_batch)\n",
        "        loss = criterion(pred.squeeze(), y_batch)\n",
        "\n",
        "\n",
        "        optimizer.zero_grad()\n",
        "        loss.backward()\n",
        "        optimizer.step()"
      ],
      "metadata": {
        "id": "nQnjYEnn2Vf3"
      },
      "execution_count": 93,
      "outputs": []
    },
    {
      "cell_type": "code",
      "source": [
        "from sklearn.metrics import accuracy_score\n",
        "\n",
        "# Function to calculate accuracy\n",
        "def binary_accuracy(preds, y):\n",
        "\n",
        "    rounded_preds = torch.round(preds)\n",
        "    correct = (rounded_preds == y).float()\n",
        "    acc = correct.sum() / len(correct)\n",
        "    return acc\n",
        "\n",
        "\n",
        "def evaluate(model, test_loader):\n",
        "    model.eval()\n",
        "    total_accuracy = 0\n",
        "    total_samples = 0\n",
        "\n",
        "    with torch.no_grad():\n",
        "        for X_batch, y_batch in test_loader:\n",
        "            predictions = model(X_batch).squeeze()\n",
        "            accuracy = binary_accuracy(predictions, y_batch)\n",
        "            total_accuracy += accuracy.item() * len(X_batch)\n",
        "            total_samples += len(X_batch)\n",
        "\n",
        "    return total_accuracy / total_samples\n",
        "\n",
        "\n",
        "test_accuracy = evaluate(model, test_loader)\n",
        "print(f'Test Accuracy: {test_accuracy*100:.2f}%')"
      ],
      "metadata": {
        "colab": {
          "base_uri": "https://localhost:8080/"
        },
        "id": "K7EBZp2N3UKT",
        "outputId": "477272da-1006-497f-a5a9-37fd45d8b597"
      },
      "execution_count": 95,
      "outputs": [
        {
          "output_type": "stream",
          "name": "stdout",
          "text": [
            "Test Accuracy: 68.00%\n"
          ]
        }
      ]
    },
    {
      "cell_type": "markdown",
      "metadata": {
        "id": "Va-qxtjPv013"
      },
      "source": [
        "**2b)** Which worked better (Keras or PyTorch)?\n",
        "\n"
      ]
    },
    {
      "cell_type": "code",
      "execution_count": 96,
      "metadata": {
        "id": "P_B-w8ngwERa"
      },
      "outputs": [],
      "source": [
        "winner = 'Keras' #@param ['Select', 'PyTorch', 'Keras']"
      ]
    },
    {
      "cell_type": "markdown",
      "metadata": {
        "id": "CpzJrEjgZVwU"
      },
      "source": [
        "**3)** Create an alternative network that uses a different loss function using whichever package performed better on **2b**."
      ]
    },
    {
      "cell_type": "code",
      "source": [
        "from tensorflow.keras.models import Sequential\n",
        "from tensorflow.keras.layers import Dense\n",
        "from tensorflow.keras.optimizers import Adam\n",
        "\n",
        "# alternative model\n",
        "model_alt = Sequential([\n",
        "    Dense(64, activation='relu', input_shape=(X_train.shape[1],)),\n",
        "    Dense(64, activation='relu'),\n",
        "    Dense(1, activation='sigmoid')\n",
        "])\n",
        "\n",
        "# Compile the alternative model with mean squared error as the loss function\n",
        "model_alt.compile(optimizer=Adam(), loss='mean_squared_error', metrics=['accuracy'])\n",
        "\n",
        "\n",
        "history_alt = model_alt.fit(X_train, y_train, epochs=100, validation_split=0.2, verbose=1)\n",
        "\n",
        "test_loss_alt, test_accuracy_alt = model_alt.evaluate(X_test, y_test, verbose=1)\n",
        "print(f\"Alternative Model Test Accuracy: {test_accuracy_alt*100:.2f}%\")"
      ],
      "metadata": {
        "colab": {
          "base_uri": "https://localhost:8080/"
        },
        "id": "Wwb3rHkG3nro",
        "outputId": "2485797c-b104-4168-9ed2-6370a8890b1e"
      },
      "execution_count": 97,
      "outputs": [
        {
          "output_type": "stream",
          "name": "stdout",
          "text": [
            "Epoch 1/100\n",
            "4/4 [==============================] - 2s 92ms/step - loss: 0.3184 - accuracy: 0.5833 - val_loss: 0.5315 - val_accuracy: 0.3333\n",
            "Epoch 2/100\n",
            "4/4 [==============================] - 0s 22ms/step - loss: 0.1883 - accuracy: 0.7833 - val_loss: 0.5301 - val_accuracy: 0.3667\n",
            "Epoch 3/100\n",
            "4/4 [==============================] - 0s 36ms/step - loss: 0.1317 - accuracy: 0.8667 - val_loss: 0.5166 - val_accuracy: 0.3667\n",
            "Epoch 4/100\n",
            "4/4 [==============================] - 0s 27ms/step - loss: 0.0966 - accuracy: 0.8917 - val_loss: 0.4976 - val_accuracy: 0.3333\n",
            "Epoch 5/100\n",
            "4/4 [==============================] - 0s 35ms/step - loss: 0.0776 - accuracy: 0.9250 - val_loss: 0.4629 - val_accuracy: 0.3667\n",
            "Epoch 6/100\n",
            "4/4 [==============================] - 0s 29ms/step - loss: 0.0649 - accuracy: 0.9250 - val_loss: 0.4284 - val_accuracy: 0.4333\n",
            "Epoch 7/100\n",
            "4/4 [==============================] - 0s 23ms/step - loss: 0.0510 - accuracy: 0.9333 - val_loss: 0.4055 - val_accuracy: 0.4667\n",
            "Epoch 8/100\n",
            "4/4 [==============================] - 0s 26ms/step - loss: 0.0357 - accuracy: 0.9583 - val_loss: 0.3936 - val_accuracy: 0.4667\n",
            "Epoch 9/100\n",
            "4/4 [==============================] - 0s 16ms/step - loss: 0.0255 - accuracy: 0.9750 - val_loss: 0.3847 - val_accuracy: 0.4667\n",
            "Epoch 10/100\n",
            "4/4 [==============================] - 0s 11ms/step - loss: 0.0188 - accuracy: 0.9833 - val_loss: 0.3819 - val_accuracy: 0.5000\n",
            "Epoch 11/100\n",
            "4/4 [==============================] - 0s 11ms/step - loss: 0.0141 - accuracy: 0.9833 - val_loss: 0.3804 - val_accuracy: 0.5000\n",
            "Epoch 12/100\n",
            "4/4 [==============================] - 0s 11ms/step - loss: 0.0072 - accuracy: 0.9917 - val_loss: 0.3819 - val_accuracy: 0.5000\n",
            "Epoch 13/100\n",
            "4/4 [==============================] - 0s 10ms/step - loss: 0.0054 - accuracy: 0.9917 - val_loss: 0.3867 - val_accuracy: 0.5000\n",
            "Epoch 14/100\n",
            "4/4 [==============================] - 0s 11ms/step - loss: 0.0011 - accuracy: 1.0000 - val_loss: 0.3926 - val_accuracy: 0.5333\n",
            "Epoch 15/100\n",
            "4/4 [==============================] - 0s 11ms/step - loss: 8.9479e-04 - accuracy: 1.0000 - val_loss: 0.3976 - val_accuracy: 0.5333\n",
            "Epoch 16/100\n",
            "4/4 [==============================] - 0s 11ms/step - loss: 7.7064e-04 - accuracy: 1.0000 - val_loss: 0.4012 - val_accuracy: 0.5000\n",
            "Epoch 17/100\n",
            "4/4 [==============================] - 0s 11ms/step - loss: 6.7407e-04 - accuracy: 1.0000 - val_loss: 0.4038 - val_accuracy: 0.4667\n",
            "Epoch 18/100\n",
            "4/4 [==============================] - 0s 12ms/step - loss: 5.9197e-04 - accuracy: 1.0000 - val_loss: 0.4054 - val_accuracy: 0.4667\n",
            "Epoch 19/100\n",
            "4/4 [==============================] - 0s 11ms/step - loss: 5.2313e-04 - accuracy: 1.0000 - val_loss: 0.4064 - val_accuracy: 0.4667\n",
            "Epoch 20/100\n",
            "4/4 [==============================] - 0s 11ms/step - loss: 4.7175e-04 - accuracy: 1.0000 - val_loss: 0.4069 - val_accuracy: 0.4667\n",
            "Epoch 21/100\n",
            "4/4 [==============================] - 0s 11ms/step - loss: 4.2967e-04 - accuracy: 1.0000 - val_loss: 0.4072 - val_accuracy: 0.4667\n",
            "Epoch 22/100\n",
            "4/4 [==============================] - 0s 17ms/step - loss: 3.9675e-04 - accuracy: 1.0000 - val_loss: 0.4074 - val_accuracy: 0.4667\n",
            "Epoch 23/100\n",
            "4/4 [==============================] - 0s 11ms/step - loss: 3.6882e-04 - accuracy: 1.0000 - val_loss: 0.4075 - val_accuracy: 0.4667\n",
            "Epoch 24/100\n",
            "4/4 [==============================] - 0s 11ms/step - loss: 3.4407e-04 - accuracy: 1.0000 - val_loss: 0.4076 - val_accuracy: 0.4667\n",
            "Epoch 25/100\n",
            "4/4 [==============================] - 0s 11ms/step - loss: 3.2272e-04 - accuracy: 1.0000 - val_loss: 0.4078 - val_accuracy: 0.4667\n",
            "Epoch 26/100\n",
            "4/4 [==============================] - 0s 11ms/step - loss: 3.0589e-04 - accuracy: 1.0000 - val_loss: 0.4080 - val_accuracy: 0.4667\n",
            "Epoch 27/100\n",
            "4/4 [==============================] - 0s 11ms/step - loss: 2.8878e-04 - accuracy: 1.0000 - val_loss: 0.4082 - val_accuracy: 0.4667\n",
            "Epoch 28/100\n",
            "4/4 [==============================] - 0s 11ms/step - loss: 2.7484e-04 - accuracy: 1.0000 - val_loss: 0.4083 - val_accuracy: 0.4667\n",
            "Epoch 29/100\n",
            "4/4 [==============================] - 0s 11ms/step - loss: 2.6202e-04 - accuracy: 1.0000 - val_loss: 0.4085 - val_accuracy: 0.4667\n",
            "Epoch 30/100\n",
            "4/4 [==============================] - 0s 11ms/step - loss: 2.5090e-04 - accuracy: 1.0000 - val_loss: 0.4086 - val_accuracy: 0.4667\n",
            "Epoch 31/100\n",
            "4/4 [==============================] - 0s 14ms/step - loss: 2.3958e-04 - accuracy: 1.0000 - val_loss: 0.4087 - val_accuracy: 0.4667\n",
            "Epoch 32/100\n",
            "4/4 [==============================] - 0s 11ms/step - loss: 2.3012e-04 - accuracy: 1.0000 - val_loss: 0.4088 - val_accuracy: 0.4667\n",
            "Epoch 33/100\n",
            "4/4 [==============================] - 0s 12ms/step - loss: 2.2187e-04 - accuracy: 1.0000 - val_loss: 0.4089 - val_accuracy: 0.4667\n",
            "Epoch 34/100\n",
            "4/4 [==============================] - 0s 11ms/step - loss: 2.1315e-04 - accuracy: 1.0000 - val_loss: 0.4090 - val_accuracy: 0.4667\n",
            "Epoch 35/100\n",
            "4/4 [==============================] - 0s 11ms/step - loss: 2.0564e-04 - accuracy: 1.0000 - val_loss: 0.4091 - val_accuracy: 0.4667\n",
            "Epoch 36/100\n",
            "4/4 [==============================] - 0s 12ms/step - loss: 1.9863e-04 - accuracy: 1.0000 - val_loss: 0.4092 - val_accuracy: 0.4667\n",
            "Epoch 37/100\n",
            "4/4 [==============================] - 0s 11ms/step - loss: 1.9165e-04 - accuracy: 1.0000 - val_loss: 0.4093 - val_accuracy: 0.4667\n",
            "Epoch 38/100\n",
            "4/4 [==============================] - 0s 11ms/step - loss: 1.8588e-04 - accuracy: 1.0000 - val_loss: 0.4094 - val_accuracy: 0.4667\n",
            "Epoch 39/100\n",
            "4/4 [==============================] - 0s 11ms/step - loss: 1.7977e-04 - accuracy: 1.0000 - val_loss: 0.4094 - val_accuracy: 0.4667\n",
            "Epoch 40/100\n",
            "4/4 [==============================] - 0s 12ms/step - loss: 1.7422e-04 - accuracy: 1.0000 - val_loss: 0.4094 - val_accuracy: 0.4667\n",
            "Epoch 41/100\n",
            "4/4 [==============================] - 0s 11ms/step - loss: 1.6887e-04 - accuracy: 1.0000 - val_loss: 0.4095 - val_accuracy: 0.5000\n",
            "Epoch 42/100\n",
            "4/4 [==============================] - 0s 11ms/step - loss: 1.6390e-04 - accuracy: 1.0000 - val_loss: 0.4096 - val_accuracy: 0.5000\n",
            "Epoch 43/100\n",
            "4/4 [==============================] - 0s 11ms/step - loss: 1.5881e-04 - accuracy: 1.0000 - val_loss: 0.4096 - val_accuracy: 0.5000\n",
            "Epoch 44/100\n",
            "4/4 [==============================] - 0s 11ms/step - loss: 1.5441e-04 - accuracy: 1.0000 - val_loss: 0.4097 - val_accuracy: 0.5000\n",
            "Epoch 45/100\n",
            "4/4 [==============================] - 0s 11ms/step - loss: 1.5029e-04 - accuracy: 1.0000 - val_loss: 0.4098 - val_accuracy: 0.5000\n",
            "Epoch 46/100\n",
            "4/4 [==============================] - 0s 11ms/step - loss: 1.4589e-04 - accuracy: 1.0000 - val_loss: 0.4098 - val_accuracy: 0.5000\n",
            "Epoch 47/100\n",
            "4/4 [==============================] - 0s 11ms/step - loss: 1.4198e-04 - accuracy: 1.0000 - val_loss: 0.4098 - val_accuracy: 0.5000\n",
            "Epoch 48/100\n",
            "4/4 [==============================] - 0s 12ms/step - loss: 1.3829e-04 - accuracy: 1.0000 - val_loss: 0.4099 - val_accuracy: 0.5000\n",
            "Epoch 49/100\n",
            "4/4 [==============================] - 0s 13ms/step - loss: 1.3452e-04 - accuracy: 1.0000 - val_loss: 0.4099 - val_accuracy: 0.5000\n",
            "Epoch 50/100\n",
            "4/4 [==============================] - 0s 11ms/step - loss: 1.3132e-04 - accuracy: 1.0000 - val_loss: 0.4100 - val_accuracy: 0.5000\n",
            "Epoch 51/100\n",
            "4/4 [==============================] - 0s 11ms/step - loss: 1.2782e-04 - accuracy: 1.0000 - val_loss: 0.4100 - val_accuracy: 0.5000\n",
            "Epoch 52/100\n",
            "4/4 [==============================] - 0s 11ms/step - loss: 1.2472e-04 - accuracy: 1.0000 - val_loss: 0.4100 - val_accuracy: 0.5000\n",
            "Epoch 53/100\n",
            "4/4 [==============================] - 0s 12ms/step - loss: 1.2171e-04 - accuracy: 1.0000 - val_loss: 0.4100 - val_accuracy: 0.5000\n",
            "Epoch 54/100\n",
            "4/4 [==============================] - 0s 19ms/step - loss: 1.1882e-04 - accuracy: 1.0000 - val_loss: 0.4101 - val_accuracy: 0.5000\n",
            "Epoch 55/100\n",
            "4/4 [==============================] - 0s 11ms/step - loss: 1.1591e-04 - accuracy: 1.0000 - val_loss: 0.4101 - val_accuracy: 0.5000\n",
            "Epoch 56/100\n",
            "4/4 [==============================] - 0s 12ms/step - loss: 1.1334e-04 - accuracy: 1.0000 - val_loss: 0.4101 - val_accuracy: 0.5000\n",
            "Epoch 57/100\n",
            "4/4 [==============================] - 0s 11ms/step - loss: 1.1079e-04 - accuracy: 1.0000 - val_loss: 0.4101 - val_accuracy: 0.5000\n",
            "Epoch 58/100\n",
            "4/4 [==============================] - 0s 11ms/step - loss: 1.0817e-04 - accuracy: 1.0000 - val_loss: 0.4101 - val_accuracy: 0.5000\n",
            "Epoch 59/100\n",
            "4/4 [==============================] - 0s 11ms/step - loss: 1.0578e-04 - accuracy: 1.0000 - val_loss: 0.4101 - val_accuracy: 0.5000\n",
            "Epoch 60/100\n",
            "4/4 [==============================] - 0s 12ms/step - loss: 1.0358e-04 - accuracy: 1.0000 - val_loss: 0.4102 - val_accuracy: 0.5000\n",
            "Epoch 61/100\n",
            "4/4 [==============================] - 0s 11ms/step - loss: 1.0130e-04 - accuracy: 1.0000 - val_loss: 0.4103 - val_accuracy: 0.5000\n",
            "Epoch 62/100\n",
            "4/4 [==============================] - 0s 11ms/step - loss: 9.9162e-05 - accuracy: 1.0000 - val_loss: 0.4104 - val_accuracy: 0.5000\n",
            "Epoch 63/100\n",
            "4/4 [==============================] - 0s 11ms/step - loss: 9.7106e-05 - accuracy: 1.0000 - val_loss: 0.4104 - val_accuracy: 0.5000\n",
            "Epoch 64/100\n",
            "4/4 [==============================] - 0s 11ms/step - loss: 9.5109e-05 - accuracy: 1.0000 - val_loss: 0.4105 - val_accuracy: 0.5000\n",
            "Epoch 65/100\n",
            "4/4 [==============================] - 0s 11ms/step - loss: 9.3107e-05 - accuracy: 1.0000 - val_loss: 0.4106 - val_accuracy: 0.5000\n",
            "Epoch 66/100\n",
            "4/4 [==============================] - 0s 11ms/step - loss: 9.1372e-05 - accuracy: 1.0000 - val_loss: 0.4106 - val_accuracy: 0.5000\n",
            "Epoch 67/100\n",
            "4/4 [==============================] - 0s 11ms/step - loss: 8.9439e-05 - accuracy: 1.0000 - val_loss: 0.4107 - val_accuracy: 0.5000\n",
            "Epoch 68/100\n",
            "4/4 [==============================] - 0s 11ms/step - loss: 8.7736e-05 - accuracy: 1.0000 - val_loss: 0.4107 - val_accuracy: 0.5000\n",
            "Epoch 69/100\n",
            "4/4 [==============================] - 0s 11ms/step - loss: 8.6066e-05 - accuracy: 1.0000 - val_loss: 0.4108 - val_accuracy: 0.5000\n",
            "Epoch 70/100\n",
            "4/4 [==============================] - 0s 11ms/step - loss: 8.4331e-05 - accuracy: 1.0000 - val_loss: 0.4108 - val_accuracy: 0.5000\n",
            "Epoch 71/100\n",
            "4/4 [==============================] - 0s 11ms/step - loss: 8.2814e-05 - accuracy: 1.0000 - val_loss: 0.4108 - val_accuracy: 0.5000\n",
            "Epoch 72/100\n",
            "4/4 [==============================] - 0s 11ms/step - loss: 8.1195e-05 - accuracy: 1.0000 - val_loss: 0.4108 - val_accuracy: 0.5000\n",
            "Epoch 73/100\n",
            "4/4 [==============================] - 0s 11ms/step - loss: 7.9693e-05 - accuracy: 1.0000 - val_loss: 0.4108 - val_accuracy: 0.5000\n",
            "Epoch 74/100\n",
            "4/4 [==============================] - 0s 11ms/step - loss: 7.8249e-05 - accuracy: 1.0000 - val_loss: 0.4109 - val_accuracy: 0.5000\n",
            "Epoch 75/100\n",
            "4/4 [==============================] - 0s 11ms/step - loss: 7.6812e-05 - accuracy: 1.0000 - val_loss: 0.4110 - val_accuracy: 0.5000\n",
            "Epoch 76/100\n",
            "4/4 [==============================] - 0s 11ms/step - loss: 7.5446e-05 - accuracy: 1.0000 - val_loss: 0.4110 - val_accuracy: 0.5000\n",
            "Epoch 77/100\n",
            "4/4 [==============================] - 0s 18ms/step - loss: 7.4123e-05 - accuracy: 1.0000 - val_loss: 0.4110 - val_accuracy: 0.5000\n",
            "Epoch 78/100\n",
            "4/4 [==============================] - 0s 10ms/step - loss: 7.2831e-05 - accuracy: 1.0000 - val_loss: 0.4111 - val_accuracy: 0.5000\n",
            "Epoch 79/100\n",
            "4/4 [==============================] - 0s 11ms/step - loss: 7.1538e-05 - accuracy: 1.0000 - val_loss: 0.4111 - val_accuracy: 0.5000\n",
            "Epoch 80/100\n",
            "4/4 [==============================] - 0s 11ms/step - loss: 7.0370e-05 - accuracy: 1.0000 - val_loss: 0.4111 - val_accuracy: 0.5000\n",
            "Epoch 81/100\n",
            "4/4 [==============================] - 0s 16ms/step - loss: 6.9194e-05 - accuracy: 1.0000 - val_loss: 0.4111 - val_accuracy: 0.5000\n",
            "Epoch 82/100\n",
            "4/4 [==============================] - 0s 11ms/step - loss: 6.7978e-05 - accuracy: 1.0000 - val_loss: 0.4112 - val_accuracy: 0.5000\n",
            "Epoch 83/100\n",
            "4/4 [==============================] - 0s 11ms/step - loss: 6.6854e-05 - accuracy: 1.0000 - val_loss: 0.4113 - val_accuracy: 0.5000\n",
            "Epoch 84/100\n",
            "4/4 [==============================] - 0s 11ms/step - loss: 6.5808e-05 - accuracy: 1.0000 - val_loss: 0.4113 - val_accuracy: 0.5000\n",
            "Epoch 85/100\n",
            "4/4 [==============================] - 0s 12ms/step - loss: 6.4702e-05 - accuracy: 1.0000 - val_loss: 0.4114 - val_accuracy: 0.5000\n",
            "Epoch 86/100\n",
            "4/4 [==============================] - 0s 11ms/step - loss: 6.3627e-05 - accuracy: 1.0000 - val_loss: 0.4114 - val_accuracy: 0.5000\n",
            "Epoch 87/100\n",
            "4/4 [==============================] - 0s 11ms/step - loss: 6.2721e-05 - accuracy: 1.0000 - val_loss: 0.4114 - val_accuracy: 0.5000\n",
            "Epoch 88/100\n",
            "4/4 [==============================] - 0s 11ms/step - loss: 6.1701e-05 - accuracy: 1.0000 - val_loss: 0.4115 - val_accuracy: 0.5000\n",
            "Epoch 89/100\n",
            "4/4 [==============================] - 0s 14ms/step - loss: 6.0787e-05 - accuracy: 1.0000 - val_loss: 0.4115 - val_accuracy: 0.5000\n",
            "Epoch 90/100\n",
            "4/4 [==============================] - 0s 13ms/step - loss: 5.9767e-05 - accuracy: 1.0000 - val_loss: 0.4115 - val_accuracy: 0.5000\n",
            "Epoch 91/100\n",
            "4/4 [==============================] - 0s 11ms/step - loss: 5.8938e-05 - accuracy: 1.0000 - val_loss: 0.4116 - val_accuracy: 0.5000\n",
            "Epoch 92/100\n",
            "4/4 [==============================] - 0s 11ms/step - loss: 5.8014e-05 - accuracy: 1.0000 - val_loss: 0.4116 - val_accuracy: 0.5000\n",
            "Epoch 93/100\n",
            "4/4 [==============================] - 0s 11ms/step - loss: 5.7149e-05 - accuracy: 1.0000 - val_loss: 0.4116 - val_accuracy: 0.5000\n",
            "Epoch 94/100\n",
            "4/4 [==============================] - 0s 11ms/step - loss: 5.6312e-05 - accuracy: 1.0000 - val_loss: 0.4117 - val_accuracy: 0.5000\n",
            "Epoch 95/100\n",
            "4/4 [==============================] - 0s 11ms/step - loss: 5.5517e-05 - accuracy: 1.0000 - val_loss: 0.4117 - val_accuracy: 0.5000\n",
            "Epoch 96/100\n",
            "4/4 [==============================] - 0s 11ms/step - loss: 5.4675e-05 - accuracy: 1.0000 - val_loss: 0.4117 - val_accuracy: 0.5000\n",
            "Epoch 97/100\n",
            "4/4 [==============================] - 0s 11ms/step - loss: 5.3909e-05 - accuracy: 1.0000 - val_loss: 0.4117 - val_accuracy: 0.5000\n",
            "Epoch 98/100\n",
            "4/4 [==============================] - 0s 11ms/step - loss: 5.3123e-05 - accuracy: 1.0000 - val_loss: 0.4117 - val_accuracy: 0.5000\n",
            "Epoch 99/100\n",
            "4/4 [==============================] - 0s 11ms/step - loss: 5.2361e-05 - accuracy: 1.0000 - val_loss: 0.4117 - val_accuracy: 0.5000\n",
            "Epoch 100/100\n",
            "4/4 [==============================] - 0s 14ms/step - loss: 5.1643e-05 - accuracy: 1.0000 - val_loss: 0.4118 - val_accuracy: 0.5000\n",
            "2/2 [==============================] - 0s 7ms/step - loss: 0.2183 - accuracy: 0.7000\n",
            "Alternative Model Test Accuracy: 70.00%\n"
          ]
        }
      ]
    },
    {
      "cell_type": "markdown",
      "metadata": {
        "id": "0LIGYWCjZ7FL"
      },
      "source": [
        "**3b)** Which loss worked better?"
      ]
    },
    {
      "cell_type": "code",
      "execution_count": 98,
      "metadata": {
        "id": "z4tf9WFkZx4f"
      },
      "outputs": [],
      "source": [
        "bestloss = 'Somehow they perform equally' #@param {type:\"string\"}"
      ]
    },
    {
      "cell_type": "markdown",
      "metadata": {
        "id": "BuQIY-O7x5xD"
      },
      "source": [
        "**4)** Create at least 3 alternative neural networks that use a different activation function for the hidden layers (e.g., GELU, tanh, swish) using whichever package performed better on **2b**."
      ]
    },
    {
      "cell_type": "code",
      "source": [
        "# GELU\n",
        "from tensorflow.keras.models import Sequential\n",
        "from tensorflow.keras.layers import Dense\n",
        "from tensorflow.keras.activations import gelu\n",
        "\n",
        "model_gelu = Sequential([\n",
        "    Dense(64, activation=gelu, input_shape=(X_train.shape[1],)),\n",
        "    Dense(64, activation=gelu),\n",
        "    Dense(1, activation='sigmoid')\n",
        "])\n",
        "\n",
        "model_gelu.compile(optimizer='adam', loss='binary_crossentropy', metrics=['accuracy'])\n",
        "\n",
        "history_gelu = model_gelu.fit(X_train, y_train, epochs=100, validation_split=0.2, verbose=1)\n",
        "\n",
        "test_loss_alt, test_accuracy_alt = model_gelu.evaluate(X_test, y_test, verbose=1)"
      ],
      "metadata": {
        "colab": {
          "base_uri": "https://localhost:8080/"
        },
        "id": "gxDxi26i4g-j",
        "outputId": "ed7beae7-533c-4100-c77b-b8e8601ccbd9"
      },
      "execution_count": 104,
      "outputs": [
        {
          "output_type": "stream",
          "name": "stdout",
          "text": [
            "Epoch 1/100\n",
            "4/4 [==============================] - 2s 65ms/step - loss: 1.5412 - accuracy: 0.5250 - val_loss: 1.1779 - val_accuracy: 0.5667\n",
            "Epoch 2/100\n",
            "4/4 [==============================] - 0s 12ms/step - loss: 0.8019 - accuracy: 0.6667 - val_loss: 1.1069 - val_accuracy: 0.5000\n",
            "Epoch 3/100\n",
            "4/4 [==============================] - 0s 12ms/step - loss: 0.4579 - accuracy: 0.8250 - val_loss: 1.1004 - val_accuracy: 0.5000\n",
            "Epoch 4/100\n",
            "4/4 [==============================] - 0s 11ms/step - loss: 0.2776 - accuracy: 0.9333 - val_loss: 1.0882 - val_accuracy: 0.5333\n",
            "Epoch 5/100\n",
            "4/4 [==============================] - 0s 12ms/step - loss: 0.1687 - accuracy: 0.9583 - val_loss: 1.0608 - val_accuracy: 0.5667\n",
            "Epoch 6/100\n",
            "4/4 [==============================] - 0s 14ms/step - loss: 0.1071 - accuracy: 0.9833 - val_loss: 1.0460 - val_accuracy: 0.5667\n",
            "Epoch 7/100\n",
            "4/4 [==============================] - 0s 11ms/step - loss: 0.0686 - accuracy: 1.0000 - val_loss: 1.0409 - val_accuracy: 0.6000\n",
            "Epoch 8/100\n",
            "4/4 [==============================] - 0s 12ms/step - loss: 0.0499 - accuracy: 1.0000 - val_loss: 1.0406 - val_accuracy: 0.6000\n",
            "Epoch 9/100\n",
            "4/4 [==============================] - 0s 11ms/step - loss: 0.0367 - accuracy: 1.0000 - val_loss: 1.0442 - val_accuracy: 0.6000\n",
            "Epoch 10/100\n",
            "4/4 [==============================] - 0s 11ms/step - loss: 0.0292 - accuracy: 1.0000 - val_loss: 1.0471 - val_accuracy: 0.6000\n",
            "Epoch 11/100\n",
            "4/4 [==============================] - 0s 11ms/step - loss: 0.0241 - accuracy: 1.0000 - val_loss: 1.0486 - val_accuracy: 0.6000\n",
            "Epoch 12/100\n",
            "4/4 [==============================] - 0s 11ms/step - loss: 0.0204 - accuracy: 1.0000 - val_loss: 1.0495 - val_accuracy: 0.6000\n",
            "Epoch 13/100\n",
            "4/4 [==============================] - 0s 12ms/step - loss: 0.0179 - accuracy: 1.0000 - val_loss: 1.0505 - val_accuracy: 0.6000\n",
            "Epoch 14/100\n",
            "4/4 [==============================] - 0s 11ms/step - loss: 0.0156 - accuracy: 1.0000 - val_loss: 1.0536 - val_accuracy: 0.6000\n",
            "Epoch 15/100\n",
            "4/4 [==============================] - 0s 11ms/step - loss: 0.0141 - accuracy: 1.0000 - val_loss: 1.0561 - val_accuracy: 0.6000\n",
            "Epoch 16/100\n",
            "4/4 [==============================] - 0s 11ms/step - loss: 0.0127 - accuracy: 1.0000 - val_loss: 1.0603 - val_accuracy: 0.6000\n",
            "Epoch 17/100\n",
            "4/4 [==============================] - 0s 13ms/step - loss: 0.0116 - accuracy: 1.0000 - val_loss: 1.0639 - val_accuracy: 0.6000\n",
            "Epoch 18/100\n",
            "4/4 [==============================] - 0s 12ms/step - loss: 0.0107 - accuracy: 1.0000 - val_loss: 1.0679 - val_accuracy: 0.6000\n",
            "Epoch 19/100\n",
            "4/4 [==============================] - 0s 12ms/step - loss: 0.0099 - accuracy: 1.0000 - val_loss: 1.0721 - val_accuracy: 0.6000\n",
            "Epoch 20/100\n",
            "4/4 [==============================] - 0s 12ms/step - loss: 0.0092 - accuracy: 1.0000 - val_loss: 1.0769 - val_accuracy: 0.6000\n",
            "Epoch 21/100\n",
            "4/4 [==============================] - 0s 12ms/step - loss: 0.0086 - accuracy: 1.0000 - val_loss: 1.0817 - val_accuracy: 0.6000\n",
            "Epoch 22/100\n",
            "4/4 [==============================] - 0s 12ms/step - loss: 0.0081 - accuracy: 1.0000 - val_loss: 1.0862 - val_accuracy: 0.6000\n",
            "Epoch 23/100\n",
            "4/4 [==============================] - 0s 12ms/step - loss: 0.0076 - accuracy: 1.0000 - val_loss: 1.0909 - val_accuracy: 0.6000\n",
            "Epoch 24/100\n",
            "4/4 [==============================] - 0s 11ms/step - loss: 0.0072 - accuracy: 1.0000 - val_loss: 1.0948 - val_accuracy: 0.6000\n",
            "Epoch 25/100\n",
            "4/4 [==============================] - 0s 11ms/step - loss: 0.0068 - accuracy: 1.0000 - val_loss: 1.0988 - val_accuracy: 0.6000\n",
            "Epoch 26/100\n",
            "4/4 [==============================] - 0s 13ms/step - loss: 0.0065 - accuracy: 1.0000 - val_loss: 1.1026 - val_accuracy: 0.6000\n",
            "Epoch 27/100\n",
            "4/4 [==============================] - 0s 11ms/step - loss: 0.0061 - accuracy: 1.0000 - val_loss: 1.1063 - val_accuracy: 0.6000\n",
            "Epoch 28/100\n",
            "4/4 [==============================] - 0s 11ms/step - loss: 0.0058 - accuracy: 1.0000 - val_loss: 1.1101 - val_accuracy: 0.6000\n",
            "Epoch 29/100\n",
            "4/4 [==============================] - 0s 13ms/step - loss: 0.0056 - accuracy: 1.0000 - val_loss: 1.1139 - val_accuracy: 0.6000\n",
            "Epoch 30/100\n",
            "4/4 [==============================] - 0s 11ms/step - loss: 0.0053 - accuracy: 1.0000 - val_loss: 1.1171 - val_accuracy: 0.6000\n",
            "Epoch 31/100\n",
            "4/4 [==============================] - 0s 11ms/step - loss: 0.0051 - accuracy: 1.0000 - val_loss: 1.1207 - val_accuracy: 0.6000\n",
            "Epoch 32/100\n",
            "4/4 [==============================] - 0s 13ms/step - loss: 0.0048 - accuracy: 1.0000 - val_loss: 1.1238 - val_accuracy: 0.6000\n",
            "Epoch 33/100\n",
            "4/4 [==============================] - 0s 11ms/step - loss: 0.0046 - accuracy: 1.0000 - val_loss: 1.1272 - val_accuracy: 0.6000\n",
            "Epoch 34/100\n",
            "4/4 [==============================] - 0s 12ms/step - loss: 0.0044 - accuracy: 1.0000 - val_loss: 1.1302 - val_accuracy: 0.6000\n",
            "Epoch 35/100\n",
            "4/4 [==============================] - 0s 13ms/step - loss: 0.0043 - accuracy: 1.0000 - val_loss: 1.1331 - val_accuracy: 0.6000\n",
            "Epoch 36/100\n",
            "4/4 [==============================] - 0s 12ms/step - loss: 0.0041 - accuracy: 1.0000 - val_loss: 1.1360 - val_accuracy: 0.6000\n",
            "Epoch 37/100\n",
            "4/4 [==============================] - 0s 12ms/step - loss: 0.0039 - accuracy: 1.0000 - val_loss: 1.1393 - val_accuracy: 0.6000\n",
            "Epoch 38/100\n",
            "4/4 [==============================] - 0s 17ms/step - loss: 0.0038 - accuracy: 1.0000 - val_loss: 1.1422 - val_accuracy: 0.6000\n",
            "Epoch 39/100\n",
            "4/4 [==============================] - 0s 12ms/step - loss: 0.0036 - accuracy: 1.0000 - val_loss: 1.1454 - val_accuracy: 0.6000\n",
            "Epoch 40/100\n",
            "4/4 [==============================] - 0s 11ms/step - loss: 0.0035 - accuracy: 1.0000 - val_loss: 1.1486 - val_accuracy: 0.6000\n",
            "Epoch 41/100\n",
            "4/4 [==============================] - 0s 12ms/step - loss: 0.0034 - accuracy: 1.0000 - val_loss: 1.1513 - val_accuracy: 0.6000\n",
            "Epoch 42/100\n",
            "4/4 [==============================] - 0s 12ms/step - loss: 0.0032 - accuracy: 1.0000 - val_loss: 1.1545 - val_accuracy: 0.6000\n",
            "Epoch 43/100\n",
            "4/4 [==============================] - 0s 12ms/step - loss: 0.0031 - accuracy: 1.0000 - val_loss: 1.1571 - val_accuracy: 0.6000\n",
            "Epoch 44/100\n",
            "4/4 [==============================] - 0s 11ms/step - loss: 0.0030 - accuracy: 1.0000 - val_loss: 1.1599 - val_accuracy: 0.6000\n",
            "Epoch 45/100\n",
            "4/4 [==============================] - 0s 12ms/step - loss: 0.0029 - accuracy: 1.0000 - val_loss: 1.1624 - val_accuracy: 0.6000\n",
            "Epoch 46/100\n",
            "4/4 [==============================] - 0s 11ms/step - loss: 0.0028 - accuracy: 1.0000 - val_loss: 1.1653 - val_accuracy: 0.6000\n",
            "Epoch 47/100\n",
            "4/4 [==============================] - 0s 12ms/step - loss: 0.0027 - accuracy: 1.0000 - val_loss: 1.1680 - val_accuracy: 0.6000\n",
            "Epoch 48/100\n",
            "4/4 [==============================] - 0s 11ms/step - loss: 0.0026 - accuracy: 1.0000 - val_loss: 1.1705 - val_accuracy: 0.6000\n",
            "Epoch 49/100\n",
            "4/4 [==============================] - 0s 17ms/step - loss: 0.0026 - accuracy: 1.0000 - val_loss: 1.1731 - val_accuracy: 0.6000\n",
            "Epoch 50/100\n",
            "4/4 [==============================] - 0s 18ms/step - loss: 0.0025 - accuracy: 1.0000 - val_loss: 1.1758 - val_accuracy: 0.6333\n",
            "Epoch 51/100\n",
            "4/4 [==============================] - 0s 29ms/step - loss: 0.0024 - accuracy: 1.0000 - val_loss: 1.1785 - val_accuracy: 0.6333\n",
            "Epoch 52/100\n",
            "4/4 [==============================] - 0s 22ms/step - loss: 0.0023 - accuracy: 1.0000 - val_loss: 1.1814 - val_accuracy: 0.6333\n",
            "Epoch 53/100\n",
            "4/4 [==============================] - 0s 16ms/step - loss: 0.0023 - accuracy: 1.0000 - val_loss: 1.1842 - val_accuracy: 0.6333\n",
            "Epoch 54/100\n",
            "4/4 [==============================] - 0s 15ms/step - loss: 0.0022 - accuracy: 1.0000 - val_loss: 1.1866 - val_accuracy: 0.6333\n",
            "Epoch 55/100\n",
            "4/4 [==============================] - 0s 18ms/step - loss: 0.0021 - accuracy: 1.0000 - val_loss: 1.1892 - val_accuracy: 0.6333\n",
            "Epoch 56/100\n",
            "4/4 [==============================] - 0s 21ms/step - loss: 0.0021 - accuracy: 1.0000 - val_loss: 1.1918 - val_accuracy: 0.6333\n",
            "Epoch 57/100\n",
            "4/4 [==============================] - 0s 15ms/step - loss: 0.0020 - accuracy: 1.0000 - val_loss: 1.1947 - val_accuracy: 0.6333\n",
            "Epoch 58/100\n",
            "4/4 [==============================] - 0s 16ms/step - loss: 0.0019 - accuracy: 1.0000 - val_loss: 1.1975 - val_accuracy: 0.6333\n",
            "Epoch 59/100\n",
            "4/4 [==============================] - 0s 15ms/step - loss: 0.0019 - accuracy: 1.0000 - val_loss: 1.2000 - val_accuracy: 0.6333\n",
            "Epoch 60/100\n",
            "4/4 [==============================] - 0s 20ms/step - loss: 0.0018 - accuracy: 1.0000 - val_loss: 1.2027 - val_accuracy: 0.6333\n",
            "Epoch 61/100\n",
            "4/4 [==============================] - 0s 22ms/step - loss: 0.0018 - accuracy: 1.0000 - val_loss: 1.2055 - val_accuracy: 0.6333\n",
            "Epoch 62/100\n",
            "4/4 [==============================] - 0s 21ms/step - loss: 0.0017 - accuracy: 1.0000 - val_loss: 1.2081 - val_accuracy: 0.6333\n",
            "Epoch 63/100\n",
            "4/4 [==============================] - 0s 22ms/step - loss: 0.0017 - accuracy: 1.0000 - val_loss: 1.2110 - val_accuracy: 0.6333\n",
            "Epoch 64/100\n",
            "4/4 [==============================] - 0s 20ms/step - loss: 0.0017 - accuracy: 1.0000 - val_loss: 1.2136 - val_accuracy: 0.6333\n",
            "Epoch 65/100\n",
            "4/4 [==============================] - 0s 20ms/step - loss: 0.0016 - accuracy: 1.0000 - val_loss: 1.2161 - val_accuracy: 0.6333\n",
            "Epoch 66/100\n",
            "4/4 [==============================] - 0s 17ms/step - loss: 0.0016 - accuracy: 1.0000 - val_loss: 1.2187 - val_accuracy: 0.6333\n",
            "Epoch 67/100\n",
            "4/4 [==============================] - 0s 18ms/step - loss: 0.0015 - accuracy: 1.0000 - val_loss: 1.2209 - val_accuracy: 0.6333\n",
            "Epoch 68/100\n",
            "4/4 [==============================] - 0s 23ms/step - loss: 0.0015 - accuracy: 1.0000 - val_loss: 1.2231 - val_accuracy: 0.6333\n",
            "Epoch 69/100\n",
            "4/4 [==============================] - 0s 16ms/step - loss: 0.0015 - accuracy: 1.0000 - val_loss: 1.2254 - val_accuracy: 0.6333\n",
            "Epoch 70/100\n",
            "4/4 [==============================] - 0s 18ms/step - loss: 0.0014 - accuracy: 1.0000 - val_loss: 1.2277 - val_accuracy: 0.6333\n",
            "Epoch 71/100\n",
            "4/4 [==============================] - 0s 18ms/step - loss: 0.0014 - accuracy: 1.0000 - val_loss: 1.2303 - val_accuracy: 0.6333\n",
            "Epoch 72/100\n",
            "4/4 [==============================] - 0s 16ms/step - loss: 0.0014 - accuracy: 1.0000 - val_loss: 1.2326 - val_accuracy: 0.6333\n",
            "Epoch 73/100\n",
            "4/4 [==============================] - 0s 18ms/step - loss: 0.0013 - accuracy: 1.0000 - val_loss: 1.2350 - val_accuracy: 0.6333\n",
            "Epoch 74/100\n",
            "4/4 [==============================] - 0s 22ms/step - loss: 0.0013 - accuracy: 1.0000 - val_loss: 1.2373 - val_accuracy: 0.6333\n",
            "Epoch 75/100\n",
            "4/4 [==============================] - 0s 23ms/step - loss: 0.0013 - accuracy: 1.0000 - val_loss: 1.2396 - val_accuracy: 0.6333\n",
            "Epoch 76/100\n",
            "4/4 [==============================] - 0s 23ms/step - loss: 0.0012 - accuracy: 1.0000 - val_loss: 1.2416 - val_accuracy: 0.6333\n",
            "Epoch 77/100\n",
            "4/4 [==============================] - 0s 15ms/step - loss: 0.0012 - accuracy: 1.0000 - val_loss: 1.2441 - val_accuracy: 0.6333\n",
            "Epoch 78/100\n",
            "4/4 [==============================] - 0s 11ms/step - loss: 0.0012 - accuracy: 1.0000 - val_loss: 1.2464 - val_accuracy: 0.6333\n",
            "Epoch 79/100\n",
            "4/4 [==============================] - 0s 11ms/step - loss: 0.0012 - accuracy: 1.0000 - val_loss: 1.2488 - val_accuracy: 0.6333\n",
            "Epoch 80/100\n",
            "4/4 [==============================] - 0s 13ms/step - loss: 0.0011 - accuracy: 1.0000 - val_loss: 1.2510 - val_accuracy: 0.6333\n",
            "Epoch 81/100\n",
            "4/4 [==============================] - 0s 13ms/step - loss: 0.0011 - accuracy: 1.0000 - val_loss: 1.2532 - val_accuracy: 0.6333\n",
            "Epoch 82/100\n",
            "4/4 [==============================] - 0s 11ms/step - loss: 0.0011 - accuracy: 1.0000 - val_loss: 1.2555 - val_accuracy: 0.6333\n",
            "Epoch 83/100\n",
            "4/4 [==============================] - 0s 12ms/step - loss: 0.0011 - accuracy: 1.0000 - val_loss: 1.2578 - val_accuracy: 0.6333\n",
            "Epoch 84/100\n",
            "4/4 [==============================] - 0s 11ms/step - loss: 0.0010 - accuracy: 1.0000 - val_loss: 1.2599 - val_accuracy: 0.6333\n",
            "Epoch 85/100\n",
            "4/4 [==============================] - 0s 12ms/step - loss: 0.0010 - accuracy: 1.0000 - val_loss: 1.2622 - val_accuracy: 0.6333\n",
            "Epoch 86/100\n",
            "4/4 [==============================] - 0s 19ms/step - loss: 0.0010 - accuracy: 1.0000 - val_loss: 1.2644 - val_accuracy: 0.6333\n",
            "Epoch 87/100\n",
            "4/4 [==============================] - 0s 11ms/step - loss: 9.8560e-04 - accuracy: 1.0000 - val_loss: 1.2668 - val_accuracy: 0.6333\n",
            "Epoch 88/100\n",
            "4/4 [==============================] - 0s 12ms/step - loss: 9.6642e-04 - accuracy: 1.0000 - val_loss: 1.2690 - val_accuracy: 0.6333\n",
            "Epoch 89/100\n",
            "4/4 [==============================] - 0s 11ms/step - loss: 9.4737e-04 - accuracy: 1.0000 - val_loss: 1.2710 - val_accuracy: 0.6333\n",
            "Epoch 90/100\n",
            "4/4 [==============================] - 0s 12ms/step - loss: 9.2947e-04 - accuracy: 1.0000 - val_loss: 1.2730 - val_accuracy: 0.6333\n",
            "Epoch 91/100\n",
            "4/4 [==============================] - 0s 20ms/step - loss: 9.1163e-04 - accuracy: 1.0000 - val_loss: 1.2751 - val_accuracy: 0.6333\n",
            "Epoch 92/100\n",
            "4/4 [==============================] - 0s 11ms/step - loss: 8.9506e-04 - accuracy: 1.0000 - val_loss: 1.2770 - val_accuracy: 0.6333\n",
            "Epoch 93/100\n",
            "4/4 [==============================] - 0s 12ms/step - loss: 8.7815e-04 - accuracy: 1.0000 - val_loss: 1.2791 - val_accuracy: 0.6333\n",
            "Epoch 94/100\n",
            "4/4 [==============================] - 0s 12ms/step - loss: 8.6193e-04 - accuracy: 1.0000 - val_loss: 1.2813 - val_accuracy: 0.6333\n",
            "Epoch 95/100\n",
            "4/4 [==============================] - 0s 11ms/step - loss: 8.4643e-04 - accuracy: 1.0000 - val_loss: 1.2837 - val_accuracy: 0.6333\n",
            "Epoch 96/100\n",
            "4/4 [==============================] - 0s 11ms/step - loss: 8.3072e-04 - accuracy: 1.0000 - val_loss: 1.2857 - val_accuracy: 0.6333\n",
            "Epoch 97/100\n",
            "4/4 [==============================] - 0s 11ms/step - loss: 8.1663e-04 - accuracy: 1.0000 - val_loss: 1.2874 - val_accuracy: 0.6333\n",
            "Epoch 98/100\n",
            "4/4 [==============================] - 0s 11ms/step - loss: 8.0155e-04 - accuracy: 1.0000 - val_loss: 1.2893 - val_accuracy: 0.6333\n",
            "Epoch 99/100\n",
            "4/4 [==============================] - 0s 11ms/step - loss: 7.8751e-04 - accuracy: 1.0000 - val_loss: 1.2913 - val_accuracy: 0.6333\n",
            "Epoch 100/100\n",
            "4/4 [==============================] - 0s 12ms/step - loss: 7.7401e-04 - accuracy: 1.0000 - val_loss: 1.2934 - val_accuracy: 0.6000\n",
            "2/2 [==============================] - 0s 7ms/step - loss: 0.4921 - accuracy: 0.8400\n"
          ]
        }
      ]
    },
    {
      "cell_type": "code",
      "source": [
        "# Tanh\n",
        "model_tanh = Sequential([\n",
        "    Dense(64, activation='tanh', input_shape=(X_train.shape[1],)),\n",
        "    Dense(64, activation='tanh'),\n",
        "    Dense(1, activation='sigmoid')\n",
        "])\n",
        "\n",
        "model_tanh.compile(optimizer='adam', loss='binary_crossentropy', metrics=['accuracy'])\n",
        "\n",
        "history_tanh = model_tanh.fit(X_train, y_train, epochs=100, validation_split=0.2, verbose=1)\n",
        "\n",
        "test_loss_alt, test_accuracy_alt = model_tanh.evaluate(X_test, y_test, verbose=1)"
      ],
      "metadata": {
        "colab": {
          "base_uri": "https://localhost:8080/"
        },
        "id": "NJ6g5MAv5sEp",
        "outputId": "ce65e42e-fc83-4787-f0c3-56e977613111"
      },
      "execution_count": 107,
      "outputs": [
        {
          "output_type": "stream",
          "name": "stdout",
          "text": [
            "Epoch 1/100\n",
            "4/4 [==============================] - 2s 80ms/step - loss: 0.7277 - accuracy: 0.5833 - val_loss: 0.9262 - val_accuracy: 0.3333\n",
            "Epoch 2/100\n",
            "4/4 [==============================] - 0s 19ms/step - loss: 0.5633 - accuracy: 0.7083 - val_loss: 0.9575 - val_accuracy: 0.3667\n",
            "Epoch 3/100\n",
            "4/4 [==============================] - 0s 25ms/step - loss: 0.4682 - accuracy: 0.7917 - val_loss: 0.9829 - val_accuracy: 0.3667\n",
            "Epoch 4/100\n",
            "4/4 [==============================] - 0s 27ms/step - loss: 0.4046 - accuracy: 0.8583 - val_loss: 0.9895 - val_accuracy: 0.4000\n",
            "Epoch 5/100\n",
            "4/4 [==============================] - 0s 24ms/step - loss: 0.3537 - accuracy: 0.8750 - val_loss: 0.9795 - val_accuracy: 0.4000\n",
            "Epoch 6/100\n",
            "4/4 [==============================] - 0s 17ms/step - loss: 0.3065 - accuracy: 0.9250 - val_loss: 0.9694 - val_accuracy: 0.4000\n",
            "Epoch 7/100\n",
            "4/4 [==============================] - 0s 24ms/step - loss: 0.2661 - accuracy: 0.9500 - val_loss: 0.9545 - val_accuracy: 0.4333\n",
            "Epoch 8/100\n",
            "4/4 [==============================] - 0s 17ms/step - loss: 0.2308 - accuracy: 0.9667 - val_loss: 0.9525 - val_accuracy: 0.4333\n",
            "Epoch 9/100\n",
            "4/4 [==============================] - 0s 22ms/step - loss: 0.2002 - accuracy: 0.9750 - val_loss: 0.9595 - val_accuracy: 0.4667\n",
            "Epoch 10/100\n",
            "4/4 [==============================] - 0s 19ms/step - loss: 0.1751 - accuracy: 0.9917 - val_loss: 0.9697 - val_accuracy: 0.4667\n",
            "Epoch 11/100\n",
            "4/4 [==============================] - 0s 24ms/step - loss: 0.1529 - accuracy: 0.9917 - val_loss: 0.9879 - val_accuracy: 0.4667\n",
            "Epoch 12/100\n",
            "4/4 [==============================] - 0s 24ms/step - loss: 0.1342 - accuracy: 0.9917 - val_loss: 1.0084 - val_accuracy: 0.5000\n",
            "Epoch 13/100\n",
            "4/4 [==============================] - 0s 24ms/step - loss: 0.1172 - accuracy: 1.0000 - val_loss: 1.0364 - val_accuracy: 0.5000\n",
            "Epoch 14/100\n",
            "4/4 [==============================] - 0s 17ms/step - loss: 0.1029 - accuracy: 1.0000 - val_loss: 1.0611 - val_accuracy: 0.5000\n",
            "Epoch 15/100\n",
            "4/4 [==============================] - 0s 20ms/step - loss: 0.0905 - accuracy: 1.0000 - val_loss: 1.0861 - val_accuracy: 0.5000\n",
            "Epoch 16/100\n",
            "4/4 [==============================] - 0s 11ms/step - loss: 0.0799 - accuracy: 1.0000 - val_loss: 1.1011 - val_accuracy: 0.5000\n",
            "Epoch 17/100\n",
            "4/4 [==============================] - 0s 12ms/step - loss: 0.0703 - accuracy: 1.0000 - val_loss: 1.1211 - val_accuracy: 0.5000\n",
            "Epoch 18/100\n",
            "4/4 [==============================] - 0s 15ms/step - loss: 0.0625 - accuracy: 1.0000 - val_loss: 1.1414 - val_accuracy: 0.5000\n",
            "Epoch 19/100\n",
            "4/4 [==============================] - 0s 12ms/step - loss: 0.0553 - accuracy: 1.0000 - val_loss: 1.1682 - val_accuracy: 0.5000\n",
            "Epoch 20/100\n",
            "4/4 [==============================] - 0s 11ms/step - loss: 0.0492 - accuracy: 1.0000 - val_loss: 1.1854 - val_accuracy: 0.5000\n",
            "Epoch 21/100\n",
            "4/4 [==============================] - 0s 27ms/step - loss: 0.0438 - accuracy: 1.0000 - val_loss: 1.2076 - val_accuracy: 0.5000\n",
            "Epoch 22/100\n",
            "4/4 [==============================] - 0s 23ms/step - loss: 0.0395 - accuracy: 1.0000 - val_loss: 1.2267 - val_accuracy: 0.5000\n",
            "Epoch 23/100\n",
            "4/4 [==============================] - 0s 23ms/step - loss: 0.0356 - accuracy: 1.0000 - val_loss: 1.2409 - val_accuracy: 0.5000\n",
            "Epoch 24/100\n",
            "4/4 [==============================] - 0s 23ms/step - loss: 0.0321 - accuracy: 1.0000 - val_loss: 1.2538 - val_accuracy: 0.5000\n",
            "Epoch 25/100\n",
            "4/4 [==============================] - 0s 26ms/step - loss: 0.0288 - accuracy: 1.0000 - val_loss: 1.2691 - val_accuracy: 0.5000\n",
            "Epoch 26/100\n",
            "4/4 [==============================] - 0s 22ms/step - loss: 0.0263 - accuracy: 1.0000 - val_loss: 1.2879 - val_accuracy: 0.5000\n",
            "Epoch 27/100\n",
            "4/4 [==============================] - 0s 19ms/step - loss: 0.0238 - accuracy: 1.0000 - val_loss: 1.3090 - val_accuracy: 0.5000\n",
            "Epoch 28/100\n",
            "4/4 [==============================] - 0s 22ms/step - loss: 0.0217 - accuracy: 1.0000 - val_loss: 1.3267 - val_accuracy: 0.5000\n",
            "Epoch 29/100\n",
            "4/4 [==============================] - 0s 24ms/step - loss: 0.0198 - accuracy: 1.0000 - val_loss: 1.3437 - val_accuracy: 0.5000\n",
            "Epoch 30/100\n",
            "4/4 [==============================] - 0s 22ms/step - loss: 0.0182 - accuracy: 1.0000 - val_loss: 1.3585 - val_accuracy: 0.5000\n",
            "Epoch 31/100\n",
            "4/4 [==============================] - 0s 23ms/step - loss: 0.0169 - accuracy: 1.0000 - val_loss: 1.3720 - val_accuracy: 0.4667\n",
            "Epoch 32/100\n",
            "4/4 [==============================] - 0s 23ms/step - loss: 0.0155 - accuracy: 1.0000 - val_loss: 1.3871 - val_accuracy: 0.4667\n",
            "Epoch 33/100\n",
            "4/4 [==============================] - 0s 22ms/step - loss: 0.0145 - accuracy: 1.0000 - val_loss: 1.4014 - val_accuracy: 0.4667\n",
            "Epoch 34/100\n",
            "4/4 [==============================] - 0s 23ms/step - loss: 0.0135 - accuracy: 1.0000 - val_loss: 1.4139 - val_accuracy: 0.4667\n",
            "Epoch 35/100\n",
            "4/4 [==============================] - 0s 22ms/step - loss: 0.0126 - accuracy: 1.0000 - val_loss: 1.4273 - val_accuracy: 0.4667\n",
            "Epoch 36/100\n",
            "4/4 [==============================] - 0s 18ms/step - loss: 0.0118 - accuracy: 1.0000 - val_loss: 1.4412 - val_accuracy: 0.4667\n",
            "Epoch 37/100\n",
            "4/4 [==============================] - 0s 22ms/step - loss: 0.0111 - accuracy: 1.0000 - val_loss: 1.4559 - val_accuracy: 0.4667\n",
            "Epoch 38/100\n",
            "4/4 [==============================] - 0s 23ms/step - loss: 0.0105 - accuracy: 1.0000 - val_loss: 1.4683 - val_accuracy: 0.4667\n",
            "Epoch 39/100\n",
            "4/4 [==============================] - 0s 22ms/step - loss: 0.0099 - accuracy: 1.0000 - val_loss: 1.4816 - val_accuracy: 0.4667\n",
            "Epoch 40/100\n",
            "4/4 [==============================] - 0s 22ms/step - loss: 0.0093 - accuracy: 1.0000 - val_loss: 1.4961 - val_accuracy: 0.4667\n",
            "Epoch 41/100\n",
            "4/4 [==============================] - 0s 22ms/step - loss: 0.0088 - accuracy: 1.0000 - val_loss: 1.5091 - val_accuracy: 0.4667\n",
            "Epoch 42/100\n",
            "4/4 [==============================] - 0s 23ms/step - loss: 0.0084 - accuracy: 1.0000 - val_loss: 1.5229 - val_accuracy: 0.4667\n",
            "Epoch 43/100\n",
            "4/4 [==============================] - 0s 24ms/step - loss: 0.0079 - accuracy: 1.0000 - val_loss: 1.5351 - val_accuracy: 0.4667\n",
            "Epoch 44/100\n",
            "4/4 [==============================] - 0s 19ms/step - loss: 0.0075 - accuracy: 1.0000 - val_loss: 1.5473 - val_accuracy: 0.4667\n",
            "Epoch 45/100\n",
            "4/4 [==============================] - 0s 40ms/step - loss: 0.0072 - accuracy: 1.0000 - val_loss: 1.5601 - val_accuracy: 0.4667\n",
            "Epoch 46/100\n",
            "4/4 [==============================] - 0s 42ms/step - loss: 0.0069 - accuracy: 1.0000 - val_loss: 1.5702 - val_accuracy: 0.4667\n",
            "Epoch 47/100\n",
            "4/4 [==============================] - 0s 38ms/step - loss: 0.0066 - accuracy: 1.0000 - val_loss: 1.5809 - val_accuracy: 0.4667\n",
            "Epoch 48/100\n",
            "4/4 [==============================] - 0s 20ms/step - loss: 0.0064 - accuracy: 1.0000 - val_loss: 1.5910 - val_accuracy: 0.5000\n",
            "Epoch 49/100\n",
            "4/4 [==============================] - 0s 33ms/step - loss: 0.0061 - accuracy: 1.0000 - val_loss: 1.5993 - val_accuracy: 0.5000\n",
            "Epoch 50/100\n",
            "4/4 [==============================] - 0s 34ms/step - loss: 0.0059 - accuracy: 1.0000 - val_loss: 1.6080 - val_accuracy: 0.5000\n",
            "Epoch 51/100\n",
            "4/4 [==============================] - 0s 30ms/step - loss: 0.0057 - accuracy: 1.0000 - val_loss: 1.6162 - val_accuracy: 0.5000\n",
            "Epoch 52/100\n",
            "4/4 [==============================] - 0s 30ms/step - loss: 0.0054 - accuracy: 1.0000 - val_loss: 1.6256 - val_accuracy: 0.5000\n",
            "Epoch 53/100\n",
            "4/4 [==============================] - 0s 40ms/step - loss: 0.0052 - accuracy: 1.0000 - val_loss: 1.6337 - val_accuracy: 0.5000\n",
            "Epoch 54/100\n",
            "4/4 [==============================] - 0s 31ms/step - loss: 0.0050 - accuracy: 1.0000 - val_loss: 1.6422 - val_accuracy: 0.5000\n",
            "Epoch 55/100\n",
            "4/4 [==============================] - 0s 29ms/step - loss: 0.0048 - accuracy: 1.0000 - val_loss: 1.6504 - val_accuracy: 0.5000\n",
            "Epoch 56/100\n",
            "4/4 [==============================] - 0s 29ms/step - loss: 0.0047 - accuracy: 1.0000 - val_loss: 1.6588 - val_accuracy: 0.5000\n",
            "Epoch 57/100\n",
            "4/4 [==============================] - 0s 31ms/step - loss: 0.0045 - accuracy: 1.0000 - val_loss: 1.6669 - val_accuracy: 0.5000\n",
            "Epoch 58/100\n",
            "4/4 [==============================] - 0s 32ms/step - loss: 0.0044 - accuracy: 1.0000 - val_loss: 1.6750 - val_accuracy: 0.5000\n",
            "Epoch 59/100\n",
            "4/4 [==============================] - 0s 36ms/step - loss: 0.0042 - accuracy: 1.0000 - val_loss: 1.6826 - val_accuracy: 0.5000\n",
            "Epoch 60/100\n",
            "4/4 [==============================] - 0s 27ms/step - loss: 0.0041 - accuracy: 1.0000 - val_loss: 1.6907 - val_accuracy: 0.5000\n",
            "Epoch 61/100\n",
            "4/4 [==============================] - 0s 43ms/step - loss: 0.0039 - accuracy: 1.0000 - val_loss: 1.6977 - val_accuracy: 0.5000\n",
            "Epoch 62/100\n",
            "4/4 [==============================] - 0s 30ms/step - loss: 0.0038 - accuracy: 1.0000 - val_loss: 1.7052 - val_accuracy: 0.5000\n",
            "Epoch 63/100\n",
            "4/4 [==============================] - 0s 23ms/step - loss: 0.0037 - accuracy: 1.0000 - val_loss: 1.7123 - val_accuracy: 0.5000\n",
            "Epoch 64/100\n",
            "4/4 [==============================] - 0s 31ms/step - loss: 0.0036 - accuracy: 1.0000 - val_loss: 1.7200 - val_accuracy: 0.5000\n",
            "Epoch 65/100\n",
            "4/4 [==============================] - 0s 57ms/step - loss: 0.0035 - accuracy: 1.0000 - val_loss: 1.7270 - val_accuracy: 0.5000\n",
            "Epoch 66/100\n",
            "4/4 [==============================] - 0s 24ms/step - loss: 0.0034 - accuracy: 1.0000 - val_loss: 1.7339 - val_accuracy: 0.5000\n",
            "Epoch 67/100\n",
            "4/4 [==============================] - 0s 56ms/step - loss: 0.0033 - accuracy: 1.0000 - val_loss: 1.7402 - val_accuracy: 0.5000\n",
            "Epoch 68/100\n",
            "4/4 [==============================] - 0s 27ms/step - loss: 0.0032 - accuracy: 1.0000 - val_loss: 1.7477 - val_accuracy: 0.5000\n",
            "Epoch 69/100\n",
            "4/4 [==============================] - 0s 58ms/step - loss: 0.0031 - accuracy: 1.0000 - val_loss: 1.7538 - val_accuracy: 0.5000\n",
            "Epoch 70/100\n",
            "4/4 [==============================] - 0s 57ms/step - loss: 0.0030 - accuracy: 1.0000 - val_loss: 1.7602 - val_accuracy: 0.5000\n",
            "Epoch 71/100\n",
            "4/4 [==============================] - 0s 71ms/step - loss: 0.0029 - accuracy: 1.0000 - val_loss: 1.7664 - val_accuracy: 0.5000\n",
            "Epoch 72/100\n",
            "4/4 [==============================] - 0s 64ms/step - loss: 0.0029 - accuracy: 1.0000 - val_loss: 1.7723 - val_accuracy: 0.5000\n",
            "Epoch 73/100\n",
            "4/4 [==============================] - 0s 44ms/step - loss: 0.0028 - accuracy: 1.0000 - val_loss: 1.7789 - val_accuracy: 0.5000\n",
            "Epoch 74/100\n",
            "4/4 [==============================] - 0s 28ms/step - loss: 0.0027 - accuracy: 1.0000 - val_loss: 1.7848 - val_accuracy: 0.5000\n",
            "Epoch 75/100\n",
            "4/4 [==============================] - 0s 49ms/step - loss: 0.0026 - accuracy: 1.0000 - val_loss: 1.7907 - val_accuracy: 0.5000\n",
            "Epoch 76/100\n",
            "4/4 [==============================] - 0s 44ms/step - loss: 0.0026 - accuracy: 1.0000 - val_loss: 1.7968 - val_accuracy: 0.5000\n",
            "Epoch 77/100\n",
            "4/4 [==============================] - 0s 24ms/step - loss: 0.0025 - accuracy: 1.0000 - val_loss: 1.8020 - val_accuracy: 0.5000\n",
            "Epoch 78/100\n",
            "4/4 [==============================] - 0s 24ms/step - loss: 0.0025 - accuracy: 1.0000 - val_loss: 1.8081 - val_accuracy: 0.5000\n",
            "Epoch 79/100\n",
            "4/4 [==============================] - 0s 29ms/step - loss: 0.0024 - accuracy: 1.0000 - val_loss: 1.8141 - val_accuracy: 0.5000\n",
            "Epoch 80/100\n",
            "4/4 [==============================] - 0s 32ms/step - loss: 0.0023 - accuracy: 1.0000 - val_loss: 1.8196 - val_accuracy: 0.5000\n",
            "Epoch 81/100\n",
            "4/4 [==============================] - 0s 24ms/step - loss: 0.0023 - accuracy: 1.0000 - val_loss: 1.8252 - val_accuracy: 0.5000\n",
            "Epoch 82/100\n",
            "4/4 [==============================] - 0s 30ms/step - loss: 0.0022 - accuracy: 1.0000 - val_loss: 1.8310 - val_accuracy: 0.5000\n",
            "Epoch 83/100\n",
            "4/4 [==============================] - 0s 25ms/step - loss: 0.0022 - accuracy: 1.0000 - val_loss: 1.8362 - val_accuracy: 0.5000\n",
            "Epoch 84/100\n",
            "4/4 [==============================] - 0s 24ms/step - loss: 0.0021 - accuracy: 1.0000 - val_loss: 1.8423 - val_accuracy: 0.5000\n",
            "Epoch 85/100\n",
            "4/4 [==============================] - 0s 32ms/step - loss: 0.0021 - accuracy: 1.0000 - val_loss: 1.8483 - val_accuracy: 0.5000\n",
            "Epoch 86/100\n",
            "4/4 [==============================] - 0s 24ms/step - loss: 0.0020 - accuracy: 1.0000 - val_loss: 1.8542 - val_accuracy: 0.5000\n",
            "Epoch 87/100\n",
            "4/4 [==============================] - 0s 26ms/step - loss: 0.0020 - accuracy: 1.0000 - val_loss: 1.8600 - val_accuracy: 0.5000\n",
            "Epoch 88/100\n",
            "4/4 [==============================] - 0s 23ms/step - loss: 0.0019 - accuracy: 1.0000 - val_loss: 1.8663 - val_accuracy: 0.5000\n",
            "Epoch 89/100\n",
            "4/4 [==============================] - 0s 22ms/step - loss: 0.0019 - accuracy: 1.0000 - val_loss: 1.8722 - val_accuracy: 0.5000\n",
            "Epoch 90/100\n",
            "4/4 [==============================] - 0s 25ms/step - loss: 0.0019 - accuracy: 1.0000 - val_loss: 1.8775 - val_accuracy: 0.5000\n",
            "Epoch 91/100\n",
            "4/4 [==============================] - 0s 27ms/step - loss: 0.0018 - accuracy: 1.0000 - val_loss: 1.8831 - val_accuracy: 0.5000\n",
            "Epoch 92/100\n",
            "4/4 [==============================] - 0s 23ms/step - loss: 0.0018 - accuracy: 1.0000 - val_loss: 1.8881 - val_accuracy: 0.5000\n",
            "Epoch 93/100\n",
            "4/4 [==============================] - 0s 17ms/step - loss: 0.0017 - accuracy: 1.0000 - val_loss: 1.8934 - val_accuracy: 0.5000\n",
            "Epoch 94/100\n",
            "4/4 [==============================] - 0s 23ms/step - loss: 0.0017 - accuracy: 1.0000 - val_loss: 1.8981 - val_accuracy: 0.5000\n",
            "Epoch 95/100\n",
            "4/4 [==============================] - 0s 24ms/step - loss: 0.0017 - accuracy: 1.0000 - val_loss: 1.9025 - val_accuracy: 0.5000\n",
            "Epoch 96/100\n",
            "4/4 [==============================] - 0s 12ms/step - loss: 0.0016 - accuracy: 1.0000 - val_loss: 1.9073 - val_accuracy: 0.5000\n",
            "Epoch 97/100\n",
            "4/4 [==============================] - 0s 13ms/step - loss: 0.0016 - accuracy: 1.0000 - val_loss: 1.9117 - val_accuracy: 0.5000\n",
            "Epoch 98/100\n",
            "4/4 [==============================] - 0s 13ms/step - loss: 0.0016 - accuracy: 1.0000 - val_loss: 1.9163 - val_accuracy: 0.5000\n",
            "Epoch 99/100\n",
            "4/4 [==============================] - 0s 11ms/step - loss: 0.0016 - accuracy: 1.0000 - val_loss: 1.9203 - val_accuracy: 0.5000\n",
            "Epoch 100/100\n",
            "4/4 [==============================] - 0s 11ms/step - loss: 0.0015 - accuracy: 1.0000 - val_loss: 1.9250 - val_accuracy: 0.5000\n",
            "2/2 [==============================] - 0s 8ms/step - loss: 0.9281 - accuracy: 0.6800\n"
          ]
        }
      ]
    },
    {
      "cell_type": "code",
      "source": [
        "from tensorflow.keras.layers import Activation\n",
        "from tensorflow.keras.activations import swish\n",
        "\n",
        "model_swish = Sequential([\n",
        "    Dense(64, input_shape=(X_train.shape[1],)),\n",
        "    Activation(swish),\n",
        "    Dense(64),\n",
        "    Activation(swish),\n",
        "    Dense(1, activation='sigmoid')\n",
        "])\n",
        "\n",
        "model_swish.compile(optimizer='adam', loss='binary_crossentropy', metrics=['accuracy'])\n",
        "\n",
        "history_swish = model_swish.fit(X_train, y_train, epochs=100, validation_split=0.2, verbose=1)\n",
        "test_loss_alt, test_accuracy_alt = model_swish.evaluate(X_test, y_test, verbose=1)"
      ],
      "metadata": {
        "colab": {
          "base_uri": "https://localhost:8080/"
        },
        "id": "2p9O28cc5uiF",
        "outputId": "61300cdb-f34d-4b17-ba0e-9aa8fb52e9d7"
      },
      "execution_count": 108,
      "outputs": [
        {
          "output_type": "stream",
          "name": "stdout",
          "text": [
            "Epoch 1/100\n",
            "4/4 [==============================] - 1s 65ms/step - loss: 0.9622 - accuracy: 0.6250 - val_loss: 1.2583 - val_accuracy: 0.4000\n",
            "Epoch 2/100\n",
            "4/4 [==============================] - 0s 12ms/step - loss: 0.4874 - accuracy: 0.7917 - val_loss: 1.1532 - val_accuracy: 0.4000\n",
            "Epoch 3/100\n",
            "4/4 [==============================] - 0s 12ms/step - loss: 0.2534 - accuracy: 0.9333 - val_loss: 1.0851 - val_accuracy: 0.5000\n",
            "Epoch 4/100\n",
            "4/4 [==============================] - 0s 12ms/step - loss: 0.1502 - accuracy: 0.9750 - val_loss: 1.0379 - val_accuracy: 0.5000\n",
            "Epoch 5/100\n",
            "4/4 [==============================] - 0s 11ms/step - loss: 0.0953 - accuracy: 1.0000 - val_loss: 1.0206 - val_accuracy: 0.5333\n",
            "Epoch 6/100\n",
            "4/4 [==============================] - 0s 11ms/step - loss: 0.0639 - accuracy: 1.0000 - val_loss: 1.0316 - val_accuracy: 0.5333\n",
            "Epoch 7/100\n",
            "4/4 [==============================] - 0s 12ms/step - loss: 0.0441 - accuracy: 1.0000 - val_loss: 1.0516 - val_accuracy: 0.5333\n",
            "Epoch 8/100\n",
            "4/4 [==============================] - 0s 12ms/step - loss: 0.0326 - accuracy: 1.0000 - val_loss: 1.0751 - val_accuracy: 0.5333\n",
            "Epoch 9/100\n",
            "4/4 [==============================] - 0s 12ms/step - loss: 0.0253 - accuracy: 1.0000 - val_loss: 1.0972 - val_accuracy: 0.5333\n",
            "Epoch 10/100\n",
            "4/4 [==============================] - 0s 11ms/step - loss: 0.0202 - accuracy: 1.0000 - val_loss: 1.1132 - val_accuracy: 0.5333\n",
            "Epoch 11/100\n",
            "4/4 [==============================] - 0s 11ms/step - loss: 0.0166 - accuracy: 1.0000 - val_loss: 1.1255 - val_accuracy: 0.5333\n",
            "Epoch 12/100\n",
            "4/4 [==============================] - 0s 13ms/step - loss: 0.0141 - accuracy: 1.0000 - val_loss: 1.1316 - val_accuracy: 0.5333\n",
            "Epoch 13/100\n",
            "4/4 [==============================] - 0s 11ms/step - loss: 0.0123 - accuracy: 1.0000 - val_loss: 1.1353 - val_accuracy: 0.5333\n",
            "Epoch 14/100\n",
            "4/4 [==============================] - 0s 13ms/step - loss: 0.0107 - accuracy: 1.0000 - val_loss: 1.1387 - val_accuracy: 0.5333\n",
            "Epoch 15/100\n",
            "4/4 [==============================] - 0s 11ms/step - loss: 0.0096 - accuracy: 1.0000 - val_loss: 1.1420 - val_accuracy: 0.5333\n",
            "Epoch 16/100\n",
            "4/4 [==============================] - 0s 12ms/step - loss: 0.0087 - accuracy: 1.0000 - val_loss: 1.1447 - val_accuracy: 0.5333\n",
            "Epoch 17/100\n",
            "4/4 [==============================] - 0s 12ms/step - loss: 0.0080 - accuracy: 1.0000 - val_loss: 1.1472 - val_accuracy: 0.5333\n",
            "Epoch 18/100\n",
            "4/4 [==============================] - 0s 11ms/step - loss: 0.0073 - accuracy: 1.0000 - val_loss: 1.1512 - val_accuracy: 0.5333\n",
            "Epoch 19/100\n",
            "4/4 [==============================] - 0s 11ms/step - loss: 0.0067 - accuracy: 1.0000 - val_loss: 1.1556 - val_accuracy: 0.5333\n",
            "Epoch 20/100\n",
            "4/4 [==============================] - 0s 12ms/step - loss: 0.0063 - accuracy: 1.0000 - val_loss: 1.1602 - val_accuracy: 0.5333\n",
            "Epoch 21/100\n",
            "4/4 [==============================] - 0s 11ms/step - loss: 0.0058 - accuracy: 1.0000 - val_loss: 1.1646 - val_accuracy: 0.5333\n",
            "Epoch 22/100\n",
            "4/4 [==============================] - 0s 11ms/step - loss: 0.0055 - accuracy: 1.0000 - val_loss: 1.1688 - val_accuracy: 0.5667\n",
            "Epoch 23/100\n",
            "4/4 [==============================] - 0s 12ms/step - loss: 0.0051 - accuracy: 1.0000 - val_loss: 1.1736 - val_accuracy: 0.5667\n",
            "Epoch 24/100\n",
            "4/4 [==============================] - 0s 12ms/step - loss: 0.0048 - accuracy: 1.0000 - val_loss: 1.1783 - val_accuracy: 0.5667\n",
            "Epoch 25/100\n",
            "4/4 [==============================] - 0s 11ms/step - loss: 0.0046 - accuracy: 1.0000 - val_loss: 1.1825 - val_accuracy: 0.5667\n",
            "Epoch 26/100\n",
            "4/4 [==============================] - 0s 11ms/step - loss: 0.0043 - accuracy: 1.0000 - val_loss: 1.1866 - val_accuracy: 0.5667\n",
            "Epoch 27/100\n",
            "4/4 [==============================] - 0s 11ms/step - loss: 0.0041 - accuracy: 1.0000 - val_loss: 1.1914 - val_accuracy: 0.5667\n",
            "Epoch 28/100\n",
            "4/4 [==============================] - 0s 12ms/step - loss: 0.0039 - accuracy: 1.0000 - val_loss: 1.1957 - val_accuracy: 0.5667\n",
            "Epoch 29/100\n",
            "4/4 [==============================] - 0s 11ms/step - loss: 0.0037 - accuracy: 1.0000 - val_loss: 1.1998 - val_accuracy: 0.5667\n",
            "Epoch 30/100\n",
            "4/4 [==============================] - 0s 11ms/step - loss: 0.0035 - accuracy: 1.0000 - val_loss: 1.2049 - val_accuracy: 0.5667\n",
            "Epoch 31/100\n",
            "4/4 [==============================] - 0s 13ms/step - loss: 0.0034 - accuracy: 1.0000 - val_loss: 1.2094 - val_accuracy: 0.5667\n",
            "Epoch 32/100\n",
            "4/4 [==============================] - 0s 12ms/step - loss: 0.0032 - accuracy: 1.0000 - val_loss: 1.2135 - val_accuracy: 0.5667\n",
            "Epoch 33/100\n",
            "4/4 [==============================] - 0s 12ms/step - loss: 0.0031 - accuracy: 1.0000 - val_loss: 1.2181 - val_accuracy: 0.5667\n",
            "Epoch 34/100\n",
            "4/4 [==============================] - 0s 18ms/step - loss: 0.0029 - accuracy: 1.0000 - val_loss: 1.2217 - val_accuracy: 0.5667\n",
            "Epoch 35/100\n",
            "4/4 [==============================] - 0s 11ms/step - loss: 0.0028 - accuracy: 1.0000 - val_loss: 1.2261 - val_accuracy: 0.5667\n",
            "Epoch 36/100\n",
            "4/4 [==============================] - 0s 12ms/step - loss: 0.0027 - accuracy: 1.0000 - val_loss: 1.2294 - val_accuracy: 0.5667\n",
            "Epoch 37/100\n",
            "4/4 [==============================] - 0s 11ms/step - loss: 0.0026 - accuracy: 1.0000 - val_loss: 1.2332 - val_accuracy: 0.5667\n",
            "Epoch 38/100\n",
            "4/4 [==============================] - 0s 11ms/step - loss: 0.0025 - accuracy: 1.0000 - val_loss: 1.2371 - val_accuracy: 0.5667\n",
            "Epoch 39/100\n",
            "4/4 [==============================] - 0s 11ms/step - loss: 0.0024 - accuracy: 1.0000 - val_loss: 1.2405 - val_accuracy: 0.5667\n",
            "Epoch 40/100\n",
            "4/4 [==============================] - 0s 11ms/step - loss: 0.0023 - accuracy: 1.0000 - val_loss: 1.2434 - val_accuracy: 0.5667\n",
            "Epoch 41/100\n",
            "4/4 [==============================] - 0s 12ms/step - loss: 0.0022 - accuracy: 1.0000 - val_loss: 1.2466 - val_accuracy: 0.5667\n",
            "Epoch 42/100\n",
            "4/4 [==============================] - 0s 11ms/step - loss: 0.0021 - accuracy: 1.0000 - val_loss: 1.2503 - val_accuracy: 0.5667\n",
            "Epoch 43/100\n",
            "4/4 [==============================] - 0s 12ms/step - loss: 0.0020 - accuracy: 1.0000 - val_loss: 1.2540 - val_accuracy: 0.5667\n",
            "Epoch 44/100\n",
            "4/4 [==============================] - 0s 12ms/step - loss: 0.0019 - accuracy: 1.0000 - val_loss: 1.2575 - val_accuracy: 0.5667\n",
            "Epoch 45/100\n",
            "4/4 [==============================] - 0s 12ms/step - loss: 0.0019 - accuracy: 1.0000 - val_loss: 1.2609 - val_accuracy: 0.5667\n",
            "Epoch 46/100\n",
            "4/4 [==============================] - 0s 11ms/step - loss: 0.0018 - accuracy: 1.0000 - val_loss: 1.2642 - val_accuracy: 0.5667\n",
            "Epoch 47/100\n",
            "4/4 [==============================] - 0s 11ms/step - loss: 0.0017 - accuracy: 1.0000 - val_loss: 1.2677 - val_accuracy: 0.5667\n",
            "Epoch 48/100\n",
            "4/4 [==============================] - 0s 11ms/step - loss: 0.0017 - accuracy: 1.0000 - val_loss: 1.2709 - val_accuracy: 0.5667\n",
            "Epoch 49/100\n",
            "4/4 [==============================] - 0s 12ms/step - loss: 0.0016 - accuracy: 1.0000 - val_loss: 1.2744 - val_accuracy: 0.5667\n",
            "Epoch 50/100\n",
            "4/4 [==============================] - 0s 12ms/step - loss: 0.0016 - accuracy: 1.0000 - val_loss: 1.2776 - val_accuracy: 0.5667\n",
            "Epoch 51/100\n",
            "4/4 [==============================] - 0s 12ms/step - loss: 0.0015 - accuracy: 1.0000 - val_loss: 1.2811 - val_accuracy: 0.5667\n",
            "Epoch 52/100\n",
            "4/4 [==============================] - 0s 12ms/step - loss: 0.0015 - accuracy: 1.0000 - val_loss: 1.2846 - val_accuracy: 0.5667\n",
            "Epoch 53/100\n",
            "4/4 [==============================] - 0s 12ms/step - loss: 0.0014 - accuracy: 1.0000 - val_loss: 1.2877 - val_accuracy: 0.5667\n",
            "Epoch 54/100\n",
            "4/4 [==============================] - 0s 11ms/step - loss: 0.0014 - accuracy: 1.0000 - val_loss: 1.2910 - val_accuracy: 0.5667\n",
            "Epoch 55/100\n",
            "4/4 [==============================] - 0s 12ms/step - loss: 0.0013 - accuracy: 1.0000 - val_loss: 1.2947 - val_accuracy: 0.5667\n",
            "Epoch 56/100\n",
            "4/4 [==============================] - 0s 11ms/step - loss: 0.0013 - accuracy: 1.0000 - val_loss: 1.2986 - val_accuracy: 0.5667\n",
            "Epoch 57/100\n",
            "4/4 [==============================] - 0s 14ms/step - loss: 0.0012 - accuracy: 1.0000 - val_loss: 1.3021 - val_accuracy: 0.6000\n",
            "Epoch 58/100\n",
            "4/4 [==============================] - 0s 13ms/step - loss: 0.0012 - accuracy: 1.0000 - val_loss: 1.3060 - val_accuracy: 0.6000\n",
            "Epoch 59/100\n",
            "4/4 [==============================] - 0s 11ms/step - loss: 0.0012 - accuracy: 1.0000 - val_loss: 1.3097 - val_accuracy: 0.6000\n",
            "Epoch 60/100\n",
            "4/4 [==============================] - 0s 11ms/step - loss: 0.0011 - accuracy: 1.0000 - val_loss: 1.3127 - val_accuracy: 0.6000\n",
            "Epoch 61/100\n",
            "4/4 [==============================] - 0s 12ms/step - loss: 0.0011 - accuracy: 1.0000 - val_loss: 1.3163 - val_accuracy: 0.6000\n",
            "Epoch 62/100\n",
            "4/4 [==============================] - 0s 11ms/step - loss: 0.0011 - accuracy: 1.0000 - val_loss: 1.3197 - val_accuracy: 0.6000\n",
            "Epoch 63/100\n",
            "4/4 [==============================] - 0s 11ms/step - loss: 0.0010 - accuracy: 1.0000 - val_loss: 1.3237 - val_accuracy: 0.6000\n",
            "Epoch 64/100\n",
            "4/4 [==============================] - 0s 11ms/step - loss: 0.0010 - accuracy: 1.0000 - val_loss: 1.3275 - val_accuracy: 0.6000\n",
            "Epoch 65/100\n",
            "4/4 [==============================] - 0s 12ms/step - loss: 9.7200e-04 - accuracy: 1.0000 - val_loss: 1.3309 - val_accuracy: 0.6000\n",
            "Epoch 66/100\n",
            "4/4 [==============================] - 0s 13ms/step - loss: 9.4426e-04 - accuracy: 1.0000 - val_loss: 1.3345 - val_accuracy: 0.6000\n",
            "Epoch 67/100\n",
            "4/4 [==============================] - 0s 12ms/step - loss: 9.1657e-04 - accuracy: 1.0000 - val_loss: 1.3381 - val_accuracy: 0.6000\n",
            "Epoch 68/100\n",
            "4/4 [==============================] - 0s 12ms/step - loss: 8.9030e-04 - accuracy: 1.0000 - val_loss: 1.3417 - val_accuracy: 0.6000\n",
            "Epoch 69/100\n",
            "4/4 [==============================] - 0s 12ms/step - loss: 8.6527e-04 - accuracy: 1.0000 - val_loss: 1.3455 - val_accuracy: 0.6000\n",
            "Epoch 70/100\n",
            "4/4 [==============================] - 0s 11ms/step - loss: 8.4087e-04 - accuracy: 1.0000 - val_loss: 1.3490 - val_accuracy: 0.6000\n",
            "Epoch 71/100\n",
            "4/4 [==============================] - 0s 11ms/step - loss: 8.1682e-04 - accuracy: 1.0000 - val_loss: 1.3528 - val_accuracy: 0.6000\n",
            "Epoch 72/100\n",
            "4/4 [==============================] - 0s 12ms/step - loss: 7.9483e-04 - accuracy: 1.0000 - val_loss: 1.3565 - val_accuracy: 0.6000\n",
            "Epoch 73/100\n",
            "4/4 [==============================] - 0s 11ms/step - loss: 7.7268e-04 - accuracy: 1.0000 - val_loss: 1.3601 - val_accuracy: 0.6000\n",
            "Epoch 74/100\n",
            "4/4 [==============================] - 0s 11ms/step - loss: 7.5185e-04 - accuracy: 1.0000 - val_loss: 1.3636 - val_accuracy: 0.6000\n",
            "Epoch 75/100\n",
            "4/4 [==============================] - 0s 11ms/step - loss: 7.3138e-04 - accuracy: 1.0000 - val_loss: 1.3674 - val_accuracy: 0.6000\n",
            "Epoch 76/100\n",
            "4/4 [==============================] - 0s 12ms/step - loss: 7.1199e-04 - accuracy: 1.0000 - val_loss: 1.3717 - val_accuracy: 0.6000\n",
            "Epoch 77/100\n",
            "4/4 [==============================] - 0s 11ms/step - loss: 6.9314e-04 - accuracy: 1.0000 - val_loss: 1.3754 - val_accuracy: 0.6000\n",
            "Epoch 78/100\n",
            "4/4 [==============================] - 0s 12ms/step - loss: 6.7483e-04 - accuracy: 1.0000 - val_loss: 1.3798 - val_accuracy: 0.6000\n",
            "Epoch 79/100\n",
            "4/4 [==============================] - 0s 15ms/step - loss: 6.5666e-04 - accuracy: 1.0000 - val_loss: 1.3840 - val_accuracy: 0.6000\n",
            "Epoch 80/100\n",
            "4/4 [==============================] - 0s 13ms/step - loss: 6.4035e-04 - accuracy: 1.0000 - val_loss: 1.3880 - val_accuracy: 0.6000\n",
            "Epoch 81/100\n",
            "4/4 [==============================] - 0s 12ms/step - loss: 6.2338e-04 - accuracy: 1.0000 - val_loss: 1.3922 - val_accuracy: 0.6000\n",
            "Epoch 82/100\n",
            "4/4 [==============================] - 0s 11ms/step - loss: 6.0765e-04 - accuracy: 1.0000 - val_loss: 1.3958 - val_accuracy: 0.6000\n",
            "Epoch 83/100\n",
            "4/4 [==============================] - 0s 12ms/step - loss: 5.9192e-04 - accuracy: 1.0000 - val_loss: 1.3996 - val_accuracy: 0.6000\n",
            "Epoch 84/100\n",
            "4/4 [==============================] - 0s 11ms/step - loss: 5.7746e-04 - accuracy: 1.0000 - val_loss: 1.4033 - val_accuracy: 0.6000\n",
            "Epoch 85/100\n",
            "4/4 [==============================] - 0s 11ms/step - loss: 5.6349e-04 - accuracy: 1.0000 - val_loss: 1.4070 - val_accuracy: 0.6000\n",
            "Epoch 86/100\n",
            "4/4 [==============================] - 0s 11ms/step - loss: 5.4906e-04 - accuracy: 1.0000 - val_loss: 1.4106 - val_accuracy: 0.6000\n",
            "Epoch 87/100\n",
            "4/4 [==============================] - 0s 13ms/step - loss: 5.3543e-04 - accuracy: 1.0000 - val_loss: 1.4145 - val_accuracy: 0.6000\n",
            "Epoch 88/100\n",
            "4/4 [==============================] - 0s 11ms/step - loss: 5.2230e-04 - accuracy: 1.0000 - val_loss: 1.4183 - val_accuracy: 0.6000\n",
            "Epoch 89/100\n",
            "4/4 [==============================] - 0s 12ms/step - loss: 5.1000e-04 - accuracy: 1.0000 - val_loss: 1.4222 - val_accuracy: 0.6000\n",
            "Epoch 90/100\n",
            "4/4 [==============================] - 0s 12ms/step - loss: 4.9810e-04 - accuracy: 1.0000 - val_loss: 1.4260 - val_accuracy: 0.6000\n",
            "Epoch 91/100\n",
            "4/4 [==============================] - 0s 11ms/step - loss: 4.8656e-04 - accuracy: 1.0000 - val_loss: 1.4297 - val_accuracy: 0.6000\n",
            "Epoch 92/100\n",
            "4/4 [==============================] - 0s 12ms/step - loss: 4.7493e-04 - accuracy: 1.0000 - val_loss: 1.4332 - val_accuracy: 0.6000\n",
            "Epoch 93/100\n",
            "4/4 [==============================] - 0s 11ms/step - loss: 4.6388e-04 - accuracy: 1.0000 - val_loss: 1.4365 - val_accuracy: 0.6000\n",
            "Epoch 94/100\n",
            "4/4 [==============================] - 0s 11ms/step - loss: 4.5338e-04 - accuracy: 1.0000 - val_loss: 1.4398 - val_accuracy: 0.6000\n",
            "Epoch 95/100\n",
            "4/4 [==============================] - 0s 11ms/step - loss: 4.4293e-04 - accuracy: 1.0000 - val_loss: 1.4433 - val_accuracy: 0.6000\n",
            "Epoch 96/100\n",
            "4/4 [==============================] - 0s 11ms/step - loss: 4.3260e-04 - accuracy: 1.0000 - val_loss: 1.4469 - val_accuracy: 0.6000\n",
            "Epoch 97/100\n",
            "4/4 [==============================] - 0s 17ms/step - loss: 4.2304e-04 - accuracy: 1.0000 - val_loss: 1.4499 - val_accuracy: 0.6000\n",
            "Epoch 98/100\n",
            "4/4 [==============================] - 0s 12ms/step - loss: 4.1382e-04 - accuracy: 1.0000 - val_loss: 1.4536 - val_accuracy: 0.6000\n",
            "Epoch 99/100\n",
            "4/4 [==============================] - 0s 11ms/step - loss: 4.0469e-04 - accuracy: 1.0000 - val_loss: 1.4572 - val_accuracy: 0.6000\n",
            "Epoch 100/100\n",
            "4/4 [==============================] - 0s 12ms/step - loss: 3.9508e-04 - accuracy: 1.0000 - val_loss: 1.4609 - val_accuracy: 0.6000\n",
            "2/2 [==============================] - 0s 7ms/step - loss: 0.7458 - accuracy: 0.7000\n"
          ]
        }
      ]
    },
    {
      "cell_type": "markdown",
      "metadata": {
        "id": "ES-Nupg3yw3X"
      },
      "source": [
        "**4b)** Which activation worked best and what is your hypothesis as to why?"
      ]
    },
    {
      "cell_type": "code",
      "execution_count": 109,
      "metadata": {
        "id": "v5Lwu0_Oy8ZB"
      },
      "outputs": [],
      "source": [
        "bestactivation = \"GELU, I think the GELU function approximates the inputs' cumulative distribution function, allowing the network to capture more complex patterns in the data.\" #@param {type:\"string\"}"
      ]
    },
    {
      "cell_type": "markdown",
      "metadata": {
        "id": "-C-yTusJxCpd"
      },
      "source": [
        "**5)** Create at least 3 *deeper* network models (between 4 and 20 layers), with more layers of whatever units performed best on **4b** (still using whatever package performed best on **2b**).  "
      ]
    },
    {
      "cell_type": "code",
      "source": [
        "# 4 layers\n",
        "from tensorflow.keras.models import Sequential\n",
        "from tensorflow.keras.layers import Dense\n",
        "from tensorflow.keras.activations import gelu\n",
        "\n",
        "model_4_layer = Sequential([\n",
        "    Dense(128, activation=gelu, input_shape=(X_train.shape[1],)),\n",
        "    Dense(128, activation=gelu),\n",
        "    Dense(64, activation=gelu),\n",
        "    Dense(64, activation=gelu),\n",
        "    Dense(1, activation='sigmoid')\n",
        "])\n",
        "\n",
        "model_4_layer.compile(optimizer='adam', loss='binary_crossentropy', metrics=['accuracy'])\n",
        "\n",
        "history_gelu = model_4_layer.fit(X_train, y_train, epochs=100, validation_split=0.2, verbose=1)\n",
        "\n",
        "test_loss_alt, test_accuracy_alt = model_4_layer.evaluate(X_test, y_test, verbose=1)"
      ],
      "metadata": {
        "colab": {
          "base_uri": "https://localhost:8080/"
        },
        "id": "_xPKFrsB8dek",
        "outputId": "89c3046f-feb2-4db7-a4da-207f57e5fa2e"
      },
      "execution_count": 112,
      "outputs": [
        {
          "output_type": "stream",
          "name": "stdout",
          "text": [
            "Epoch 1/100\n",
            "4/4 [==============================] - 5s 94ms/step - loss: 0.9840 - accuracy: 0.4667 - val_loss: 0.9336 - val_accuracy: 0.3333\n",
            "Epoch 2/100\n",
            "4/4 [==============================] - 0s 18ms/step - loss: 0.4436 - accuracy: 0.8333 - val_loss: 0.9166 - val_accuracy: 0.4333\n",
            "Epoch 3/100\n",
            "4/4 [==============================] - 0s 24ms/step - loss: 0.2520 - accuracy: 0.9500 - val_loss: 0.9427 - val_accuracy: 0.4667\n",
            "Epoch 4/100\n",
            "4/4 [==============================] - 0s 26ms/step - loss: 0.1320 - accuracy: 0.9917 - val_loss: 0.9599 - val_accuracy: 0.4333\n",
            "Epoch 5/100\n",
            "4/4 [==============================] - 0s 23ms/step - loss: 0.0819 - accuracy: 1.0000 - val_loss: 1.0097 - val_accuracy: 0.4333\n",
            "Epoch 6/100\n",
            "4/4 [==============================] - 0s 23ms/step - loss: 0.0470 - accuracy: 1.0000 - val_loss: 1.0723 - val_accuracy: 0.4667\n",
            "Epoch 7/100\n",
            "4/4 [==============================] - 0s 23ms/step - loss: 0.0285 - accuracy: 1.0000 - val_loss: 1.1466 - val_accuracy: 0.5000\n",
            "Epoch 8/100\n",
            "4/4 [==============================] - 0s 25ms/step - loss: 0.0178 - accuracy: 1.0000 - val_loss: 1.2162 - val_accuracy: 0.5000\n",
            "Epoch 9/100\n",
            "4/4 [==============================] - 0s 19ms/step - loss: 0.0118 - accuracy: 1.0000 - val_loss: 1.2690 - val_accuracy: 0.5000\n",
            "Epoch 10/100\n",
            "4/4 [==============================] - 0s 40ms/step - loss: 0.0083 - accuracy: 1.0000 - val_loss: 1.3110 - val_accuracy: 0.5000\n",
            "Epoch 11/100\n",
            "4/4 [==============================] - 0s 25ms/step - loss: 0.0060 - accuracy: 1.0000 - val_loss: 1.3455 - val_accuracy: 0.4667\n",
            "Epoch 12/100\n",
            "4/4 [==============================] - 0s 17ms/step - loss: 0.0047 - accuracy: 1.0000 - val_loss: 1.3756 - val_accuracy: 0.4667\n",
            "Epoch 13/100\n",
            "4/4 [==============================] - 0s 42ms/step - loss: 0.0037 - accuracy: 1.0000 - val_loss: 1.4042 - val_accuracy: 0.4667\n",
            "Epoch 14/100\n",
            "4/4 [==============================] - 0s 34ms/step - loss: 0.0031 - accuracy: 1.0000 - val_loss: 1.4287 - val_accuracy: 0.4667\n",
            "Epoch 15/100\n",
            "4/4 [==============================] - 0s 36ms/step - loss: 0.0027 - accuracy: 1.0000 - val_loss: 1.4507 - val_accuracy: 0.4667\n",
            "Epoch 16/100\n",
            "4/4 [==============================] - 0s 20ms/step - loss: 0.0023 - accuracy: 1.0000 - val_loss: 1.4696 - val_accuracy: 0.4667\n",
            "Epoch 17/100\n",
            "4/4 [==============================] - 0s 17ms/step - loss: 0.0020 - accuracy: 1.0000 - val_loss: 1.4875 - val_accuracy: 0.4667\n",
            "Epoch 18/100\n",
            "4/4 [==============================] - 0s 20ms/step - loss: 0.0018 - accuracy: 1.0000 - val_loss: 1.5022 - val_accuracy: 0.4667\n",
            "Epoch 19/100\n",
            "4/4 [==============================] - 0s 25ms/step - loss: 0.0017 - accuracy: 1.0000 - val_loss: 1.5164 - val_accuracy: 0.4667\n",
            "Epoch 20/100\n",
            "4/4 [==============================] - 0s 23ms/step - loss: 0.0015 - accuracy: 1.0000 - val_loss: 1.5294 - val_accuracy: 0.4667\n",
            "Epoch 21/100\n",
            "4/4 [==============================] - 0s 36ms/step - loss: 0.0014 - accuracy: 1.0000 - val_loss: 1.5407 - val_accuracy: 0.5000\n",
            "Epoch 22/100\n",
            "4/4 [==============================] - 0s 34ms/step - loss: 0.0013 - accuracy: 1.0000 - val_loss: 1.5515 - val_accuracy: 0.5000\n",
            "Epoch 23/100\n",
            "4/4 [==============================] - 0s 34ms/step - loss: 0.0012 - accuracy: 1.0000 - val_loss: 1.5610 - val_accuracy: 0.5000\n",
            "Epoch 24/100\n",
            "4/4 [==============================] - 0s 36ms/step - loss: 0.0011 - accuracy: 1.0000 - val_loss: 1.5700 - val_accuracy: 0.5000\n",
            "Epoch 25/100\n",
            "4/4 [==============================] - 0s 30ms/step - loss: 0.0011 - accuracy: 1.0000 - val_loss: 1.5790 - val_accuracy: 0.5000\n",
            "Epoch 26/100\n",
            "4/4 [==============================] - 0s 36ms/step - loss: 0.0010 - accuracy: 1.0000 - val_loss: 1.5869 - val_accuracy: 0.5000\n",
            "Epoch 27/100\n",
            "4/4 [==============================] - 0s 14ms/step - loss: 9.5303e-04 - accuracy: 1.0000 - val_loss: 1.5956 - val_accuracy: 0.5000\n",
            "Epoch 28/100\n",
            "4/4 [==============================] - 0s 12ms/step - loss: 9.0164e-04 - accuracy: 1.0000 - val_loss: 1.6025 - val_accuracy: 0.5000\n",
            "Epoch 29/100\n",
            "4/4 [==============================] - 0s 12ms/step - loss: 8.5313e-04 - accuracy: 1.0000 - val_loss: 1.6103 - val_accuracy: 0.5000\n",
            "Epoch 30/100\n",
            "4/4 [==============================] - 0s 12ms/step - loss: 8.1097e-04 - accuracy: 1.0000 - val_loss: 1.6170 - val_accuracy: 0.5000\n",
            "Epoch 31/100\n",
            "4/4 [==============================] - 0s 19ms/step - loss: 7.7007e-04 - accuracy: 1.0000 - val_loss: 1.6241 - val_accuracy: 0.5000\n",
            "Epoch 32/100\n",
            "4/4 [==============================] - 0s 22ms/step - loss: 7.3131e-04 - accuracy: 1.0000 - val_loss: 1.6317 - val_accuracy: 0.5000\n",
            "Epoch 33/100\n",
            "4/4 [==============================] - 0s 24ms/step - loss: 6.9776e-04 - accuracy: 1.0000 - val_loss: 1.6394 - val_accuracy: 0.5000\n",
            "Epoch 34/100\n",
            "4/4 [==============================] - 0s 27ms/step - loss: 6.6424e-04 - accuracy: 1.0000 - val_loss: 1.6467 - val_accuracy: 0.5000\n",
            "Epoch 35/100\n",
            "4/4 [==============================] - 0s 24ms/step - loss: 6.3449e-04 - accuracy: 1.0000 - val_loss: 1.6537 - val_accuracy: 0.5000\n",
            "Epoch 36/100\n",
            "4/4 [==============================] - 0s 27ms/step - loss: 6.0636e-04 - accuracy: 1.0000 - val_loss: 1.6612 - val_accuracy: 0.5000\n",
            "Epoch 37/100\n",
            "4/4 [==============================] - 0s 25ms/step - loss: 5.7990e-04 - accuracy: 1.0000 - val_loss: 1.6683 - val_accuracy: 0.5000\n",
            "Epoch 38/100\n",
            "4/4 [==============================] - 0s 27ms/step - loss: 5.5494e-04 - accuracy: 1.0000 - val_loss: 1.6748 - val_accuracy: 0.5000\n",
            "Epoch 39/100\n",
            "4/4 [==============================] - 0s 23ms/step - loss: 5.3251e-04 - accuracy: 1.0000 - val_loss: 1.6808 - val_accuracy: 0.5000\n",
            "Epoch 40/100\n",
            "4/4 [==============================] - 0s 25ms/step - loss: 5.1077e-04 - accuracy: 1.0000 - val_loss: 1.6879 - val_accuracy: 0.5000\n",
            "Epoch 41/100\n",
            "4/4 [==============================] - 0s 18ms/step - loss: 4.8986e-04 - accuracy: 1.0000 - val_loss: 1.6951 - val_accuracy: 0.5000\n",
            "Epoch 42/100\n",
            "4/4 [==============================] - 0s 20ms/step - loss: 4.7105e-04 - accuracy: 1.0000 - val_loss: 1.7014 - val_accuracy: 0.5000\n",
            "Epoch 43/100\n",
            "4/4 [==============================] - 0s 12ms/step - loss: 4.5232e-04 - accuracy: 1.0000 - val_loss: 1.7076 - val_accuracy: 0.5000\n",
            "Epoch 44/100\n",
            "4/4 [==============================] - 0s 12ms/step - loss: 4.3630e-04 - accuracy: 1.0000 - val_loss: 1.7127 - val_accuracy: 0.5000\n",
            "Epoch 45/100\n",
            "4/4 [==============================] - 0s 12ms/step - loss: 4.1925e-04 - accuracy: 1.0000 - val_loss: 1.7187 - val_accuracy: 0.5000\n",
            "Epoch 46/100\n",
            "4/4 [==============================] - 0s 12ms/step - loss: 4.0409e-04 - accuracy: 1.0000 - val_loss: 1.7245 - val_accuracy: 0.5000\n",
            "Epoch 47/100\n",
            "4/4 [==============================] - 0s 28ms/step - loss: 3.8993e-04 - accuracy: 1.0000 - val_loss: 1.7302 - val_accuracy: 0.5000\n",
            "Epoch 48/100\n",
            "4/4 [==============================] - 0s 20ms/step - loss: 3.7528e-04 - accuracy: 1.0000 - val_loss: 1.7362 - val_accuracy: 0.5000\n",
            "Epoch 49/100\n",
            "4/4 [==============================] - 0s 26ms/step - loss: 3.6227e-04 - accuracy: 1.0000 - val_loss: 1.7416 - val_accuracy: 0.5000\n",
            "Epoch 50/100\n",
            "4/4 [==============================] - 0s 25ms/step - loss: 3.5022e-04 - accuracy: 1.0000 - val_loss: 1.7477 - val_accuracy: 0.5000\n",
            "Epoch 51/100\n",
            "4/4 [==============================] - 0s 33ms/step - loss: 3.3830e-04 - accuracy: 1.0000 - val_loss: 1.7530 - val_accuracy: 0.5000\n",
            "Epoch 52/100\n",
            "4/4 [==============================] - 0s 24ms/step - loss: 3.2703e-04 - accuracy: 1.0000 - val_loss: 1.7582 - val_accuracy: 0.5000\n",
            "Epoch 53/100\n",
            "4/4 [==============================] - 0s 35ms/step - loss: 3.1640e-04 - accuracy: 1.0000 - val_loss: 1.7642 - val_accuracy: 0.5000\n",
            "Epoch 54/100\n",
            "4/4 [==============================] - 0s 26ms/step - loss: 3.0617e-04 - accuracy: 1.0000 - val_loss: 1.7694 - val_accuracy: 0.5000\n",
            "Epoch 55/100\n",
            "4/4 [==============================] - 0s 26ms/step - loss: 2.9657e-04 - accuracy: 1.0000 - val_loss: 1.7742 - val_accuracy: 0.5000\n",
            "Epoch 56/100\n",
            "4/4 [==============================] - 0s 24ms/step - loss: 2.8722e-04 - accuracy: 1.0000 - val_loss: 1.7795 - val_accuracy: 0.5000\n",
            "Epoch 57/100\n",
            "4/4 [==============================] - 0s 25ms/step - loss: 2.7805e-04 - accuracy: 1.0000 - val_loss: 1.7851 - val_accuracy: 0.5000\n",
            "Epoch 58/100\n",
            "4/4 [==============================] - 0s 25ms/step - loss: 2.7004e-04 - accuracy: 1.0000 - val_loss: 1.7900 - val_accuracy: 0.5000\n",
            "Epoch 59/100\n",
            "4/4 [==============================] - 0s 24ms/step - loss: 2.6183e-04 - accuracy: 1.0000 - val_loss: 1.7951 - val_accuracy: 0.5000\n",
            "Epoch 60/100\n",
            "4/4 [==============================] - 0s 23ms/step - loss: 2.5422e-04 - accuracy: 1.0000 - val_loss: 1.8000 - val_accuracy: 0.5000\n",
            "Epoch 61/100\n",
            "4/4 [==============================] - 0s 23ms/step - loss: 2.4695e-04 - accuracy: 1.0000 - val_loss: 1.8050 - val_accuracy: 0.5000\n",
            "Epoch 62/100\n",
            "4/4 [==============================] - 0s 28ms/step - loss: 2.3963e-04 - accuracy: 1.0000 - val_loss: 1.8104 - val_accuracy: 0.5000\n",
            "Epoch 63/100\n",
            "4/4 [==============================] - 0s 27ms/step - loss: 2.3293e-04 - accuracy: 1.0000 - val_loss: 1.8154 - val_accuracy: 0.5000\n",
            "Epoch 64/100\n",
            "4/4 [==============================] - 0s 23ms/step - loss: 2.2666e-04 - accuracy: 1.0000 - val_loss: 1.8198 - val_accuracy: 0.5000\n",
            "Epoch 65/100\n",
            "4/4 [==============================] - 0s 24ms/step - loss: 2.2024e-04 - accuracy: 1.0000 - val_loss: 1.8247 - val_accuracy: 0.5000\n",
            "Epoch 66/100\n",
            "4/4 [==============================] - 0s 25ms/step - loss: 2.1441e-04 - accuracy: 1.0000 - val_loss: 1.8292 - val_accuracy: 0.5000\n",
            "Epoch 67/100\n",
            "4/4 [==============================] - 0s 25ms/step - loss: 2.0875e-04 - accuracy: 1.0000 - val_loss: 1.8342 - val_accuracy: 0.5000\n",
            "Epoch 68/100\n",
            "4/4 [==============================] - 0s 26ms/step - loss: 2.0320e-04 - accuracy: 1.0000 - val_loss: 1.8386 - val_accuracy: 0.5000\n",
            "Epoch 69/100\n",
            "4/4 [==============================] - 0s 24ms/step - loss: 1.9791e-04 - accuracy: 1.0000 - val_loss: 1.8429 - val_accuracy: 0.5000\n",
            "Epoch 70/100\n",
            "4/4 [==============================] - 0s 25ms/step - loss: 1.9286e-04 - accuracy: 1.0000 - val_loss: 1.8468 - val_accuracy: 0.5000\n",
            "Epoch 71/100\n",
            "4/4 [==============================] - 0s 24ms/step - loss: 1.8789e-04 - accuracy: 1.0000 - val_loss: 1.8512 - val_accuracy: 0.5000\n",
            "Epoch 72/100\n",
            "4/4 [==============================] - 0s 24ms/step - loss: 1.8327e-04 - accuracy: 1.0000 - val_loss: 1.8551 - val_accuracy: 0.5000\n",
            "Epoch 73/100\n",
            "4/4 [==============================] - 0s 27ms/step - loss: 1.7875e-04 - accuracy: 1.0000 - val_loss: 1.8595 - val_accuracy: 0.5000\n",
            "Epoch 74/100\n",
            "4/4 [==============================] - 0s 19ms/step - loss: 1.7426e-04 - accuracy: 1.0000 - val_loss: 1.8637 - val_accuracy: 0.5000\n",
            "Epoch 75/100\n",
            "4/4 [==============================] - 0s 23ms/step - loss: 1.7008e-04 - accuracy: 1.0000 - val_loss: 1.8678 - val_accuracy: 0.5000\n",
            "Epoch 76/100\n",
            "4/4 [==============================] - 0s 24ms/step - loss: 1.6611e-04 - accuracy: 1.0000 - val_loss: 1.8719 - val_accuracy: 0.5000\n",
            "Epoch 77/100\n",
            "4/4 [==============================] - 0s 27ms/step - loss: 1.6216e-04 - accuracy: 1.0000 - val_loss: 1.8762 - val_accuracy: 0.5000\n",
            "Epoch 78/100\n",
            "4/4 [==============================] - 0s 23ms/step - loss: 1.5833e-04 - accuracy: 1.0000 - val_loss: 1.8803 - val_accuracy: 0.5000\n",
            "Epoch 79/100\n",
            "4/4 [==============================] - 0s 26ms/step - loss: 1.5470e-04 - accuracy: 1.0000 - val_loss: 1.8841 - val_accuracy: 0.5000\n",
            "Epoch 80/100\n",
            "4/4 [==============================] - 0s 26ms/step - loss: 1.5117e-04 - accuracy: 1.0000 - val_loss: 1.8881 - val_accuracy: 0.5000\n",
            "Epoch 81/100\n",
            "4/4 [==============================] - 0s 24ms/step - loss: 1.4766e-04 - accuracy: 1.0000 - val_loss: 1.8924 - val_accuracy: 0.5000\n",
            "Epoch 82/100\n",
            "4/4 [==============================] - 0s 24ms/step - loss: 1.4444e-04 - accuracy: 1.0000 - val_loss: 1.8959 - val_accuracy: 0.5000\n",
            "Epoch 83/100\n",
            "4/4 [==============================] - 0s 23ms/step - loss: 1.4118e-04 - accuracy: 1.0000 - val_loss: 1.8997 - val_accuracy: 0.5000\n",
            "Epoch 84/100\n",
            "4/4 [==============================] - 0s 25ms/step - loss: 1.3825e-04 - accuracy: 1.0000 - val_loss: 1.9034 - val_accuracy: 0.5000\n",
            "Epoch 85/100\n",
            "4/4 [==============================] - 0s 13ms/step - loss: 1.3521e-04 - accuracy: 1.0000 - val_loss: 1.9068 - val_accuracy: 0.5000\n",
            "Epoch 86/100\n",
            "4/4 [==============================] - 0s 12ms/step - loss: 1.3225e-04 - accuracy: 1.0000 - val_loss: 1.9101 - val_accuracy: 0.5000\n",
            "Epoch 87/100\n",
            "4/4 [==============================] - 0s 12ms/step - loss: 1.2951e-04 - accuracy: 1.0000 - val_loss: 1.9139 - val_accuracy: 0.5000\n",
            "Epoch 88/100\n",
            "4/4 [==============================] - 0s 12ms/step - loss: 1.2677e-04 - accuracy: 1.0000 - val_loss: 1.9179 - val_accuracy: 0.5000\n",
            "Epoch 89/100\n",
            "4/4 [==============================] - 0s 13ms/step - loss: 1.2407e-04 - accuracy: 1.0000 - val_loss: 1.9217 - val_accuracy: 0.5000\n",
            "Epoch 90/100\n",
            "4/4 [==============================] - 0s 12ms/step - loss: 1.2163e-04 - accuracy: 1.0000 - val_loss: 1.9253 - val_accuracy: 0.5000\n",
            "Epoch 91/100\n",
            "4/4 [==============================] - 0s 12ms/step - loss: 1.1913e-04 - accuracy: 1.0000 - val_loss: 1.9288 - val_accuracy: 0.5000\n",
            "Epoch 92/100\n",
            "4/4 [==============================] - 0s 12ms/step - loss: 1.1671e-04 - accuracy: 1.0000 - val_loss: 1.9328 - val_accuracy: 0.5000\n",
            "Epoch 93/100\n",
            "4/4 [==============================] - 0s 12ms/step - loss: 1.1437e-04 - accuracy: 1.0000 - val_loss: 1.9367 - val_accuracy: 0.5333\n",
            "Epoch 94/100\n",
            "4/4 [==============================] - 0s 14ms/step - loss: 1.1211e-04 - accuracy: 1.0000 - val_loss: 1.9400 - val_accuracy: 0.5333\n",
            "Epoch 95/100\n",
            "4/4 [==============================] - 0s 23ms/step - loss: 1.0990e-04 - accuracy: 1.0000 - val_loss: 1.9434 - val_accuracy: 0.5333\n",
            "Epoch 96/100\n",
            "4/4 [==============================] - 0s 26ms/step - loss: 1.0777e-04 - accuracy: 1.0000 - val_loss: 1.9469 - val_accuracy: 0.5333\n",
            "Epoch 97/100\n",
            "4/4 [==============================] - 0s 36ms/step - loss: 1.0573e-04 - accuracy: 1.0000 - val_loss: 1.9502 - val_accuracy: 0.5333\n",
            "Epoch 98/100\n",
            "4/4 [==============================] - 0s 23ms/step - loss: 1.0373e-04 - accuracy: 1.0000 - val_loss: 1.9535 - val_accuracy: 0.5333\n",
            "Epoch 99/100\n",
            "4/4 [==============================] - 0s 20ms/step - loss: 1.0179e-04 - accuracy: 1.0000 - val_loss: 1.9568 - val_accuracy: 0.5333\n",
            "Epoch 100/100\n",
            "4/4 [==============================] - 0s 29ms/step - loss: 9.9878e-05 - accuracy: 1.0000 - val_loss: 1.9599 - val_accuracy: 0.5333\n",
            "2/2 [==============================] - 0s 16ms/step - loss: 1.2032 - accuracy: 0.6600\n"
          ]
        }
      ]
    },
    {
      "cell_type": "code",
      "source": [
        "model_10_layer = Sequential([\n",
        "    Dense(128, activation=gelu, input_shape=(X_train.shape[1],)),\n",
        "    Dense(128, activation=gelu),\n",
        "    Dense(128, activation=gelu),\n",
        "    Dense(128, activation=gelu),\n",
        "    Dense(64, activation=gelu),\n",
        "    Dense(64, activation=gelu),\n",
        "    Dense(64, activation=gelu),\n",
        "    Dense(32, activation=gelu),\n",
        "    Dense(32, activation=gelu),\n",
        "    Dense(32, activation=gelu),\n",
        "    Dense(1, activation='sigmoid')\n",
        "])\n",
        "\n",
        "model_10_layer.compile(optimizer='adam', loss='binary_crossentropy', metrics=['accuracy'])\n",
        "\n",
        "history_gelu = model_10_layer.fit(X_train, y_train, epochs=100, validation_split=0.2, verbose=1)\n",
        "\n",
        "test_loss_alt, test_accuracy_alt = model_10_layer.evaluate(X_test, y_test, verbose=1)\n"
      ],
      "metadata": {
        "colab": {
          "base_uri": "https://localhost:8080/"
        },
        "id": "r60HVLdl8nRW",
        "outputId": "fe69c7d3-a49a-420e-cd92-8c86469b7056"
      },
      "execution_count": 113,
      "outputs": [
        {
          "output_type": "stream",
          "name": "stdout",
          "text": [
            "Epoch 1/100\n",
            "4/4 [==============================] - 6s 132ms/step - loss: 0.7006 - accuracy: 0.4167 - val_loss: 0.6933 - val_accuracy: 0.4333\n",
            "Epoch 2/100\n",
            "4/4 [==============================] - 0s 26ms/step - loss: 0.6848 - accuracy: 0.6833 - val_loss: 0.6938 - val_accuracy: 0.5000\n",
            "Epoch 3/100\n",
            "4/4 [==============================] - 0s 29ms/step - loss: 0.6651 - accuracy: 0.8500 - val_loss: 0.7012 - val_accuracy: 0.4667\n",
            "Epoch 4/100\n",
            "4/4 [==============================] - 0s 26ms/step - loss: 0.6112 - accuracy: 0.9167 - val_loss: 0.7078 - val_accuracy: 0.4333\n",
            "Epoch 5/100\n",
            "4/4 [==============================] - 0s 21ms/step - loss: 0.4861 - accuracy: 0.9750 - val_loss: 0.7292 - val_accuracy: 0.5333\n",
            "Epoch 6/100\n",
            "4/4 [==============================] - 0s 27ms/step - loss: 0.2515 - accuracy: 0.9917 - val_loss: 0.8226 - val_accuracy: 0.5000\n",
            "Epoch 7/100\n",
            "4/4 [==============================] - 0s 28ms/step - loss: 0.0826 - accuracy: 1.0000 - val_loss: 1.0223 - val_accuracy: 0.5667\n",
            "Epoch 8/100\n",
            "4/4 [==============================] - 0s 29ms/step - loss: 0.0152 - accuracy: 1.0000 - val_loss: 1.7020 - val_accuracy: 0.5333\n",
            "Epoch 9/100\n",
            "4/4 [==============================] - 0s 21ms/step - loss: 0.0015 - accuracy: 1.0000 - val_loss: 2.6418 - val_accuracy: 0.6000\n",
            "Epoch 10/100\n",
            "4/4 [==============================] - 0s 14ms/step - loss: 1.5727e-04 - accuracy: 1.0000 - val_loss: 3.4344 - val_accuracy: 0.6333\n",
            "Epoch 11/100\n",
            "4/4 [==============================] - 0s 14ms/step - loss: 1.0260e-05 - accuracy: 1.0000 - val_loss: 4.0748 - val_accuracy: 0.6333\n",
            "Epoch 12/100\n",
            "4/4 [==============================] - 0s 14ms/step - loss: 2.1140e-06 - accuracy: 1.0000 - val_loss: 4.5779 - val_accuracy: 0.6333\n",
            "Epoch 13/100\n",
            "4/4 [==============================] - 0s 14ms/step - loss: 6.4258e-07 - accuracy: 1.0000 - val_loss: 4.9486 - val_accuracy: 0.6333\n",
            "Epoch 14/100\n",
            "4/4 [==============================] - 0s 14ms/step - loss: 3.4007e-07 - accuracy: 1.0000 - val_loss: 5.2136 - val_accuracy: 0.6333\n",
            "Epoch 15/100\n",
            "4/4 [==============================] - 0s 14ms/step - loss: 1.5570e-07 - accuracy: 1.0000 - val_loss: 5.3993 - val_accuracy: 0.6333\n",
            "Epoch 16/100\n",
            "4/4 [==============================] - 0s 14ms/step - loss: 1.0641e-07 - accuracy: 1.0000 - val_loss: 5.5278 - val_accuracy: 0.6333\n",
            "Epoch 17/100\n",
            "4/4 [==============================] - 0s 22ms/step - loss: 8.1999e-08 - accuracy: 1.0000 - val_loss: 5.6161 - val_accuracy: 0.6333\n",
            "Epoch 18/100\n",
            "4/4 [==============================] - 0s 15ms/step - loss: 6.9589e-08 - accuracy: 1.0000 - val_loss: 5.6763 - val_accuracy: 0.6333\n",
            "Epoch 19/100\n",
            "4/4 [==============================] - 0s 14ms/step - loss: 5.9254e-08 - accuracy: 1.0000 - val_loss: 5.7172 - val_accuracy: 0.6333\n",
            "Epoch 20/100\n",
            "4/4 [==============================] - 0s 14ms/step - loss: 5.3708e-08 - accuracy: 1.0000 - val_loss: 5.7450 - val_accuracy: 0.6333\n",
            "Epoch 21/100\n",
            "4/4 [==============================] - 0s 15ms/step - loss: 4.9904e-08 - accuracy: 1.0000 - val_loss: 5.7637 - val_accuracy: 0.6333\n",
            "Epoch 22/100\n",
            "4/4 [==============================] - 0s 15ms/step - loss: 4.7584e-08 - accuracy: 1.0000 - val_loss: 5.7764 - val_accuracy: 0.6333\n",
            "Epoch 23/100\n",
            "4/4 [==============================] - 0s 15ms/step - loss: 4.6323e-08 - accuracy: 1.0000 - val_loss: 5.7850 - val_accuracy: 0.6333\n",
            "Epoch 24/100\n",
            "4/4 [==============================] - 0s 14ms/step - loss: 4.5503e-08 - accuracy: 1.0000 - val_loss: 5.7908 - val_accuracy: 0.6333\n",
            "Epoch 25/100\n",
            "4/4 [==============================] - 0s 14ms/step - loss: 4.5040e-08 - accuracy: 1.0000 - val_loss: 5.7947 - val_accuracy: 0.6333\n",
            "Epoch 26/100\n",
            "4/4 [==============================] - 0s 16ms/step - loss: 4.4478e-08 - accuracy: 1.0000 - val_loss: 5.7973 - val_accuracy: 0.6333\n",
            "Epoch 27/100\n",
            "4/4 [==============================] - 0s 17ms/step - loss: 4.4279e-08 - accuracy: 1.0000 - val_loss: 5.7992 - val_accuracy: 0.6333\n",
            "Epoch 28/100\n",
            "4/4 [==============================] - 0s 16ms/step - loss: 4.4072e-08 - accuracy: 1.0000 - val_loss: 5.8004 - val_accuracy: 0.6333\n",
            "Epoch 29/100\n",
            "4/4 [==============================] - 0s 15ms/step - loss: 4.3977e-08 - accuracy: 1.0000 - val_loss: 5.8013 - val_accuracy: 0.6333\n",
            "Epoch 30/100\n",
            "4/4 [==============================] - 0s 14ms/step - loss: 4.3825e-08 - accuracy: 1.0000 - val_loss: 5.8019 - val_accuracy: 0.6333\n",
            "Epoch 31/100\n",
            "4/4 [==============================] - 0s 16ms/step - loss: 4.3761e-08 - accuracy: 1.0000 - val_loss: 5.8024 - val_accuracy: 0.6333\n",
            "Epoch 32/100\n",
            "4/4 [==============================] - 0s 15ms/step - loss: 4.3715e-08 - accuracy: 1.0000 - val_loss: 5.8028 - val_accuracy: 0.6333\n",
            "Epoch 33/100\n",
            "4/4 [==============================] - 0s 15ms/step - loss: 4.3668e-08 - accuracy: 1.0000 - val_loss: 5.8031 - val_accuracy: 0.6333\n",
            "Epoch 34/100\n",
            "4/4 [==============================] - 0s 18ms/step - loss: 4.3611e-08 - accuracy: 1.0000 - val_loss: 5.8033 - val_accuracy: 0.6333\n",
            "Epoch 35/100\n",
            "4/4 [==============================] - 0s 14ms/step - loss: 4.3575e-08 - accuracy: 1.0000 - val_loss: 5.8035 - val_accuracy: 0.6333\n",
            "Epoch 36/100\n",
            "4/4 [==============================] - 0s 14ms/step - loss: 4.3546e-08 - accuracy: 1.0000 - val_loss: 5.8037 - val_accuracy: 0.6333\n",
            "Epoch 37/100\n",
            "4/4 [==============================] - 0s 14ms/step - loss: 4.3512e-08 - accuracy: 1.0000 - val_loss: 5.8038 - val_accuracy: 0.6333\n",
            "Epoch 38/100\n",
            "4/4 [==============================] - 0s 14ms/step - loss: 4.3477e-08 - accuracy: 1.0000 - val_loss: 5.8040 - val_accuracy: 0.6333\n",
            "Epoch 39/100\n",
            "4/4 [==============================] - 0s 14ms/step - loss: 4.3458e-08 - accuracy: 1.0000 - val_loss: 5.8041 - val_accuracy: 0.6333\n",
            "Epoch 40/100\n",
            "4/4 [==============================] - 0s 14ms/step - loss: 4.3422e-08 - accuracy: 1.0000 - val_loss: 5.8043 - val_accuracy: 0.6333\n",
            "Epoch 41/100\n",
            "4/4 [==============================] - 0s 14ms/step - loss: 4.3381e-08 - accuracy: 1.0000 - val_loss: 5.8044 - val_accuracy: 0.6333\n",
            "Epoch 42/100\n",
            "4/4 [==============================] - 0s 15ms/step - loss: 4.3352e-08 - accuracy: 1.0000 - val_loss: 5.8046 - val_accuracy: 0.6333\n",
            "Epoch 43/100\n",
            "4/4 [==============================] - 0s 14ms/step - loss: 4.3321e-08 - accuracy: 1.0000 - val_loss: 5.8047 - val_accuracy: 0.6333\n",
            "Epoch 44/100\n",
            "4/4 [==============================] - 0s 14ms/step - loss: 4.3306e-08 - accuracy: 1.0000 - val_loss: 5.8049 - val_accuracy: 0.6333\n",
            "Epoch 45/100\n",
            "4/4 [==============================] - 0s 15ms/step - loss: 4.3253e-08 - accuracy: 1.0000 - val_loss: 5.8050 - val_accuracy: 0.6333\n",
            "Epoch 46/100\n",
            "4/4 [==============================] - 0s 15ms/step - loss: 4.3230e-08 - accuracy: 1.0000 - val_loss: 5.8052 - val_accuracy: 0.6333\n",
            "Epoch 47/100\n",
            "4/4 [==============================] - 0s 14ms/step - loss: 4.3197e-08 - accuracy: 1.0000 - val_loss: 5.8054 - val_accuracy: 0.6333\n",
            "Epoch 48/100\n",
            "4/4 [==============================] - 0s 14ms/step - loss: 4.3163e-08 - accuracy: 1.0000 - val_loss: 5.8055 - val_accuracy: 0.6333\n",
            "Epoch 49/100\n",
            "4/4 [==============================] - 0s 14ms/step - loss: 4.3139e-08 - accuracy: 1.0000 - val_loss: 5.8057 - val_accuracy: 0.6333\n",
            "Epoch 50/100\n",
            "4/4 [==============================] - 0s 15ms/step - loss: 4.3097e-08 - accuracy: 1.0000 - val_loss: 5.8058 - val_accuracy: 0.6333\n",
            "Epoch 51/100\n",
            "4/4 [==============================] - 0s 16ms/step - loss: 4.3067e-08 - accuracy: 1.0000 - val_loss: 5.8060 - val_accuracy: 0.6333\n",
            "Epoch 52/100\n",
            "4/4 [==============================] - 0s 16ms/step - loss: 4.3040e-08 - accuracy: 1.0000 - val_loss: 5.8061 - val_accuracy: 0.6333\n",
            "Epoch 53/100\n",
            "4/4 [==============================] - 0s 14ms/step - loss: 4.2998e-08 - accuracy: 1.0000 - val_loss: 5.8063 - val_accuracy: 0.6333\n",
            "Epoch 54/100\n",
            "4/4 [==============================] - 0s 15ms/step - loss: 4.2972e-08 - accuracy: 1.0000 - val_loss: 5.8064 - val_accuracy: 0.6333\n",
            "Epoch 55/100\n",
            "4/4 [==============================] - 0s 14ms/step - loss: 4.2939e-08 - accuracy: 1.0000 - val_loss: 5.8066 - val_accuracy: 0.6333\n",
            "Epoch 56/100\n",
            "4/4 [==============================] - 0s 14ms/step - loss: 4.2904e-08 - accuracy: 1.0000 - val_loss: 5.8067 - val_accuracy: 0.6333\n",
            "Epoch 57/100\n",
            "4/4 [==============================] - 0s 15ms/step - loss: 4.2873e-08 - accuracy: 1.0000 - val_loss: 5.8069 - val_accuracy: 0.6333\n",
            "Epoch 58/100\n",
            "4/4 [==============================] - 0s 15ms/step - loss: 4.2848e-08 - accuracy: 1.0000 - val_loss: 5.8071 - val_accuracy: 0.6333\n",
            "Epoch 59/100\n",
            "4/4 [==============================] - 0s 16ms/step - loss: 4.2810e-08 - accuracy: 1.0000 - val_loss: 5.8073 - val_accuracy: 0.6333\n",
            "Epoch 60/100\n",
            "4/4 [==============================] - 0s 14ms/step - loss: 4.2766e-08 - accuracy: 1.0000 - val_loss: 5.8074 - val_accuracy: 0.6333\n",
            "Epoch 61/100\n",
            "4/4 [==============================] - 0s 14ms/step - loss: 4.2742e-08 - accuracy: 1.0000 - val_loss: 5.8076 - val_accuracy: 0.6333\n",
            "Epoch 62/100\n",
            "4/4 [==============================] - 0s 14ms/step - loss: 4.2697e-08 - accuracy: 1.0000 - val_loss: 5.8077 - val_accuracy: 0.6333\n",
            "Epoch 63/100\n",
            "4/4 [==============================] - 0s 14ms/step - loss: 4.2675e-08 - accuracy: 1.0000 - val_loss: 5.8079 - val_accuracy: 0.6333\n",
            "Epoch 64/100\n",
            "4/4 [==============================] - 0s 14ms/step - loss: 4.2633e-08 - accuracy: 1.0000 - val_loss: 5.8081 - val_accuracy: 0.6333\n",
            "Epoch 65/100\n",
            "4/4 [==============================] - 0s 14ms/step - loss: 4.2596e-08 - accuracy: 1.0000 - val_loss: 5.8082 - val_accuracy: 0.6333\n",
            "Epoch 66/100\n",
            "4/4 [==============================] - 0s 14ms/step - loss: 4.2559e-08 - accuracy: 1.0000 - val_loss: 5.8084 - val_accuracy: 0.6333\n",
            "Epoch 67/100\n",
            "4/4 [==============================] - 0s 15ms/step - loss: 4.2541e-08 - accuracy: 1.0000 - val_loss: 5.8086 - val_accuracy: 0.6333\n",
            "Epoch 68/100\n",
            "4/4 [==============================] - 0s 15ms/step - loss: 4.2494e-08 - accuracy: 1.0000 - val_loss: 5.8088 - val_accuracy: 0.6333\n",
            "Epoch 69/100\n",
            "4/4 [==============================] - 0s 15ms/step - loss: 4.2451e-08 - accuracy: 1.0000 - val_loss: 5.8090 - val_accuracy: 0.6333\n",
            "Epoch 70/100\n",
            "4/4 [==============================] - 0s 22ms/step - loss: 4.2418e-08 - accuracy: 1.0000 - val_loss: 5.8091 - val_accuracy: 0.6333\n",
            "Epoch 71/100\n",
            "4/4 [==============================] - 0s 14ms/step - loss: 4.2388e-08 - accuracy: 1.0000 - val_loss: 5.8093 - val_accuracy: 0.6333\n",
            "Epoch 72/100\n",
            "4/4 [==============================] - 0s 14ms/step - loss: 4.2333e-08 - accuracy: 1.0000 - val_loss: 5.8095 - val_accuracy: 0.6333\n",
            "Epoch 73/100\n",
            "4/4 [==============================] - 0s 14ms/step - loss: 4.2314e-08 - accuracy: 1.0000 - val_loss: 5.8097 - val_accuracy: 0.6333\n",
            "Epoch 74/100\n",
            "4/4 [==============================] - 0s 14ms/step - loss: 4.2261e-08 - accuracy: 1.0000 - val_loss: 5.8099 - val_accuracy: 0.6333\n",
            "Epoch 75/100\n",
            "4/4 [==============================] - 0s 15ms/step - loss: 4.2230e-08 - accuracy: 1.0000 - val_loss: 5.8101 - val_accuracy: 0.6333\n",
            "Epoch 76/100\n",
            "4/4 [==============================] - 0s 14ms/step - loss: 4.2193e-08 - accuracy: 1.0000 - val_loss: 5.8103 - val_accuracy: 0.6333\n",
            "Epoch 77/100\n",
            "4/4 [==============================] - 0s 14ms/step - loss: 4.2140e-08 - accuracy: 1.0000 - val_loss: 5.8105 - val_accuracy: 0.6333\n",
            "Epoch 78/100\n",
            "4/4 [==============================] - 0s 15ms/step - loss: 4.2108e-08 - accuracy: 1.0000 - val_loss: 5.8107 - val_accuracy: 0.6333\n",
            "Epoch 79/100\n",
            "4/4 [==============================] - 0s 14ms/step - loss: 4.2079e-08 - accuracy: 1.0000 - val_loss: 5.8109 - val_accuracy: 0.6333\n",
            "Epoch 80/100\n",
            "4/4 [==============================] - 0s 14ms/step - loss: 4.2025e-08 - accuracy: 1.0000 - val_loss: 5.8111 - val_accuracy: 0.6333\n",
            "Epoch 81/100\n",
            "4/4 [==============================] - 0s 15ms/step - loss: 4.1991e-08 - accuracy: 1.0000 - val_loss: 5.8113 - val_accuracy: 0.6333\n",
            "Epoch 82/100\n",
            "4/4 [==============================] - 0s 14ms/step - loss: 4.1957e-08 - accuracy: 1.0000 - val_loss: 5.8115 - val_accuracy: 0.6333\n",
            "Epoch 83/100\n",
            "4/4 [==============================] - 0s 14ms/step - loss: 4.1907e-08 - accuracy: 1.0000 - val_loss: 5.8117 - val_accuracy: 0.6333\n",
            "Epoch 84/100\n",
            "4/4 [==============================] - 0s 15ms/step - loss: 4.1864e-08 - accuracy: 1.0000 - val_loss: 5.8118 - val_accuracy: 0.6333\n",
            "Epoch 85/100\n",
            "4/4 [==============================] - 0s 14ms/step - loss: 4.1838e-08 - accuracy: 1.0000 - val_loss: 5.8121 - val_accuracy: 0.6333\n",
            "Epoch 86/100\n",
            "4/4 [==============================] - 0s 14ms/step - loss: 4.1800e-08 - accuracy: 1.0000 - val_loss: 5.8123 - val_accuracy: 0.6333\n",
            "Epoch 87/100\n",
            "4/4 [==============================] - 0s 15ms/step - loss: 4.1751e-08 - accuracy: 1.0000 - val_loss: 5.8125 - val_accuracy: 0.6333\n",
            "Epoch 88/100\n",
            "4/4 [==============================] - 0s 17ms/step - loss: 4.1699e-08 - accuracy: 1.0000 - val_loss: 5.8127 - val_accuracy: 0.6333\n",
            "Epoch 89/100\n",
            "4/4 [==============================] - 0s 15ms/step - loss: 4.1679e-08 - accuracy: 1.0000 - val_loss: 5.8129 - val_accuracy: 0.6333\n",
            "Epoch 90/100\n",
            "4/4 [==============================] - 0s 14ms/step - loss: 4.1629e-08 - accuracy: 1.0000 - val_loss: 5.8131 - val_accuracy: 0.6333\n",
            "Epoch 91/100\n",
            "4/4 [==============================] - 0s 15ms/step - loss: 4.1580e-08 - accuracy: 1.0000 - val_loss: 5.8133 - val_accuracy: 0.6333\n",
            "Epoch 92/100\n",
            "4/4 [==============================] - 0s 15ms/step - loss: 4.1533e-08 - accuracy: 1.0000 - val_loss: 5.8135 - val_accuracy: 0.6333\n",
            "Epoch 93/100\n",
            "4/4 [==============================] - 0s 14ms/step - loss: 4.1511e-08 - accuracy: 1.0000 - val_loss: 5.8138 - val_accuracy: 0.6333\n",
            "Epoch 94/100\n",
            "4/4 [==============================] - 0s 14ms/step - loss: 4.1447e-08 - accuracy: 1.0000 - val_loss: 5.8140 - val_accuracy: 0.6333\n",
            "Epoch 95/100\n",
            "4/4 [==============================] - 0s 15ms/step - loss: 4.1406e-08 - accuracy: 1.0000 - val_loss: 5.8142 - val_accuracy: 0.6333\n",
            "Epoch 96/100\n",
            "4/4 [==============================] - 0s 15ms/step - loss: 4.1383e-08 - accuracy: 1.0000 - val_loss: 5.8144 - val_accuracy: 0.6333\n",
            "Epoch 97/100\n",
            "4/4 [==============================] - 0s 15ms/step - loss: 4.1313e-08 - accuracy: 1.0000 - val_loss: 5.8146 - val_accuracy: 0.6333\n",
            "Epoch 98/100\n",
            "4/4 [==============================] - 0s 15ms/step - loss: 4.1288e-08 - accuracy: 1.0000 - val_loss: 5.8149 - val_accuracy: 0.6333\n",
            "Epoch 99/100\n",
            "4/4 [==============================] - 0s 14ms/step - loss: 4.1237e-08 - accuracy: 1.0000 - val_loss: 5.8151 - val_accuracy: 0.6333\n",
            "Epoch 100/100\n",
            "4/4 [==============================] - 0s 14ms/step - loss: 4.1191e-08 - accuracy: 1.0000 - val_loss: 5.8153 - val_accuracy: 0.6333\n",
            "2/2 [==============================] - 0s 8ms/step - loss: 5.0382 - accuracy: 0.6800\n"
          ]
        }
      ]
    },
    {
      "cell_type": "code",
      "source": [
        "model_20_layer = Sequential([\n",
        "    Dense(128, activation=gelu, input_shape=(X_train.shape[1],)),\n",
        "    Dense(128, activation=gelu),\n",
        "    Dense(128, activation=gelu),\n",
        "    Dense(128, activation=gelu),\n",
        "    Dense(128, activation=gelu),\n",
        "    Dense(128, activation=gelu),\n",
        "    Dense(64, activation=gelu),\n",
        "    Dense(64, activation=gelu),\n",
        "    Dense(64, activation=gelu),\n",
        "    Dense(64, activation=gelu),\n",
        "    Dense(64, activation=gelu),\n",
        "    Dense(64, activation=gelu),\n",
        "    Dense(32, activation=gelu),\n",
        "    Dense(32, activation=gelu),\n",
        "    Dense(32, activation=gelu),\n",
        "    Dense(32, activation=gelu),\n",
        "    Dense(32, activation=gelu),\n",
        "    Dense(32, activation=gelu),\n",
        "    Dense(32, activation=gelu),\n",
        "    Dense(32, activation=gelu),\n",
        "    Dense(1, activation='sigmoid')\n",
        "])\n",
        "\n",
        "model_20_layer.compile(optimizer='adam', loss='binary_crossentropy', metrics=['accuracy'])\n",
        "\n",
        "history_gelu = model_20_layer.fit(X_train, y_train, epochs=100, validation_split=0.2, verbose=1)\n",
        "\n",
        "test_loss_alt, test_accuracy_alt = model_20_layer.evaluate(X_test, y_test, verbose=1)"
      ],
      "metadata": {
        "colab": {
          "base_uri": "https://localhost:8080/"
        },
        "id": "h6oUiuzy8xbC",
        "outputId": "4a71c5dc-47a7-4c37-ca17-35774153d5a9"
      },
      "execution_count": 114,
      "outputs": [
        {
          "output_type": "stream",
          "name": "stdout",
          "text": [
            "Epoch 1/100\n",
            "4/4 [==============================] - 7s 134ms/step - loss: 0.6936 - accuracy: 0.4833 - val_loss: 0.6931 - val_accuracy: 0.5000\n",
            "Epoch 2/100\n",
            "4/4 [==============================] - 0s 18ms/step - loss: 0.6933 - accuracy: 0.5083 - val_loss: 0.6930 - val_accuracy: 0.6667\n",
            "Epoch 3/100\n",
            "4/4 [==============================] - 0s 17ms/step - loss: 0.6915 - accuracy: 0.8083 - val_loss: 0.6920 - val_accuracy: 0.6333\n",
            "Epoch 4/100\n",
            "4/4 [==============================] - 0s 17ms/step - loss: 0.6798 - accuracy: 0.8500 - val_loss: 0.6884 - val_accuracy: 0.5333\n",
            "Epoch 5/100\n",
            "4/4 [==============================] - 0s 17ms/step - loss: 0.6342 - accuracy: 0.8500 - val_loss: 0.6951 - val_accuracy: 0.5000\n",
            "Epoch 6/100\n",
            "4/4 [==============================] - 0s 17ms/step - loss: 0.5260 - accuracy: 0.9583 - val_loss: 0.8698 - val_accuracy: 0.5667\n",
            "Epoch 7/100\n",
            "4/4 [==============================] - 0s 17ms/step - loss: 0.2486 - accuracy: 0.9417 - val_loss: 1.8886 - val_accuracy: 0.5000\n",
            "Epoch 8/100\n",
            "4/4 [==============================] - 0s 18ms/step - loss: 0.2835 - accuracy: 0.9417 - val_loss: 3.6757 - val_accuracy: 0.5333\n",
            "Epoch 9/100\n",
            "4/4 [==============================] - 0s 18ms/step - loss: 0.3730 - accuracy: 0.9583 - val_loss: 1.9797 - val_accuracy: 0.5667\n",
            "Epoch 10/100\n",
            "4/4 [==============================] - 0s 18ms/step - loss: 0.1259 - accuracy: 0.9250 - val_loss: 1.6304 - val_accuracy: 0.5000\n",
            "Epoch 11/100\n",
            "4/4 [==============================] - 0s 17ms/step - loss: 0.0155 - accuracy: 1.0000 - val_loss: 1.5912 - val_accuracy: 0.5000\n",
            "Epoch 12/100\n",
            "4/4 [==============================] - 0s 17ms/step - loss: 0.0516 - accuracy: 0.9917 - val_loss: 1.6589 - val_accuracy: 0.5000\n",
            "Epoch 13/100\n",
            "4/4 [==============================] - 0s 18ms/step - loss: 0.0169 - accuracy: 1.0000 - val_loss: 1.7688 - val_accuracy: 0.5333\n",
            "Epoch 14/100\n",
            "4/4 [==============================] - 0s 18ms/step - loss: 0.0064 - accuracy: 1.0000 - val_loss: 1.9820 - val_accuracy: 0.4333\n",
            "Epoch 15/100\n",
            "4/4 [==============================] - 0s 18ms/step - loss: 0.0021 - accuracy: 1.0000 - val_loss: 2.2961 - val_accuracy: 0.4333\n",
            "Epoch 16/100\n",
            "4/4 [==============================] - 0s 17ms/step - loss: 8.1430e-04 - accuracy: 1.0000 - val_loss: 2.5703 - val_accuracy: 0.5000\n",
            "Epoch 17/100\n",
            "4/4 [==============================] - 0s 18ms/step - loss: 4.1056e-04 - accuracy: 1.0000 - val_loss: 2.7878 - val_accuracy: 0.5000\n",
            "Epoch 18/100\n",
            "4/4 [==============================] - 0s 17ms/step - loss: 2.2938e-04 - accuracy: 1.0000 - val_loss: 2.9558 - val_accuracy: 0.5000\n",
            "Epoch 19/100\n",
            "4/4 [==============================] - 0s 17ms/step - loss: 1.4856e-04 - accuracy: 1.0000 - val_loss: 3.0823 - val_accuracy: 0.5000\n",
            "Epoch 20/100\n",
            "4/4 [==============================] - 0s 18ms/step - loss: 1.0698e-04 - accuracy: 1.0000 - val_loss: 3.1775 - val_accuracy: 0.5333\n",
            "Epoch 21/100\n",
            "4/4 [==============================] - 0s 23ms/step - loss: 8.4832e-05 - accuracy: 1.0000 - val_loss: 3.2500 - val_accuracy: 0.5333\n",
            "Epoch 22/100\n",
            "4/4 [==============================] - 0s 17ms/step - loss: 6.8738e-05 - accuracy: 1.0000 - val_loss: 3.3046 - val_accuracy: 0.5333\n",
            "Epoch 23/100\n",
            "4/4 [==============================] - 0s 17ms/step - loss: 5.8529e-05 - accuracy: 1.0000 - val_loss: 3.3464 - val_accuracy: 0.5333\n",
            "Epoch 24/100\n",
            "4/4 [==============================] - 0s 17ms/step - loss: 5.2186e-05 - accuracy: 1.0000 - val_loss: 3.3792 - val_accuracy: 0.5333\n",
            "Epoch 25/100\n",
            "4/4 [==============================] - 0s 24ms/step - loss: 4.7357e-05 - accuracy: 1.0000 - val_loss: 3.4062 - val_accuracy: 0.5333\n",
            "Epoch 26/100\n",
            "4/4 [==============================] - 0s 18ms/step - loss: 4.3269e-05 - accuracy: 1.0000 - val_loss: 3.4280 - val_accuracy: 0.5333\n",
            "Epoch 27/100\n",
            "4/4 [==============================] - 0s 18ms/step - loss: 4.0619e-05 - accuracy: 1.0000 - val_loss: 3.4472 - val_accuracy: 0.5333\n",
            "Epoch 28/100\n",
            "4/4 [==============================] - 0s 17ms/step - loss: 3.8587e-05 - accuracy: 1.0000 - val_loss: 3.4647 - val_accuracy: 0.5333\n",
            "Epoch 29/100\n",
            "4/4 [==============================] - 0s 18ms/step - loss: 3.6556e-05 - accuracy: 1.0000 - val_loss: 3.4804 - val_accuracy: 0.5333\n",
            "Epoch 30/100\n",
            "4/4 [==============================] - 0s 22ms/step - loss: 3.4466e-05 - accuracy: 1.0000 - val_loss: 3.4942 - val_accuracy: 0.5333\n",
            "Epoch 31/100\n",
            "4/4 [==============================] - 0s 24ms/step - loss: 3.2977e-05 - accuracy: 1.0000 - val_loss: 3.5075 - val_accuracy: 0.5333\n",
            "Epoch 32/100\n",
            "4/4 [==============================] - 0s 17ms/step - loss: 3.1663e-05 - accuracy: 1.0000 - val_loss: 3.5204 - val_accuracy: 0.5333\n",
            "Epoch 33/100\n",
            "4/4 [==============================] - 0s 18ms/step - loss: 3.0461e-05 - accuracy: 1.0000 - val_loss: 3.5330 - val_accuracy: 0.5333\n",
            "Epoch 34/100\n",
            "4/4 [==============================] - 0s 18ms/step - loss: 2.9224e-05 - accuracy: 1.0000 - val_loss: 3.5448 - val_accuracy: 0.5333\n",
            "Epoch 35/100\n",
            "4/4 [==============================] - 0s 17ms/step - loss: 2.8134e-05 - accuracy: 1.0000 - val_loss: 3.5565 - val_accuracy: 0.5333\n",
            "Epoch 36/100\n",
            "4/4 [==============================] - 0s 17ms/step - loss: 2.7134e-05 - accuracy: 1.0000 - val_loss: 3.5678 - val_accuracy: 0.5333\n",
            "Epoch 37/100\n",
            "4/4 [==============================] - 0s 18ms/step - loss: 2.6211e-05 - accuracy: 1.0000 - val_loss: 3.5789 - val_accuracy: 0.5333\n",
            "Epoch 38/100\n",
            "4/4 [==============================] - 0s 18ms/step - loss: 2.5206e-05 - accuracy: 1.0000 - val_loss: 3.5895 - val_accuracy: 0.5333\n",
            "Epoch 39/100\n",
            "4/4 [==============================] - 0s 20ms/step - loss: 2.4433e-05 - accuracy: 1.0000 - val_loss: 3.6002 - val_accuracy: 0.5333\n",
            "Epoch 40/100\n",
            "4/4 [==============================] - 0s 18ms/step - loss: 2.3532e-05 - accuracy: 1.0000 - val_loss: 3.6103 - val_accuracy: 0.5333\n",
            "Epoch 41/100\n",
            "4/4 [==============================] - 0s 17ms/step - loss: 2.2857e-05 - accuracy: 1.0000 - val_loss: 3.6206 - val_accuracy: 0.5333\n",
            "Epoch 42/100\n",
            "4/4 [==============================] - 0s 18ms/step - loss: 2.2020e-05 - accuracy: 1.0000 - val_loss: 3.6303 - val_accuracy: 0.5333\n",
            "Epoch 43/100\n",
            "4/4 [==============================] - 0s 17ms/step - loss: 2.1421e-05 - accuracy: 1.0000 - val_loss: 3.6403 - val_accuracy: 0.5333\n",
            "Epoch 44/100\n",
            "4/4 [==============================] - 0s 18ms/step - loss: 2.0725e-05 - accuracy: 1.0000 - val_loss: 3.6502 - val_accuracy: 0.5333\n",
            "Epoch 45/100\n",
            "4/4 [==============================] - 0s 17ms/step - loss: 2.0048e-05 - accuracy: 1.0000 - val_loss: 3.6600 - val_accuracy: 0.5333\n",
            "Epoch 46/100\n",
            "4/4 [==============================] - 0s 18ms/step - loss: 1.9426e-05 - accuracy: 1.0000 - val_loss: 3.6699 - val_accuracy: 0.5333\n",
            "Epoch 47/100\n",
            "4/4 [==============================] - 0s 17ms/step - loss: 1.8914e-05 - accuracy: 1.0000 - val_loss: 3.6800 - val_accuracy: 0.5333\n",
            "Epoch 48/100\n",
            "4/4 [==============================] - 0s 18ms/step - loss: 1.8329e-05 - accuracy: 1.0000 - val_loss: 3.6899 - val_accuracy: 0.5333\n",
            "Epoch 49/100\n",
            "4/4 [==============================] - 0s 18ms/step - loss: 1.7696e-05 - accuracy: 1.0000 - val_loss: 3.6992 - val_accuracy: 0.5333\n",
            "Epoch 50/100\n",
            "4/4 [==============================] - 0s 17ms/step - loss: 1.7238e-05 - accuracy: 1.0000 - val_loss: 3.7089 - val_accuracy: 0.5333\n",
            "Epoch 51/100\n",
            "4/4 [==============================] - 0s 17ms/step - loss: 1.6705e-05 - accuracy: 1.0000 - val_loss: 3.7183 - val_accuracy: 0.5333\n",
            "Epoch 52/100\n",
            "4/4 [==============================] - 0s 19ms/step - loss: 1.6254e-05 - accuracy: 1.0000 - val_loss: 3.7276 - val_accuracy: 0.5333\n",
            "Epoch 53/100\n",
            "4/4 [==============================] - 0s 19ms/step - loss: 1.5842e-05 - accuracy: 1.0000 - val_loss: 3.7371 - val_accuracy: 0.5333\n",
            "Epoch 54/100\n",
            "4/4 [==============================] - 0s 22ms/step - loss: 1.5320e-05 - accuracy: 1.0000 - val_loss: 3.7458 - val_accuracy: 0.5333\n",
            "Epoch 55/100\n",
            "4/4 [==============================] - 0s 19ms/step - loss: 1.4916e-05 - accuracy: 1.0000 - val_loss: 3.7548 - val_accuracy: 0.5333\n",
            "Epoch 56/100\n",
            "4/4 [==============================] - 0s 19ms/step - loss: 1.4513e-05 - accuracy: 1.0000 - val_loss: 3.7637 - val_accuracy: 0.5333\n",
            "Epoch 57/100\n",
            "4/4 [==============================] - 0s 20ms/step - loss: 1.4125e-05 - accuracy: 1.0000 - val_loss: 3.7724 - val_accuracy: 0.5333\n",
            "Epoch 58/100\n",
            "4/4 [==============================] - 0s 18ms/step - loss: 1.3753e-05 - accuracy: 1.0000 - val_loss: 3.7811 - val_accuracy: 0.5333\n",
            "Epoch 59/100\n",
            "4/4 [==============================] - 0s 25ms/step - loss: 1.3408e-05 - accuracy: 1.0000 - val_loss: 3.7897 - val_accuracy: 0.5333\n",
            "Epoch 60/100\n",
            "4/4 [==============================] - 0s 18ms/step - loss: 1.3022e-05 - accuracy: 1.0000 - val_loss: 3.7979 - val_accuracy: 0.5333\n",
            "Epoch 61/100\n",
            "4/4 [==============================] - 0s 22ms/step - loss: 1.2736e-05 - accuracy: 1.0000 - val_loss: 3.8065 - val_accuracy: 0.5333\n",
            "Epoch 62/100\n",
            "4/4 [==============================] - 0s 26ms/step - loss: 1.2365e-05 - accuracy: 1.0000 - val_loss: 3.8146 - val_accuracy: 0.5333\n",
            "Epoch 63/100\n",
            "4/4 [==============================] - 0s 20ms/step - loss: 1.2065e-05 - accuracy: 1.0000 - val_loss: 3.8228 - val_accuracy: 0.5333\n",
            "Epoch 64/100\n",
            "4/4 [==============================] - 0s 21ms/step - loss: 1.1736e-05 - accuracy: 1.0000 - val_loss: 3.8308 - val_accuracy: 0.5333\n",
            "Epoch 65/100\n",
            "4/4 [==============================] - 0s 19ms/step - loss: 1.1504e-05 - accuracy: 1.0000 - val_loss: 3.8397 - val_accuracy: 0.5333\n",
            "Epoch 66/100\n",
            "4/4 [==============================] - 0s 20ms/step - loss: 1.1164e-05 - accuracy: 1.0000 - val_loss: 3.8479 - val_accuracy: 0.5333\n",
            "Epoch 67/100\n",
            "4/4 [==============================] - 0s 18ms/step - loss: 1.0896e-05 - accuracy: 1.0000 - val_loss: 3.8561 - val_accuracy: 0.5333\n",
            "Epoch 68/100\n",
            "4/4 [==============================] - 0s 27ms/step - loss: 1.0637e-05 - accuracy: 1.0000 - val_loss: 3.8643 - val_accuracy: 0.5333\n",
            "Epoch 69/100\n",
            "4/4 [==============================] - 0s 22ms/step - loss: 1.0360e-05 - accuracy: 1.0000 - val_loss: 3.8723 - val_accuracy: 0.5333\n",
            "Epoch 70/100\n",
            "4/4 [==============================] - 0s 21ms/step - loss: 1.0104e-05 - accuracy: 1.0000 - val_loss: 3.8804 - val_accuracy: 0.5333\n",
            "Epoch 71/100\n",
            "4/4 [==============================] - 0s 18ms/step - loss: 9.8587e-06 - accuracy: 1.0000 - val_loss: 3.8884 - val_accuracy: 0.5333\n",
            "Epoch 72/100\n",
            "4/4 [==============================] - 0s 19ms/step - loss: 9.6590e-06 - accuracy: 1.0000 - val_loss: 3.8966 - val_accuracy: 0.5333\n",
            "Epoch 73/100\n",
            "4/4 [==============================] - 0s 19ms/step - loss: 9.4136e-06 - accuracy: 1.0000 - val_loss: 3.9045 - val_accuracy: 0.5333\n",
            "Epoch 74/100\n",
            "4/4 [==============================] - 0s 18ms/step - loss: 9.1730e-06 - accuracy: 1.0000 - val_loss: 3.9120 - val_accuracy: 0.5333\n",
            "Epoch 75/100\n",
            "4/4 [==============================] - 0s 17ms/step - loss: 8.9586e-06 - accuracy: 1.0000 - val_loss: 3.9196 - val_accuracy: 0.5333\n",
            "Epoch 76/100\n",
            "4/4 [==============================] - 0s 19ms/step - loss: 8.7800e-06 - accuracy: 1.0000 - val_loss: 3.9273 - val_accuracy: 0.5333\n",
            "Epoch 77/100\n",
            "4/4 [==============================] - 0s 17ms/step - loss: 8.5645e-06 - accuracy: 1.0000 - val_loss: 3.9347 - val_accuracy: 0.5333\n",
            "Epoch 78/100\n",
            "4/4 [==============================] - 0s 17ms/step - loss: 8.3647e-06 - accuracy: 1.0000 - val_loss: 3.9418 - val_accuracy: 0.5333\n",
            "Epoch 79/100\n",
            "4/4 [==============================] - 0s 18ms/step - loss: 8.1846e-06 - accuracy: 1.0000 - val_loss: 3.9489 - val_accuracy: 0.5333\n",
            "Epoch 80/100\n",
            "4/4 [==============================] - 0s 21ms/step - loss: 8.0093e-06 - accuracy: 1.0000 - val_loss: 3.9560 - val_accuracy: 0.5333\n",
            "Epoch 81/100\n",
            "4/4 [==============================] - 0s 19ms/step - loss: 7.8532e-06 - accuracy: 1.0000 - val_loss: 3.9632 - val_accuracy: 0.5333\n",
            "Epoch 82/100\n",
            "4/4 [==============================] - 0s 18ms/step - loss: 7.6561e-06 - accuracy: 1.0000 - val_loss: 3.9702 - val_accuracy: 0.5333\n",
            "Epoch 83/100\n",
            "4/4 [==============================] - 0s 20ms/step - loss: 7.5053e-06 - accuracy: 1.0000 - val_loss: 3.9773 - val_accuracy: 0.5333\n",
            "Epoch 84/100\n",
            "4/4 [==============================] - 0s 18ms/step - loss: 7.3462e-06 - accuracy: 1.0000 - val_loss: 3.9843 - val_accuracy: 0.5333\n",
            "Epoch 85/100\n",
            "4/4 [==============================] - 0s 18ms/step - loss: 7.1767e-06 - accuracy: 1.0000 - val_loss: 3.9910 - val_accuracy: 0.5333\n",
            "Epoch 86/100\n",
            "4/4 [==============================] - 0s 17ms/step - loss: 7.0257e-06 - accuracy: 1.0000 - val_loss: 3.9978 - val_accuracy: 0.5333\n",
            "Epoch 87/100\n",
            "4/4 [==============================] - 0s 18ms/step - loss: 6.8900e-06 - accuracy: 1.0000 - val_loss: 4.0047 - val_accuracy: 0.5333\n",
            "Epoch 88/100\n",
            "4/4 [==============================] - 0s 17ms/step - loss: 6.7454e-06 - accuracy: 1.0000 - val_loss: 4.0115 - val_accuracy: 0.5333\n",
            "Epoch 89/100\n",
            "4/4 [==============================] - 0s 18ms/step - loss: 6.6179e-06 - accuracy: 1.0000 - val_loss: 4.0183 - val_accuracy: 0.5333\n",
            "Epoch 90/100\n",
            "4/4 [==============================] - 0s 17ms/step - loss: 6.4625e-06 - accuracy: 1.0000 - val_loss: 4.0248 - val_accuracy: 0.5333\n",
            "Epoch 91/100\n",
            "4/4 [==============================] - 0s 18ms/step - loss: 6.3370e-06 - accuracy: 1.0000 - val_loss: 4.0313 - val_accuracy: 0.5333\n",
            "Epoch 92/100\n",
            "4/4 [==============================] - 0s 18ms/step - loss: 6.1966e-06 - accuracy: 1.0000 - val_loss: 4.0378 - val_accuracy: 0.5333\n",
            "Epoch 93/100\n",
            "4/4 [==============================] - 0s 18ms/step - loss: 6.0833e-06 - accuracy: 1.0000 - val_loss: 4.0446 - val_accuracy: 0.5333\n",
            "Epoch 94/100\n",
            "4/4 [==============================] - 0s 21ms/step - loss: 5.9725e-06 - accuracy: 1.0000 - val_loss: 4.0513 - val_accuracy: 0.5333\n",
            "Epoch 95/100\n",
            "4/4 [==============================] - 0s 18ms/step - loss: 5.8394e-06 - accuracy: 1.0000 - val_loss: 4.0577 - val_accuracy: 0.5333\n",
            "Epoch 96/100\n",
            "4/4 [==============================] - 0s 18ms/step - loss: 5.7259e-06 - accuracy: 1.0000 - val_loss: 4.0641 - val_accuracy: 0.5333\n",
            "Epoch 97/100\n",
            "4/4 [==============================] - 0s 18ms/step - loss: 5.6136e-06 - accuracy: 1.0000 - val_loss: 4.0704 - val_accuracy: 0.5333\n",
            "Epoch 98/100\n",
            "4/4 [==============================] - 0s 17ms/step - loss: 5.5104e-06 - accuracy: 1.0000 - val_loss: 4.0767 - val_accuracy: 0.5333\n",
            "Epoch 99/100\n",
            "4/4 [==============================] - 0s 17ms/step - loss: 5.3973e-06 - accuracy: 1.0000 - val_loss: 4.0829 - val_accuracy: 0.5333\n",
            "Epoch 100/100\n",
            "4/4 [==============================] - 0s 18ms/step - loss: 5.3000e-06 - accuracy: 1.0000 - val_loss: 4.0890 - val_accuracy: 0.5333\n",
            "2/2 [==============================] - 0s 9ms/step - loss: 2.3515 - accuracy: 0.6800\n"
          ]
        }
      ]
    },
    {
      "cell_type": "markdown",
      "metadata": {
        "id": "kzHd5AM6xtt5"
      },
      "source": [
        "**5b)** Which depth performed best?"
      ]
    },
    {
      "cell_type": "code",
      "execution_count": 86,
      "metadata": {
        "id": "KT7-vNc2xhk7"
      },
      "outputs": [],
      "source": [
        "bestdepth = 20 #@param {type:\"number\"}"
      ]
    },
    {
      "cell_type": "markdown",
      "metadata": {
        "id": "Keny82CcwbKO"
      },
      "source": [
        "**6)** Perform a regression task on your data using a final linear unit, OR a multi-classification task using the softmax unit. You can use Keras OR PyTorch."
      ]
    },
    {
      "cell_type": "code",
      "source": [
        "from tensorflow.keras.models import Sequential\n",
        "from tensorflow.keras.layers import Dense\n",
        "from tensorflow.keras.activations import gelu\n",
        "from sklearn.model_selection import train_test_split\n",
        "from sklearn.preprocessing import StandardScaler\n",
        "\n",
        "features = ['GDP per capita', 'Social support', 'Healthy life expectancy',\n",
        "            'Freedom to make life choices', 'Generosity', 'Perceptions of corruption']\n",
        "\n",
        "# Preparing the data for regression\n",
        "X = data[features]\n",
        "y = data['Score']\n",
        "\n",
        "# Splitting the data into training and testing sets\n",
        "X_train, X_test, y_train, y_test = train_test_split(X, y, test_size=0.2, random_state=42)\n",
        "\n",
        "\n",
        "scaler = StandardScaler()\n",
        "X_train_scaled = scaler.fit_transform(X_train)\n",
        "X_test_scaled = scaler.transform(X_test)\n",
        "\n",
        "\n",
        "model_regression = Sequential([\n",
        "    Dense(64, activation=gelu, input_shape=(X_train.shape[1],)),\n",
        "    Dense(64, activation=gelu),\n",
        "    Dense(1)\n",
        "])\n",
        "\n",
        "model_regression.compile(optimizer='adam', loss='mean_squared_error')\n",
        "\n",
        "\n",
        "model_regression.fit(X_train_scaled, y_train, epochs=100, validation_split=0.2)\n",
        "\n",
        "\n",
        "test_loss = model_regression.evaluate(X_test_scaled, y_test)\n",
        "print(f\"Test Loss (MSE): {test_loss}\")"
      ],
      "metadata": {
        "colab": {
          "base_uri": "https://localhost:8080/"
        },
        "id": "LONlW3Pn-JWu",
        "outputId": "b21519b8-6f19-470b-81e7-dbb976cc9ff8"
      },
      "execution_count": 117,
      "outputs": [
        {
          "output_type": "stream",
          "name": "stdout",
          "text": [
            "Epoch 1/100\n",
            "4/4 [==============================] - 3s 92ms/step - loss: 30.0007 - val_loss: 27.2480\n",
            "Epoch 2/100\n",
            "4/4 [==============================] - 0s 29ms/step - loss: 28.4912 - val_loss: 26.0606\n",
            "Epoch 3/100\n",
            "4/4 [==============================] - 0s 40ms/step - loss: 27.1303 - val_loss: 24.8775\n",
            "Epoch 4/100\n",
            "4/4 [==============================] - 0s 26ms/step - loss: 25.7923 - val_loss: 23.6626\n",
            "Epoch 5/100\n",
            "4/4 [==============================] - 0s 24ms/step - loss: 24.4224 - val_loss: 22.4368\n",
            "Epoch 6/100\n",
            "4/4 [==============================] - 0s 17ms/step - loss: 23.0343 - val_loss: 21.2149\n",
            "Epoch 7/100\n",
            "4/4 [==============================] - 0s 21ms/step - loss: 21.6330 - val_loss: 19.9602\n",
            "Epoch 8/100\n",
            "4/4 [==============================] - 0s 20ms/step - loss: 20.2065 - val_loss: 18.6145\n",
            "Epoch 9/100\n",
            "4/4 [==============================] - 0s 22ms/step - loss: 18.6591 - val_loss: 17.2510\n",
            "Epoch 10/100\n",
            "4/4 [==============================] - 0s 32ms/step - loss: 17.1099 - val_loss: 15.8664\n",
            "Epoch 11/100\n",
            "4/4 [==============================] - 0s 16ms/step - loss: 15.5110 - val_loss: 14.4052\n",
            "Epoch 12/100\n",
            "4/4 [==============================] - 0s 18ms/step - loss: 13.8364 - val_loss: 12.8980\n",
            "Epoch 13/100\n",
            "4/4 [==============================] - 0s 15ms/step - loss: 12.1683 - val_loss: 11.4181\n",
            "Epoch 14/100\n",
            "4/4 [==============================] - 0s 21ms/step - loss: 10.5564 - val_loss: 10.0719\n",
            "Epoch 15/100\n",
            "4/4 [==============================] - 0s 24ms/step - loss: 9.0514 - val_loss: 8.8705\n",
            "Epoch 16/100\n",
            "4/4 [==============================] - 0s 22ms/step - loss: 7.6984 - val_loss: 7.7678\n",
            "Epoch 17/100\n",
            "4/4 [==============================] - 0s 22ms/step - loss: 6.4889 - val_loss: 6.7559\n",
            "Epoch 18/100\n",
            "4/4 [==============================] - 0s 18ms/step - loss: 5.4271 - val_loss: 5.8987\n",
            "Epoch 19/100\n",
            "4/4 [==============================] - 0s 16ms/step - loss: 4.5227 - val_loss: 5.1731\n",
            "Epoch 20/100\n",
            "4/4 [==============================] - 0s 19ms/step - loss: 3.8163 - val_loss: 4.5879\n",
            "Epoch 21/100\n",
            "4/4 [==============================] - 0s 17ms/step - loss: 3.2478 - val_loss: 4.1277\n",
            "Epoch 22/100\n",
            "4/4 [==============================] - 0s 15ms/step - loss: 2.8379 - val_loss: 3.7605\n",
            "Epoch 23/100\n",
            "4/4 [==============================] - 0s 29ms/step - loss: 2.5266 - val_loss: 3.4239\n",
            "Epoch 24/100\n",
            "4/4 [==============================] - 0s 21ms/step - loss: 2.2505 - val_loss: 3.1619\n",
            "Epoch 25/100\n",
            "4/4 [==============================] - 0s 25ms/step - loss: 2.0318 - val_loss: 2.9728\n",
            "Epoch 26/100\n",
            "4/4 [==============================] - 0s 18ms/step - loss: 1.8845 - val_loss: 2.8231\n",
            "Epoch 27/100\n",
            "4/4 [==============================] - 0s 23ms/step - loss: 1.7783 - val_loss: 2.7064\n",
            "Epoch 28/100\n",
            "4/4 [==============================] - 0s 16ms/step - loss: 1.6938 - val_loss: 2.6209\n",
            "Epoch 29/100\n",
            "4/4 [==============================] - 0s 17ms/step - loss: 1.6343 - val_loss: 2.5446\n",
            "Epoch 30/100\n",
            "4/4 [==============================] - 0s 32ms/step - loss: 1.5829 - val_loss: 2.4649\n",
            "Epoch 31/100\n",
            "4/4 [==============================] - 0s 23ms/step - loss: 1.5403 - val_loss: 2.3883\n",
            "Epoch 32/100\n",
            "4/4 [==============================] - 0s 20ms/step - loss: 1.4970 - val_loss: 2.3211\n",
            "Epoch 33/100\n",
            "4/4 [==============================] - 0s 49ms/step - loss: 1.4588 - val_loss: 2.2609\n",
            "Epoch 34/100\n",
            "4/4 [==============================] - 0s 46ms/step - loss: 1.4197 - val_loss: 2.2075\n",
            "Epoch 35/100\n",
            "4/4 [==============================] - 0s 43ms/step - loss: 1.3823 - val_loss: 2.1620\n",
            "Epoch 36/100\n",
            "4/4 [==============================] - 0s 49ms/step - loss: 1.3529 - val_loss: 2.1205\n",
            "Epoch 37/100\n",
            "4/4 [==============================] - 0s 40ms/step - loss: 1.3135 - val_loss: 2.0794\n",
            "Epoch 38/100\n",
            "4/4 [==============================] - 0s 30ms/step - loss: 1.2807 - val_loss: 2.0389\n",
            "Epoch 39/100\n",
            "4/4 [==============================] - 0s 29ms/step - loss: 1.2482 - val_loss: 1.9960\n",
            "Epoch 40/100\n",
            "4/4 [==============================] - 0s 10ms/step - loss: 1.2143 - val_loss: 1.9685\n",
            "Epoch 41/100\n",
            "4/4 [==============================] - 0s 11ms/step - loss: 1.1865 - val_loss: 1.9498\n",
            "Epoch 42/100\n",
            "4/4 [==============================] - 0s 10ms/step - loss: 1.1656 - val_loss: 1.9404\n",
            "Epoch 43/100\n",
            "4/4 [==============================] - 0s 10ms/step - loss: 1.1447 - val_loss: 1.8984\n",
            "Epoch 44/100\n",
            "4/4 [==============================] - 0s 10ms/step - loss: 1.1179 - val_loss: 1.8422\n",
            "Epoch 45/100\n",
            "4/4 [==============================] - 0s 10ms/step - loss: 1.0837 - val_loss: 1.7746\n",
            "Epoch 46/100\n",
            "4/4 [==============================] - 0s 10ms/step - loss: 1.0478 - val_loss: 1.7200\n",
            "Epoch 47/100\n",
            "4/4 [==============================] - 0s 11ms/step - loss: 1.0228 - val_loss: 1.6699\n",
            "Epoch 48/100\n",
            "4/4 [==============================] - 0s 14ms/step - loss: 0.9964 - val_loss: 1.6267\n",
            "Epoch 49/100\n",
            "4/4 [==============================] - 0s 10ms/step - loss: 0.9724 - val_loss: 1.5824\n",
            "Epoch 50/100\n",
            "4/4 [==============================] - 0s 10ms/step - loss: 0.9468 - val_loss: 1.5457\n",
            "Epoch 51/100\n",
            "4/4 [==============================] - 0s 10ms/step - loss: 0.9305 - val_loss: 1.5234\n",
            "Epoch 52/100\n",
            "4/4 [==============================] - 0s 12ms/step - loss: 0.9183 - val_loss: 1.4942\n",
            "Epoch 53/100\n",
            "4/4 [==============================] - 0s 10ms/step - loss: 0.9024 - val_loss: 1.4592\n",
            "Epoch 54/100\n",
            "4/4 [==============================] - 0s 10ms/step - loss: 0.8846 - val_loss: 1.4242\n",
            "Epoch 55/100\n",
            "4/4 [==============================] - 0s 11ms/step - loss: 0.8629 - val_loss: 1.3883\n",
            "Epoch 56/100\n",
            "4/4 [==============================] - 0s 10ms/step - loss: 0.8408 - val_loss: 1.3572\n",
            "Epoch 57/100\n",
            "4/4 [==============================] - 0s 10ms/step - loss: 0.8233 - val_loss: 1.3256\n",
            "Epoch 58/100\n",
            "4/4 [==============================] - 0s 10ms/step - loss: 0.8095 - val_loss: 1.2959\n",
            "Epoch 59/100\n",
            "4/4 [==============================] - 0s 10ms/step - loss: 0.7978 - val_loss: 1.2699\n",
            "Epoch 60/100\n",
            "4/4 [==============================] - 0s 10ms/step - loss: 0.7889 - val_loss: 1.2435\n",
            "Epoch 61/100\n",
            "4/4 [==============================] - 0s 11ms/step - loss: 0.7766 - val_loss: 1.2153\n",
            "Epoch 62/100\n",
            "4/4 [==============================] - 0s 11ms/step - loss: 0.7562 - val_loss: 1.1882\n",
            "Epoch 63/100\n",
            "4/4 [==============================] - 0s 11ms/step - loss: 0.7366 - val_loss: 1.1644\n",
            "Epoch 64/100\n",
            "4/4 [==============================] - 0s 10ms/step - loss: 0.7189 - val_loss: 1.1435\n",
            "Epoch 65/100\n",
            "4/4 [==============================] - 0s 11ms/step - loss: 0.7097 - val_loss: 1.1258\n",
            "Epoch 66/100\n",
            "4/4 [==============================] - 0s 10ms/step - loss: 0.6975 - val_loss: 1.1079\n",
            "Epoch 67/100\n",
            "4/4 [==============================] - 0s 10ms/step - loss: 0.6887 - val_loss: 1.0874\n",
            "Epoch 68/100\n",
            "4/4 [==============================] - 0s 10ms/step - loss: 0.6734 - val_loss: 1.0611\n",
            "Epoch 69/100\n",
            "4/4 [==============================] - 0s 11ms/step - loss: 0.6457 - val_loss: 1.0416\n",
            "Epoch 70/100\n",
            "4/4 [==============================] - 0s 10ms/step - loss: 0.6301 - val_loss: 1.0243\n",
            "Epoch 71/100\n",
            "4/4 [==============================] - 0s 10ms/step - loss: 0.6168 - val_loss: 1.0076\n",
            "Epoch 72/100\n",
            "4/4 [==============================] - 0s 10ms/step - loss: 0.6049 - val_loss: 0.9904\n",
            "Epoch 73/100\n",
            "4/4 [==============================] - 0s 13ms/step - loss: 0.5935 - val_loss: 0.9735\n",
            "Epoch 74/100\n",
            "4/4 [==============================] - 0s 11ms/step - loss: 0.5838 - val_loss: 0.9543\n",
            "Epoch 75/100\n",
            "4/4 [==============================] - 0s 10ms/step - loss: 0.5766 - val_loss: 0.9348\n",
            "Epoch 76/100\n",
            "4/4 [==============================] - 0s 10ms/step - loss: 0.5706 - val_loss: 0.9167\n",
            "Epoch 77/100\n",
            "4/4 [==============================] - 0s 13ms/step - loss: 0.5627 - val_loss: 0.9021\n",
            "Epoch 78/100\n",
            "4/4 [==============================] - 0s 10ms/step - loss: 0.5554 - val_loss: 0.8891\n",
            "Epoch 79/100\n",
            "4/4 [==============================] - 0s 11ms/step - loss: 0.5472 - val_loss: 0.8778\n",
            "Epoch 80/100\n",
            "4/4 [==============================] - 0s 10ms/step - loss: 0.5394 - val_loss: 0.8674\n",
            "Epoch 81/100\n",
            "4/4 [==============================] - 0s 11ms/step - loss: 0.5303 - val_loss: 0.8602\n",
            "Epoch 82/100\n",
            "4/4 [==============================] - 0s 10ms/step - loss: 0.5192 - val_loss: 0.8546\n",
            "Epoch 83/100\n",
            "4/4 [==============================] - 0s 10ms/step - loss: 0.5177 - val_loss: 0.8477\n",
            "Epoch 84/100\n",
            "4/4 [==============================] - 0s 10ms/step - loss: 0.5151 - val_loss: 0.8347\n",
            "Epoch 85/100\n",
            "4/4 [==============================] - 0s 10ms/step - loss: 0.5098 - val_loss: 0.8148\n",
            "Epoch 86/100\n",
            "4/4 [==============================] - 0s 10ms/step - loss: 0.4964 - val_loss: 0.8080\n",
            "Epoch 87/100\n",
            "4/4 [==============================] - 0s 12ms/step - loss: 0.4920 - val_loss: 0.8067\n",
            "Epoch 88/100\n",
            "4/4 [==============================] - 0s 11ms/step - loss: 0.4889 - val_loss: 0.7915\n",
            "Epoch 89/100\n",
            "4/4 [==============================] - 0s 11ms/step - loss: 0.4781 - val_loss: 0.7730\n",
            "Epoch 90/100\n",
            "4/4 [==============================] - 0s 11ms/step - loss: 0.4678 - val_loss: 0.7496\n",
            "Epoch 91/100\n",
            "4/4 [==============================] - 0s 12ms/step - loss: 0.4543 - val_loss: 0.7305\n",
            "Epoch 92/100\n",
            "4/4 [==============================] - 0s 11ms/step - loss: 0.4458 - val_loss: 0.7133\n",
            "Epoch 93/100\n",
            "4/4 [==============================] - 0s 10ms/step - loss: 0.4328 - val_loss: 0.7024\n",
            "Epoch 94/100\n",
            "4/4 [==============================] - 0s 11ms/step - loss: 0.4272 - val_loss: 0.6995\n",
            "Epoch 95/100\n",
            "4/4 [==============================] - 0s 11ms/step - loss: 0.4229 - val_loss: 0.6927\n",
            "Epoch 96/100\n",
            "4/4 [==============================] - 0s 12ms/step - loss: 0.4146 - val_loss: 0.6777\n",
            "Epoch 97/100\n",
            "4/4 [==============================] - 0s 14ms/step - loss: 0.4086 - val_loss: 0.6706\n",
            "Epoch 98/100\n",
            "4/4 [==============================] - 0s 14ms/step - loss: 0.4017 - val_loss: 0.6638\n",
            "Epoch 99/100\n",
            "4/4 [==============================] - 0s 12ms/step - loss: 0.3980 - val_loss: 0.6558\n",
            "Epoch 100/100\n",
            "4/4 [==============================] - 0s 11ms/step - loss: 0.3932 - val_loss: 0.6460\n",
            "1/1 [==============================] - 0s 20ms/step - loss: 0.6526\n",
            "Test Loss (MSE): 0.6525792479515076\n"
          ]
        }
      ]
    },
    {
      "cell_type": "markdown",
      "metadata": {
        "id": "XnSeaHxzz1lB"
      },
      "source": [
        "**6b)** Briefly explain what you are predicting, why, and your interpretation of your results.\n"
      ]
    },
    {
      "cell_type": "code",
      "source": [
        "complexpredict = 'The test loss, is approximately 0.6526. This value represents the average squared difference between the predicted happiness scores and the actual happiness scores in the test dataset.' #@param {type:\"string\"}"
      ],
      "metadata": {
        "id": "1Ytx7rYy9wpp"
      },
      "execution_count": null,
      "outputs": []
    },
    {
      "cell_type": "markdown",
      "metadata": {
        "id": "IcNwbF8dRn2V"
      },
      "source": [
        "**7)** Use the Captum library on your model (6 above) and use it to discover the relative importance of input features for the ultimate prediction, and the combination of those features in higher-order features (e.g., neurons) within the model."
      ]
    },
    {
      "cell_type": "code",
      "execution_count": null,
      "metadata": {
        "id": "D6P_q4ihRn2V"
      },
      "outputs": [],
      "source": [
        "#@markdown **7b)** Briefly explain your interpretation of what matters and why based on your Attribution results.\n",
        "complexpredict = 'value' #@param {type:\"string\"}"
      ]
    },
    {
      "cell_type": "markdown",
      "metadata": {
        "id": "7AGHPklPwwtw"
      },
      "source": [
        "## ***Hint***\n",
        "Here is a reasonably sized dataset that we load for you using pandas. You can use it for this homework, or follow the steps to load your own for use in the machine learning tasks above.\n",
        "\n",
        "Note that if using PyTorch you will be converting the values to Tensors.\n",
        "\n",
        "You can get the dataset by the link:\n",
        "\n",
        "https://drive.google.com/file/d/1XQrT4mAeOb79tmkNFFiPFIU4-N9JH7px/view?usp=sharing\n",
        "\n",
        "The dataset comes from Kaggle:\n",
        "\n",
        "https://www.kaggle.com/fedesoriano/company-bankruptcy-prediction"
      ]
    },
    {
      "cell_type": "code",
      "execution_count": null,
      "metadata": {
        "id": "PzxYiEVKuZx5"
      },
      "outputs": [],
      "source": [
        "import pandas as pd"
      ]
    },
    {
      "cell_type": "code",
      "execution_count": null,
      "metadata": {
        "id": "FzVXdGyWubfT"
      },
      "outputs": [],
      "source": [
        "bankruptcy_df = pd.read_csv(path_to_file)"
      ]
    },
    {
      "cell_type": "code",
      "execution_count": 118,
      "metadata": {
        "id": "Unxhw9lbaelx"
      },
      "outputs": [],
      "source": [
        "#@markdown How many hours did it take you to complete this homework?\n",
        "hours = 3 #@param {type:\"number\"}"
      ]
    },
    {
      "cell_type": "code",
      "execution_count": 119,
      "metadata": {
        "id": "2lxPrzNzakAA"
      },
      "outputs": [],
      "source": [
        "#@markdown How hard was this homework?\n",
        "too_easy_too_hard = 7.1 #@param {type:\"slider\", min:0, max:10, step:0.1}"
      ]
    }
  ],
  "metadata": {
    "accelerator": "GPU",
    "colab": {
      "collapsed_sections": [
        "RRAhu1h3DCd4"
      ],
      "provenance": [],
      "include_colab_link": true
    },
    "kernelspec": {
      "display_name": "Python 3 (ipykernel)",
      "language": "python",
      "name": "python3"
    },
    "language_info": {
      "codemirror_mode": {
        "name": "ipython",
        "version": 3
      },
      "file_extension": ".py",
      "mimetype": "text/x-python",
      "name": "python",
      "nbconvert_exporter": "python",
      "pygments_lexer": "ipython3",
      "version": "3.9.7"
    }
  },
  "nbformat": 4,
  "nbformat_minor": 0
}